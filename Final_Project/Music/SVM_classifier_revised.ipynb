{
 "cells": [
  {
   "cell_type": "markdown",
   "metadata": {},
   "source": [
    "Warning: Depending on which part of the song the classifier should be trained, different part of the code needs to be commented out. Right now, the script is focusing on a SVM for the end part of the songs."
   ]
  },
  {
   "cell_type": "markdown",
   "metadata": {
    "tags": []
   },
   "source": [
    "### Import libraries and data"
   ]
  },
  {
   "cell_type": "code",
   "execution_count": 1,
   "metadata": {
    "execution": {
     "iopub.execute_input": "2023-05-17T16:30:32.600823Z",
     "iopub.status.busy": "2023-05-17T16:30:32.600640Z",
     "iopub.status.idle": "2023-05-17T16:30:33.211126Z",
     "shell.execute_reply": "2023-05-17T16:30:33.210486Z",
     "shell.execute_reply.started": "2023-05-17T16:30:32.600805Z"
    },
    "id": "fvUaGjR-tswe",
    "tags": []
   },
   "outputs": [],
   "source": [
    "# for data manipulations\n",
    "import numpy as np\n",
    "import pandas as pd\n",
    "\n",
    "# for PCA\n",
    "from sklearn.decomposition import PCA\n",
    "\n",
    "# for SVM\n",
    "from sklearn.svm import SVC\n",
    "from sklearn.multioutput import ClassifierChain\n",
    "from sklearn.model_selection import GridSearchCV\n",
    "from sklearn.metrics import make_scorer, roc_auc_score\n",
    "from sklearn.metrics import classification_report, multilabel_confusion_matrix\n",
    "\n",
    "# save models\n",
    "import joblib\n",
    "from joblib import dump\n",
    "import shutil"
   ]
  },
  {
   "cell_type": "code",
   "execution_count": 2,
   "metadata": {
    "execution": {
     "iopub.execute_input": "2023-05-17T16:30:33.212381Z",
     "iopub.status.busy": "2023-05-17T16:30:33.212177Z",
     "iopub.status.idle": "2023-05-17T16:30:33.215818Z",
     "shell.execute_reply": "2023-05-17T16:30:33.215105Z",
     "shell.execute_reply.started": "2023-05-17T16:30:33.212362Z"
    },
    "id": "reJP6-pKtgVX",
    "tags": []
   },
   "outputs": [],
   "source": [
    "# # load relevant training data (start of song)\n",
    "# X_train = np.load(\"X_train_start.npy\")\n",
    "# y_train = np.load(\"y_train_start.npy\")\n",
    "\n",
    "# # load relevant training data\n",
    "# X_val = np.load(\"X_val_start.npy\")\n",
    "# y_val = np.load(\"y_val_start.npy\")\n",
    "\n",
    "# # load relevant test data\n",
    "# X_test = np.load(\"X_test_start.npy\")\n",
    "# y_test = np.load(\"y_test_start.npy\")"
   ]
  },
  {
   "cell_type": "code",
   "execution_count": 3,
   "metadata": {
    "execution": {
     "iopub.execute_input": "2023-05-17T16:30:33.217121Z",
     "iopub.status.busy": "2023-05-17T16:30:33.216773Z",
     "iopub.status.idle": "2023-05-17T16:30:33.318522Z",
     "shell.execute_reply": "2023-05-17T16:30:33.317057Z",
     "shell.execute_reply.started": "2023-05-17T16:30:33.217094Z"
    },
    "id": "reJP6-pKtgVX",
    "tags": []
   },
   "outputs": [],
   "source": [
    "# # load relevant training data (middle of song)\n",
    "# X_train = np.load(\"X_train_middle.npy\")\n",
    "# y_train = np.load(\"y_train_middle.npy\")\n",
    "\n",
    "# # load relevant training data\n",
    "# X_val = np.load(\"X_val_middle.npy\")\n",
    "# y_val = np.load(\"y_val_middle.npy\")\n",
    "\n",
    "# # load relevant test data\n",
    "# X_test = np.load(\"X_test_middle.npy\")\n",
    "# y_test = np.load(\"y_test_middle.npy\")"
   ]
  },
  {
   "cell_type": "code",
   "execution_count": 4,
   "metadata": {
    "execution": {
     "iopub.execute_input": "2023-05-17T16:30:33.321550Z",
     "iopub.status.busy": "2023-05-17T16:30:33.320424Z",
     "iopub.status.idle": "2023-05-17T16:30:33.623216Z",
     "shell.execute_reply": "2023-05-17T16:30:33.622416Z",
     "shell.execute_reply.started": "2023-05-17T16:30:33.321495Z"
    },
    "id": "reJP6-pKtgVX",
    "tags": []
   },
   "outputs": [],
   "source": [
    "# load relevant training data (end of song)\n",
    "X_train = np.load(\"X_train_end.npy\")\n",
    "y_train = np.load(\"y_train_end.npy\")\n",
    "\n",
    "# load relevant training data\n",
    "X_val = np.load(\"X_val_end.npy\")\n",
    "y_val = np.load(\"y_val_end.npy\")\n",
    "\n",
    "# load relevant test data\n",
    "X_test = np.load(\"X_test_end.npy\")\n",
    "y_test = np.load(\"y_test_end.npy\")"
   ]
  },
  {
   "cell_type": "code",
   "execution_count": 5,
   "metadata": {
    "colab": {
     "base_uri": "https://localhost:8080/"
    },
    "execution": {
     "iopub.execute_input": "2023-05-17T16:30:33.624246Z",
     "iopub.status.busy": "2023-05-17T16:30:33.624040Z",
     "iopub.status.idle": "2023-05-17T16:30:33.629698Z",
     "shell.execute_reply": "2023-05-17T16:30:33.629049Z",
     "shell.execute_reply.started": "2023-05-17T16:30:33.624227Z"
    },
    "id": "-r_cVW1Wv3Ve",
    "outputId": "99ad2fc0-9e2a-45e4-858d-d4ed6c9eb060",
    "tags": []
   },
   "outputs": [
    {
     "name": "stdout",
     "output_type": "stream",
     "text": [
      "Shape of X_train:  (4251, 1292, 20, 1) \n",
      "\n",
      "Shape of X_val:  (1418, 1292, 20, 1) \n",
      "\n",
      "Shape of X_test:  (1418, 1292, 20, 1) \n",
      "\n",
      "Shape of y_train:  (4251, 10) \n",
      "\n",
      "Shape of y_val:  (1418, 10) \n",
      "\n",
      "Shape of y_test:  (1418, 10) \n",
      "\n"
     ]
    }
   ],
   "source": [
    "# check shape of X\n",
    "print(\"Shape of X_train: \", X_train.shape, \"\\n\")\n",
    "print(\"Shape of X_val: \", X_val.shape, \"\\n\")\n",
    "print(\"Shape of X_test: \", X_test.shape, \"\\n\")\n",
    "\n",
    "# check shape of Y\n",
    "print(\"Shape of y_train: \", y_train.shape, \"\\n\")\n",
    "print(\"Shape of y_val: \", y_val.shape, \"\\n\")\n",
    "print(\"Shape of y_test: \", y_test.shape, \"\\n\")"
   ]
  },
  {
   "cell_type": "markdown",
   "metadata": {
    "execution": {
     "iopub.execute_input": "2023-05-16T15:35:48.616856Z",
     "iopub.status.busy": "2023-05-16T15:35:48.615928Z",
     "iopub.status.idle": "2023-05-16T15:35:48.627293Z",
     "shell.execute_reply": "2023-05-16T15:35:48.625988Z",
     "shell.execute_reply.started": "2023-05-16T15:35:48.616771Z"
    },
    "tags": []
   },
   "source": [
    "### Reshape features according to the model"
   ]
  },
  {
   "cell_type": "code",
   "execution_count": 6,
   "metadata": {
    "execution": {
     "iopub.execute_input": "2023-05-17T16:30:33.630567Z",
     "iopub.status.busy": "2023-05-17T16:30:33.630389Z",
     "iopub.status.idle": "2023-05-17T16:30:33.966932Z",
     "shell.execute_reply": "2023-05-17T16:30:33.965632Z",
     "shell.execute_reply.started": "2023-05-17T16:30:33.630551Z"
    },
    "id": "Zrfbf76EOB-d",
    "tags": []
   },
   "outputs": [],
   "source": [
    "# append validation data to training data because grid-search with cv is used\n",
    "X_train = np.append(X_train, X_val, axis=0)\n",
    "y_train = np.append(y_train, y_val, axis=0)"
   ]
  },
  {
   "cell_type": "code",
   "execution_count": 7,
   "metadata": {
    "execution": {
     "iopub.execute_input": "2023-05-17T16:30:33.970815Z",
     "iopub.status.busy": "2023-05-17T16:30:33.970451Z",
     "iopub.status.idle": "2023-05-17T16:30:33.975142Z",
     "shell.execute_reply": "2023-05-17T16:30:33.974578Z",
     "shell.execute_reply.started": "2023-05-17T16:30:33.970795Z"
    },
    "tags": []
   },
   "outputs": [
    {
     "name": "stdout",
     "output_type": "stream",
     "text": [
      "(5669, 1292, 20, 1)\n",
      "(5669, 10)\n"
     ]
    }
   ],
   "source": [
    "# check that append worked\n",
    "print(X_train.shape)\n",
    "print(y_train.shape)"
   ]
  },
  {
   "cell_type": "code",
   "execution_count": 8,
   "metadata": {
    "execution": {
     "iopub.execute_input": "2023-05-17T16:30:33.975959Z",
     "iopub.status.busy": "2023-05-17T16:30:33.975789Z",
     "iopub.status.idle": "2023-05-17T16:30:34.061670Z",
     "shell.execute_reply": "2023-05-17T16:30:34.060906Z",
     "shell.execute_reply.started": "2023-05-17T16:30:33.975942Z"
    },
    "id": "v8p_dlVUJOIC",
    "tags": []
   },
   "outputs": [],
   "source": [
    "# remove channel dimension of MFCCs\n",
    "# reshape features accordingly to SVM architecture\n",
    "X_train = X_train.reshape((X_train.shape[0], -1))\n",
    "X_test = X_test.reshape((X_test.shape[0], -1))"
   ]
  },
  {
   "cell_type": "code",
   "execution_count": 9,
   "metadata": {
    "execution": {
     "iopub.execute_input": "2023-05-17T16:30:34.062794Z",
     "iopub.status.busy": "2023-05-17T16:30:34.062513Z",
     "iopub.status.idle": "2023-05-17T16:30:34.200635Z",
     "shell.execute_reply": "2023-05-17T16:30:34.199338Z",
     "shell.execute_reply.started": "2023-05-17T16:30:34.062772Z"
    },
    "tags": []
   },
   "outputs": [
    {
     "name": "stdout",
     "output_type": "stream",
     "text": [
      "(5669, 25840)\n",
      "(1418, 25840)\n"
     ]
    }
   ],
   "source": [
    "# check that removal of channel dimension worked\n",
    "print(X_train.shape)\n",
    "print(X_test.shape)"
   ]
  },
  {
   "cell_type": "markdown",
   "metadata": {},
   "source": [
    "### PCA to reduce number of features"
   ]
  },
  {
   "cell_type": "code",
   "execution_count": 10,
   "metadata": {
    "execution": {
     "iopub.execute_input": "2023-05-17T16:30:34.203387Z",
     "iopub.status.busy": "2023-05-17T16:30:34.202829Z",
     "iopub.status.idle": "2023-05-17T16:32:18.458896Z",
     "shell.execute_reply": "2023-05-17T16:32:18.457356Z",
     "shell.execute_reply.started": "2023-05-17T16:30:34.203336Z"
    },
    "tags": []
   },
   "outputs": [],
   "source": [
    "# perform PCA on X to reduce amount of features\n",
    "# reduce to dimensionality so that 80% of variance is kept\n",
    "pca = PCA(n_components=0.8, random_state=42)\n",
    "X_pca_train = pca.fit_transform(X_train)"
   ]
  },
  {
   "cell_type": "code",
   "execution_count": 11,
   "metadata": {
    "execution": {
     "iopub.execute_input": "2023-05-17T16:32:18.460847Z",
     "iopub.status.busy": "2023-05-17T16:32:18.460586Z",
     "iopub.status.idle": "2023-05-17T16:32:18.471845Z",
     "shell.execute_reply": "2023-05-17T16:32:18.469962Z",
     "shell.execute_reply.started": "2023-05-17T16:32:18.460822Z"
    },
    "tags": []
   },
   "outputs": [
    {
     "data": {
      "text/plain": [
       "461"
      ]
     },
     "execution_count": 11,
     "metadata": {},
     "output_type": "execute_result"
    }
   ],
   "source": [
    "# check how many principal components are needed\n",
    "pca.n_components_"
   ]
  },
  {
   "cell_type": "code",
   "execution_count": 12,
   "metadata": {
    "execution": {
     "iopub.execute_input": "2023-05-17T16:32:18.474720Z",
     "iopub.status.busy": "2023-05-17T16:32:18.473981Z",
     "iopub.status.idle": "2023-05-17T16:32:18.771170Z",
     "shell.execute_reply": "2023-05-17T16:32:18.714943Z",
     "shell.execute_reply.started": "2023-05-17T16:32:18.474665Z"
    },
    "tags": []
   },
   "outputs": [],
   "source": [
    "# apply the trained PCA model on the test set as well\n",
    "X_pca_test = pca.transform(X_test)"
   ]
  },
  {
   "cell_type": "code",
   "execution_count": 13,
   "metadata": {
    "execution": {
     "iopub.execute_input": "2023-05-17T16:32:18.776484Z",
     "iopub.status.busy": "2023-05-17T16:32:18.774957Z",
     "iopub.status.idle": "2023-05-17T16:32:18.792118Z",
     "shell.execute_reply": "2023-05-17T16:32:18.790340Z",
     "shell.execute_reply.started": "2023-05-17T16:32:18.776346Z"
    },
    "tags": []
   },
   "outputs": [],
   "source": [
    "# change to original variable convention\n",
    "X_train = X_pca_train\n",
    "X_test = X_pca_test"
   ]
  },
  {
   "cell_type": "code",
   "execution_count": 14,
   "metadata": {
    "execution": {
     "iopub.execute_input": "2023-05-17T16:32:18.794189Z",
     "iopub.status.busy": "2023-05-17T16:32:18.793649Z",
     "iopub.status.idle": "2023-05-17T16:32:18.875552Z",
     "shell.execute_reply": "2023-05-17T16:32:18.874157Z",
     "shell.execute_reply.started": "2023-05-17T16:32:18.794123Z"
    },
    "tags": []
   },
   "outputs": [
    {
     "name": "stdout",
     "output_type": "stream",
     "text": [
      "(5669, 461)\n",
      "(1418, 461)\n"
     ]
    }
   ],
   "source": [
    "# check that PCA worked\n",
    "print(X_train.shape)\n",
    "print(X_test.shape)"
   ]
  },
  {
   "cell_type": "markdown",
   "metadata": {},
   "source": [
    "### Train linear SVM"
   ]
  },
  {
   "cell_type": "markdown",
   "metadata": {},
   "source": [
    "Disclaimer: Linear SVM and SVM with RBF kernel were trained with grid-search 5-fold cross-validation separately because grid-search trains all combinations including gamma combinations for linear SVM which is not a relevant parameter that model (save unnecessary computations)."
   ]
  },
  {
   "cell_type": "code",
   "execution_count": 15,
   "metadata": {
    "execution": {
     "iopub.execute_input": "2023-05-17T16:32:18.878641Z",
     "iopub.status.busy": "2023-05-17T16:32:18.877495Z",
     "iopub.status.idle": "2023-05-17T16:32:18.982395Z",
     "shell.execute_reply": "2023-05-17T16:32:18.981050Z",
     "shell.execute_reply.started": "2023-05-17T16:32:18.878587Z"
    },
    "id": "4AJ7VCQRjizN",
    "tags": []
   },
   "outputs": [],
   "source": [
    "# define the linear SVM model\n",
    "svm = SVC(kernel='linear', class_weight='balanced', probability=True, random_state=42)\n",
    "multi_svm = ClassifierChain(svm)\n",
    "\n",
    "# define the hyperparameter grid\n",
    "param_grid = {\n",
    "    # the selection of the hyperparameters was in the beginning larger and reduced after some tries\n",
    "    # restricting the model with smaller values made the best results\n",
    "    'base_estimator__C':[2**-5, 2**-4, 2**-3, 2**-1],\n",
    "}\n",
    "\n",
    "# define the scoring metric\n",
    "scorer = make_scorer(roc_auc_score, multi_class='ovr', average='macro')\n",
    "\n",
    "# define the grid search\n",
    "grid = GridSearchCV(\n",
    "    multi_svm,\n",
    "    param_grid,\n",
    "    cv=5,\n",
    "    scoring=scorer,\n",
    "    refit=True,\n",
    "    return_train_score=True,\n",
    "    verbose=3)"
   ]
  },
  {
   "cell_type": "code",
   "execution_count": 16,
   "metadata": {
    "execution": {
     "iopub.execute_input": "2023-05-17T16:32:18.985297Z",
     "iopub.status.busy": "2023-05-17T16:32:18.984308Z",
     "iopub.status.idle": "2023-05-17T17:31:42.811616Z",
     "shell.execute_reply": "2023-05-17T17:31:42.810771Z",
     "shell.execute_reply.started": "2023-05-17T16:32:18.985244Z"
    },
    "tags": []
   },
   "outputs": [
    {
     "name": "stdout",
     "output_type": "stream",
     "text": [
      "Fitting 5 folds for each of 4 candidates, totalling 20 fits\n",
      "[CV 1/5] END base_estimator__C=0.03125;, score=(train=0.693, test=0.564) total time= 2.0min\n",
      "[CV 2/5] END base_estimator__C=0.03125;, score=(train=0.690, test=0.572) total time= 2.1min\n",
      "[CV 3/5] END base_estimator__C=0.03125;, score=(train=0.686, test=0.555) total time= 2.0min\n",
      "[CV 4/5] END base_estimator__C=0.03125;, score=(train=0.673, test=0.570) total time= 2.1min\n",
      "[CV 5/5] END base_estimator__C=0.03125;, score=(train=0.690, test=0.567) total time= 2.1min\n",
      "[CV 1/5] END base_estimator__C=0.0625;, score=(train=0.677, test=0.557) total time= 2.1min\n",
      "[CV 2/5] END base_estimator__C=0.0625;, score=(train=0.694, test=0.568) total time= 2.0min\n",
      "[CV 3/5] END base_estimator__C=0.0625;, score=(train=0.686, test=0.555) total time= 2.1min\n",
      "[CV 4/5] END base_estimator__C=0.0625;, score=(train=0.674, test=0.566) total time= 2.0min\n",
      "[CV 5/5] END base_estimator__C=0.0625;, score=(train=0.680, test=0.562) total time= 2.1min\n",
      "[CV 1/5] END base_estimator__C=0.125;, score=(train=0.679, test=0.553) total time= 2.1min\n",
      "[CV 2/5] END base_estimator__C=0.125;, score=(train=0.686, test=0.564) total time= 2.2min\n",
      "[CV 3/5] END base_estimator__C=0.125;, score=(train=0.672, test=0.551) total time= 2.2min\n",
      "[CV 4/5] END base_estimator__C=0.125;, score=(train=0.668, test=0.562) total time= 2.2min\n",
      "[CV 5/5] END base_estimator__C=0.125;, score=(train=0.675, test=0.557) total time= 2.2min\n",
      "[CV 1/5] END base_estimator__C=0.5;, score=(train=0.681, test=0.548) total time= 4.0min\n",
      "[CV 2/5] END base_estimator__C=0.5;, score=(train=0.681, test=0.566) total time= 4.0min\n",
      "[CV 3/5] END base_estimator__C=0.5;, score=(train=0.679, test=0.549) total time= 4.0min\n",
      "[CV 4/5] END base_estimator__C=0.5;, score=(train=0.680, test=0.556) total time= 4.0min\n",
      "[CV 5/5] END base_estimator__C=0.5;, score=(train=0.680, test=0.550) total time= 4.0min\n"
     ]
    },
    {
     "data": {
      "text/html": [
       "<style>#sk-container-id-1 {color: black;background-color: white;}#sk-container-id-1 pre{padding: 0;}#sk-container-id-1 div.sk-toggleable {background-color: white;}#sk-container-id-1 label.sk-toggleable__label {cursor: pointer;display: block;width: 100%;margin-bottom: 0;padding: 0.3em;box-sizing: border-box;text-align: center;}#sk-container-id-1 label.sk-toggleable__label-arrow:before {content: \"▸\";float: left;margin-right: 0.25em;color: #696969;}#sk-container-id-1 label.sk-toggleable__label-arrow:hover:before {color: black;}#sk-container-id-1 div.sk-estimator:hover label.sk-toggleable__label-arrow:before {color: black;}#sk-container-id-1 div.sk-toggleable__content {max-height: 0;max-width: 0;overflow: hidden;text-align: left;background-color: #f0f8ff;}#sk-container-id-1 div.sk-toggleable__content pre {margin: 0.2em;color: black;border-radius: 0.25em;background-color: #f0f8ff;}#sk-container-id-1 input.sk-toggleable__control:checked~div.sk-toggleable__content {max-height: 200px;max-width: 100%;overflow: auto;}#sk-container-id-1 input.sk-toggleable__control:checked~label.sk-toggleable__label-arrow:before {content: \"▾\";}#sk-container-id-1 div.sk-estimator input.sk-toggleable__control:checked~label.sk-toggleable__label {background-color: #d4ebff;}#sk-container-id-1 div.sk-label input.sk-toggleable__control:checked~label.sk-toggleable__label {background-color: #d4ebff;}#sk-container-id-1 input.sk-hidden--visually {border: 0;clip: rect(1px 1px 1px 1px);clip: rect(1px, 1px, 1px, 1px);height: 1px;margin: -1px;overflow: hidden;padding: 0;position: absolute;width: 1px;}#sk-container-id-1 div.sk-estimator {font-family: monospace;background-color: #f0f8ff;border: 1px dotted black;border-radius: 0.25em;box-sizing: border-box;margin-bottom: 0.5em;}#sk-container-id-1 div.sk-estimator:hover {background-color: #d4ebff;}#sk-container-id-1 div.sk-parallel-item::after {content: \"\";width: 100%;border-bottom: 1px solid gray;flex-grow: 1;}#sk-container-id-1 div.sk-label:hover label.sk-toggleable__label {background-color: #d4ebff;}#sk-container-id-1 div.sk-serial::before {content: \"\";position: absolute;border-left: 1px solid gray;box-sizing: border-box;top: 0;bottom: 0;left: 50%;z-index: 0;}#sk-container-id-1 div.sk-serial {display: flex;flex-direction: column;align-items: center;background-color: white;padding-right: 0.2em;padding-left: 0.2em;position: relative;}#sk-container-id-1 div.sk-item {position: relative;z-index: 1;}#sk-container-id-1 div.sk-parallel {display: flex;align-items: stretch;justify-content: center;background-color: white;position: relative;}#sk-container-id-1 div.sk-item::before, #sk-container-id-1 div.sk-parallel-item::before {content: \"\";position: absolute;border-left: 1px solid gray;box-sizing: border-box;top: 0;bottom: 0;left: 50%;z-index: -1;}#sk-container-id-1 div.sk-parallel-item {display: flex;flex-direction: column;z-index: 1;position: relative;background-color: white;}#sk-container-id-1 div.sk-parallel-item:first-child::after {align-self: flex-end;width: 50%;}#sk-container-id-1 div.sk-parallel-item:last-child::after {align-self: flex-start;width: 50%;}#sk-container-id-1 div.sk-parallel-item:only-child::after {width: 0;}#sk-container-id-1 div.sk-dashed-wrapped {border: 1px dashed gray;margin: 0 0.4em 0.5em 0.4em;box-sizing: border-box;padding-bottom: 0.4em;background-color: white;}#sk-container-id-1 div.sk-label label {font-family: monospace;font-weight: bold;display: inline-block;line-height: 1.2em;}#sk-container-id-1 div.sk-label-container {text-align: center;}#sk-container-id-1 div.sk-container {/* jupyter's `normalize.less` sets `[hidden] { display: none; }` but bootstrap.min.css set `[hidden] { display: none !important; }` so we also need the `!important` here to be able to override the default hidden behavior on the sphinx rendered scikit-learn.org. See: https://github.com/scikit-learn/scikit-learn/issues/21755 */display: inline-block !important;position: relative;}#sk-container-id-1 div.sk-text-repr-fallback {display: none;}</style><div id=\"sk-container-id-1\" class=\"sk-top-container\"><div class=\"sk-text-repr-fallback\"><pre>GridSearchCV(cv=5,\n",
       "             estimator=ClassifierChain(base_estimator=SVC(class_weight=&#x27;balanced&#x27;,\n",
       "                                                          kernel=&#x27;linear&#x27;,\n",
       "                                                          probability=True,\n",
       "                                                          random_state=42)),\n",
       "             param_grid={&#x27;base_estimator__C&#x27;: [0.03125, 0.0625, 0.125, 0.5]},\n",
       "             return_train_score=True,\n",
       "             scoring=make_scorer(roc_auc_score, multi_class=ovr, average=macro),\n",
       "             verbose=3)</pre><b>In a Jupyter environment, please rerun this cell to show the HTML representation or trust the notebook. <br />On GitHub, the HTML representation is unable to render, please try loading this page with nbviewer.org.</b></div><div class=\"sk-container\" hidden><div class=\"sk-item sk-dashed-wrapped\"><div class=\"sk-label-container\"><div class=\"sk-label sk-toggleable\"><input class=\"sk-toggleable__control sk-hidden--visually\" id=\"sk-estimator-id-1\" type=\"checkbox\" ><label for=\"sk-estimator-id-1\" class=\"sk-toggleable__label sk-toggleable__label-arrow\">GridSearchCV</label><div class=\"sk-toggleable__content\"><pre>GridSearchCV(cv=5,\n",
       "             estimator=ClassifierChain(base_estimator=SVC(class_weight=&#x27;balanced&#x27;,\n",
       "                                                          kernel=&#x27;linear&#x27;,\n",
       "                                                          probability=True,\n",
       "                                                          random_state=42)),\n",
       "             param_grid={&#x27;base_estimator__C&#x27;: [0.03125, 0.0625, 0.125, 0.5]},\n",
       "             return_train_score=True,\n",
       "             scoring=make_scorer(roc_auc_score, multi_class=ovr, average=macro),\n",
       "             verbose=3)</pre></div></div></div><div class=\"sk-parallel\"><div class=\"sk-parallel-item\"><div class=\"sk-item\"><div class=\"sk-label-container\"><div class=\"sk-label sk-toggleable\"><input class=\"sk-toggleable__control sk-hidden--visually\" id=\"sk-estimator-id-2\" type=\"checkbox\" ><label for=\"sk-estimator-id-2\" class=\"sk-toggleable__label sk-toggleable__label-arrow\">estimator: ClassifierChain</label><div class=\"sk-toggleable__content\"><pre>ClassifierChain(base_estimator=SVC(class_weight=&#x27;balanced&#x27;, kernel=&#x27;linear&#x27;,\n",
       "                                   probability=True, random_state=42))</pre></div></div></div><div class=\"sk-serial\"><div class=\"sk-item sk-dashed-wrapped\"><div class=\"sk-parallel\"><div class=\"sk-parallel-item\"><div class=\"sk-item\"><div class=\"sk-label-container\"><div class=\"sk-label sk-toggleable\"><input class=\"sk-toggleable__control sk-hidden--visually\" id=\"sk-estimator-id-3\" type=\"checkbox\" ><label for=\"sk-estimator-id-3\" class=\"sk-toggleable__label sk-toggleable__label-arrow\">base_estimator: SVC</label><div class=\"sk-toggleable__content\"><pre>SVC(class_weight=&#x27;balanced&#x27;, kernel=&#x27;linear&#x27;, probability=True, random_state=42)</pre></div></div></div><div class=\"sk-serial\"><div class=\"sk-item\"><div class=\"sk-estimator sk-toggleable\"><input class=\"sk-toggleable__control sk-hidden--visually\" id=\"sk-estimator-id-4\" type=\"checkbox\" ><label for=\"sk-estimator-id-4\" class=\"sk-toggleable__label sk-toggleable__label-arrow\">SVC</label><div class=\"sk-toggleable__content\"><pre>SVC(class_weight=&#x27;balanced&#x27;, kernel=&#x27;linear&#x27;, probability=True, random_state=42)</pre></div></div></div></div></div></div></div></div></div></div></div></div></div></div></div>"
      ],
      "text/plain": [
       "GridSearchCV(cv=5,\n",
       "             estimator=ClassifierChain(base_estimator=SVC(class_weight='balanced',\n",
       "                                                          kernel='linear',\n",
       "                                                          probability=True,\n",
       "                                                          random_state=42)),\n",
       "             param_grid={'base_estimator__C': [0.03125, 0.0625, 0.125, 0.5]},\n",
       "             return_train_score=True,\n",
       "             scoring=make_scorer(roc_auc_score, multi_class=ovr, average=macro),\n",
       "             verbose=3)"
      ]
     },
     "execution_count": 16,
     "metadata": {},
     "output_type": "execute_result"
    }
   ],
   "source": [
    "# train the SVMs\n",
    "grid.fit(X_train, y_train)"
   ]
  },
  {
   "cell_type": "code",
   "execution_count": 17,
   "metadata": {
    "execution": {
     "iopub.execute_input": "2023-05-17T17:31:42.813071Z",
     "iopub.status.busy": "2023-05-17T17:31:42.812856Z",
     "iopub.status.idle": "2023-05-17T17:31:42.826842Z",
     "shell.execute_reply": "2023-05-17T17:31:42.826212Z",
     "shell.execute_reply.started": "2023-05-17T17:31:42.813049Z"
    },
    "tags": []
   },
   "outputs": [
    {
     "data": {
      "text/html": [
       "<div>\n",
       "<style scoped>\n",
       "    .dataframe tbody tr th:only-of-type {\n",
       "        vertical-align: middle;\n",
       "    }\n",
       "\n",
       "    .dataframe tbody tr th {\n",
       "        vertical-align: top;\n",
       "    }\n",
       "\n",
       "    .dataframe thead th {\n",
       "        text-align: right;\n",
       "    }\n",
       "</style>\n",
       "<table border=\"1\" class=\"dataframe\">\n",
       "  <thead>\n",
       "    <tr style=\"text-align: right;\">\n",
       "      <th></th>\n",
       "      <th>base_estimator__C</th>\n",
       "      <th>Training Mean AUC</th>\n",
       "      <th>Validation Mean AUC</th>\n",
       "    </tr>\n",
       "  </thead>\n",
       "  <tbody>\n",
       "    <tr>\n",
       "      <th>0</th>\n",
       "      <td>0.03125</td>\n",
       "      <td>0.686360</td>\n",
       "      <td>0.565581</td>\n",
       "    </tr>\n",
       "    <tr>\n",
       "      <th>1</th>\n",
       "      <td>0.06250</td>\n",
       "      <td>0.682178</td>\n",
       "      <td>0.561746</td>\n",
       "    </tr>\n",
       "    <tr>\n",
       "      <th>2</th>\n",
       "      <td>0.12500</td>\n",
       "      <td>0.676061</td>\n",
       "      <td>0.557531</td>\n",
       "    </tr>\n",
       "    <tr>\n",
       "      <th>3</th>\n",
       "      <td>0.50000</td>\n",
       "      <td>0.680477</td>\n",
       "      <td>0.553829</td>\n",
       "    </tr>\n",
       "  </tbody>\n",
       "</table>\n",
       "</div>"
      ],
      "text/plain": [
       "   base_estimator__C  Training Mean AUC  Validation Mean AUC\n",
       "0            0.03125           0.686360             0.565581\n",
       "1            0.06250           0.682178             0.561746\n",
       "2            0.12500           0.676061             0.557531\n",
       "3            0.50000           0.680477             0.553829"
      ]
     },
     "execution_count": 17,
     "metadata": {},
     "output_type": "execute_result"
    }
   ],
   "source": [
    "# check performance of the models\n",
    "pd.concat([pd.DataFrame(grid.cv_results_[\"params\"]),pd.DataFrame(grid.cv_results_[\"mean_train_score\"], columns=[\"Training Mean AUC\"]),pd.DataFrame(grid.cv_results_[\"mean_test_score\"], columns=[\"Validation Mean AUC\"])], axis=1)"
   ]
  },
  {
   "cell_type": "code",
   "execution_count": 18,
   "metadata": {
    "execution": {
     "iopub.execute_input": "2023-05-17T17:31:42.827794Z",
     "iopub.status.busy": "2023-05-17T17:31:42.827608Z",
     "iopub.status.idle": "2023-05-17T17:31:43.089415Z",
     "shell.execute_reply": "2023-05-17T17:31:43.088041Z",
     "shell.execute_reply.started": "2023-05-17T17:31:42.827776Z"
    },
    "tags": []
   },
   "outputs": [
    {
     "name": "stdout",
     "output_type": "stream",
     "text": [
      "Best Hyperparameters:  {'base_estimator__C': 0.03125}\n"
     ]
    }
   ],
   "source": [
    "# print the best hyperparameters\n",
    "print('Best Hyperparameters: ', grid.best_params_)"
   ]
  },
  {
   "cell_type": "markdown",
   "metadata": {},
   "source": [
    "##### Option to save the model"
   ]
  },
  {
   "cell_type": "code",
   "execution_count": 19,
   "metadata": {
    "execution": {
     "iopub.execute_input": "2023-05-17T17:31:43.092324Z",
     "iopub.status.busy": "2023-05-17T17:31:43.091652Z",
     "iopub.status.idle": "2023-05-17T17:31:43.186746Z",
     "shell.execute_reply": "2023-05-17T17:31:43.185387Z",
     "shell.execute_reply.started": "2023-05-17T17:31:43.092273Z"
    },
    "tags": []
   },
   "outputs": [],
   "source": [
    "# save the best model (start of song)\n",
    "# dump(grid, 'svm_linear_start.joblib') # without zip\n",
    "# shutil.make_archive('svm_linear_start', 'zip', '.', 'svm_linear_start.joblib') # with zip"
   ]
  },
  {
   "cell_type": "code",
   "execution_count": 20,
   "metadata": {
    "execution": {
     "iopub.execute_input": "2023-05-17T17:31:43.189327Z",
     "iopub.status.busy": "2023-05-17T17:31:43.188772Z",
     "iopub.status.idle": "2023-05-17T17:31:43.396648Z",
     "shell.execute_reply": "2023-05-17T17:31:43.395466Z",
     "shell.execute_reply.started": "2023-05-17T17:31:43.189278Z"
    },
    "tags": []
   },
   "outputs": [],
   "source": [
    "# save the best model (middle of song)\n",
    "# dump(grid, 'svm_linear_middle.joblib') # without zip\n",
    "# shutil.make_archive('svm_linear_middle', 'zip', '.', 'svm_linear_middle.joblib') # with zip"
   ]
  },
  {
   "cell_type": "code",
   "execution_count": 21,
   "metadata": {
    "execution": {
     "iopub.execute_input": "2023-05-17T17:31:43.399430Z",
     "iopub.status.busy": "2023-05-17T17:31:43.398881Z",
     "iopub.status.idle": "2023-05-17T17:31:58.598086Z",
     "shell.execute_reply": "2023-05-17T17:31:58.597377Z",
     "shell.execute_reply.started": "2023-05-17T17:31:43.399381Z"
    },
    "tags": []
   },
   "outputs": [
    {
     "data": {
      "text/plain": [
       "'/work/end/svm_linear_end.zip'"
      ]
     },
     "execution_count": 21,
     "metadata": {},
     "output_type": "execute_result"
    }
   ],
   "source": [
    "# save the best model (end of song)\n",
    "# dump(grid, 'svm_linear_end.joblib') # without zip\n",
    "# shutil.make_archive('svm_linear_end', 'zip', '.', 'svm_linear_end.joblib') # with zip"
   ]
  },
  {
   "cell_type": "markdown",
   "metadata": {},
   "source": [
    "##### Option to load the model if already trained"
   ]
  },
  {
   "cell_type": "code",
   "execution_count": 22,
   "metadata": {
    "execution": {
     "iopub.execute_input": "2023-05-17T17:31:58.599432Z",
     "iopub.status.busy": "2023-05-17T17:31:58.599240Z",
     "iopub.status.idle": "2023-05-17T17:31:58.602852Z",
     "shell.execute_reply": "2023-05-17T17:31:58.602216Z",
     "shell.execute_reply.started": "2023-05-17T17:31:58.599415Z"
    },
    "tags": []
   },
   "outputs": [],
   "source": [
    "# load the model if already trained (start)\n",
    "# grid = joblib.load('svm_linear_start.joblib')"
   ]
  },
  {
   "cell_type": "code",
   "execution_count": 23,
   "metadata": {
    "execution": {
     "iopub.execute_input": "2023-05-17T17:31:58.603604Z",
     "iopub.status.busy": "2023-05-17T17:31:58.603427Z",
     "iopub.status.idle": "2023-05-17T17:31:58.707222Z",
     "shell.execute_reply": "2023-05-17T17:31:58.706037Z",
     "shell.execute_reply.started": "2023-05-17T17:31:58.603588Z"
    }
   },
   "outputs": [],
   "source": [
    "# load the model if already trained (middle)\n",
    "# grid = joblib.load('svm_linear_middle.joblib')"
   ]
  },
  {
   "cell_type": "code",
   "execution_count": 24,
   "metadata": {
    "execution": {
     "iopub.execute_input": "2023-05-17T17:31:58.710155Z",
     "iopub.status.busy": "2023-05-17T17:31:58.709473Z",
     "iopub.status.idle": "2023-05-17T17:31:58.720431Z",
     "shell.execute_reply": "2023-05-17T17:31:58.719255Z",
     "shell.execute_reply.started": "2023-05-17T17:31:58.710103Z"
    }
   },
   "outputs": [],
   "source": [
    "# load the model if already trained (end)\n",
    "# grid = joblib.load('svm_linear_end.joblib')"
   ]
  },
  {
   "cell_type": "markdown",
   "metadata": {},
   "source": [
    "##### Get scoring metrics on the test set"
   ]
  },
  {
   "cell_type": "code",
   "execution_count": 25,
   "metadata": {
    "execution": {
     "iopub.execute_input": "2023-05-17T17:31:58.723365Z",
     "iopub.status.busy": "2023-05-17T17:31:58.722683Z",
     "iopub.status.idle": "2023-05-17T17:32:12.382095Z",
     "shell.execute_reply": "2023-05-17T17:32:12.381025Z",
     "shell.execute_reply.started": "2023-05-17T17:31:58.723313Z"
    },
    "tags": []
   },
   "outputs": [],
   "source": [
    "# make predictions on the test set (probabilities)\n",
    "y_pred_prob = grid.predict_proba(X_test)"
   ]
  },
  {
   "cell_type": "code",
   "execution_count": 26,
   "metadata": {
    "execution": {
     "iopub.execute_input": "2023-05-17T17:32:12.388872Z",
     "iopub.status.busy": "2023-05-17T17:32:12.388502Z",
     "iopub.status.idle": "2023-05-17T17:32:12.394537Z",
     "shell.execute_reply": "2023-05-17T17:32:12.393904Z",
     "shell.execute_reply.started": "2023-05-17T17:32:12.388852Z"
    },
    "tags": []
   },
   "outputs": [
    {
     "data": {
      "text/plain": [
       "array([[0.04, 0.52, 0.19, 0.03, 0.1 , 0.05, 0.06, 0.03, 0.  , 0.12],\n",
       "       [0.04, 0.22, 0.1 , 0.03, 0.06, 0.16, 0.02, 0.  , 0.  , 0.02],\n",
       "       [0.06, 0.38, 0.11, 0.05, 0.09, 0.1 , 0.05, 0.01, 0.01, 0.05],\n",
       "       [0.06, 0.06, 0.18, 0.02, 0.17, 0.04, 0.1 , 0.13, 0.08, 0.12],\n",
       "       [0.07, 0.1 , 0.07, 0.03, 0.09, 0.11, 0.04, 0.51, 0.03, 0.11]])"
      ]
     },
     "execution_count": 26,
     "metadata": {},
     "output_type": "execute_result"
    }
   ],
   "source": [
    "# check predictions (probabilities)\n",
    "y_pred_prob[:5].round(2)"
   ]
  },
  {
   "cell_type": "code",
   "execution_count": 27,
   "metadata": {
    "execution": {
     "iopub.execute_input": "2023-05-17T17:32:12.395446Z",
     "iopub.status.busy": "2023-05-17T17:32:12.395260Z",
     "iopub.status.idle": "2023-05-17T17:32:19.322845Z",
     "shell.execute_reply": "2023-05-17T17:32:19.322040Z",
     "shell.execute_reply.started": "2023-05-17T17:32:12.395428Z"
    },
    "tags": []
   },
   "outputs": [],
   "source": [
    "# make predictions on the test set\n",
    "y_pred = grid.predict(X_test)"
   ]
  },
  {
   "cell_type": "code",
   "execution_count": 28,
   "metadata": {
    "execution": {
     "iopub.execute_input": "2023-05-17T17:32:19.324049Z",
     "iopub.status.busy": "2023-05-17T17:32:19.323855Z",
     "iopub.status.idle": "2023-05-17T17:32:19.329448Z",
     "shell.execute_reply": "2023-05-17T17:32:19.328878Z",
     "shell.execute_reply.started": "2023-05-17T17:32:19.324031Z"
    },
    "tags": []
   },
   "outputs": [
    {
     "data": {
      "text/plain": [
       "array([[0., 1., 0., 0., 0., 0., 0., 0., 0., 1.],\n",
       "       [0., 1., 0., 0., 0., 1., 0., 0., 0., 0.],\n",
       "       [0., 1., 0., 1., 0., 0., 0., 0., 0., 0.],\n",
       "       [0., 0., 0., 0., 1., 0., 0., 0., 0., 1.],\n",
       "       [0., 0., 0., 0., 0., 0., 0., 1., 0., 0.]])"
      ]
     },
     "execution_count": 28,
     "metadata": {},
     "output_type": "execute_result"
    }
   ],
   "source": [
    "# check predictions \n",
    "y_pred[:5]"
   ]
  },
  {
   "cell_type": "code",
   "execution_count": 29,
   "metadata": {
    "execution": {
     "iopub.execute_input": "2023-05-17T17:32:19.330299Z",
     "iopub.status.busy": "2023-05-17T17:32:19.330124Z",
     "iopub.status.idle": "2023-05-17T17:32:19.502226Z",
     "shell.execute_reply": "2023-05-17T17:32:19.501473Z",
     "shell.execute_reply.started": "2023-05-17T17:32:19.330282Z"
    },
    "tags": []
   },
   "outputs": [],
   "source": [
    "# get auc from the test set\n",
    "auc_score = roc_auc_score(y_test, y_pred_prob, average='macro')"
   ]
  },
  {
   "cell_type": "code",
   "execution_count": 30,
   "metadata": {
    "execution": {
     "iopub.execute_input": "2023-05-17T17:32:19.503388Z",
     "iopub.status.busy": "2023-05-17T17:32:19.503068Z",
     "iopub.status.idle": "2023-05-17T17:32:19.636230Z",
     "shell.execute_reply": "2023-05-17T17:32:19.634988Z",
     "shell.execute_reply.started": "2023-05-17T17:32:19.503365Z"
    },
    "tags": []
   },
   "outputs": [
    {
     "name": "stdout",
     "output_type": "stream",
     "text": [
      "AUC: : 0.6141884565134564\n"
     ]
    }
   ],
   "source": [
    "# print the results\n",
    "print(\"AUC: :\", auc_score)"
   ]
  },
  {
   "cell_type": "code",
   "execution_count": 31,
   "metadata": {
    "execution": {
     "iopub.execute_input": "2023-05-17T17:32:19.639101Z",
     "iopub.status.busy": "2023-05-17T17:32:19.638414Z",
     "iopub.status.idle": "2023-05-17T17:32:19.751609Z",
     "shell.execute_reply": "2023-05-17T17:32:19.750933Z",
     "shell.execute_reply.started": "2023-05-17T17:32:19.639048Z"
    },
    "tags": []
   },
   "outputs": [
    {
     "name": "stdout",
     "output_type": "stream",
     "text": [
      "              precision    recall  f1-score   support\n",
      "\n",
      "           0       0.11      0.49      0.18        99\n",
      "           1       0.36      0.70      0.48       266\n",
      "           2       0.36      0.31      0.33       334\n",
      "           3       0.04      0.17      0.06        46\n",
      "           4       0.20      0.33      0.25       193\n",
      "           5       0.20      0.10      0.14       202\n",
      "           6       0.14      0.39      0.21       114\n",
      "           7       0.32      0.40      0.36       252\n",
      "           8       0.30      0.04      0.07       160\n",
      "           9       0.15      0.39      0.22       152\n",
      "\n",
      "   micro avg       0.22      0.35      0.27      1818\n",
      "   macro avg       0.22      0.33      0.23      1818\n",
      "weighted avg       0.26      0.35      0.27      1818\n",
      " samples avg       0.25      0.35      0.27      1818\n",
      "\n"
     ]
    }
   ],
   "source": [
    "# print also the other metrics\n",
    "print(classification_report(y_test, y_pred))"
   ]
  },
  {
   "cell_type": "code",
   "execution_count": 33,
   "metadata": {
    "execution": {
     "iopub.execute_input": "2023-05-17T17:39:22.328573Z",
     "iopub.status.busy": "2023-05-17T17:39:22.327908Z",
     "iopub.status.idle": "2023-05-17T17:39:22.342835Z",
     "shell.execute_reply": "2023-05-17T17:39:22.341988Z",
     "shell.execute_reply.started": "2023-05-17T17:39:22.328517Z"
    },
    "tags": []
   },
   "outputs": [
    {
     "name": "stdout",
     "output_type": "stream",
     "text": [
      "Multi-label accuracy: 0.7578279266572637\n"
     ]
    }
   ],
   "source": [
    "confusion_matrix = multilabel_confusion_matrix(y_test, y_pred)\n",
    "    \n",
    "true_positives = 0\n",
    "true_negatives = 0\n",
    "false_positives = 0\n",
    "false_negatives = 0\n",
    "\n",
    "for i, matrix in enumerate(confusion_matrix):\n",
    "    true_positives += matrix[1, 1]\n",
    "    true_negatives += matrix[0, 0]\n",
    "    false_positives += matrix[0, 1]\n",
    "    false_negatives += matrix[1, 0]\n",
    "\n",
    "multi_label_accuracy = (true_positives + true_negatives) / (true_positives + true_negatives + false_positives + false_negatives)\n",
    "\n",
    "print(\"Multi-label accuracy:\", multi_label_accuracy)"
   ]
  },
  {
   "cell_type": "markdown",
   "metadata": {},
   "source": [
    "### Train SVM with RBF kernel"
   ]
  },
  {
   "cell_type": "markdown",
   "metadata": {},
   "source": [
    "Disclaimer: Linear SVM and SVM with RBF kernel were trained with grid-search 5-fold cross-validation separately because grid-search trains all combinations including gamma combinations for linear SVM which is not a relevant parameter that model (save unnecessary computations)."
   ]
  },
  {
   "cell_type": "code",
   "execution_count": 34,
   "metadata": {
    "execution": {
     "iopub.execute_input": "2023-05-17T17:39:28.090843Z",
     "iopub.status.busy": "2023-05-17T17:39:28.090198Z",
     "iopub.status.idle": "2023-05-17T17:39:28.102313Z",
     "shell.execute_reply": "2023-05-17T17:39:28.100887Z",
     "shell.execute_reply.started": "2023-05-17T17:39:28.090790Z"
    },
    "id": "4AJ7VCQRjizN",
    "tags": []
   },
   "outputs": [],
   "source": [
    "# define the SVM model with RBF kernel\n",
    "svm = SVC(kernel='rbf', class_weight='balanced', probability=True, random_state=42)\n",
    "multi_svm = ClassifierChain(svm)\n",
    "\n",
    "# define the hyperparameter grid\n",
    "param_grid = {\n",
    "    # the selection of the hyperparameters was in the beginning larger and reduced after some tries\n",
    "    # restricting the model with smaller values made the best results\n",
    "    'base_estimator__C':[2**-5, 2**-4, 2**-3],\n",
    "    'base_estimator__gamma':[2**-11, 2**-9, 2**-7, 2**-5]\n",
    "}\n",
    "\n",
    "# define the scoring metric\n",
    "scorer = make_scorer(roc_auc_score, multi_class='ovr', average='macro')\n",
    "\n",
    "# define the grid search\n",
    "grid = GridSearchCV(\n",
    "    multi_svm,\n",
    "    param_grid,\n",
    "    cv=5,\n",
    "    scoring=scorer,\n",
    "    refit=True,\n",
    "    return_train_score=True,\n",
    "    verbose=3)"
   ]
  },
  {
   "cell_type": "code",
   "execution_count": 35,
   "metadata": {
    "execution": {
     "iopub.execute_input": "2023-05-17T17:39:28.662396Z",
     "iopub.status.busy": "2023-05-17T17:39:28.662149Z",
     "iopub.status.idle": "2023-05-17T22:00:08.317433Z",
     "shell.execute_reply": "2023-05-17T22:00:08.316289Z",
     "shell.execute_reply.started": "2023-05-17T17:39:28.662374Z"
    },
    "tags": []
   },
   "outputs": [
    {
     "name": "stdout",
     "output_type": "stream",
     "text": [
      "Fitting 5 folds for each of 12 candidates, totalling 60 fits\n",
      "[CV 1/5] END base_estimator__C=0.03125, base_estimator__gamma=0.00048828125;, score=(train=0.586, test=0.599) total time= 3.7min\n",
      "[CV 2/5] END base_estimator__C=0.03125, base_estimator__gamma=0.00048828125;, score=(train=0.596, test=0.587) total time= 3.6min\n",
      "[CV 3/5] END base_estimator__C=0.03125, base_estimator__gamma=0.00048828125;, score=(train=0.593, test=0.578) total time= 3.5min\n",
      "[CV 4/5] END base_estimator__C=0.03125, base_estimator__gamma=0.00048828125;, score=(train=0.594, test=0.575) total time= 3.5min\n",
      "[CV 5/5] END base_estimator__C=0.03125, base_estimator__gamma=0.00048828125;, score=(train=0.595, test=0.598) total time= 3.5min\n",
      "[CV 1/5] END base_estimator__C=0.03125, base_estimator__gamma=0.001953125;, score=(train=0.629, test=0.634) total time= 3.3min\n",
      "[CV 2/5] END base_estimator__C=0.03125, base_estimator__gamma=0.001953125;, score=(train=0.636, test=0.615) total time= 3.3min\n",
      "[CV 3/5] END base_estimator__C=0.03125, base_estimator__gamma=0.001953125;, score=(train=0.635, test=0.615) total time= 3.3min\n",
      "[CV 4/5] END base_estimator__C=0.03125, base_estimator__gamma=0.001953125;, score=(train=0.633, test=0.613) total time= 3.3min\n",
      "[CV 5/5] END base_estimator__C=0.03125, base_estimator__gamma=0.001953125;, score=(train=0.631, test=0.626) total time= 3.3min\n",
      "[CV 1/5] END base_estimator__C=0.03125, base_estimator__gamma=0.0078125;, score=(train=0.654, test=0.638) total time= 3.3min\n",
      "[CV 2/5] END base_estimator__C=0.03125, base_estimator__gamma=0.0078125;, score=(train=0.662, test=0.626) total time= 3.3min\n",
      "[CV 3/5] END base_estimator__C=0.03125, base_estimator__gamma=0.0078125;, score=(train=0.664, test=0.621) total time= 3.4min\n",
      "[CV 4/5] END base_estimator__C=0.03125, base_estimator__gamma=0.0078125;, score=(train=0.661, test=0.626) total time= 3.2min\n",
      "[CV 5/5] END base_estimator__C=0.03125, base_estimator__gamma=0.0078125;, score=(train=0.659, test=0.635) total time= 3.4min\n",
      "[CV 1/5] END base_estimator__C=0.03125, base_estimator__gamma=0.03125;, score=(train=0.613, test=0.578) total time= 3.6min\n",
      "[CV 2/5] END base_estimator__C=0.03125, base_estimator__gamma=0.03125;, score=(train=0.637, test=0.562) total time= 3.6min\n",
      "[CV 3/5] END base_estimator__C=0.03125, base_estimator__gamma=0.03125;, score=(train=0.659, test=0.571) total time= 3.6min\n",
      "[CV 4/5] END base_estimator__C=0.03125, base_estimator__gamma=0.03125;, score=(train=0.635, test=0.571) total time= 3.7min\n",
      "[CV 5/5] END base_estimator__C=0.03125, base_estimator__gamma=0.03125;, score=(train=0.626, test=0.576) total time= 3.7min\n",
      "[CV 1/5] END base_estimator__C=0.0625, base_estimator__gamma=0.00048828125;, score=(train=0.615, test=0.627) total time= 3.4min\n",
      "[CV 2/5] END base_estimator__C=0.0625, base_estimator__gamma=0.00048828125;, score=(train=0.624, test=0.602) total time= 3.5min\n",
      "[CV 3/5] END base_estimator__C=0.0625, base_estimator__gamma=0.00048828125;, score=(train=0.617, test=0.601) total time= 3.6min\n",
      "[CV 4/5] END base_estimator__C=0.0625, base_estimator__gamma=0.00048828125;, score=(train=0.618, test=0.599) total time= 3.6min\n",
      "[CV 5/5] END base_estimator__C=0.0625, base_estimator__gamma=0.00048828125;, score=(train=0.612, test=0.609) total time= 3.7min\n",
      "[CV 1/5] END base_estimator__C=0.0625, base_estimator__gamma=0.001953125;, score=(train=0.645, test=0.638) total time= 3.5min\n",
      "[CV 2/5] END base_estimator__C=0.0625, base_estimator__gamma=0.001953125;, score=(train=0.648, test=0.622) total time= 3.4min\n",
      "[CV 3/5] END base_estimator__C=0.0625, base_estimator__gamma=0.001953125;, score=(train=0.650, test=0.611) total time= 3.4min\n",
      "[CV 4/5] END base_estimator__C=0.0625, base_estimator__gamma=0.001953125;, score=(train=0.650, test=0.613) total time= 3.2min\n",
      "[CV 5/5] END base_estimator__C=0.0625, base_estimator__gamma=0.001953125;, score=(train=0.643, test=0.631) total time= 3.2min\n",
      "[CV 1/5] END base_estimator__C=0.0625, base_estimator__gamma=0.0078125;, score=(train=0.681, test=0.652) total time= 3.2min\n",
      "[CV 2/5] END base_estimator__C=0.0625, base_estimator__gamma=0.0078125;, score=(train=0.689, test=0.625) total time= 3.1min\n",
      "[CV 3/5] END base_estimator__C=0.0625, base_estimator__gamma=0.0078125;, score=(train=0.691, test=0.632) total time= 3.2min\n",
      "[CV 4/5] END base_estimator__C=0.0625, base_estimator__gamma=0.0078125;, score=(train=0.685, test=0.625) total time= 3.1min\n",
      "[CV 5/5] END base_estimator__C=0.0625, base_estimator__gamma=0.0078125;, score=(train=0.687, test=0.639) total time= 3.2min\n",
      "[CV 1/5] END base_estimator__C=0.0625, base_estimator__gamma=0.03125;, score=(train=0.699, test=0.607) total time= 3.5min\n",
      "[CV 2/5] END base_estimator__C=0.0625, base_estimator__gamma=0.03125;, score=(train=0.702, test=0.581) total time= 3.5min\n",
      "[CV 3/5] END base_estimator__C=0.0625, base_estimator__gamma=0.03125;, score=(train=0.695, test=0.584) total time= 3.5min\n",
      "[CV 4/5] END base_estimator__C=0.0625, base_estimator__gamma=0.03125;, score=(train=0.688, test=0.594) total time= 3.5min\n",
      "[CV 5/5] END base_estimator__C=0.0625, base_estimator__gamma=0.03125;, score=(train=0.684, test=0.600) total time= 3.5min\n",
      "[CV 1/5] END base_estimator__C=0.125, base_estimator__gamma=0.00048828125;, score=(train=0.629, test=0.634) total time= 3.3min\n",
      "[CV 2/5] END base_estimator__C=0.125, base_estimator__gamma=0.00048828125;, score=(train=0.636, test=0.609) total time= 3.2min\n",
      "[CV 3/5] END base_estimator__C=0.125, base_estimator__gamma=0.00048828125;, score=(train=0.634, test=0.614) total time= 3.3min\n",
      "[CV 4/5] END base_estimator__C=0.125, base_estimator__gamma=0.00048828125;, score=(train=0.636, test=0.609) total time= 3.3min\n",
      "[CV 5/5] END base_estimator__C=0.125, base_estimator__gamma=0.00048828125;, score=(train=0.630, test=0.623) total time= 3.3min\n",
      "[CV 4/5] END base_estimator__C=0.125, base_estimator__gamma=0.0078125;, score=(train=0.729, test=0.628) total time= 3.0min\n",
      "[CV 5/5] END base_estimator__C=0.125, base_estimator__gamma=0.0078125;, score=(train=0.730, test=0.637) total time= 3.0min\n",
      "[CV 1/5] END base_estimator__C=0.125, base_estimator__gamma=0.03125;, score=(train=0.776, test=0.615) total time= 3.4min\n",
      "[CV 2/5] END base_estimator__C=0.125, base_estimator__gamma=0.03125;, score=(train=0.777, test=0.595) total time= 3.7min\n",
      "[CV 3/5] END base_estimator__C=0.125, base_estimator__gamma=0.03125;, score=(train=0.780, test=0.607) total time= 3.6min\n",
      "[CV 4/5] END base_estimator__C=0.125, base_estimator__gamma=0.03125;, score=(train=0.778, test=0.604) total time= 3.7min\n",
      "[CV 5/5] END base_estimator__C=0.125, base_estimator__gamma=0.03125;, score=(train=0.778, test=0.619) total time= 3.7min\n"
     ]
    },
    {
     "data": {
      "text/html": [
       "<style>#sk-container-id-2 {color: black;background-color: white;}#sk-container-id-2 pre{padding: 0;}#sk-container-id-2 div.sk-toggleable {background-color: white;}#sk-container-id-2 label.sk-toggleable__label {cursor: pointer;display: block;width: 100%;margin-bottom: 0;padding: 0.3em;box-sizing: border-box;text-align: center;}#sk-container-id-2 label.sk-toggleable__label-arrow:before {content: \"▸\";float: left;margin-right: 0.25em;color: #696969;}#sk-container-id-2 label.sk-toggleable__label-arrow:hover:before {color: black;}#sk-container-id-2 div.sk-estimator:hover label.sk-toggleable__label-arrow:before {color: black;}#sk-container-id-2 div.sk-toggleable__content {max-height: 0;max-width: 0;overflow: hidden;text-align: left;background-color: #f0f8ff;}#sk-container-id-2 div.sk-toggleable__content pre {margin: 0.2em;color: black;border-radius: 0.25em;background-color: #f0f8ff;}#sk-container-id-2 input.sk-toggleable__control:checked~div.sk-toggleable__content {max-height: 200px;max-width: 100%;overflow: auto;}#sk-container-id-2 input.sk-toggleable__control:checked~label.sk-toggleable__label-arrow:before {content: \"▾\";}#sk-container-id-2 div.sk-estimator input.sk-toggleable__control:checked~label.sk-toggleable__label {background-color: #d4ebff;}#sk-container-id-2 div.sk-label input.sk-toggleable__control:checked~label.sk-toggleable__label {background-color: #d4ebff;}#sk-container-id-2 input.sk-hidden--visually {border: 0;clip: rect(1px 1px 1px 1px);clip: rect(1px, 1px, 1px, 1px);height: 1px;margin: -1px;overflow: hidden;padding: 0;position: absolute;width: 1px;}#sk-container-id-2 div.sk-estimator {font-family: monospace;background-color: #f0f8ff;border: 1px dotted black;border-radius: 0.25em;box-sizing: border-box;margin-bottom: 0.5em;}#sk-container-id-2 div.sk-estimator:hover {background-color: #d4ebff;}#sk-container-id-2 div.sk-parallel-item::after {content: \"\";width: 100%;border-bottom: 1px solid gray;flex-grow: 1;}#sk-container-id-2 div.sk-label:hover label.sk-toggleable__label {background-color: #d4ebff;}#sk-container-id-2 div.sk-serial::before {content: \"\";position: absolute;border-left: 1px solid gray;box-sizing: border-box;top: 0;bottom: 0;left: 50%;z-index: 0;}#sk-container-id-2 div.sk-serial {display: flex;flex-direction: column;align-items: center;background-color: white;padding-right: 0.2em;padding-left: 0.2em;position: relative;}#sk-container-id-2 div.sk-item {position: relative;z-index: 1;}#sk-container-id-2 div.sk-parallel {display: flex;align-items: stretch;justify-content: center;background-color: white;position: relative;}#sk-container-id-2 div.sk-item::before, #sk-container-id-2 div.sk-parallel-item::before {content: \"\";position: absolute;border-left: 1px solid gray;box-sizing: border-box;top: 0;bottom: 0;left: 50%;z-index: -1;}#sk-container-id-2 div.sk-parallel-item {display: flex;flex-direction: column;z-index: 1;position: relative;background-color: white;}#sk-container-id-2 div.sk-parallel-item:first-child::after {align-self: flex-end;width: 50%;}#sk-container-id-2 div.sk-parallel-item:last-child::after {align-self: flex-start;width: 50%;}#sk-container-id-2 div.sk-parallel-item:only-child::after {width: 0;}#sk-container-id-2 div.sk-dashed-wrapped {border: 1px dashed gray;margin: 0 0.4em 0.5em 0.4em;box-sizing: border-box;padding-bottom: 0.4em;background-color: white;}#sk-container-id-2 div.sk-label label {font-family: monospace;font-weight: bold;display: inline-block;line-height: 1.2em;}#sk-container-id-2 div.sk-label-container {text-align: center;}#sk-container-id-2 div.sk-container {/* jupyter's `normalize.less` sets `[hidden] { display: none; }` but bootstrap.min.css set `[hidden] { display: none !important; }` so we also need the `!important` here to be able to override the default hidden behavior on the sphinx rendered scikit-learn.org. See: https://github.com/scikit-learn/scikit-learn/issues/21755 */display: inline-block !important;position: relative;}#sk-container-id-2 div.sk-text-repr-fallback {display: none;}</style><div id=\"sk-container-id-2\" class=\"sk-top-container\"><div class=\"sk-text-repr-fallback\"><pre>GridSearchCV(cv=5,\n",
       "             estimator=ClassifierChain(base_estimator=SVC(class_weight=&#x27;balanced&#x27;,\n",
       "                                                          probability=True,\n",
       "                                                          random_state=42)),\n",
       "             param_grid={&#x27;base_estimator__C&#x27;: [0.03125, 0.0625, 0.125],\n",
       "                         &#x27;base_estimator__gamma&#x27;: [0.00048828125, 0.001953125,\n",
       "                                                   0.0078125, 0.03125]},\n",
       "             return_train_score=True,\n",
       "             scoring=make_scorer(roc_auc_score, multi_class=ovr, average=macro),\n",
       "             verbose=3)</pre><b>In a Jupyter environment, please rerun this cell to show the HTML representation or trust the notebook. <br />On GitHub, the HTML representation is unable to render, please try loading this page with nbviewer.org.</b></div><div class=\"sk-container\" hidden><div class=\"sk-item sk-dashed-wrapped\"><div class=\"sk-label-container\"><div class=\"sk-label sk-toggleable\"><input class=\"sk-toggleable__control sk-hidden--visually\" id=\"sk-estimator-id-5\" type=\"checkbox\" ><label for=\"sk-estimator-id-5\" class=\"sk-toggleable__label sk-toggleable__label-arrow\">GridSearchCV</label><div class=\"sk-toggleable__content\"><pre>GridSearchCV(cv=5,\n",
       "             estimator=ClassifierChain(base_estimator=SVC(class_weight=&#x27;balanced&#x27;,\n",
       "                                                          probability=True,\n",
       "                                                          random_state=42)),\n",
       "             param_grid={&#x27;base_estimator__C&#x27;: [0.03125, 0.0625, 0.125],\n",
       "                         &#x27;base_estimator__gamma&#x27;: [0.00048828125, 0.001953125,\n",
       "                                                   0.0078125, 0.03125]},\n",
       "             return_train_score=True,\n",
       "             scoring=make_scorer(roc_auc_score, multi_class=ovr, average=macro),\n",
       "             verbose=3)</pre></div></div></div><div class=\"sk-parallel\"><div class=\"sk-parallel-item\"><div class=\"sk-item\"><div class=\"sk-label-container\"><div class=\"sk-label sk-toggleable\"><input class=\"sk-toggleable__control sk-hidden--visually\" id=\"sk-estimator-id-6\" type=\"checkbox\" ><label for=\"sk-estimator-id-6\" class=\"sk-toggleable__label sk-toggleable__label-arrow\">estimator: ClassifierChain</label><div class=\"sk-toggleable__content\"><pre>ClassifierChain(base_estimator=SVC(class_weight=&#x27;balanced&#x27;, probability=True,\n",
       "                                   random_state=42))</pre></div></div></div><div class=\"sk-serial\"><div class=\"sk-item sk-dashed-wrapped\"><div class=\"sk-parallel\"><div class=\"sk-parallel-item\"><div class=\"sk-item\"><div class=\"sk-label-container\"><div class=\"sk-label sk-toggleable\"><input class=\"sk-toggleable__control sk-hidden--visually\" id=\"sk-estimator-id-7\" type=\"checkbox\" ><label for=\"sk-estimator-id-7\" class=\"sk-toggleable__label sk-toggleable__label-arrow\">base_estimator: SVC</label><div class=\"sk-toggleable__content\"><pre>SVC(class_weight=&#x27;balanced&#x27;, probability=True, random_state=42)</pre></div></div></div><div class=\"sk-serial\"><div class=\"sk-item\"><div class=\"sk-estimator sk-toggleable\"><input class=\"sk-toggleable__control sk-hidden--visually\" id=\"sk-estimator-id-8\" type=\"checkbox\" ><label for=\"sk-estimator-id-8\" class=\"sk-toggleable__label sk-toggleable__label-arrow\">SVC</label><div class=\"sk-toggleable__content\"><pre>SVC(class_weight=&#x27;balanced&#x27;, probability=True, random_state=42)</pre></div></div></div></div></div></div></div></div></div></div></div></div></div></div></div>"
      ],
      "text/plain": [
       "GridSearchCV(cv=5,\n",
       "             estimator=ClassifierChain(base_estimator=SVC(class_weight='balanced',\n",
       "                                                          probability=True,\n",
       "                                                          random_state=42)),\n",
       "             param_grid={'base_estimator__C': [0.03125, 0.0625, 0.125],\n",
       "                         'base_estimator__gamma': [0.00048828125, 0.001953125,\n",
       "                                                   0.0078125, 0.03125]},\n",
       "             return_train_score=True,\n",
       "             scoring=make_scorer(roc_auc_score, multi_class=ovr, average=macro),\n",
       "             verbose=3)"
      ]
     },
     "execution_count": 35,
     "metadata": {},
     "output_type": "execute_result"
    }
   ],
   "source": [
    "# train the SVMs\n",
    "grid.fit(X_train, y_train)"
   ]
  },
  {
   "cell_type": "code",
   "execution_count": 37,
   "metadata": {
    "execution": {
     "iopub.execute_input": "2023-05-17T22:12:02.694065Z",
     "iopub.status.busy": "2023-05-17T22:12:02.693222Z",
     "iopub.status.idle": "2023-05-17T22:12:02.714605Z",
     "shell.execute_reply": "2023-05-17T22:12:02.713840Z",
     "shell.execute_reply.started": "2023-05-17T22:12:02.694007Z"
    },
    "tags": []
   },
   "outputs": [
    {
     "data": {
      "text/html": [
       "<div>\n",
       "<style scoped>\n",
       "    .dataframe tbody tr th:only-of-type {\n",
       "        vertical-align: middle;\n",
       "    }\n",
       "\n",
       "    .dataframe tbody tr th {\n",
       "        vertical-align: top;\n",
       "    }\n",
       "\n",
       "    .dataframe thead th {\n",
       "        text-align: right;\n",
       "    }\n",
       "</style>\n",
       "<table border=\"1\" class=\"dataframe\">\n",
       "  <thead>\n",
       "    <tr style=\"text-align: right;\">\n",
       "      <th></th>\n",
       "      <th>base_estimator__C</th>\n",
       "      <th>base_estimator__gamma</th>\n",
       "      <th>Training Mean AUC</th>\n",
       "      <th>Validation Mean AUC</th>\n",
       "    </tr>\n",
       "  </thead>\n",
       "  <tbody>\n",
       "    <tr>\n",
       "      <th>0</th>\n",
       "      <td>0.03125</td>\n",
       "      <td>0.000488</td>\n",
       "      <td>0.592729</td>\n",
       "      <td>0.587331</td>\n",
       "    </tr>\n",
       "    <tr>\n",
       "      <th>1</th>\n",
       "      <td>0.03125</td>\n",
       "      <td>0.001953</td>\n",
       "      <td>0.632815</td>\n",
       "      <td>0.620491</td>\n",
       "    </tr>\n",
       "    <tr>\n",
       "      <th>2</th>\n",
       "      <td>0.03125</td>\n",
       "      <td>0.007812</td>\n",
       "      <td>0.659810</td>\n",
       "      <td>0.629262</td>\n",
       "    </tr>\n",
       "    <tr>\n",
       "      <th>3</th>\n",
       "      <td>0.03125</td>\n",
       "      <td>0.031250</td>\n",
       "      <td>0.633980</td>\n",
       "      <td>0.571620</td>\n",
       "    </tr>\n",
       "    <tr>\n",
       "      <th>4</th>\n",
       "      <td>0.06250</td>\n",
       "      <td>0.000488</td>\n",
       "      <td>0.617088</td>\n",
       "      <td>0.607488</td>\n",
       "    </tr>\n",
       "    <tr>\n",
       "      <th>5</th>\n",
       "      <td>0.06250</td>\n",
       "      <td>0.001953</td>\n",
       "      <td>0.647213</td>\n",
       "      <td>0.622991</td>\n",
       "    </tr>\n",
       "    <tr>\n",
       "      <th>6</th>\n",
       "      <td>0.06250</td>\n",
       "      <td>0.007812</td>\n",
       "      <td>0.686709</td>\n",
       "      <td>0.634739</td>\n",
       "    </tr>\n",
       "    <tr>\n",
       "      <th>7</th>\n",
       "      <td>0.06250</td>\n",
       "      <td>0.031250</td>\n",
       "      <td>0.693563</td>\n",
       "      <td>0.593053</td>\n",
       "    </tr>\n",
       "    <tr>\n",
       "      <th>8</th>\n",
       "      <td>0.12500</td>\n",
       "      <td>0.000488</td>\n",
       "      <td>0.633123</td>\n",
       "      <td>0.617958</td>\n",
       "    </tr>\n",
       "    <tr>\n",
       "      <th>9</th>\n",
       "      <td>0.12500</td>\n",
       "      <td>0.001953</td>\n",
       "      <td>0.665104</td>\n",
       "      <td>0.628820</td>\n",
       "    </tr>\n",
       "    <tr>\n",
       "      <th>10</th>\n",
       "      <td>0.12500</td>\n",
       "      <td>0.007812</td>\n",
       "      <td>0.729833</td>\n",
       "      <td>0.637437</td>\n",
       "    </tr>\n",
       "    <tr>\n",
       "      <th>11</th>\n",
       "      <td>0.12500</td>\n",
       "      <td>0.031250</td>\n",
       "      <td>0.777793</td>\n",
       "      <td>0.608190</td>\n",
       "    </tr>\n",
       "  </tbody>\n",
       "</table>\n",
       "</div>"
      ],
      "text/plain": [
       "    base_estimator__C  base_estimator__gamma  Training Mean AUC  \\\n",
       "0             0.03125               0.000488           0.592729   \n",
       "1             0.03125               0.001953           0.632815   \n",
       "2             0.03125               0.007812           0.659810   \n",
       "3             0.03125               0.031250           0.633980   \n",
       "4             0.06250               0.000488           0.617088   \n",
       "5             0.06250               0.001953           0.647213   \n",
       "6             0.06250               0.007812           0.686709   \n",
       "7             0.06250               0.031250           0.693563   \n",
       "8             0.12500               0.000488           0.633123   \n",
       "9             0.12500               0.001953           0.665104   \n",
       "10            0.12500               0.007812           0.729833   \n",
       "11            0.12500               0.031250           0.777793   \n",
       "\n",
       "    Validation Mean AUC  \n",
       "0              0.587331  \n",
       "1              0.620491  \n",
       "2              0.629262  \n",
       "3              0.571620  \n",
       "4              0.607488  \n",
       "5              0.622991  \n",
       "6              0.634739  \n",
       "7              0.593053  \n",
       "8              0.617958  \n",
       "9              0.628820  \n",
       "10             0.637437  \n",
       "11             0.608190  "
      ]
     },
     "execution_count": 37,
     "metadata": {},
     "output_type": "execute_result"
    }
   ],
   "source": [
    "# check the models\n",
    "pd.concat([pd.DataFrame(grid.cv_results_[\"params\"]),pd.DataFrame(grid.cv_results_[\"mean_train_score\"], columns=[\"Training Mean AUC\"]),pd.DataFrame(grid.cv_results_[\"mean_test_score\"], columns=[\"Validation Mean AUC\"])], axis=1)"
   ]
  },
  {
   "cell_type": "code",
   "execution_count": 38,
   "metadata": {
    "execution": {
     "iopub.execute_input": "2023-05-17T22:12:04.555683Z",
     "iopub.status.busy": "2023-05-17T22:12:04.555078Z",
     "iopub.status.idle": "2023-05-17T22:12:04.563749Z",
     "shell.execute_reply": "2023-05-17T22:12:04.561921Z",
     "shell.execute_reply.started": "2023-05-17T22:12:04.555630Z"
    },
    "tags": []
   },
   "outputs": [
    {
     "name": "stdout",
     "output_type": "stream",
     "text": [
      "Best Hyperparameters:  {'base_estimator__C': 0.125, 'base_estimator__gamma': 0.0078125}\n"
     ]
    }
   ],
   "source": [
    "# print the best hyperparameters\n",
    "print('Best Hyperparameters: ', grid.best_params_)"
   ]
  },
  {
   "cell_type": "markdown",
   "metadata": {},
   "source": [
    "##### Option to save the model"
   ]
  },
  {
   "cell_type": "code",
   "execution_count": 39,
   "metadata": {
    "execution": {
     "iopub.execute_input": "2023-05-17T22:12:05.583264Z",
     "iopub.status.busy": "2023-05-17T22:12:05.582579Z",
     "iopub.status.idle": "2023-05-17T22:12:05.589224Z",
     "shell.execute_reply": "2023-05-17T22:12:05.588020Z",
     "shell.execute_reply.started": "2023-05-17T22:12:05.583212Z"
    },
    "tags": []
   },
   "outputs": [],
   "source": [
    "# save the best model (start of song)\n",
    "# dump(grid, 'svm_rbf_start.joblib') # without zip\n",
    "# shutil.make_archive('svm_rbf_start', 'zip', '.', 'svm_rbf_start.joblib') # with zip"
   ]
  },
  {
   "cell_type": "code",
   "execution_count": 40,
   "metadata": {
    "execution": {
     "iopub.execute_input": "2023-05-17T22:12:06.601272Z",
     "iopub.status.busy": "2023-05-17T22:12:06.600700Z",
     "iopub.status.idle": "2023-05-17T22:12:06.607527Z",
     "shell.execute_reply": "2023-05-17T22:12:06.606297Z",
     "shell.execute_reply.started": "2023-05-17T22:12:06.601222Z"
    },
    "tags": []
   },
   "outputs": [],
   "source": [
    "# save the best model (middle of song)\n",
    "# dump(grid, 'svm_rbf_middle.joblib') # without zip\n",
    "# shutil.make_archive('svm_rbf_middle', 'zip', '.', 'svm_rbf_middle.joblib') # with zip"
   ]
  },
  {
   "cell_type": "code",
   "execution_count": 41,
   "metadata": {
    "execution": {
     "iopub.execute_input": "2023-05-17T22:12:07.513571Z",
     "iopub.status.busy": "2023-05-17T22:12:07.512969Z",
     "iopub.status.idle": "2023-05-17T22:12:28.140310Z",
     "shell.execute_reply": "2023-05-17T22:12:28.139531Z",
     "shell.execute_reply.started": "2023-05-17T22:12:07.513518Z"
    },
    "tags": []
   },
   "outputs": [
    {
     "data": {
      "text/plain": [
       "'/work/end/svm_rbf_end.zip'"
      ]
     },
     "execution_count": 41,
     "metadata": {},
     "output_type": "execute_result"
    }
   ],
   "source": [
    "# save the best model (end of song)\n",
    "# dump(grid, 'svm_rbf_end.joblib') # without zip\n",
    "# shutil.make_archive('svm_rbf_end', 'zip', '.', 'svm_rbf_end.joblib') # with zip"
   ]
  },
  {
   "cell_type": "markdown",
   "metadata": {},
   "source": [
    "##### Option to load the model if already trained"
   ]
  },
  {
   "cell_type": "code",
   "execution_count": 42,
   "metadata": {
    "execution": {
     "iopub.execute_input": "2023-05-17T22:12:45.879564Z",
     "iopub.status.busy": "2023-05-17T22:12:45.878905Z",
     "iopub.status.idle": "2023-05-17T22:12:45.886293Z",
     "shell.execute_reply": "2023-05-17T22:12:45.884744Z",
     "shell.execute_reply.started": "2023-05-17T22:12:45.879508Z"
    },
    "tags": []
   },
   "outputs": [],
   "source": [
    "# load the model if already trained (start of song)\n",
    "# grid = joblib.load('svm_rbf_start.joblib')"
   ]
  },
  {
   "cell_type": "code",
   "execution_count": 43,
   "metadata": {
    "execution": {
     "iopub.execute_input": "2023-05-17T22:12:46.533132Z",
     "iopub.status.busy": "2023-05-17T22:12:46.532570Z",
     "iopub.status.idle": "2023-05-17T22:12:46.539014Z",
     "shell.execute_reply": "2023-05-17T22:12:46.537800Z",
     "shell.execute_reply.started": "2023-05-17T22:12:46.533081Z"
    },
    "tags": []
   },
   "outputs": [],
   "source": [
    "# load the model if already trained (middle of song)\n",
    "# grid = joblib.load('svm_rbf_middle.joblib')"
   ]
  },
  {
   "cell_type": "code",
   "execution_count": 44,
   "metadata": {
    "execution": {
     "iopub.execute_input": "2023-05-17T22:12:47.452468Z",
     "iopub.status.busy": "2023-05-17T22:12:47.451762Z",
     "iopub.status.idle": "2023-05-17T22:12:47.458364Z",
     "shell.execute_reply": "2023-05-17T22:12:47.457008Z",
     "shell.execute_reply.started": "2023-05-17T22:12:47.452403Z"
    },
    "tags": []
   },
   "outputs": [],
   "source": [
    "# load the model if already trained (end of song)\n",
    "# grid = joblib.load('svm_rbf_end.joblib')"
   ]
  },
  {
   "cell_type": "markdown",
   "metadata": {},
   "source": [
    "##### Get scoring metrics on the test set"
   ]
  },
  {
   "cell_type": "code",
   "execution_count": 45,
   "metadata": {
    "execution": {
     "iopub.execute_input": "2023-05-17T22:12:48.443173Z",
     "iopub.status.busy": "2023-05-17T22:12:48.442588Z",
     "iopub.status.idle": "2023-05-17T22:13:24.570227Z",
     "shell.execute_reply": "2023-05-17T22:13:24.569160Z",
     "shell.execute_reply.started": "2023-05-17T22:12:48.443121Z"
    },
    "tags": []
   },
   "outputs": [],
   "source": [
    "# make predictions on the test set (probabilities)\n",
    "y_pred_prob = grid.predict_proba(X_test)"
   ]
  },
  {
   "cell_type": "code",
   "execution_count": 52,
   "metadata": {
    "execution": {
     "iopub.execute_input": "2023-05-17T22:16:16.705583Z",
     "iopub.status.busy": "2023-05-17T22:16:16.704917Z",
     "iopub.status.idle": "2023-05-17T22:16:16.715126Z",
     "shell.execute_reply": "2023-05-17T22:16:16.714205Z",
     "shell.execute_reply.started": "2023-05-17T22:16:16.705528Z"
    },
    "tags": []
   },
   "outputs": [
    {
     "data": {
      "text/plain": [
       "array([[0.01, 0.62, 0.37, 0.01, 0.07, 0.07, 0.12, 0.01, 0.01, 0.15],\n",
       "       [0.07, 0.06, 0.15, 0.03, 0.07, 0.1 , 0.08, 0.3 , 0.14, 0.05],\n",
       "       [0.02, 0.32, 0.18, 0.08, 0.06, 0.33, 0.04, 0.02, 0.04, 0.09],\n",
       "       [0.2 , 0.03, 0.1 , 0.02, 0.19, 0.06, 0.04, 0.48, 0.13, 0.03],\n",
       "       [0.09, 0.05, 0.06, 0.06, 0.07, 0.18, 0.02, 0.44, 0.18, 0.03]])"
      ]
     },
     "execution_count": 52,
     "metadata": {},
     "output_type": "execute_result"
    }
   ],
   "source": [
    "# check predictions (probabilities)\n",
    "y_pred_prob[:5].round(2)"
   ]
  },
  {
   "cell_type": "code",
   "execution_count": 46,
   "metadata": {
    "execution": {
     "iopub.execute_input": "2023-05-17T22:14:18.113513Z",
     "iopub.status.busy": "2023-05-17T22:14:18.112663Z",
     "iopub.status.idle": "2023-05-17T22:14:36.123481Z",
     "shell.execute_reply": "2023-05-17T22:14:36.122581Z",
     "shell.execute_reply.started": "2023-05-17T22:14:18.113417Z"
    },
    "tags": []
   },
   "outputs": [],
   "source": [
    "# make predictions on the test set\n",
    "y_pred = grid.predict(X_test)"
   ]
  },
  {
   "cell_type": "code",
   "execution_count": 47,
   "metadata": {
    "execution": {
     "iopub.execute_input": "2023-05-17T22:14:36.153057Z",
     "iopub.status.busy": "2023-05-17T22:14:36.152869Z",
     "iopub.status.idle": "2023-05-17T22:14:36.158493Z",
     "shell.execute_reply": "2023-05-17T22:14:36.157877Z",
     "shell.execute_reply.started": "2023-05-17T22:14:36.153036Z"
    },
    "tags": []
   },
   "outputs": [
    {
     "data": {
      "text/plain": [
       "array([[0., 1., 1., 0., 0., 0., 1., 0., 0., 1.],\n",
       "       [1., 0., 0., 0., 0., 0., 0., 1., 1., 0.],\n",
       "       [0., 1., 0., 1., 0., 1., 0., 0., 0., 0.],\n",
       "       [1., 0., 0., 0., 1., 0., 0., 1., 1., 0.],\n",
       "       [1., 0., 0., 1., 0., 1., 0., 1., 1., 0.]])"
      ]
     },
     "execution_count": 47,
     "metadata": {},
     "output_type": "execute_result"
    }
   ],
   "source": [
    "# check predictions \n",
    "y_pred[:5]"
   ]
  },
  {
   "cell_type": "code",
   "execution_count": 48,
   "metadata": {
    "execution": {
     "iopub.execute_input": "2023-05-17T22:14:36.159834Z",
     "iopub.status.busy": "2023-05-17T22:14:36.159664Z",
     "iopub.status.idle": "2023-05-17T22:14:36.303900Z",
     "shell.execute_reply": "2023-05-17T22:14:36.302645Z",
     "shell.execute_reply.started": "2023-05-17T22:14:36.159819Z"
    },
    "tags": []
   },
   "outputs": [],
   "source": [
    "# get auc from the test set\n",
    "auc_score = roc_auc_score(y_test, y_pred_prob, average='macro')"
   ]
  },
  {
   "cell_type": "code",
   "execution_count": 49,
   "metadata": {
    "execution": {
     "iopub.execute_input": "2023-05-17T22:14:36.305082Z",
     "iopub.status.busy": "2023-05-17T22:14:36.304775Z",
     "iopub.status.idle": "2023-05-17T22:14:36.351308Z",
     "shell.execute_reply": "2023-05-17T22:14:36.350104Z",
     "shell.execute_reply.started": "2023-05-17T22:14:36.305058Z"
    },
    "tags": []
   },
   "outputs": [
    {
     "name": "stdout",
     "output_type": "stream",
     "text": [
      "AUC: : 0.7086709248166961\n"
     ]
    }
   ],
   "source": [
    "# print the results\n",
    "print(\"AUC: :\", auc_score)"
   ]
  },
  {
   "cell_type": "code",
   "execution_count": 50,
   "metadata": {
    "execution": {
     "iopub.execute_input": "2023-05-17T22:14:36.354144Z",
     "iopub.status.busy": "2023-05-17T22:14:36.353477Z",
     "iopub.status.idle": "2023-05-17T22:14:36.454406Z",
     "shell.execute_reply": "2023-05-17T22:14:36.453666Z",
     "shell.execute_reply.started": "2023-05-17T22:14:36.354093Z"
    },
    "tags": []
   },
   "outputs": [
    {
     "name": "stdout",
     "output_type": "stream",
     "text": [
      "              precision    recall  f1-score   support\n",
      "\n",
      "           0       0.11      0.65      0.19        99\n",
      "           1       0.36      0.77      0.49       266\n",
      "           2       0.38      0.66      0.48       334\n",
      "           3       0.05      0.30      0.08        46\n",
      "           4       0.21      0.49      0.30       193\n",
      "           5       0.27      0.48      0.34       202\n",
      "           6       0.16      0.55      0.24       114\n",
      "           7       0.30      0.74      0.43       252\n",
      "           8       0.22      0.62      0.32       160\n",
      "           9       0.18      0.64      0.28       152\n",
      "\n",
      "   micro avg       0.24      0.63      0.34      1818\n",
      "   macro avg       0.22      0.59      0.32      1818\n",
      "weighted avg       0.27      0.63      0.37      1818\n",
      " samples avg       0.25      0.64      0.34      1818\n",
      "\n"
     ]
    }
   ],
   "source": [
    "# print also the other metrics\n",
    "print(classification_report(y_test, y_pred))"
   ]
  },
  {
   "cell_type": "code",
   "execution_count": 51,
   "metadata": {
    "execution": {
     "iopub.execute_input": "2023-05-17T22:14:36.455422Z",
     "iopub.status.busy": "2023-05-17T22:14:36.455233Z",
     "iopub.status.idle": "2023-05-17T22:14:36.506206Z",
     "shell.execute_reply": "2023-05-17T22:14:36.505190Z",
     "shell.execute_reply.started": "2023-05-17T22:14:36.455406Z"
    },
    "tags": []
   },
   "outputs": [
    {
     "name": "stdout",
     "output_type": "stream",
     "text": [
      "Multi-label accuracy: 0.6909026798307475\n"
     ]
    }
   ],
   "source": [
    "confusion_matrix = multilabel_confusion_matrix(y_test, y_pred)\n",
    "    \n",
    "true_positives = 0\n",
    "true_negatives = 0\n",
    "false_positives = 0\n",
    "false_negatives = 0\n",
    "\n",
    "for i, matrix in enumerate(confusion_matrix):\n",
    "    true_positives += matrix[1, 1]\n",
    "    true_negatives += matrix[0, 0]\n",
    "    false_positives += matrix[0, 1]\n",
    "    false_negatives += matrix[1, 0]\n",
    "\n",
    "multi_label_accuracy = (true_positives + true_negatives) / (true_positives + true_negatives + false_positives + false_negatives)\n",
    "\n",
    "print(\"Multi-label accuracy:\", multi_label_accuracy)"
   ]
  }
 ],
 "metadata": {
  "colab": {
   "provenance": []
  },
  "kernelspec": {
   "display_name": "Python 3 (ipykernel)",
   "language": "python",
   "name": "python3"
  },
  "language_info": {
   "codemirror_mode": {
    "name": "ipython",
    "version": 3
   },
   "file_extension": ".py",
   "mimetype": "text/x-python",
   "name": "python",
   "nbconvert_exporter": "python",
   "pygments_lexer": "ipython3",
   "version": "3.8.3"
  }
 },
 "nbformat": 4,
 "nbformat_minor": 4
}

{
 "cells": [
  {
   "cell_type": "code",
   "execution_count": 24,
   "metadata": {
    "executionInfo": {
     "elapsed": 28,
     "status": "ok",
     "timestamp": 1684094640161,
     "user": {
      "displayName": "Yile Huang",
      "userId": "13131152773821944096"
     },
     "user_tz": -120
    },
    "id": "fvUaGjR-tswe"
   },
   "outputs": [],
   "source": [
    "import numpy as np\n",
    "import pandas as pd\n",
    "\n",
    "# for visualisation\n",
    "import matplotlib.pyplot as plt\n",
    "import seaborn as sns\n",
    "\n",
    "# for SVM\n",
    "from sklearn.svm import SVC\n",
    "from sklearn.multioutput import MultiOutputClassifier\n",
    "from sklearn.model_selection import GridSearchCV\n",
    "from sklearn.metrics import precision_score, recall_score, f1_score, make_scorer, roc_auc_score\n",
    "from sklearn.metrics import classification_report, multilabel_confusion_matrix\n",
    "from sklearn.preprocessing import MultiLabelBinarizer"
   ]
  },
  {
   "cell_type": "code",
   "execution_count": 25,
   "metadata": {
    "colab": {
     "base_uri": "https://localhost:8080/"
    },
    "executionInfo": {
     "elapsed": 28502,
     "status": "ok",
     "timestamp": 1684094668646,
     "user": {
      "displayName": "Yile Huang",
      "userId": "13131152773821944096"
     },
     "user_tz": -120
    },
    "id": "LoOcTqV-spiV",
    "outputId": "7edbe5d1-9315-4b50-888b-5b2daf994b23"
   },
   "outputs": [
    {
     "name": "stdout",
     "output_type": "stream",
     "text": [
      "Drive already mounted at /content/drive; to attempt to forcibly remount, call drive.mount(\"/content/drive\", force_remount=True).\n"
     ]
    }
   ],
   "source": [
    "from google.colab import drive\n",
    "\n",
    "# mount to Google Drive \n",
    "drive.mount(\"/content/drive\")\n",
    "\n",
    "# save the most common part of file path\n",
    "root_path = \"/content/drive/My Drive/Audio_Mood_Classification\""
   ]
  },
  {
   "cell_type": "code",
   "execution_count": 26,
   "metadata": {
    "executionInfo": {
     "elapsed": 210,
     "status": "ok",
     "timestamp": 1684094668658,
     "user": {
      "displayName": "Yile Huang",
      "userId": "13131152773821944096"
     },
     "user_tz": -120
    },
    "id": "reJP6-pKtgVX"
   },
   "outputs": [],
   "source": [
    "# load relevant training data\n",
    "X_train = np.load(f\"{root_path}/train_test_data/mfcc30s/X_train_mfcc30s.npy\")\n",
    "y_train = np.load(f\"{root_path}/train_test_data/mfcc30s/y_train_mfcc30s.npy\")\n",
    "\n",
    "# load relevant training data\n",
    "X_val = np.load(f\"{root_path}/train_test_data/mfcc30s/X_val_mfcc30s.npy\")\n",
    "y_val = np.load(f\"{root_path}/train_test_data/mfcc30s/y_val_mfcc30s.npy\")\n",
    "\n",
    "# load relevant test data\n",
    "X_test = np.load(f\"{root_path}/train_test_data/mfcc30s/X_test_mfcc30s.npy\")\n",
    "y_test = np.load(f\"{root_path}/train_test_data/mfcc30s/y_test_mfcc30s.npy\")"
   ]
  },
  {
   "cell_type": "code",
   "execution_count": 27,
   "metadata": {
    "colab": {
     "base_uri": "https://localhost:8080/"
    },
    "executionInfo": {
     "elapsed": 209,
     "status": "ok",
     "timestamp": 1684094668664,
     "user": {
      "displayName": "Yile Huang",
      "userId": "13131152773821944096"
     },
     "user_tz": -120
    },
    "id": "-r_cVW1Wv3Ve",
    "outputId": "fbb342fe-afb7-416a-b818-abf588a4c99d"
   },
   "outputs": [
    {
     "data": {
      "text/plain": [
       "(46, 1292, 20, 1)"
      ]
     },
     "execution_count": 27,
     "metadata": {},
     "output_type": "execute_result"
    }
   ],
   "source": [
    "X_train.shape"
   ]
  },
  {
   "cell_type": "code",
   "execution_count": 28,
   "metadata": {
    "colab": {
     "base_uri": "https://localhost:8080/"
    },
    "executionInfo": {
     "elapsed": 141,
     "status": "ok",
     "timestamp": 1684094668666,
     "user": {
      "displayName": "Yile Huang",
      "userId": "13131152773821944096"
     },
     "user_tz": -120
    },
    "id": "CjTclgDoyOHm",
    "outputId": "2dd72f22-6ed5-4303-ee38-197ef1b49e23"
   },
   "outputs": [
    {
     "data": {
      "text/plain": [
       "(46, 10)"
      ]
     },
     "execution_count": 28,
     "metadata": {},
     "output_type": "execute_result"
    }
   ],
   "source": [
    "y_train.shape"
   ]
  },
  {
   "cell_type": "code",
   "execution_count": 29,
   "metadata": {
    "executionInfo": {
     "elapsed": 143,
     "status": "ok",
     "timestamp": 1684094668681,
     "user": {
      "displayName": "Yile Huang",
      "userId": "13131152773821944096"
     },
     "user_tz": -120
    },
    "id": "Zrfbf76EOB-d"
   },
   "outputs": [],
   "source": [
    "# validation data is not needed because grid-search is used\n",
    "X_train = np.append(X_train, X_val, axis=0)\n",
    "y_train = np.append(y_train, y_val, axis=0)"
   ]
  },
  {
   "cell_type": "code",
   "execution_count": 30,
   "metadata": {
    "executionInfo": {
     "elapsed": 144,
     "status": "ok",
     "timestamp": 1684094668683,
     "user": {
      "displayName": "Yile Huang",
      "userId": "13131152773821944096"
     },
     "user_tz": -120
    },
    "id": "v8p_dlVUJOIC"
   },
   "outputs": [],
   "source": [
    "# remove channel dimension of MFCCs by reshaping features\n",
    "X_train_reshaped = X_train.reshape((X_train.shape[0], -1))"
   ]
  },
  {
   "cell_type": "code",
   "execution_count": 31,
   "metadata": {
    "colab": {
     "base_uri": "https://localhost:8080/"
    },
    "executionInfo": {
     "elapsed": 142,
     "status": "ok",
     "timestamp": 1684094668686,
     "user": {
      "displayName": "Yile Huang",
      "userId": "13131152773821944096"
     },
     "user_tz": -120
    },
    "id": "fgNGKlEwJZRA",
    "outputId": "22bfde35-1c58-4f01-94f5-19605dd77c3c"
   },
   "outputs": [
    {
     "data": {
      "text/plain": [
       "(62, 25840)"
      ]
     },
     "execution_count": 31,
     "metadata": {},
     "output_type": "execute_result"
    }
   ],
   "source": [
    "X_train_reshaped.shape # Why did you combine the 2nd and 3d dim instead of 1st and 2nd?"
   ]
  },
  {
   "cell_type": "code",
   "execution_count": 32,
   "metadata": {
    "executionInfo": {
     "elapsed": 118,
     "status": "ok",
     "timestamp": 1684094668707,
     "user": {
      "displayName": "Yile Huang",
      "userId": "13131152773821944096"
     },
     "user_tz": -120
    },
    "id": "8xHg994qMIJI"
   },
   "outputs": [],
   "source": [
    "# remove channel dimension of MFCCs by reshaping features\n",
    "X_test_reshaped = X_test.reshape((X_test.shape[0], -1))"
   ]
  },
  {
   "cell_type": "code",
   "execution_count": 33,
   "metadata": {
    "executionInfo": {
     "elapsed": 123,
     "status": "ok",
     "timestamp": 1684094668714,
     "user": {
      "displayName": "Yile Huang",
      "userId": "13131152773821944096"
     },
     "user_tz": -120
    },
    "id": "4AJ7VCQRjizN"
   },
   "outputs": [],
   "source": [
    "# define the SVM model\n",
    "svm = SVC(random_state=42)\n",
    "multi_svm = MultiOutputClassifier(svm)\n",
    "\n",
    "# define the hyperparameter grid\n",
    "param_grid = {\n",
    "    'estimator__kernel': ['linear', 'rbf'],\n",
    "    #'estimator__kernel': ['linear', 'rbf', 'poly'],\n",
    "    #'estimator__C': [2**-5,2**-3,2**-1,2,2**3,2**5,2**7,2**9,2**11,2**13,2**15],\n",
    "    'estimator__C': [2,2**15],\n",
    "    'estimator__gamma': [2,'scale'],\n",
    "    #'estimator__gamma': [2**-15,2**-13,2**-11,2**-9,2**-7,2**-5,2**-3,2**-1,2,2**3,'scale'],\n",
    "}\n",
    "\n",
    "# define the scoring metric\n",
    "scorer = make_scorer(roc_auc_score, multi_class='ovr')\n",
    "\n",
    "# define the grid search\n",
    "grid = GridSearchCV(\n",
    "    multi_svm,\n",
    "    param_grid,\n",
    "    cv=3,\n",
    "    scoring=scorer,\n",
    "    refit=True,\n",
    "    verbose=2,\n",
    "    n_jobs=-1)"
   ]
  },
  {
   "cell_type": "code",
   "execution_count": 34,
   "metadata": {
    "colab": {
     "base_uri": "https://localhost:8080/",
     "height": 211
    },
    "executionInfo": {
     "elapsed": 12236,
     "status": "ok",
     "timestamp": 1684094680829,
     "user": {
      "displayName": "Yile Huang",
      "userId": "13131152773821944096"
     },
     "user_tz": -120
    },
    "id": "Czf4FMmSkCo4",
    "outputId": "de53d475-814b-4f8d-d4c6-9eadcbf33100"
   },
   "outputs": [
    {
     "name": "stdout",
     "output_type": "stream",
     "text": [
      "Fitting 3 folds for each of 8 candidates, totalling 24 fits\n"
     ]
    },
    {
     "name": "stderr",
     "output_type": "stream",
     "text": [
      "/usr/local/lib/python3.10/dist-packages/sklearn/model_selection/_search.py:952: UserWarning: One or more of the test scores are non-finite: [nan nan nan nan nan nan nan nan]\n",
      "  warnings.warn(\n"
     ]
    },
    {
     "data": {
      "text/html": [
       "<style>#sk-container-id-1 {color: black;background-color: white;}#sk-container-id-1 pre{padding: 0;}#sk-container-id-1 div.sk-toggleable {background-color: white;}#sk-container-id-1 label.sk-toggleable__label {cursor: pointer;display: block;width: 100%;margin-bottom: 0;padding: 0.3em;box-sizing: border-box;text-align: center;}#sk-container-id-1 label.sk-toggleable__label-arrow:before {content: \"▸\";float: left;margin-right: 0.25em;color: #696969;}#sk-container-id-1 label.sk-toggleable__label-arrow:hover:before {color: black;}#sk-container-id-1 div.sk-estimator:hover label.sk-toggleable__label-arrow:before {color: black;}#sk-container-id-1 div.sk-toggleable__content {max-height: 0;max-width: 0;overflow: hidden;text-align: left;background-color: #f0f8ff;}#sk-container-id-1 div.sk-toggleable__content pre {margin: 0.2em;color: black;border-radius: 0.25em;background-color: #f0f8ff;}#sk-container-id-1 input.sk-toggleable__control:checked~div.sk-toggleable__content {max-height: 200px;max-width: 100%;overflow: auto;}#sk-container-id-1 input.sk-toggleable__control:checked~label.sk-toggleable__label-arrow:before {content: \"▾\";}#sk-container-id-1 div.sk-estimator input.sk-toggleable__control:checked~label.sk-toggleable__label {background-color: #d4ebff;}#sk-container-id-1 div.sk-label input.sk-toggleable__control:checked~label.sk-toggleable__label {background-color: #d4ebff;}#sk-container-id-1 input.sk-hidden--visually {border: 0;clip: rect(1px 1px 1px 1px);clip: rect(1px, 1px, 1px, 1px);height: 1px;margin: -1px;overflow: hidden;padding: 0;position: absolute;width: 1px;}#sk-container-id-1 div.sk-estimator {font-family: monospace;background-color: #f0f8ff;border: 1px dotted black;border-radius: 0.25em;box-sizing: border-box;margin-bottom: 0.5em;}#sk-container-id-1 div.sk-estimator:hover {background-color: #d4ebff;}#sk-container-id-1 div.sk-parallel-item::after {content: \"\";width: 100%;border-bottom: 1px solid gray;flex-grow: 1;}#sk-container-id-1 div.sk-label:hover label.sk-toggleable__label {background-color: #d4ebff;}#sk-container-id-1 div.sk-serial::before {content: \"\";position: absolute;border-left: 1px solid gray;box-sizing: border-box;top: 0;bottom: 0;left: 50%;z-index: 0;}#sk-container-id-1 div.sk-serial {display: flex;flex-direction: column;align-items: center;background-color: white;padding-right: 0.2em;padding-left: 0.2em;position: relative;}#sk-container-id-1 div.sk-item {position: relative;z-index: 1;}#sk-container-id-1 div.sk-parallel {display: flex;align-items: stretch;justify-content: center;background-color: white;position: relative;}#sk-container-id-1 div.sk-item::before, #sk-container-id-1 div.sk-parallel-item::before {content: \"\";position: absolute;border-left: 1px solid gray;box-sizing: border-box;top: 0;bottom: 0;left: 50%;z-index: -1;}#sk-container-id-1 div.sk-parallel-item {display: flex;flex-direction: column;z-index: 1;position: relative;background-color: white;}#sk-container-id-1 div.sk-parallel-item:first-child::after {align-self: flex-end;width: 50%;}#sk-container-id-1 div.sk-parallel-item:last-child::after {align-self: flex-start;width: 50%;}#sk-container-id-1 div.sk-parallel-item:only-child::after {width: 0;}#sk-container-id-1 div.sk-dashed-wrapped {border: 1px dashed gray;margin: 0 0.4em 0.5em 0.4em;box-sizing: border-box;padding-bottom: 0.4em;background-color: white;}#sk-container-id-1 div.sk-label label {font-family: monospace;font-weight: bold;display: inline-block;line-height: 1.2em;}#sk-container-id-1 div.sk-label-container {text-align: center;}#sk-container-id-1 div.sk-container {/* jupyter's `normalize.less` sets `[hidden] { display: none; }` but bootstrap.min.css set `[hidden] { display: none !important; }` so we also need the `!important` here to be able to override the default hidden behavior on the sphinx rendered scikit-learn.org. See: https://github.com/scikit-learn/scikit-learn/issues/21755 */display: inline-block !important;position: relative;}#sk-container-id-1 div.sk-text-repr-fallback {display: none;}</style><div id=\"sk-container-id-1\" class=\"sk-top-container\"><div class=\"sk-text-repr-fallback\"><pre>GridSearchCV(cv=3,\n",
       "             estimator=MultiOutputClassifier(estimator=SVC(random_state=42)),\n",
       "             n_jobs=-1,\n",
       "             param_grid={&#x27;estimator__C&#x27;: [2, 32768],\n",
       "                         &#x27;estimator__gamma&#x27;: [2, &#x27;scale&#x27;],\n",
       "                         &#x27;estimator__kernel&#x27;: [&#x27;linear&#x27;, &#x27;rbf&#x27;]},\n",
       "             scoring=make_scorer(roc_auc_score, multi_class=ovr), verbose=2)</pre><b>In a Jupyter environment, please rerun this cell to show the HTML representation or trust the notebook. <br />On GitHub, the HTML representation is unable to render, please try loading this page with nbviewer.org.</b></div><div class=\"sk-container\" hidden><div class=\"sk-item sk-dashed-wrapped\"><div class=\"sk-label-container\"><div class=\"sk-label sk-toggleable\"><input class=\"sk-toggleable__control sk-hidden--visually\" id=\"sk-estimator-id-1\" type=\"checkbox\" ><label for=\"sk-estimator-id-1\" class=\"sk-toggleable__label sk-toggleable__label-arrow\">GridSearchCV</label><div class=\"sk-toggleable__content\"><pre>GridSearchCV(cv=3,\n",
       "             estimator=MultiOutputClassifier(estimator=SVC(random_state=42)),\n",
       "             n_jobs=-1,\n",
       "             param_grid={&#x27;estimator__C&#x27;: [2, 32768],\n",
       "                         &#x27;estimator__gamma&#x27;: [2, &#x27;scale&#x27;],\n",
       "                         &#x27;estimator__kernel&#x27;: [&#x27;linear&#x27;, &#x27;rbf&#x27;]},\n",
       "             scoring=make_scorer(roc_auc_score, multi_class=ovr), verbose=2)</pre></div></div></div><div class=\"sk-parallel\"><div class=\"sk-parallel-item\"><div class=\"sk-item\"><div class=\"sk-label-container\"><div class=\"sk-label sk-toggleable\"><input class=\"sk-toggleable__control sk-hidden--visually\" id=\"sk-estimator-id-2\" type=\"checkbox\" ><label for=\"sk-estimator-id-2\" class=\"sk-toggleable__label sk-toggleable__label-arrow\">estimator: MultiOutputClassifier</label><div class=\"sk-toggleable__content\"><pre>MultiOutputClassifier(estimator=SVC(random_state=42))</pre></div></div></div><div class=\"sk-serial\"><div class=\"sk-item sk-dashed-wrapped\"><div class=\"sk-parallel\"><div class=\"sk-parallel-item\"><div class=\"sk-item\"><div class=\"sk-label-container\"><div class=\"sk-label sk-toggleable\"><input class=\"sk-toggleable__control sk-hidden--visually\" id=\"sk-estimator-id-3\" type=\"checkbox\" ><label for=\"sk-estimator-id-3\" class=\"sk-toggleable__label sk-toggleable__label-arrow\">estimator: SVC</label><div class=\"sk-toggleable__content\"><pre>SVC(random_state=42)</pre></div></div></div><div class=\"sk-serial\"><div class=\"sk-item\"><div class=\"sk-estimator sk-toggleable\"><input class=\"sk-toggleable__control sk-hidden--visually\" id=\"sk-estimator-id-4\" type=\"checkbox\" ><label for=\"sk-estimator-id-4\" class=\"sk-toggleable__label sk-toggleable__label-arrow\">SVC</label><div class=\"sk-toggleable__content\"><pre>SVC(random_state=42)</pre></div></div></div></div></div></div></div></div></div></div></div></div></div></div></div>"
      ],
      "text/plain": [
       "GridSearchCV(cv=3,\n",
       "             estimator=MultiOutputClassifier(estimator=SVC(random_state=42)),\n",
       "             n_jobs=-1,\n",
       "             param_grid={'estimator__C': [2, 32768],\n",
       "                         'estimator__gamma': [2, 'scale'],\n",
       "                         'estimator__kernel': ['linear', 'rbf']},\n",
       "             scoring=make_scorer(roc_auc_score, multi_class=ovr), verbose=2)"
      ]
     },
     "execution_count": 34,
     "metadata": {},
     "output_type": "execute_result"
    }
   ],
   "source": [
    "# train the grid-search\n",
    "grid.fit(X_train_reshaped, y_train)"
   ]
  },
  {
   "cell_type": "code",
   "execution_count": 35,
   "metadata": {
    "executionInfo": {
     "elapsed": 32,
     "status": "ok",
     "timestamp": 1684094680830,
     "user": {
      "displayName": "Yile Huang",
      "userId": "13131152773821944096"
     },
     "user_tz": -120
    },
    "id": "heQcMIqikfWg"
   },
   "outputs": [],
   "source": [
    "# make predictions on the test set\n",
    "y_pred = grid.predict(X_test_reshaped)"
   ]
  },
  {
   "cell_type": "code",
   "execution_count": 36,
   "metadata": {
    "colab": {
     "base_uri": "https://localhost:8080/"
    },
    "executionInfo": {
     "elapsed": 31,
     "status": "ok",
     "timestamp": 1684094680831,
     "user": {
      "displayName": "Yile Huang",
      "userId": "13131152773821944096"
     },
     "user_tz": -120
    },
    "id": "HET-vNMRkoVT",
    "outputId": "a805e46d-d003-4b3b-d98e-5aad66b76d6e"
   },
   "outputs": [
    {
     "name": "stdout",
     "output_type": "stream",
     "text": [
      "Best Hyperparameters: {'estimator__C': 2, 'estimator__gamma': 2, 'estimator__kernel': 'linear'}\n"
     ]
    }
   ],
   "source": [
    "# print the best hyperparameters\n",
    "print('Best Hyperparameters:', grid.best_params_)"
   ]
  },
  {
   "cell_type": "code",
   "execution_count": 37,
   "metadata": {
    "colab": {
     "base_uri": "https://localhost:8080/"
    },
    "executionInfo": {
     "elapsed": 28,
     "status": "ok",
     "timestamp": 1684094680832,
     "user": {
      "displayName": "Yile Huang",
      "userId": "13131152773821944096"
     },
     "user_tz": -120
    },
    "id": "OHQ7Dt86ksa9",
    "outputId": "bb3994b4-ff34-43c6-844b-bae6a920c6fb"
   },
   "outputs": [
    {
     "name": "stdout",
     "output_type": "stream",
     "text": [
      "Best score: nan\n"
     ]
    }
   ],
   "source": [
    "# print the best score\n",
    "print('Best score:', grid.best_score_)"
   ]
  },
  {
   "cell_type": "code",
   "execution_count": 38,
   "metadata": {
    "colab": {
     "base_uri": "https://localhost:8080/"
    },
    "executionInfo": {
     "elapsed": 25,
     "status": "ok",
     "timestamp": 1684094680833,
     "user": {
      "displayName": "Yile Huang",
      "userId": "13131152773821944096"
     },
     "user_tz": -120
    },
    "id": "OM4vp3JTntrG",
    "outputId": "e5a8ba5b-8845-4499-80b0-99ac66fcf385"
   },
   "outputs": [
    {
     "name": "stdout",
     "output_type": "stream",
     "text": [
      "These are the confusion matrices for all labels:\n",
      "Confusion matrix for label 0: \n",
      " [[15  0]\n",
      " [ 1  0]]\n",
      "Confusion matrix for label 1: \n",
      " [[11  1]\n",
      " [ 4  0]]\n",
      "Confusion matrix for label 2: \n",
      " [[13  0]\n",
      " [ 3  0]]\n",
      "Confusion matrix for label 3: \n",
      " [[16  0]\n",
      " [ 0  0]]\n",
      "Confusion matrix for label 4: \n",
      " [[13  0]\n",
      " [ 3  0]]\n",
      "Confusion matrix for label 5: \n",
      " [[11  1]\n",
      " [ 4  0]]\n",
      "Confusion matrix for label 6: \n",
      " [[15  0]\n",
      " [ 1  0]]\n",
      "Confusion matrix for label 7: \n",
      " [[16  0]\n",
      " [ 0  0]]\n",
      "Confusion matrix for label 8: \n",
      " [[12  0]\n",
      " [ 4  0]]\n",
      "Confusion matrix for label 9: \n",
      " [[14  0]\n",
      " [ 2  0]]\n"
     ]
    }
   ],
   "source": [
    "# compute confusion matrix\n",
    "cm = multilabel_confusion_matrix(y_test, y_pred)\n",
    "print(\"These are the confusion matrices for all labels:\")\n",
    "\n",
    "for i in range(cm.shape[0]):\n",
    "    print(f'Confusion matrix for label {i}: \\n', cm[i])"
   ]
  },
  {
   "cell_type": "code",
   "execution_count": 39,
   "metadata": {
    "colab": {
     "base_uri": "https://localhost:8080/"
    },
    "executionInfo": {
     "elapsed": 22,
     "status": "ok",
     "timestamp": 1684094680834,
     "user": {
      "displayName": "Yile Huang",
      "userId": "13131152773821944096"
     },
     "user_tz": -120
    },
    "id": "YKOrj3NS1Kpt",
    "outputId": "729bc5ce-eb34-4d31-f846-e2bfdb1b8deb"
   },
   "outputs": [
    {
     "data": {
      "text/plain": [
       "array([[0, 1, 0, 0, 0, 0, 0, 0, 0, 0],\n",
       "       [0, 0, 0, 0, 0, 1, 0, 0, 0, 0],\n",
       "       [0, 0, 0, 0, 0, 0, 0, 0, 0, 0],\n",
       "       [0, 0, 0, 0, 0, 0, 0, 0, 0, 0],\n",
       "       [0, 0, 0, 0, 0, 0, 0, 0, 0, 0],\n",
       "       [0, 0, 0, 0, 0, 0, 0, 0, 0, 0],\n",
       "       [0, 0, 0, 0, 0, 0, 0, 0, 0, 0],\n",
       "       [0, 0, 0, 0, 0, 0, 0, 0, 0, 0],\n",
       "       [0, 0, 0, 0, 0, 0, 0, 0, 0, 0],\n",
       "       [0, 0, 0, 0, 0, 0, 0, 0, 0, 0],\n",
       "       [0, 0, 0, 0, 0, 0, 0, 0, 0, 0],\n",
       "       [0, 0, 0, 0, 0, 0, 0, 0, 0, 0],\n",
       "       [0, 0, 0, 0, 0, 0, 0, 0, 0, 0],\n",
       "       [0, 0, 0, 0, 0, 0, 0, 0, 0, 0],\n",
       "       [0, 0, 0, 0, 0, 0, 0, 0, 0, 0],\n",
       "       [0, 0, 0, 0, 0, 0, 0, 0, 0, 0]], dtype=int32)"
      ]
     },
     "execution_count": 39,
     "metadata": {},
     "output_type": "execute_result"
    }
   ],
   "source": [
    "y_pred"
   ]
  }
 ],
 "metadata": {
  "colab": {
   "provenance": []
  },
  "kernelspec": {
   "display_name": "Python 3 (ipykernel)",
   "language": "python",
   "name": "python3"
  },
  "language_info": {
   "codemirror_mode": {
    "name": "ipython",
    "version": 3
   },
   "file_extension": ".py",
   "mimetype": "text/x-python",
   "name": "python",
   "nbconvert_exporter": "python",
   "pygments_lexer": "ipython3",
   "version": "3.9.12"
  }
 },
 "nbformat": 4,
 "nbformat_minor": 1
}

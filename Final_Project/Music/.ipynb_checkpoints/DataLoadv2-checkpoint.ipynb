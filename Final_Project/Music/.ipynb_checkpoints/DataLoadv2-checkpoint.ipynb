{
 "cells": [
  {
   "cell_type": "code",
   "execution_count": 30,
   "id": "5c3a7b6e",
   "metadata": {},
   "outputs": [],
   "source": [
    "import numpy as np\n",
    "import librosa\n",
    "from pathlib import Path\n",
    "import os\n",
    "import pickle\n",
    "import math\n",
    "from sklearn.preprocessing import MultiLabelBinarizer\n",
    "from sklearn.model_selection import train_test_split"
   ]
  },
  {
   "cell_type": "code",
   "execution_count": 2,
   "id": "3eeb4ba5",
   "metadata": {},
   "outputs": [],
   "source": [
    "# load labels dictionary\n",
    "with open('tracks.pkl', 'rb') as f:\n",
    "    tracks = pickle.load(f)"
   ]
  },
  {
   "cell_type": "code",
   "execution_count": 3,
   "id": "5be131dc",
   "metadata": {
    "scrolled": true
   },
   "outputs": [
    {
     "name": "stdout",
     "output_type": "stream",
     "text": [
      "[(3346, {'artist_id': 517, 'album_id': 521, 'path': '46/3346.mp3', 'duration': 195.0, 'mood/theme': {'calm'}}), (3347, {'artist_id': 517, 'album_id': 521, 'path': '47/3347.mp3', 'duration': 201.8, 'mood/theme': {'calm'}}), (3348, {'artist_id': 517, 'album_id': 521, 'path': '48/3348.mp3', 'duration': 253.3, 'mood/theme': {'calm'}}), (3349, {'artist_id': 517, 'album_id': 521, 'path': '49/3349.mp3', 'duration': 228.4, 'mood/theme': {'calm'}}), (3350, {'artist_id': 517, 'album_id': 521, 'path': '50/3350.mp3', 'duration': 194.7, 'mood/theme': {'calm'}}), (4639, {'artist_id': 87, 'album_id': 718, 'path': '39/4639.mp3', 'duration': 188.0, 'mood/theme': {'relaxing'}}), (6253, {'artist_id': 811, 'album_id': 960, 'path': '53/6253.mp3', 'duration': 271.8, 'mood/theme': {'relaxing'}}), (6254, {'artist_id': 811, 'album_id': 960, 'path': '54/6254.mp3', 'duration': 481.6, 'mood/theme': {'relaxing'}}), (6256, {'artist_id': 811, 'album_id': 960, 'path': '56/6256.mp3', 'duration': 236.5, 'mood/theme': {'relaxing'}}), (6257, {'artist_id': 811, 'album_id': 960, 'path': '57/6257.mp3', 'duration': 207.8, 'mood/theme': {'relaxing'}})]\n"
     ]
    }
   ],
   "source": [
    "print(list(tracks.items())[:10])"
   ]
  },
  {
   "cell_type": "code",
   "execution_count": 10,
   "id": "418be2d8",
   "metadata": {},
   "outputs": [],
   "source": [
    "#loading loop\n",
    "path = \"C:/Users/r/Desktop/DataScience/2nd semester/Machine Learning/Data/autotagging_moodtheme_audio-02/02\"\n",
    "files = Path(path).glob('*.mp3')\n",
    "names = os.listdir(path)\n",
    "\n",
    "# path = \"C:/Users/r/Desktop/DataScience/2nd semester/Machine Learning/Data/autotagging_moodtheme_audio-00/00\"\n",
    "# files = Path(\"C:/Users/r/Desktop/DataScience/2nd semester/Machine Learning/Data/autotagging_moodtheme_audio-00/00\").glob('*.mp3')\n",
    "# names = os.listdir(path)\n",
    "\n",
    "\n",
    "\n",
    "\n",
    "i=0\n",
    "populated_IDS = []\n",
    "\n",
    "for file in files:\n",
    "    \n",
    "\n",
    "    ID = names[i].split(\".\") #do with enumerate\n",
    "    i= i+1\n",
    "    \n",
    "    \n",
    "    if int(ID[0]) in tracks.keys():\n",
    "        \n",
    "        #storing the raw audio file\n",
    "        y,sr = librosa.load(file,sr=22050)\n",
    "        #transforming the audio file into MFCC with 20 coefficients\n",
    "        y_mfcc = librosa.feature.mfcc(y=y, sr=sr)\n",
    "        \n",
    "        #code to access the ID, where ID[0] is the id code\n",
    "        tracks[int(ID[0])]['raw'] = y\n",
    "        tracks[int(ID[0])]['mfcc'] = y_mfcc\n",
    "        \n",
    "        populated_IDS.append(ID[0])\n",
    "    "
   ]
  },
  {
   "cell_type": "code",
   "execution_count": 11,
   "id": "b8965cc0",
   "metadata": {},
   "outputs": [
    {
     "data": {
      "text/plain": [
       "78"
      ]
     },
     "execution_count": 11,
     "metadata": {},
     "output_type": "execute_result"
    }
   ],
   "source": [
    "len(populated_IDS)"
   ]
  },
  {
   "cell_type": "code",
   "execution_count": 6,
   "id": "d4f757df",
   "metadata": {
    "scrolled": false
   },
   "outputs": [
    {
     "data": {
      "text/plain": [
       "{'artist_id': 432967,\n",
       " 'album_id': 120847,\n",
       " 'path': '67/1027667.mp3',\n",
       " 'duration': 508.2,\n",
       " 'mood/theme': {'relaxing'},\n",
       " 'raw': array([-3.5129506e-07, -2.7281181e-05, -6.5797631e-06, ...,\n",
       "        -1.4380203e-07, -2.3498797e-07, -4.0430950e-07], dtype=float32),\n",
       " 'mfcc': array([[-552.60486, -552.60486, -552.60486, ..., -552.60486, -552.60486,\n",
       "         -552.60486],\n",
       "        [   0.     ,    0.     ,    0.     , ...,    0.     ,    0.     ,\n",
       "            0.     ],\n",
       "        [   0.     ,    0.     ,    0.     , ...,    0.     ,    0.     ,\n",
       "            0.     ],\n",
       "        ...,\n",
       "        [   0.     ,    0.     ,    0.     , ...,    0.     ,    0.     ,\n",
       "            0.     ],\n",
       "        [   0.     ,    0.     ,    0.     , ...,    0.     ,    0.     ,\n",
       "            0.     ],\n",
       "        [   0.     ,    0.     ,    0.     , ...,    0.     ,    0.     ,\n",
       "            0.     ]], dtype=float32)}"
      ]
     },
     "execution_count": 6,
     "metadata": {},
     "output_type": "execute_result"
    }
   ],
   "source": [
    "tracks[1027667]"
   ]
  },
  {
   "cell_type": "code",
   "execution_count": 42,
   "id": "e002a2d4",
   "metadata": {},
   "outputs": [
    {
     "name": "stdout",
     "output_type": "stream",
     "text": [
      "30 seconds of the audio at a sample rate of 22050 results in 661500 elements.\n"
     ]
    }
   ],
   "source": [
    "# cut the raw audio data in 30 second windows\n",
    "print('30 seconds of the audio at a sample rate of 22050 results in', 30*22050, 'elements.')\n",
    "\n",
    "for key in populated_IDS:\n",
    "    middle = (int(math.ceil(len(tracks[int(key)][\"raw\"]) / 2))) - 1\n",
    "#   print('key:',key)\n",
    "#   print(len(tracks[int(key)][\"raw\"]))\n",
    "#   print(middle)\n",
    "    tracks[int(key)]['raw_30s'] = tracks[int(key)]['raw'][middle-330750:middle+330750]\n",
    "    "
   ]
  },
  {
   "cell_type": "code",
   "execution_count": 45,
   "id": "90553d4d",
   "metadata": {},
   "outputs": [
    {
     "name": "stdout",
     "output_type": "stream",
     "text": [
      "661500\n"
     ]
    }
   ],
   "source": [
    "print(len(tracks[1028902][\"raw_30s\"]))"
   ]
  },
  {
   "cell_type": "code",
   "execution_count": 40,
   "id": "0e79462d",
   "metadata": {},
   "outputs": [
    {
     "name": "stdout",
     "output_type": "stream",
     "text": [
      "5276418\n",
      "2638208\n",
      "661500\n"
     ]
    }
   ],
   "source": [
    "# even length test\n",
    "\n",
    "print(len(tracks[1028902][\"raw\"]))\n",
    "middle = int(math.ceil(len(tracks[1028902][\"raw\"]) // 2)) - 1\n",
    "print(middle)\n",
    "test = tracks[1028902][\"raw\"][middle-330750:middle+330750]\n",
    "print(len(test))\n",
    "\n",
    "#tracks[int(key)]['raw_30s'] = tracks[int(key)]['raw'][middle-330750:middle+330750]"
   ]
  },
  {
   "cell_type": "code",
   "execution_count": 41,
   "id": "887a7481",
   "metadata": {},
   "outputs": [
    {
     "name": "stdout",
     "output_type": "stream",
     "text": [
      "2046419\n",
      "1023208\n",
      "661500\n"
     ]
    }
   ],
   "source": [
    "# odd length test\n",
    "\n",
    "print(len(tracks[1088002][\"raw\"]))\n",
    "middle = int(math.ceil(len(tracks[1088002][\"raw\"]) // 2)) - 1\n",
    "print(middle)\n",
    "test = tracks[1088002][\"raw\"][middle-330750:middle+330750]\n",
    "print(len(test))"
   ]
  },
  {
   "cell_type": "code",
   "execution_count": 46,
   "id": "1d484d2c",
   "metadata": {},
   "outputs": [
    {
     "name": "stdout",
     "output_type": "stream",
     "text": [
      "[[ 0.03706461  0.01631058 -0.01171767 ...  0.02039137  0.03358239\n",
      "   0.04638556]\n",
      " [ 0.18573937  0.15400901  0.18307237 ... -0.12891799 -0.13615173\n",
      "  -0.11986807]\n",
      " [ 0.01824583  0.00645763 -0.00554469 ... -0.07551558 -0.03006215\n",
      "   0.00649806]\n",
      " ...\n",
      " [ 0.1988284   0.02043443  0.07467554 ... -0.10073748  0.07264894\n",
      "   0.09715492]\n",
      " [ 0.39635408  0.38926083  0.3762677  ... -0.13140306 -0.03390444\n",
      "   0.04893222]\n",
      " [ 0.02752009  0.024911    0.11035223 ... -0.24078542 -0.23933424\n",
      "  -0.10184911]]\n"
     ]
    }
   ],
   "source": [
    "# create 2d np array of raw audio wave arrays\n",
    "X_list = [] \n",
    "\n",
    "for key in populated_IDS:\n",
    "    X_list.append(tracks[int(key)][\"raw_30s\"])\n",
    "\n",
    "X = np.vstack(X_list)\n",
    "\n",
    "print(X)"
   ]
  },
  {
   "cell_type": "code",
   "execution_count": 53,
   "id": "852655df",
   "metadata": {
    "scrolled": true
   },
   "outputs": [
    {
     "name": "stdout",
     "output_type": "stream",
     "text": [
      "[['sad'], ['energetic'], ['calm', 'relaxing'], ['relaxing'], ['energetic', 'love'], ['energetic'], ['relaxing'], ['happy', 'love'], ['energetic', 'happy', 'uplifting'], ['motivational', 'happy', 'inspiring'], ['sad'], ['motivational', 'relaxing', 'hopeful'], ['energetic', 'happy'], ['happy'], ['love'], ['uplifting'], ['happy'], ['relaxing'], ['happy'], ['energetic', 'happy'], ['happy'], ['sad'], ['uplifting', 'inspiring'], ['love'], ['energetic'], ['sad'], ['love'], ['energetic'], ['uplifting'], ['happy'], ['sad'], ['happy'], ['happy', 'love'], ['sad'], ['love'], ['calm', 'relaxing'], ['energetic'], ['motivational'], ['motivational'], ['love'], ['love', 'sad'], ['energetic'], ['relaxing'], ['energetic', 'uplifting'], ['calm'], ['happy'], ['love', 'inspiring'], ['motivational'], ['sad'], ['motivational', 'inspiring'], ['inspiring'], ['relaxing'], ['inspiring'], ['energetic'], ['happy'], ['sad'], ['love'], ['relaxing'], ['love'], ['motivational', 'uplifting', 'inspiring'], ['inspiring'], ['uplifting', 'love'], ['happy'], ['happy'], ['sad'], ['inspiring'], ['love', 'inspiring'], ['relaxing'], ['love'], ['love'], ['hopeful'], ['uplifting'], ['energetic'], ['relaxing'], ['love'], ['happy'], ['energetic'], ['energetic']]\n",
      "['calm' 'energetic' 'happy' 'hopeful' 'inspiring' 'love' 'motivational'\n",
      " 'relaxing' 'sad' 'uplifting']\n",
      "[[0 0 0 0 0 0 0 0 1 0]\n",
      " [0 1 0 0 0 0 0 0 0 0]\n",
      " [1 0 0 0 0 0 0 1 0 0]\n",
      " [0 0 0 0 0 0 0 1 0 0]\n",
      " [0 1 0 0 0 1 0 0 0 0]\n",
      " [0 1 0 0 0 0 0 0 0 0]\n",
      " [0 0 0 0 0 0 0 1 0 0]\n",
      " [0 0 1 0 0 1 0 0 0 0]\n",
      " [0 1 1 0 0 0 0 0 0 1]\n",
      " [0 0 1 0 1 0 1 0 0 0]\n",
      " [0 0 0 0 0 0 0 0 1 0]\n",
      " [0 0 0 1 0 0 1 1 0 0]\n",
      " [0 1 1 0 0 0 0 0 0 0]\n",
      " [0 0 1 0 0 0 0 0 0 0]\n",
      " [0 0 0 0 0 1 0 0 0 0]\n",
      " [0 0 0 0 0 0 0 0 0 1]\n",
      " [0 0 1 0 0 0 0 0 0 0]\n",
      " [0 0 0 0 0 0 0 1 0 0]\n",
      " [0 0 1 0 0 0 0 0 0 0]\n",
      " [0 1 1 0 0 0 0 0 0 0]\n",
      " [0 0 1 0 0 0 0 0 0 0]\n",
      " [0 0 0 0 0 0 0 0 1 0]\n",
      " [0 0 0 0 1 0 0 0 0 1]\n",
      " [0 0 0 0 0 1 0 0 0 0]\n",
      " [0 1 0 0 0 0 0 0 0 0]\n",
      " [0 0 0 0 0 0 0 0 1 0]\n",
      " [0 0 0 0 0 1 0 0 0 0]\n",
      " [0 1 0 0 0 0 0 0 0 0]\n",
      " [0 0 0 0 0 0 0 0 0 1]\n",
      " [0 0 1 0 0 0 0 0 0 0]\n",
      " [0 0 0 0 0 0 0 0 1 0]\n",
      " [0 0 1 0 0 0 0 0 0 0]\n",
      " [0 0 1 0 0 1 0 0 0 0]\n",
      " [0 0 0 0 0 0 0 0 1 0]\n",
      " [0 0 0 0 0 1 0 0 0 0]\n",
      " [1 0 0 0 0 0 0 1 0 0]\n",
      " [0 1 0 0 0 0 0 0 0 0]\n",
      " [0 0 0 0 0 0 1 0 0 0]\n",
      " [0 0 0 0 0 0 1 0 0 0]\n",
      " [0 0 0 0 0 1 0 0 0 0]\n",
      " [0 0 0 0 0 1 0 0 1 0]\n",
      " [0 1 0 0 0 0 0 0 0 0]\n",
      " [0 0 0 0 0 0 0 1 0 0]\n",
      " [0 1 0 0 0 0 0 0 0 1]\n",
      " [1 0 0 0 0 0 0 0 0 0]\n",
      " [0 0 1 0 0 0 0 0 0 0]\n",
      " [0 0 0 0 1 1 0 0 0 0]\n",
      " [0 0 0 0 0 0 1 0 0 0]\n",
      " [0 0 0 0 0 0 0 0 1 0]\n",
      " [0 0 0 0 1 0 1 0 0 0]\n",
      " [0 0 0 0 1 0 0 0 0 0]\n",
      " [0 0 0 0 0 0 0 1 0 0]\n",
      " [0 0 0 0 1 0 0 0 0 0]\n",
      " [0 1 0 0 0 0 0 0 0 0]\n",
      " [0 0 1 0 0 0 0 0 0 0]\n",
      " [0 0 0 0 0 0 0 0 1 0]\n",
      " [0 0 0 0 0 1 0 0 0 0]\n",
      " [0 0 0 0 0 0 0 1 0 0]\n",
      " [0 0 0 0 0 1 0 0 0 0]\n",
      " [0 0 0 0 1 0 1 0 0 1]\n",
      " [0 0 0 0 1 0 0 0 0 0]\n",
      " [0 0 0 0 0 1 0 0 0 1]\n",
      " [0 0 1 0 0 0 0 0 0 0]\n",
      " [0 0 1 0 0 0 0 0 0 0]\n",
      " [0 0 0 0 0 0 0 0 1 0]\n",
      " [0 0 0 0 1 0 0 0 0 0]\n",
      " [0 0 0 0 1 1 0 0 0 0]\n",
      " [0 0 0 0 0 0 0 1 0 0]\n",
      " [0 0 0 0 0 1 0 0 0 0]\n",
      " [0 0 0 0 0 1 0 0 0 0]\n",
      " [0 0 0 1 0 0 0 0 0 0]\n",
      " [0 0 0 0 0 0 0 0 0 1]\n",
      " [0 1 0 0 0 0 0 0 0 0]\n",
      " [0 0 0 0 0 0 0 1 0 0]\n",
      " [0 0 0 0 0 1 0 0 0 0]\n",
      " [0 0 1 0 0 0 0 0 0 0]\n",
      " [0 1 0 0 0 0 0 0 0 0]\n",
      " [0 1 0 0 0 0 0 0 0 0]]\n"
     ]
    }
   ],
   "source": [
    "# create np array of labels by multi-hot encoding the labels\n",
    "\n",
    "labels_list = []\n",
    "for key in populated_IDS:\n",
    "    labels_list.append(list(tracks[int(key)]['mood/theme']))\n",
    "\n",
    "print(labels_list)\n",
    "\n",
    "mlb = MultiLabelBinarizer()\n",
    "y = mlb.fit_transform(labels_list)\n",
    "\n",
    "print(mlb.classes_)\n",
    "print(y)\n"
   ]
  },
  {
   "cell_type": "code",
   "execution_count": 56,
   "id": "1d29bed4",
   "metadata": {},
   "outputs": [],
   "source": [
    "# split the raw 30s audio data in train:validation:test in the ratio 60:20:20\n",
    "\n",
    "# Split data into training and test sets\n",
    "X_train, X_test, y_train, y_test_raw30s = train_test_split(X, y, test_size=0.2, random_state=42)\n",
    "\n",
    "# Split training data into training and validation sets\n",
    "X_train_raw30s, X_val_raw30s, y_train_raw30s, y_val_raw30s = train_test_split(X_train, y_train, test_size=0.25, random_state=42)"
   ]
  },
  {
   "cell_type": "code",
   "execution_count": 55,
   "id": "1f842597",
   "metadata": {
    "scrolled": true
   },
   "outputs": [
    {
     "data": {
      "text/plain": [
       "array([[-0.13711806, -0.1233232 , -0.13069163, ..., -0.13901985,\n",
       "        -0.10607645, -0.06991287],\n",
       "       [-0.11391765, -0.09935525, -0.08420548, ...,  0.07240532,\n",
       "         0.07600844,  0.07708387],\n",
       "       [-0.12184409, -0.13313131, -0.15494016, ..., -0.23650935,\n",
       "        -0.2116234 , -0.15660292],\n",
       "       ...,\n",
       "       [-0.41958684, -0.40851653, -0.13739015, ...,  0.5465279 ,\n",
       "         0.44178516,  0.05567669],\n",
       "       [ 0.02182886,  0.01005118, -0.00118031, ...,  0.48070657,\n",
       "         0.47569793,  0.46577558],\n",
       "       [ 0.07628944,  0.08338054,  0.09543674, ...,  0.00567835,\n",
       "         0.00733653,  0.00958541]], dtype=float32)"
      ]
     },
     "execution_count": 55,
     "metadata": {},
     "output_type": "execute_result"
    }
   ],
   "source": [
    "X_train"
   ]
  },
  {
   "cell_type": "code",
   "execution_count": 57,
   "id": "a3147cb2",
   "metadata": {},
   "outputs": [
    {
     "data": {
      "text/plain": [
       "array([[-0.13711806, -0.1233232 , -0.13069163, ..., -0.13901985,\n",
       "        -0.10607645, -0.06991287],\n",
       "       [-0.11391765, -0.09935525, -0.08420548, ...,  0.07240532,\n",
       "         0.07600844,  0.07708387],\n",
       "       [-0.12184409, -0.13313131, -0.15494016, ..., -0.23650935,\n",
       "        -0.2116234 , -0.15660292],\n",
       "       ...,\n",
       "       [-0.41958684, -0.40851653, -0.13739015, ...,  0.5465279 ,\n",
       "         0.44178516,  0.05567669],\n",
       "       [ 0.02182886,  0.01005118, -0.00118031, ...,  0.48070657,\n",
       "         0.47569793,  0.46577558],\n",
       "       [ 0.07628944,  0.08338054,  0.09543674, ...,  0.00567835,\n",
       "         0.00733653,  0.00958541]], dtype=float32)"
      ]
     },
     "execution_count": 57,
     "metadata": {},
     "output_type": "execute_result"
    }
   ],
   "source": [
    "X_train_raw30s"
   ]
  },
  {
   "cell_type": "code",
   "execution_count": 58,
   "id": "04375da1",
   "metadata": {},
   "outputs": [
    {
     "data": {
      "text/plain": [
       "array([[0, 0, 0, 0, 0, 0, 1, 0, 0, 0],\n",
       "       [0, 0, 0, 0, 0, 1, 0, 0, 0, 0],\n",
       "       [0, 0, 1, 0, 0, 0, 0, 0, 0, 0],\n",
       "       [0, 0, 1, 0, 0, 0, 0, 0, 0, 0],\n",
       "       [0, 0, 0, 0, 0, 1, 0, 0, 0, 0],\n",
       "       [0, 0, 1, 0, 0, 0, 0, 0, 0, 0],\n",
       "       [0, 0, 1, 0, 0, 0, 0, 0, 0, 0],\n",
       "       [0, 0, 0, 0, 1, 0, 0, 0, 0, 0],\n",
       "       [0, 0, 0, 0, 0, 0, 0, 1, 0, 0],\n",
       "       [0, 0, 0, 0, 0, 0, 0, 0, 0, 1],\n",
       "       [0, 1, 0, 0, 0, 0, 0, 0, 0, 0],\n",
       "       [0, 0, 1, 0, 0, 0, 0, 0, 0, 0],\n",
       "       [0, 0, 0, 0, 1, 0, 1, 0, 0, 1],\n",
       "       [0, 0, 1, 0, 0, 1, 0, 0, 0, 0],\n",
       "       [0, 0, 0, 0, 1, 1, 0, 0, 0, 0],\n",
       "       [0, 1, 0, 0, 0, 0, 0, 0, 0, 0]])"
      ]
     },
     "execution_count": 58,
     "metadata": {},
     "output_type": "execute_result"
    }
   ],
   "source": [
    "y_val_raw30s"
   ]
  },
  {
   "cell_type": "code",
   "execution_count": 59,
   "id": "9504bd9a",
   "metadata": {
    "scrolled": false
   },
   "outputs": [
    {
     "data": {
      "text/plain": [
       "array([[0, 0, 0, 0, 0, 0, 0, 0, 1, 0],\n",
       "       [0, 0, 0, 0, 0, 0, 0, 0, 1, 0],\n",
       "       [0, 0, 0, 0, 0, 1, 0, 0, 0, 0],\n",
       "       [0, 1, 1, 0, 0, 0, 0, 0, 0, 0],\n",
       "       [0, 0, 0, 0, 0, 0, 0, 0, 1, 0],\n",
       "       [0, 1, 0, 0, 0, 0, 0, 0, 0, 0],\n",
       "       [0, 0, 0, 0, 0, 0, 0, 0, 1, 0],\n",
       "       [0, 1, 0, 0, 0, 1, 0, 0, 0, 0],\n",
       "       [0, 0, 0, 0, 1, 0, 1, 0, 0, 0],\n",
       "       [0, 0, 0, 0, 1, 1, 0, 0, 0, 0],\n",
       "       [0, 0, 0, 0, 0, 1, 0, 0, 0, 1],\n",
       "       [0, 0, 0, 0, 1, 0, 0, 0, 0, 1],\n",
       "       [0, 1, 0, 0, 0, 0, 0, 0, 0, 0],\n",
       "       [0, 0, 1, 0, 0, 0, 0, 0, 0, 0],\n",
       "       [0, 0, 1, 0, 0, 0, 0, 0, 0, 0],\n",
       "       [1, 0, 0, 0, 0, 0, 0, 0, 0, 0]])"
      ]
     },
     "execution_count": 59,
     "metadata": {},
     "output_type": "execute_result"
    }
   ],
   "source": [
    "y_test_raw30s"
   ]
  },
  {
   "cell_type": "markdown",
   "id": "38e498df",
   "metadata": {},
   "source": [
    "### Spllt the mfcc data in train:validation:test in the ratio 60:20:20"
   ]
  },
  {
   "cell_type": "code",
   "execution_count": 66,
   "id": "e1f2d31d",
   "metadata": {},
   "outputs": [
    {
     "name": "stdout",
     "output_type": "stream",
     "text": [
      "(20, 10306)\n"
     ]
    }
   ],
   "source": [
    "print(tracks[1028902][\"mfcc\"].shape) # MFCCs have 20 coefficients, number of audio tensors depends on the length of the track, in this case 10306\n"
   ]
  },
  {
   "cell_type": "code",
   "execution_count": null,
   "id": "6e04fa71",
   "metadata": {},
   "outputs": [],
   "source": [
    "# recalculate the MFCCs with the raw 30s data and store it in the tracks dictionary\n",
    "\n",
    "\n"
   ]
  },
  {
   "cell_type": "code",
   "execution_count": null,
   "id": "65e59150",
   "metadata": {},
   "outputs": [],
   "source": [
    "# flatten the MFCC 2d np arrays to 1d np arrays\n",
    "\n"
   ]
  },
  {
   "cell_type": "code",
   "execution_count": null,
   "id": "c97b1aca",
   "metadata": {},
   "outputs": [],
   "source": [
    "# split the mfcc data in train:validation:test in the ratio 60:20:20\n",
    "\n"
   ]
  }
 ],
 "metadata": {
  "kernelspec": {
   "display_name": "Python 3 (ipykernel)",
   "language": "python",
   "name": "python3"
  },
  "language_info": {
   "codemirror_mode": {
    "name": "ipython",
    "version": 3
   },
   "file_extension": ".py",
   "mimetype": "text/x-python",
   "name": "python",
   "nbconvert_exporter": "python",
   "pygments_lexer": "ipython3",
   "version": "3.9.12"
  }
 },
 "nbformat": 4,
 "nbformat_minor": 5
}

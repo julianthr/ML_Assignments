{
 "cells": [
  {
   "cell_type": "code",
   "execution_count": 1,
   "id": "fbb2e1f6",
   "metadata": {},
   "outputs": [],
   "source": [
    "# pip install dropbox"
   ]
  },
  {
   "cell_type": "code",
   "execution_count": 1,
   "id": "99a6daa1",
   "metadata": {},
   "outputs": [],
   "source": [
    "import pandas as pd\n",
    "import dropbox\n",
    "import librosa\n",
    "import io"
   ]
  },
  {
   "cell_type": "code",
   "execution_count": 3,
   "id": "7bda9702",
   "metadata": {},
   "outputs": [],
   "source": [
    "# store access token for Dropbox\n",
    "DROPBOX_ACCESS_TOKEN = \"sl.Bd2k9ROeMw1ePj9KR-YgOvSwc_u9wIoUEPhwX6Ybe0V3UPDrMkjgRgpDPPIqP6_7VpGNxpxrgqFORV6MbGQdcM1xA04IWmy2qVhjSaadESd36HOU7PK95vawB-zngRpxX4pXftk\""
   ]
  },
  {
   "cell_type": "code",
   "execution_count": 4,
   "id": "ef65fa79",
   "metadata": {},
   "outputs": [],
   "source": [
    "# connect to the dropbox folder\n",
    "dbx = dropbox.Dropbox(DROPBOX_ACCESS_TOKEN)"
   ]
  },
  {
   "cell_type": "code",
   "execution_count": 5,
   "id": "031998ed",
   "metadata": {},
   "outputs": [
    {
     "data": {
      "text/plain": [
       "FullAccount(account_id='dbid:AABYoprMAUYN-xTaQCQFjNp5wVWo8qyEvxs', account_type=AccountType('business', None), country='DE', disabled=False, email='yihu22ad@student.cbs.dk', email_verified=True, is_paired=False, locale='en', name=Name(abbreviated_name='YH', display_name='Yile Huang', familiar_name='Yile', given_name='Yile', surname='Huang'), profile_photo_url=NOT_SET, referral_link='https://www.dropbox.com/referrals/AADVa4Q1zdDyRXKpMsPQ3ISb1r7Up7ZxWm0?src=app9-4675393', root_info=TeamRootInfo(home_namespace_id='4034898465', home_path='/Yile Huang', root_namespace_id='4025267073'), team=FullTeam(id='dbtid:AABOuCgUmoWXyyYbYwIuzxjesuvudEHj2fo', name='Machine Learning', office_addin_policy=OfficeAddInPolicy('enabled', None), sharing_policies=TeamSharingPolicies(group_creation_policy=GroupCreation('admins_and_members', None), shared_folder_join_policy=SharedFolderJoinPolicy('from_anyone', None), shared_folder_member_policy=SharedFolderMemberPolicy('anyone', None), shared_link_create_policy=SharedLinkCreatePolicy('default_public', None))), team_member_id='dbmid:AAAWhnqEZ-pofg9C-L_hCZF1GNtpPYO8S3k')"
      ]
     },
     "execution_count": 5,
     "metadata": {},
     "output_type": "execute_result"
    }
   ],
   "source": [
    "# check that the right Dropbox account is linked\n",
    "dbx.users_get_current_account()"
   ]
  },
  {
   "cell_type": "code",
   "execution_count": 6,
   "id": "97a84241",
   "metadata": {},
   "outputs": [
    {
     "name": "stdout",
     "output_type": "stream",
     "text": [
      "128300.mp3\n",
      "95400.mp3\n",
      "12100.mp3\n",
      "501300.mp3\n",
      "114200.mp3\n",
      "86200.mp3\n",
      "117800.mp3\n",
      "116600.mp3\n",
      "80500.mp3\n",
      "1086300.mp3\n",
      "7400.mp3\n",
      "1009600.mp3\n",
      "1056400.mp3\n",
      "1223300.mp3\n",
      "1250200.mp3\n",
      "1270100.mp3\n",
      "1416000.mp3\n",
      "966300.mp3\n",
      "1281100.mp3\n",
      "1314100.mp3\n",
      "798200.mp3\n",
      "893400.mp3\n",
      "1167300.mp3\n",
      "1274100.mp3\n",
      "1226700.mp3\n",
      "1279600.mp3\n",
      "1042000.mp3\n",
      "1162600.mp3\n",
      "1266500.mp3\n",
      "1346500.mp3\n",
      "818600.mp3\n",
      "847200.mp3\n",
      "1112000.mp3\n",
      "1168500.mp3\n",
      "1110000.mp3\n",
      "1116400.mp3\n",
      "1277700.mp3\n",
      "1416200.mp3\n",
      "1164200.mp3\n",
      "1406400.mp3\n",
      "1195900.mp3\n",
      "1125400.mp3\n",
      "1383900.mp3\n",
      "1163000.mp3\n",
      "1226800.mp3\n",
      "1048300.mp3\n",
      "757500.mp3\n",
      "702500.mp3\n",
      "1082100.mp3\n",
      "1303000.mp3\n",
      "752300.mp3\n",
      "1087100.mp3\n",
      "1109900.mp3\n",
      "1288400.mp3\n",
      "1162700.mp3\n",
      "1294600.mp3\n",
      "1400500.mp3\n",
      "1084200.mp3\n",
      "1155900.mp3\n",
      "1357400.mp3\n",
      "1052800.mp3\n",
      "1320000.mp3\n",
      "1319500.mp3\n",
      "1284300.mp3\n",
      "1012000.mp3\n",
      "1170600.mp3\n",
      "659900.mp3\n",
      "1170400.mp3\n",
      "1028900.mp3\n",
      "1353300.mp3\n",
      "903600.mp3\n",
      "1282300.mp3\n",
      "390000.mp3\n",
      "635300.mp3\n",
      "1210700.mp3\n",
      "1066500.mp3\n",
      "16000.mp3\n",
      "824300.mp3\n",
      "1354100.mp3\n",
      "1014400.mp3\n",
      "133600.mp3\n",
      "1088000.mp3\n",
      "1189900.mp3\n",
      "1324900.mp3\n",
      "1371800.mp3\n",
      "1398500.mp3\n",
      "387400.mp3\n",
      "1288500.mp3\n",
      "1310500.mp3\n",
      "1357000.mp3\n",
      "1037900.mp3\n",
      "1166100.mp3\n",
      "1385300.mp3\n",
      "1110500.mp3\n",
      "1337800.mp3\n",
      "1202100.mp3\n",
      "1076600.mp3\n",
      "816200.mp3\n",
      "1132200.mp3\n",
      "1420700.mp3\n",
      "1323600.mp3\n",
      "699100.mp3\n",
      "945200.mp3\n",
      "1062600.mp3\n",
      "840600.mp3\n",
      "1420600.mp3\n",
      "1079400.mp3\n",
      "1420500.mp3\n",
      "1178100.mp3\n",
      "1090700.mp3\n",
      "1121400.mp3\n",
      "759300.mp3\n",
      "1101300.mp3\n",
      "970600.mp3\n",
      "920000.mp3\n",
      "587000.mp3\n",
      "1089300.mp3\n",
      "13400.mp3\n",
      "1222000.mp3\n",
      "1277800.mp3\n",
      "501200.mp3\n",
      "1103000.mp3\n",
      "718300.mp3\n",
      "1393400.mp3\n",
      "1396500.mp3\n",
      "1173500.mp3\n",
      "1125100.mp3\n",
      "1073700.mp3\n",
      "1333600.mp3\n",
      "661300.mp3\n",
      "604700.mp3\n",
      "682600.mp3\n",
      "1317900.mp3\n",
      "1374300.mp3\n",
      "1062500.mp3\n",
      "1248600.mp3\n",
      "1372200.mp3\n",
      "1398100.mp3\n",
      "588700.mp3\n",
      "1041500.mp3\n",
      "506100.mp3\n",
      "1155000.mp3\n",
      "468500.mp3\n",
      "1388000.mp3\n",
      "794600.mp3\n",
      "1393100.mp3\n",
      "146600.mp3\n",
      "1160600.mp3\n",
      "1032700.mp3\n",
      "1337900.mp3\n",
      "1339600.mp3\n",
      "1381000.mp3\n",
      "1105300.mp3\n",
      "985000.mp3\n",
      "1366700.mp3\n",
      "206000.mp3\n",
      "1339700.mp3\n",
      "1103300.mp3\n",
      "1211800.mp3\n",
      "1115700.mp3\n",
      "399500.mp3\n",
      "47400.mp3\n",
      "1365200.mp3\n",
      "913700.mp3\n",
      "1343400.mp3\n",
      "1080900.mp3\n",
      "399200.mp3\n",
      "1096800.mp3\n",
      "49100.mp3\n",
      "168800.mp3\n",
      "153400.mp3\n",
      "1102300.mp3\n",
      "950100.mp3\n",
      "1393000.mp3\n",
      "1211600.mp3\n",
      "1227500.mp3\n",
      "810100.mp3\n",
      "202200.mp3\n",
      "729300.mp3\n",
      "1066200.mp3\n",
      "1330500.mp3\n",
      "1395500.mp3\n",
      "74000.mp3\n",
      "1295900.mp3\n",
      "633200.mp3\n",
      "1081000.mp3\n",
      "1158200.mp3\n",
      "872000.mp3\n",
      "1300000.mp3\n",
      "1314300.mp3\n",
      "1388600.mp3\n",
      "1069400.mp3\n",
      "1235700.mp3\n",
      "1234500.mp3\n",
      "141800.mp3\n",
      "1300500.mp3\n",
      "1304400.mp3\n",
      "1129800.mp3\n",
      "1327700.mp3\n",
      "1313000.mp3\n",
      "251100.mp3\n",
      "250100.mp3\n"
     ]
    }
   ],
   "source": [
    "for entry in dbx.files_list_folder(\"\").entries:\n",
    "    print(entry.name)"
   ]
  },
  {
   "cell_type": "code",
   "execution_count": 7,
   "id": "f524f629",
   "metadata": {},
   "outputs": [],
   "source": [
    "mp3_path = \"/7400.mp3\""
   ]
  },
  {
   "cell_type": "code",
   "execution_count": 8,
   "id": "4599bd14",
   "metadata": {},
   "outputs": [],
   "source": [
    "# store the mp3 file in memory as a byte string before loading it \n",
    "_, response = dbx.files_download(mp3_path)\n",
    "mp3_bytes = response.content"
   ]
  },
  {
   "cell_type": "code",
   "execution_count": 9,
   "id": "3aedaa1b",
   "metadata": {},
   "outputs": [
    {
     "name": "stdout",
     "output_type": "stream",
     "text": [
      "Audio signal: \n",
      " [-7.1033835e-05 -1.2492016e-04 -1.8467382e-04 ... -7.6801189e-07\n",
      "  1.7133607e-06 -1.0036852e-05] \n",
      "\n",
      "Sample rate: 22050\n"
     ]
    }
   ],
   "source": [
    "# load the mp3 audio file using librosa\n",
    "audio, sr = librosa.load(io.BytesIO(mp3_bytes), sr=22050)\n",
    "\n",
    "# Print the audio signal and sample rate\n",
    "print(\"Audio signal: \\n\", audio, \"\\n\")\n",
    "print(\"Sample rate:\", sr)"
   ]
  },
  {
   "cell_type": "markdown",
   "id": "89228326",
   "metadata": {},
   "source": [
    "### Preparation for looping through Dropbox files"
   ]
  },
  {
   "cell_type": "code",
   "execution_count": 5,
   "id": "2267a6a7",
   "metadata": {},
   "outputs": [],
   "source": [
    "# load the file containing the track_id and mood labels\n",
    "df = pd.read_csv(\"autotagging_moodtheme_transformed_emotion.csv\")"
   ]
  },
  {
   "cell_type": "code",
   "execution_count": 9,
   "id": "55e64b1d",
   "metadata": {},
   "outputs": [
    {
     "name": "stdout",
     "output_type": "stream",
     "text": [
      "[3346, 3347, 3348, 3349, 3350, 4639, 6253, 6254, 6256, 6257]\n"
     ]
    }
   ],
   "source": [
    "# store the track_id as a list\n",
    "tracks = df[\"track_id\"].to_list()\n",
    "print(tracks[:10])"
   ]
  },
  {
   "cell_type": "code",
   "execution_count": 12,
   "id": "13a68af0",
   "metadata": {},
   "outputs": [
    {
     "data": {
      "text/plain": [
       "int"
      ]
     },
     "execution_count": 12,
     "metadata": {},
     "output_type": "execute_result"
    }
   ],
   "source": [
    "type(tracks[0])"
   ]
  },
  {
   "cell_type": "code",
   "execution_count": null,
   "id": "d84073db",
   "metadata": {},
   "outputs": [],
   "source": [
    "# prepare a dictionary to store all relevant information for future machine learning algorithms"
   ]
  },
  {
   "cell_type": "code",
   "execution_count": 13,
   "id": "40da7e7e",
   "metadata": {},
   "outputs": [
    {
     "name": "stdout",
     "output_type": "stream",
     "text": [
      "3346.mp3\n",
      "3347.mp3\n",
      "3348.mp3\n"
     ]
    }
   ],
   "source": [
    "# loop through all audio files that are considered for our machine learning algorithm\n",
    "for i in tracks[:3]:\n",
    "    \n",
    "    # translate the track_id into the correct audiofile name in the Dropbox folder\n",
    "    mp3_path = str(i) + \".mp3\"\n",
    "    \n",
    "    # store the mp3 file in memory as a byte string before loading it \n",
    "    _, response = dbx.files_download(mp3_path)\n",
    "    mp3_bytes = response.content\n",
    "    \n",
    "    # load the mp3 audio file using librosa\n",
    "    audio, sr = librosa.load(io.BytesIO(mp3_bytes), sr=22050)\n",
    "    "
   ]
  }
 ],
 "metadata": {
  "kernelspec": {
   "display_name": "Python 3 (ipykernel)",
   "language": "python",
   "name": "python3"
  },
  "language_info": {
   "codemirror_mode": {
    "name": "ipython",
    "version": 3
   },
   "file_extension": ".py",
   "mimetype": "text/x-python",
   "name": "python",
   "nbconvert_exporter": "python",
   "pygments_lexer": "ipython3",
   "version": "3.8.3"
  }
 },
 "nbformat": 4,
 "nbformat_minor": 5
}

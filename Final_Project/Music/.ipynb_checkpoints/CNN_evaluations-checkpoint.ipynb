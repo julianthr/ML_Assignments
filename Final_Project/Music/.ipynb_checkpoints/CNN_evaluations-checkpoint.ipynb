{
 "cells": [
  {
   "cell_type": "code",
   "execution_count": 1,
   "id": "96d65d6a-084e-4704-a16a-0b163f7a1b6e",
   "metadata": {
    "execution": {
     "iopub.execute_input": "2023-05-15T16:37:09.782054Z",
     "iopub.status.busy": "2023-05-15T16:37:09.781229Z",
     "iopub.status.idle": "2023-05-15T16:37:12.382100Z",
     "shell.execute_reply": "2023-05-15T16:37:12.380030Z",
     "shell.execute_reply.started": "2023-05-15T16:37:09.781996Z"
    },
    "tags": []
   },
   "outputs": [],
   "source": [
    "import tensorflow\n",
    "import tensorflow.keras as keras\n",
    "from keras.models import Sequential, load_model\n",
    "from keras.layers import Reshape, Permute, GRU\n",
    "from keras.layers import Dense, Activation, Conv2D, MaxPool2D, BatchNormalization, Flatten, Dropout, LSTM\n",
    "from keras.callbacks import ModelCheckpoint, TensorBoard, ReduceLROnPlateau\n",
    "import matplotlib.pyplot as plt\n",
    "import pandas as pd\n",
    "import zipfile\n",
    "import numpy as np"
   ]
  },
  {
   "cell_type": "code",
   "execution_count": 2,
   "id": "7a4edd8d-c56d-408c-bdc3-f8d4f2835a8d",
   "metadata": {
    "collapsed": true,
    "execution": {
     "iopub.execute_input": "2023-05-15T15:14:59.364178Z",
     "iopub.status.busy": "2023-05-15T15:14:59.363299Z",
     "iopub.status.idle": "2023-05-15T15:16:13.373709Z",
     "shell.execute_reply": "2023-05-15T15:16:13.369674Z",
     "shell.execute_reply.started": "2023-05-15T15:14:59.364120Z"
    },
    "jupyter": {
     "outputs_hidden": true
    },
    "tags": []
   },
   "outputs": [
    {
     "name": "stdout",
     "output_type": "stream",
     "text": [
      "Collecting tensorflow\n",
      "  Downloading tensorflow-2.12.0-cp310-cp310-manylinux_2_17_x86_64.manylinux2014_x86_64.whl (585.9 MB)\n",
      "\u001b[2K     \u001b[90m━━━━━━━━━━━━━━━━━━━━━━━━━━━━━━━━━━━━━━━\u001b[0m \u001b[32m585.9/585.9 MB\u001b[0m \u001b[31m5.7 MB/s\u001b[0m eta \u001b[36m0:00:00\u001b[0m00:01\u001b[0m00:01\u001b[0m\n",
      "\u001b[?25hCollecting absl-py>=1.0.0\n",
      "  Downloading absl_py-1.4.0-py3-none-any.whl (126 kB)\n",
      "\u001b[2K     \u001b[90m━━━━━━━━━━━━━━━━━━━━━━━━━━━━━━━━━━━━━━━\u001b[0m \u001b[32m126.5/126.5 kB\u001b[0m \u001b[31m4.7 MB/s\u001b[0m eta \u001b[36m0:00:00\u001b[0m\n",
      "\u001b[?25hCollecting google-pasta>=0.1.1\n",
      "  Downloading google_pasta-0.2.0-py3-none-any.whl (57 kB)\n",
      "\u001b[2K     \u001b[90m━━━━━━━━━━━━━━━━━━━━━━━━━━━━━━━━━━━━━━━\u001b[0m \u001b[32m57.5/57.5 kB\u001b[0m \u001b[31m984.4 kB/s\u001b[0m eta \u001b[36m0:00:00\u001b[0ma \u001b[36m0:00:01\u001b[0m\n",
      "\u001b[?25hCollecting numpy<1.24,>=1.22\n",
      "  Downloading numpy-1.23.5-cp310-cp310-manylinux_2_17_x86_64.manylinux2014_x86_64.whl (17.1 MB)\n",
      "\u001b[2K     \u001b[90m━━━━━━━━━━━━━━━━━━━━━━━━━━━━━━━━━━━━━━━━\u001b[0m \u001b[32m17.1/17.1 MB\u001b[0m \u001b[31m20.5 MB/s\u001b[0m eta \u001b[36m0:00:00\u001b[0m00:01\u001b[0m00:01\u001b[0m\n",
      "\u001b[?25hCollecting h5py>=2.9.0\n",
      "  Downloading h5py-3.8.0-cp310-cp310-manylinux_2_17_x86_64.manylinux2014_x86_64.whl (4.6 MB)\n",
      "\u001b[2K     \u001b[90m━━━━━━━━━━━━━━━━━━━━━━━━━━━━━━━━━━━━━━━━\u001b[0m \u001b[32m4.6/4.6 MB\u001b[0m \u001b[31m36.3 MB/s\u001b[0m eta \u001b[36m0:00:00\u001b[0m:00:01\u001b[0m\n",
      "\u001b[?25hCollecting gast<=0.4.0,>=0.2.1\n",
      "  Downloading gast-0.4.0-py3-none-any.whl (9.8 kB)\n",
      "Collecting protobuf!=4.21.0,!=4.21.1,!=4.21.2,!=4.21.3,!=4.21.4,!=4.21.5,<5.0.0dev,>=3.20.3\n",
      "  Downloading protobuf-4.23.0-cp37-abi3-manylinux2014_x86_64.whl (304 kB)\n",
      "\u001b[2K     \u001b[90m━━━━━━━━━━━━━━━━━━━━━━━━━━━━━━━━━━━━━━━\u001b[0m \u001b[32m304.5/304.5 kB\u001b[0m \u001b[31m4.7 MB/s\u001b[0m eta \u001b[36m0:00:00\u001b[0m00:01\u001b[0m\n",
      "\u001b[?25hRequirement already satisfied: typing-extensions>=3.6.6 in /opt/conda/lib/python3.10/site-packages (from tensorflow) (4.5.0)\n",
      "Collecting termcolor>=1.1.0\n",
      "  Downloading termcolor-2.3.0-py3-none-any.whl (6.9 kB)\n",
      "Requirement already satisfied: setuptools in /opt/conda/lib/python3.10/site-packages (from tensorflow) (65.6.3)\n",
      "Requirement already satisfied: packaging in /opt/conda/lib/python3.10/site-packages (from tensorflow) (23.0)\n",
      "Collecting libclang>=13.0.0\n",
      "  Downloading libclang-16.0.0-py2.py3-none-manylinux2010_x86_64.whl (22.9 MB)\n",
      "\u001b[2K     \u001b[90m━━━━━━━━━━━━━━━━━━━━━━━━━━━━━━━━━━━━━━━━\u001b[0m \u001b[32m22.9/22.9 MB\u001b[0m \u001b[31m22.5 MB/s\u001b[0m eta \u001b[36m0:00:00\u001b[0m00:01\u001b[0m00:01\u001b[0m\n",
      "\u001b[?25hCollecting jax>=0.3.15\n",
      "  Downloading jax-0.4.10.tar.gz (1.3 MB)\n",
      "\u001b[2K     \u001b[90m━━━━━━━━━━━━━━━━━━━━━━━━━━━━━━━━━━━━━━━━\u001b[0m \u001b[32m1.3/1.3 MB\u001b[0m \u001b[31m3.3 MB/s\u001b[0m eta \u001b[36m0:00:00\u001b[0m0:00:01\u001b[0m\n",
      "\u001b[?25h  Installing build dependencies ... \u001b[?25ldone\n",
      "\u001b[?25h  Getting requirements to build wheel ... \u001b[?25ldone\n",
      "\u001b[?25h  Preparing metadata (pyproject.toml) ... \u001b[?25ldone\n",
      "\u001b[?25hCollecting tensorflow-estimator<2.13,>=2.12.0\n",
      "  Downloading tensorflow_estimator-2.12.0-py2.py3-none-any.whl (440 kB)\n",
      "\u001b[2K     \u001b[90m━━━━━━━━━━━━━━━━━━━━━━━━━━━━━━━━━━━━━━━\u001b[0m \u001b[32m440.7/440.7 kB\u001b[0m \u001b[31m2.6 MB/s\u001b[0m eta \u001b[36m0:00:00\u001b[0m00:01\u001b[0m\n",
      "\u001b[?25hRequirement already satisfied: six>=1.12.0 in /opt/conda/lib/python3.10/site-packages (from tensorflow) (1.16.0)\n",
      "Collecting grpcio<2.0,>=1.24.3\n",
      "  Downloading grpcio-1.54.2-cp310-cp310-manylinux_2_17_x86_64.manylinux2014_x86_64.whl (5.1 MB)\n",
      "\u001b[2K     \u001b[90m━━━━━━━━━━━━━━━━━━━━━━━━━━━━━━━━━━━━━━━━\u001b[0m \u001b[32m5.1/5.1 MB\u001b[0m \u001b[31m35.4 MB/s\u001b[0m eta \u001b[36m0:00:00\u001b[0m:00:01\u001b[0m\n",
      "\u001b[?25hCollecting opt-einsum>=2.3.2\n",
      "  Downloading opt_einsum-3.3.0-py3-none-any.whl (65 kB)\n",
      "\u001b[2K     \u001b[90m━━━━━━━━━━━━━━━━━━━━━━━━━━━━━━━━━━━━━━━━\u001b[0m \u001b[32m65.5/65.5 kB\u001b[0m \u001b[31m1.7 MB/s\u001b[0m eta \u001b[36m0:00:00\u001b[0m\n",
      "\u001b[?25hCollecting wrapt<1.15,>=1.11.0\n",
      "  Downloading wrapt-1.14.1-cp310-cp310-manylinux_2_5_x86_64.manylinux1_x86_64.manylinux_2_17_x86_64.manylinux2014_x86_64.whl (77 kB)\n",
      "\u001b[2K     \u001b[90m━━━━━━━━━━━━━━━━━━━━━━━━━━━━━━━━━━━━━━━\u001b[0m \u001b[32m77.9/77.9 kB\u001b[0m \u001b[31m802.8 kB/s\u001b[0m eta \u001b[36m0:00:00\u001b[0ma \u001b[36m0:00:01\u001b[0m\n",
      "\u001b[?25hCollecting tensorboard<2.13,>=2.12\n",
      "  Downloading tensorboard-2.12.3-py3-none-any.whl (5.6 MB)\n",
      "\u001b[2K     \u001b[90m━━━━━━━━━━━━━━━━━━━━━━━━━━━━━━━━━━━━━━━━\u001b[0m \u001b[32m5.6/5.6 MB\u001b[0m \u001b[31m53.8 MB/s\u001b[0m eta \u001b[36m0:00:00\u001b[0m:00:01\u001b[0m\n",
      "\u001b[?25hCollecting tensorflow-io-gcs-filesystem>=0.23.1\n",
      "  Downloading tensorflow_io_gcs_filesystem-0.32.0-cp310-cp310-manylinux_2_12_x86_64.manylinux2010_x86_64.whl (2.4 MB)\n",
      "\u001b[2K     \u001b[90m━━━━━━━━━━━━━━━━━━━━━━━━━━━━━━━━━━━━━━━━\u001b[0m \u001b[32m2.4/2.4 MB\u001b[0m \u001b[31m13.7 MB/s\u001b[0m eta \u001b[36m0:00:00\u001b[0m:00:01\u001b[0m\n",
      "\u001b[?25hCollecting astunparse>=1.6.0\n",
      "  Downloading astunparse-1.6.3-py2.py3-none-any.whl (12 kB)\n",
      "Collecting keras<2.13,>=2.12.0\n",
      "  Downloading keras-2.12.0-py2.py3-none-any.whl (1.7 MB)\n",
      "\u001b[2K     \u001b[90m━━━━━━━━━━━━━━━━━━━━━━━━━━━━━━━━━━━━━━━━\u001b[0m \u001b[32m1.7/1.7 MB\u001b[0m \u001b[31m5.2 MB/s\u001b[0m eta \u001b[36m0:00:00\u001b[0m00:01\u001b[0m00:01\u001b[0m0m\n",
      "\u001b[?25hCollecting flatbuffers>=2.0\n",
      "  Downloading flatbuffers-23.5.9-py2.py3-none-any.whl (26 kB)\n",
      "Requirement already satisfied: wheel<1.0,>=0.23.0 in /opt/conda/lib/python3.10/site-packages (from astunparse>=1.6.0->tensorflow) (0.40.0)\n",
      "Collecting scipy>=1.7\n",
      "  Downloading scipy-1.10.1-cp310-cp310-manylinux_2_17_x86_64.manylinux2014_x86_64.whl (34.4 MB)\n",
      "\u001b[2K     \u001b[90m━━━━━━━━━━━━━━━━━━━━━━━━━━━━━━━━━━━━━━━━\u001b[0m \u001b[32m34.4/34.4 MB\u001b[0m \u001b[31m21.4 MB/s\u001b[0m eta \u001b[36m0:00:00\u001b[0m00:01\u001b[0m00:01\u001b[0m\n",
      "\u001b[?25hCollecting ml-dtypes>=0.1.0\n",
      "  Downloading ml_dtypes-0.1.0-cp310-cp310-manylinux_2_17_x86_64.manylinux2014_x86_64.whl (190 kB)\n",
      "\u001b[2K     \u001b[90m━━━━━━━━━━━━━━━━━━━━━━━━━━━━━━━━━━━━━━━\u001b[0m \u001b[32m190.6/190.6 kB\u001b[0m \u001b[31m4.0 MB/s\u001b[0m eta \u001b[36m0:00:00\u001b[0ma \u001b[36m0:00:01\u001b[0m\n",
      "\u001b[?25hCollecting werkzeug>=1.0.1\n",
      "  Downloading Werkzeug-2.3.4-py3-none-any.whl (242 kB)\n",
      "\u001b[2K     \u001b[90m━━━━━━━━━━━━━━━━━━━━━━━━━━━━━━━━━━━━━━━\u001b[0m \u001b[32m242.5/242.5 kB\u001b[0m \u001b[31m1.3 MB/s\u001b[0m eta \u001b[36m0:00:00\u001b[0ma \u001b[36m0:00:01\u001b[0m\n",
      "\u001b[?25hCollecting google-auth-oauthlib<1.1,>=0.5\n",
      "  Downloading google_auth_oauthlib-1.0.0-py2.py3-none-any.whl (18 kB)\n",
      "Collecting markdown>=2.6.8\n",
      "  Downloading Markdown-3.4.3-py3-none-any.whl (93 kB)\n",
      "\u001b[2K     \u001b[90m━━━━━━━━━━━━━━━━━━━━━━━━━━━━━━━━━━━━━━━━\u001b[0m \u001b[32m93.9/93.9 kB\u001b[0m \u001b[31m1.7 MB/s\u001b[0m eta \u001b[36m0:00:00\u001b[0m:00:01\u001b[0m\n",
      "\u001b[?25hCollecting tensorboard-data-server<0.8.0,>=0.7.0\n",
      "  Downloading tensorboard_data_server-0.7.0-py3-none-manylinux2014_x86_64.whl (6.6 MB)\n",
      "\u001b[2K     \u001b[90m━━━━━━━━━━━━━━━━━━━━━━━━━━━━━━━━━━━━━━━━\u001b[0m \u001b[32m6.6/6.6 MB\u001b[0m \u001b[31m21.6 MB/s\u001b[0m eta \u001b[36m0:00:00\u001b[0m:00:01\u001b[0m00:01\u001b[0m\n",
      "\u001b[?25hCollecting google-auth<3,>=1.6.3\n",
      "  Downloading google_auth-2.18.0-py2.py3-none-any.whl (178 kB)\n",
      "\u001b[2K     \u001b[90m━━━━━━━━━━━━━━━━━━━━━━━━━━━━━━━━━━━━━━━\u001b[0m \u001b[32m178.9/178.9 kB\u001b[0m \u001b[31m2.2 MB/s\u001b[0m eta \u001b[36m0:00:00\u001b[0ma \u001b[36m0:00:01\u001b[0m\n",
      "\u001b[?25hRequirement already satisfied: requests<3,>=2.21.0 in /opt/conda/lib/python3.10/site-packages (from tensorboard<2.13,>=2.12->tensorflow) (2.28.2)\n",
      "Collecting cachetools<6.0,>=2.0.0\n",
      "  Downloading cachetools-5.3.0-py3-none-any.whl (9.3 kB)\n",
      "Collecting rsa<5,>=3.1.4\n",
      "  Downloading rsa-4.9-py3-none-any.whl (34 kB)\n",
      "Requirement already satisfied: urllib3<2.0 in /opt/conda/lib/python3.10/site-packages (from google-auth<3,>=1.6.3->tensorboard<2.13,>=2.12->tensorflow) (1.26.15)\n",
      "Collecting pyasn1-modules>=0.2.1\n",
      "  Downloading pyasn1_modules-0.3.0-py2.py3-none-any.whl (181 kB)\n",
      "\u001b[2K     \u001b[90m━━━━━━━━━━━━━━━━━━━━━━━━━━━━━━━━━━━━━━━\u001b[0m \u001b[32m181.3/181.3 kB\u001b[0m \u001b[31m1.7 MB/s\u001b[0m eta \u001b[36m0:00:00\u001b[0ma \u001b[36m0:00:01\u001b[0m\n",
      "\u001b[?25hCollecting requests-oauthlib>=0.7.0\n",
      "  Downloading requests_oauthlib-1.3.1-py2.py3-none-any.whl (23 kB)\n",
      "Requirement already satisfied: idna<4,>=2.5 in /opt/conda/lib/python3.10/site-packages (from requests<3,>=2.21.0->tensorboard<2.13,>=2.12->tensorflow) (3.4)\n",
      "Requirement already satisfied: charset-normalizer<4,>=2 in /opt/conda/lib/python3.10/site-packages (from requests<3,>=2.21.0->tensorboard<2.13,>=2.12->tensorflow) (3.1.0)\n",
      "Requirement already satisfied: certifi>=2017.4.17 in /opt/conda/lib/python3.10/site-packages (from requests<3,>=2.21.0->tensorboard<2.13,>=2.12->tensorflow) (2022.12.7)\n",
      "Requirement already satisfied: MarkupSafe>=2.1.1 in /opt/conda/lib/python3.10/site-packages (from werkzeug>=1.0.1->tensorboard<2.13,>=2.12->tensorflow) (2.1.2)\n",
      "Collecting pyasn1<0.6.0,>=0.4.6\n",
      "  Downloading pyasn1-0.5.0-py2.py3-none-any.whl (83 kB)\n",
      "\u001b[2K     \u001b[90m━━━━━━━━━━━━━━━━━━━━━━━━━━━━━━━━━━━━━━━\u001b[0m \u001b[32m83.9/83.9 kB\u001b[0m \u001b[31m629.3 kB/s\u001b[0m eta \u001b[36m0:00:00\u001b[0m00:01\u001b[0m\n",
      "\u001b[?25hRequirement already satisfied: oauthlib>=3.0.0 in /opt/conda/lib/python3.10/site-packages (from requests-oauthlib>=0.7.0->google-auth-oauthlib<1.1,>=0.5->tensorboard<2.13,>=2.12->tensorflow) (3.2.2)\n",
      "Building wheels for collected packages: jax\n",
      "  Building wheel for jax (pyproject.toml) ... \u001b[?25ldone\n",
      "\u001b[?25h  Created wheel for jax: filename=jax-0.4.10-py3-none-any.whl size=1480503 sha256=cd57bc801c6e69380099ac75766b191186af0554d36e67b254d70386773b50ad\n",
      "  Stored in directory: /home/ucloud/.cache/pip/wheels/2f/04/51/ebc9c5225f0a0df1e56c231c1f4c9b7afd3e024ebb492eed99\n",
      "Successfully built jax\n",
      "Installing collected packages: libclang, flatbuffers, wrapt, werkzeug, termcolor, tensorflow-io-gcs-filesystem, tensorflow-estimator, tensorboard-data-server, pyasn1, protobuf, numpy, markdown, keras, grpcio, google-pasta, gast, cachetools, astunparse, absl-py, scipy, rsa, requests-oauthlib, pyasn1-modules, opt-einsum, ml-dtypes, h5py, jax, google-auth, google-auth-oauthlib, tensorboard, tensorflow\n",
      "  Attempting uninstall: numpy\n",
      "    Found existing installation: numpy 1.24.2\n",
      "    Uninstalling numpy-1.24.2:\n",
      "      Successfully uninstalled numpy-1.24.2\n",
      "Successfully installed absl-py-1.4.0 astunparse-1.6.3 cachetools-5.3.0 flatbuffers-23.5.9 gast-0.4.0 google-auth-2.18.0 google-auth-oauthlib-1.0.0 google-pasta-0.2.0 grpcio-1.54.2 h5py-3.8.0 jax-0.4.10 keras-2.12.0 libclang-16.0.0 markdown-3.4.3 ml-dtypes-0.1.0 numpy-1.23.5 opt-einsum-3.3.0 protobuf-4.23.0 pyasn1-0.5.0 pyasn1-modules-0.3.0 requests-oauthlib-1.3.1 rsa-4.9 scipy-1.10.1 tensorboard-2.12.3 tensorboard-data-server-0.7.0 tensorflow-2.12.0 tensorflow-estimator-2.12.0 tensorflow-io-gcs-filesystem-0.32.0 termcolor-2.3.0 werkzeug-2.3.4 wrapt-1.14.1\n"
     ]
    }
   ],
   "source": [
    "!pip install tensorflow"
   ]
  },
  {
   "cell_type": "code",
   "execution_count": 10,
   "id": "ca40c27a-663c-490f-8927-7818cfd63004",
   "metadata": {
    "execution": {
     "iopub.execute_input": "2023-05-15T16:45:38.586395Z",
     "iopub.status.busy": "2023-05-15T16:45:38.585531Z",
     "iopub.status.idle": "2023-05-15T16:45:39.245410Z",
     "shell.execute_reply": "2023-05-15T16:45:39.244172Z",
     "shell.execute_reply.started": "2023-05-15T16:45:38.586335Z"
    },
    "tags": []
   },
   "outputs": [],
   "source": [
    "# load test data\n",
    "X_test = np.load('mfcc30s20_arrays/X_test.npy')\n",
    "y_test = np.load('mfcc30s20_arrays/y_test.npy')"
   ]
  },
  {
   "cell_type": "code",
   "execution_count": null,
   "id": "8fc5cffc-1116-4af9-8027-5bdfbb94e6a7",
   "metadata": {},
   "outputs": [],
   "source": []
  },
  {
   "cell_type": "code",
   "execution_count": 5,
   "id": "eaa71015-ed66-4c9a-82af-aa5ae85ef67e",
   "metadata": {
    "execution": {
     "iopub.execute_input": "2023-05-15T16:18:08.847380Z",
     "iopub.status.busy": "2023-05-15T16:18:08.846733Z",
     "iopub.status.idle": "2023-05-15T16:18:09.289720Z",
     "shell.execute_reply": "2023-05-15T16:18:09.289008Z",
     "shell.execute_reply.started": "2023-05-15T16:18:08.847339Z"
    },
    "tags": []
   },
   "outputs": [],
   "source": [
    "zip_file_path = 'cnn1.zip'\n",
    "extract_path = 'cnn1'\n",
    "\n",
    "with zipfile.ZipFile(zip_file_path, 'r') as zip_ref:\n",
    "    zip_ref.extractall(extract_path)"
   ]
  },
  {
   "cell_type": "code",
   "execution_count": 3,
   "id": "a1c0d5e4-fe51-418f-98c0-92aca6485e66",
   "metadata": {
    "execution": {
     "iopub.execute_input": "2023-05-15T16:37:40.061078Z",
     "iopub.status.busy": "2023-05-15T16:37:40.060582Z",
     "iopub.status.idle": "2023-05-15T16:37:40.563102Z",
     "shell.execute_reply": "2023-05-15T16:37:40.562374Z",
     "shell.execute_reply.started": "2023-05-15T16:37:40.061050Z"
    },
    "tags": []
   },
   "outputs": [
    {
     "name": "stdout",
     "output_type": "stream",
     "text": [
      "WARNING:tensorflow:No training configuration found in save file, so the model was *not* compiled. Compile it manually.\n"
     ]
    }
   ],
   "source": [
    "cnn1 = tensorflow.keras.models.load_model('cnn1')"
   ]
  },
  {
   "cell_type": "code",
   "execution_count": 5,
   "id": "ea00802d-2b1f-4dda-afa7-4eae34e63603",
   "metadata": {
    "execution": {
     "iopub.execute_input": "2023-05-15T16:38:44.558055Z",
     "iopub.status.busy": "2023-05-15T16:38:44.557571Z",
     "iopub.status.idle": "2023-05-15T16:38:44.585059Z",
     "shell.execute_reply": "2023-05-15T16:38:44.584109Z",
     "shell.execute_reply.started": "2023-05-15T16:38:44.558026Z"
    },
    "tags": []
   },
   "outputs": [],
   "source": [
    "cnn1.compile(optimizer=keras.optimizers.Adam(learning_rate= 0.001),\n",
    "             loss = keras.losses.binary_crossentropy,\n",
    "             metrics = [keras.metrics.AUC(name=\"auc\"),\n",
    "                        keras.metrics.Precision(name=\"precision\"),\n",
    "                        keras.metrics.Recall(name=\"recall\")])"
   ]
  },
  {
   "cell_type": "code",
   "execution_count": 6,
   "id": "4df4a157-436d-47c9-8eea-bf3c6f364a62",
   "metadata": {
    "execution": {
     "iopub.execute_input": "2023-05-15T16:39:04.069563Z",
     "iopub.status.busy": "2023-05-15T16:39:04.068722Z",
     "iopub.status.idle": "2023-05-15T16:39:04.105609Z",
     "shell.execute_reply": "2023-05-15T16:39:04.104849Z",
     "shell.execute_reply.started": "2023-05-15T16:39:04.069506Z"
    },
    "tags": []
   },
   "outputs": [
    {
     "name": "stdout",
     "output_type": "stream",
     "text": [
      "Model: \"sequential_2\"\n",
      "_________________________________________________________________\n",
      " Layer (type)                Output Shape              Param #   \n",
      "=================================================================\n",
      " conv2d_8 (Conv2D)           (None, 1290, 18, 32)      320       \n",
      "                                                                 \n",
      " max_pooling2d_8 (MaxPooling  (None, 645, 9, 32)       0         \n",
      " 2D)                                                             \n",
      "                                                                 \n",
      " batch_normalization_8 (Batc  (None, 645, 9, 32)       128       \n",
      " hNormalization)                                                 \n",
      "                                                                 \n",
      " dropout_10 (Dropout)        (None, 645, 9, 32)        0         \n",
      "                                                                 \n",
      " conv2d_9 (Conv2D)           (None, 643, 7, 64)        18496     \n",
      "                                                                 \n",
      " max_pooling2d_9 (MaxPooling  (None, 215, 4, 64)       0         \n",
      " 2D)                                                             \n",
      "                                                                 \n",
      " batch_normalization_9 (Batc  (None, 215, 4, 64)       256       \n",
      " hNormalization)                                                 \n",
      "                                                                 \n",
      " dropout_11 (Dropout)        (None, 215, 4, 64)        0         \n",
      "                                                                 \n",
      " flatten_2 (Flatten)         (None, 55040)             0         \n",
      "                                                                 \n",
      " dense_2 (Dense)             (None, 128)               7045248   \n",
      "                                                                 \n",
      " dropout_12 (Dropout)        (None, 128)               0         \n",
      "                                                                 \n",
      " output (Dense)              (None, 10)                1290      \n",
      "                                                                 \n",
      "=================================================================\n",
      "Total params: 7,065,738\n",
      "Trainable params: 7,065,546\n",
      "Non-trainable params: 192\n",
      "_________________________________________________________________\n"
     ]
    }
   ],
   "source": [
    "cnn1.summary()"
   ]
  },
  {
   "cell_type": "code",
   "execution_count": 13,
   "id": "13f139e3-0fae-4273-b7b0-23dff14ca95c",
   "metadata": {
    "execution": {
     "iopub.execute_input": "2023-05-15T16:48:06.358229Z",
     "iopub.status.busy": "2023-05-15T16:48:06.357620Z",
     "iopub.status.idle": "2023-05-15T16:48:07.470784Z",
     "shell.execute_reply": "2023-05-15T16:48:07.469880Z",
     "shell.execute_reply.started": "2023-05-15T16:48:06.358188Z"
    },
    "tags": []
   },
   "outputs": [
    {
     "name": "stdout",
     "output_type": "stream",
     "text": [
      "45/45 [==============================] - 1s 22ms/step - loss: 0.7129 - auc: 0.4897 - precision: 0.1261 - recall: 0.5222\n",
      "AUC: 0.48969870805740356\n",
      "Precision: 0.12608341872692108\n",
      "Recall: 0.5221536755561829\n"
     ]
    }
   ],
   "source": [
    "# evaluate the CNN on the test set - examplary output for non-augmented 3 second segments with 20 MFCC coefficients\n",
    "# Assuming you have X_test and y_test as your test data\n",
    "\n",
    "# Evaluate the model on the test set\n",
    "loss, auc, precision, recall = cnn1.evaluate(X_test, y_test)\n",
    "\n",
    "# Print the test accuracy and other metrics\n",
    "# print(f'Test Accuracy: {accuracy}')\n",
    "print(f'AUC: {auc}')\n",
    "print(f'Precision: {precision}')\n",
    "print(f'Recall: {recall}')\n"
   ]
  },
  {
   "cell_type": "code",
   "execution_count": null,
   "id": "cf14d4c9-2f59-4f61-a17e-9659dff5e610",
   "metadata": {},
   "outputs": [],
   "source": []
  },
  {
   "cell_type": "code",
   "execution_count": 14,
   "id": "4592fb93-42fe-4f65-abbc-4431999f6485",
   "metadata": {
    "execution": {
     "iopub.execute_input": "2023-05-15T16:54:02.544764Z",
     "iopub.status.busy": "2023-05-15T16:54:02.544221Z",
     "iopub.status.idle": "2023-05-15T16:54:03.105042Z",
     "shell.execute_reply": "2023-05-15T16:54:03.103956Z",
     "shell.execute_reply.started": "2023-05-15T16:54:02.544731Z"
    },
    "tags": []
   },
   "outputs": [],
   "source": [
    "zip_file_path = 'cnn2.zip'\n",
    "extract_path = 'cnn2'\n",
    "\n",
    "with zipfile.ZipFile(zip_file_path, 'r') as zip_ref:\n",
    "    zip_ref.extractall(extract_path)"
   ]
  },
  {
   "cell_type": "code",
   "execution_count": 15,
   "id": "b731fc67-82e6-461f-992c-7b741ca1e027",
   "metadata": {
    "execution": {
     "iopub.execute_input": "2023-05-15T16:55:56.905038Z",
     "iopub.status.busy": "2023-05-15T16:55:56.904166Z",
     "iopub.status.idle": "2023-05-15T16:55:58.181258Z",
     "shell.execute_reply": "2023-05-15T16:55:58.180337Z",
     "shell.execute_reply.started": "2023-05-15T16:55:56.904978Z"
    },
    "tags": []
   },
   "outputs": [],
   "source": [
    "cnn2 = tensorflow.keras.models.load_model('cnn2')"
   ]
  },
  {
   "cell_type": "code",
   "execution_count": 16,
   "id": "b9a50f13-f84b-431a-a6d0-4d9c3216f2c6",
   "metadata": {
    "execution": {
     "iopub.execute_input": "2023-05-15T16:56:03.549330Z",
     "iopub.status.busy": "2023-05-15T16:56:03.548876Z",
     "iopub.status.idle": "2023-05-15T16:56:03.567566Z",
     "shell.execute_reply": "2023-05-15T16:56:03.566279Z",
     "shell.execute_reply.started": "2023-05-15T16:56:03.549300Z"
    },
    "tags": []
   },
   "outputs": [],
   "source": [
    "cnn2.compile(optimizer=keras.optimizers.Adam(learning_rate= 0.001),\n",
    "             loss = keras.losses.binary_crossentropy,\n",
    "             metrics = [keras.metrics.AUC(name=\"auc\"),\n",
    "                        keras.metrics.Precision(name=\"precision\"),\n",
    "                        keras.metrics.Recall(name=\"recall\")])"
   ]
  },
  {
   "cell_type": "code",
   "execution_count": 17,
   "id": "a78dd6b2-c559-47ed-8257-983d1423195d",
   "metadata": {
    "execution": {
     "iopub.execute_input": "2023-05-15T16:56:10.079033Z",
     "iopub.status.busy": "2023-05-15T16:56:10.078343Z",
     "iopub.status.idle": "2023-05-15T16:56:10.149359Z",
     "shell.execute_reply": "2023-05-15T16:56:10.148464Z",
     "shell.execute_reply.started": "2023-05-15T16:56:10.078976Z"
    },
    "tags": []
   },
   "outputs": [
    {
     "name": "stdout",
     "output_type": "stream",
     "text": [
      "Model: \"sequential_3\"\n",
      "_________________________________________________________________\n",
      " Layer (type)                Output Shape              Param #   \n",
      "=================================================================\n",
      " conv2d_10 (Conv2D)          (None, 1292, 20, 32)      320       \n",
      "                                                                 \n",
      " max_pooling2d_10 (MaxPoolin  (None, 646, 19, 32)      0         \n",
      " g2D)                                                            \n",
      "                                                                 \n",
      " batch_normalization_10 (Bat  (None, 646, 19, 32)      128       \n",
      " chNormalization)                                                \n",
      "                                                                 \n",
      " dropout_13 (Dropout)        (None, 646, 19, 32)       0         \n",
      "                                                                 \n",
      " conv2d_11 (Conv2D)          (None, 644, 17, 64)       18496     \n",
      "                                                                 \n",
      " max_pooling2d_11 (MaxPoolin  (None, 322, 16, 64)      0         \n",
      " g2D)                                                            \n",
      "                                                                 \n",
      " batch_normalization_11 (Bat  (None, 322, 16, 64)      256       \n",
      " chNormalization)                                                \n",
      "                                                                 \n",
      " dropout_14 (Dropout)        (None, 322, 16, 64)       0         \n",
      "                                                                 \n",
      " conv2d_12 (Conv2D)          (None, 320, 14, 128)      73856     \n",
      "                                                                 \n",
      " max_pooling2d_12 (MaxPoolin  (None, 160, 13, 128)     0         \n",
      " g2D)                                                            \n",
      "                                                                 \n",
      " batch_normalization_12 (Bat  (None, 160, 13, 128)     512       \n",
      " chNormalization)                                                \n",
      "                                                                 \n",
      " dropout_15 (Dropout)        (None, 160, 13, 128)      0         \n",
      "                                                                 \n",
      " conv2d_13 (Conv2D)          (None, 158, 11, 256)      295168    \n",
      "                                                                 \n",
      " max_pooling2d_13 (MaxPoolin  (None, 79, 10, 256)      0         \n",
      " g2D)                                                            \n",
      "                                                                 \n",
      " batch_normalization_13 (Bat  (None, 79, 10, 256)      1024      \n",
      " chNormalization)                                                \n",
      "                                                                 \n",
      " dropout_16 (Dropout)        (None, 79, 10, 256)       0         \n",
      "                                                                 \n",
      " conv2d_14 (Conv2D)          (None, 77, 8, 512)        1180160   \n",
      "                                                                 \n",
      " max_pooling2d_14 (MaxPoolin  (None, 38, 7, 512)       0         \n",
      " g2D)                                                            \n",
      "                                                                 \n",
      " batch_normalization_14 (Bat  (None, 38, 7, 512)       2048      \n",
      " chNormalization)                                                \n",
      "                                                                 \n",
      " dropout_17 (Dropout)        (None, 38, 7, 512)        0         \n",
      "                                                                 \n",
      " conv2d_15 (Conv2D)          (None, 36, 5, 256)        1179904   \n",
      "                                                                 \n",
      " max_pooling2d_15 (MaxPoolin  (None, 18, 4, 256)       0         \n",
      " g2D)                                                            \n",
      "                                                                 \n",
      " batch_normalization_15 (Bat  (None, 18, 4, 256)       1024      \n",
      " chNormalization)                                                \n",
      "                                                                 \n",
      " dropout_18 (Dropout)        (None, 18, 4, 256)        0         \n",
      "                                                                 \n",
      " flatten_3 (Flatten)         (None, 18432)             0         \n",
      "                                                                 \n",
      " dense_3 (Dense)             (None, 128)               2359424   \n",
      "                                                                 \n",
      " dropout_19 (Dropout)        (None, 128)               0         \n",
      "                                                                 \n",
      " output (Dense)              (None, 10)                1290      \n",
      "                                                                 \n",
      "=================================================================\n",
      "Total params: 5,113,610\n",
      "Trainable params: 5,111,114\n",
      "Non-trainable params: 2,496\n",
      "_________________________________________________________________\n"
     ]
    }
   ],
   "source": [
    "cnn2.summary()"
   ]
  },
  {
   "cell_type": "code",
   "execution_count": 18,
   "id": "06b912d1-f414-42d7-948f-889b5c412aa9",
   "metadata": {
    "execution": {
     "iopub.execute_input": "2023-05-15T16:56:21.043399Z",
     "iopub.status.busy": "2023-05-15T16:56:21.042707Z",
     "iopub.status.idle": "2023-05-15T16:56:28.024096Z",
     "shell.execute_reply": "2023-05-15T16:56:28.022936Z",
     "shell.execute_reply.started": "2023-05-15T16:56:21.043343Z"
    },
    "tags": []
   },
   "outputs": [
    {
     "name": "stdout",
     "output_type": "stream",
     "text": [
      "45/45 [==============================] - 7s 146ms/step - loss: 0.4453 - auc: 0.6148 - precision: 0.2384 - recall: 0.0550\n",
      "AUC: 0.6147589683532715\n",
      "Precision: 0.2384428232908249\n",
      "Recall: 0.05496354401111603\n"
     ]
    }
   ],
   "source": [
    "# evaluate the CNN on the test set - examplary output for non-augmented 3 second segments with 20 MFCC coefficients\n",
    "# Assuming you have X_test and y_test as your test data\n",
    "\n",
    "# Evaluate the model on the test set\n",
    "loss, auc, precision, recall = cnn2.evaluate(X_test, y_test)\n",
    "\n",
    "# Print the test accuracy and other metrics\n",
    "# print(f'Test Accuracy: {accuracy}')\n",
    "print(f'AUC: {auc}')\n",
    "print(f'Precision: {precision}')\n",
    "print(f'Recall: {recall}')\n"
   ]
  },
  {
   "cell_type": "code",
   "execution_count": null,
   "id": "a8f7926d-e850-47d8-8e5b-a7661586275b",
   "metadata": {},
   "outputs": [],
   "source": []
  },
  {
   "cell_type": "code",
   "execution_count": 19,
   "id": "53d94383-f645-4ae6-aeff-76f526fd5b71",
   "metadata": {
    "execution": {
     "iopub.execute_input": "2023-05-15T16:57:08.067152Z",
     "iopub.status.busy": "2023-05-15T16:57:08.066453Z",
     "iopub.status.idle": "2023-05-15T16:57:08.918384Z",
     "shell.execute_reply": "2023-05-15T16:57:08.917557Z",
     "shell.execute_reply.started": "2023-05-15T16:57:08.067094Z"
    },
    "tags": []
   },
   "outputs": [],
   "source": [
    "zip_file_path = 'cnn3.zip'\n",
    "extract_path = 'cnn3'\n",
    "\n",
    "with zipfile.ZipFile(zip_file_path, 'r') as zip_ref:\n",
    "    zip_ref.extractall(extract_path)"
   ]
  },
  {
   "cell_type": "code",
   "execution_count": 20,
   "id": "da2f0386-de1a-45b3-b677-0a57341b42aa",
   "metadata": {
    "execution": {
     "iopub.execute_input": "2023-05-15T16:57:30.757870Z",
     "iopub.status.busy": "2023-05-15T16:57:30.757281Z",
     "iopub.status.idle": "2023-05-15T16:57:31.613996Z",
     "shell.execute_reply": "2023-05-15T16:57:31.613092Z",
     "shell.execute_reply.started": "2023-05-15T16:57:30.757829Z"
    },
    "tags": []
   },
   "outputs": [],
   "source": [
    "cnn3 = tensorflow.keras.models.load_model('cnn3')"
   ]
  },
  {
   "cell_type": "code",
   "execution_count": 21,
   "id": "b1ceda2a-e440-4d53-a83a-6f718698a6d4",
   "metadata": {
    "execution": {
     "iopub.execute_input": "2023-05-15T16:57:32.713995Z",
     "iopub.status.busy": "2023-05-15T16:57:32.713447Z",
     "iopub.status.idle": "2023-05-15T16:57:32.743957Z",
     "shell.execute_reply": "2023-05-15T16:57:32.742426Z",
     "shell.execute_reply.started": "2023-05-15T16:57:32.713949Z"
    },
    "tags": []
   },
   "outputs": [],
   "source": [
    "cnn3.compile(optimizer=keras.optimizers.Adam(learning_rate= 0.001),\n",
    "             loss = keras.losses.binary_crossentropy,\n",
    "             metrics = [keras.metrics.AUC(name=\"auc\"),\n",
    "                        keras.metrics.Precision(name=\"precision\"),\n",
    "                        keras.metrics.Recall(name=\"recall\")])"
   ]
  },
  {
   "cell_type": "code",
   "execution_count": 22,
   "id": "223d67cb-5e3e-4f6b-810d-92c19b37d78f",
   "metadata": {
    "execution": {
     "iopub.execute_input": "2023-05-15T16:57:33.630336Z",
     "iopub.status.busy": "2023-05-15T16:57:33.629671Z",
     "iopub.status.idle": "2023-05-15T16:57:33.671346Z",
     "shell.execute_reply": "2023-05-15T16:57:33.670718Z",
     "shell.execute_reply.started": "2023-05-15T16:57:33.630280Z"
    },
    "tags": []
   },
   "outputs": [
    {
     "name": "stdout",
     "output_type": "stream",
     "text": [
      "Model: \"sequential_1\"\n",
      "_________________________________________________________________\n",
      " Layer (type)                Output Shape              Param #   \n",
      "=================================================================\n",
      " conv2d_4 (Conv2D)           (None, 646, 20, 128)      1280      \n",
      "                                                                 \n",
      " max_pooling2d_4 (MaxPooling  (None, 323, 10, 128)     0         \n",
      " 2D)                                                             \n",
      "                                                                 \n",
      " batch_normalization_5 (Batc  (None, 323, 10, 128)     512       \n",
      " hNormalization)                                                 \n",
      "                                                                 \n",
      " dropout_4 (Dropout)         (None, 323, 10, 128)      0         \n",
      "                                                                 \n",
      " conv2d_5 (Conv2D)           (None, 161, 8, 384)       442752    \n",
      "                                                                 \n",
      " max_pooling2d_5 (MaxPooling  (None, 81, 4, 384)       0         \n",
      " 2D)                                                             \n",
      "                                                                 \n",
      " batch_normalization_6 (Batc  (None, 81, 4, 384)       1536      \n",
      " hNormalization)                                                 \n",
      "                                                                 \n",
      " dropout_5 (Dropout)         (None, 81, 4, 384)        0         \n",
      "                                                                 \n",
      " conv2d_6 (Conv2D)           (None, 40, 4, 768)        885504    \n",
      "                                                                 \n",
      " max_pooling2d_6 (MaxPooling  (None, 18, 2, 768)       0         \n",
      " 2D)                                                             \n",
      "                                                                 \n",
      " batch_normalization_7 (Batc  (None, 18, 2, 768)       3072      \n",
      " hNormalization)                                                 \n",
      "                                                                 \n",
      " dropout_6 (Dropout)         (None, 18, 2, 768)        0         \n",
      "                                                                 \n",
      " conv2d_7 (Conv2D)           (None, 8, 1, 2024)        9328616   \n",
      "                                                                 \n",
      " max_pooling2d_7 (MaxPooling  (None, 1, 1, 2024)       0         \n",
      " 2D)                                                             \n",
      "                                                                 \n",
      " batch_normalization_8 (Batc  (None, 1, 1, 2024)       8096      \n",
      " hNormalization)                                                 \n",
      "                                                                 \n",
      " dropout_7 (Dropout)         (None, 1, 1, 2024)        0         \n",
      "                                                                 \n",
      " flatten_1 (Flatten)         (None, 2024)              0         \n",
      "                                                                 \n",
      " batch_normalization_9 (Batc  (None, 2024)             8096      \n",
      " hNormalization)                                                 \n",
      "                                                                 \n",
      " output (Dense)              (None, 10)                20250     \n",
      "                                                                 \n",
      "=================================================================\n",
      "Total params: 10,699,714\n",
      "Trainable params: 10,689,058\n",
      "Non-trainable params: 10,656\n",
      "_________________________________________________________________\n"
     ]
    }
   ],
   "source": [
    "cnn3.summary()"
   ]
  },
  {
   "cell_type": "code",
   "execution_count": 23,
   "id": "42619e4b-59ba-492c-a730-f5deba24025e",
   "metadata": {
    "execution": {
     "iopub.execute_input": "2023-05-15T16:57:37.116999Z",
     "iopub.status.busy": "2023-05-15T16:57:37.116038Z",
     "iopub.status.idle": "2023-05-15T16:57:41.019048Z",
     "shell.execute_reply": "2023-05-15T16:57:41.017869Z",
     "shell.execute_reply.started": "2023-05-15T16:57:37.116898Z"
    },
    "tags": []
   },
   "outputs": [
    {
     "name": "stdout",
     "output_type": "stream",
     "text": [
      "45/45 [==============================] - 4s 78ms/step - loss: 0.4717 - auc: 0.7034 - precision: 0.3022 - recall: 0.2036\n",
      "AUC: 0.7033874988555908\n",
      "Precision: 0.30224812030792236\n",
      "Recall: 0.20358945429325104\n"
     ]
    }
   ],
   "source": [
    "# evaluate the CNN on the test set - examplary output for non-augmented 3 second segments with 20 MFCC coefficients\n",
    "# Assuming you have X_test and y_test as your test data\n",
    "\n",
    "# Evaluate the model on the test set\n",
    "loss, auc, precision, recall = cnn3.evaluate(X_test, y_test)\n",
    "\n",
    "# Print the test accuracy and other metrics\n",
    "# print(f'Test Accuracy: {accuracy}')\n",
    "print(f'AUC: {auc}')\n",
    "print(f'Precision: {precision}')\n",
    "print(f'Recall: {recall}')\n"
   ]
  },
  {
   "cell_type": "code",
   "execution_count": 24,
   "id": "0e20ad0f-05c2-435b-ae7d-da96ceb7d8a8",
   "metadata": {
    "execution": {
     "iopub.execute_input": "2023-05-15T20:21:43.502057Z",
     "iopub.status.busy": "2023-05-15T20:21:43.501405Z",
     "iopub.status.idle": "2023-05-15T20:21:47.304355Z",
     "shell.execute_reply": "2023-05-15T20:21:47.303086Z",
     "shell.execute_reply.started": "2023-05-15T20:21:43.502002Z"
    },
    "tags": []
   },
   "outputs": [
    {
     "name": "stdout",
     "output_type": "stream",
     "text": [
      "45/45 [==============================] - 4s 79ms/step\n"
     ]
    }
   ],
   "source": [
    "predictions = cnn3.predict(X_test)"
   ]
  },
  {
   "cell_type": "code",
   "execution_count": 25,
   "id": "6cf88e94-605d-4860-9d54-7b08f74cfa28",
   "metadata": {
    "execution": {
     "iopub.execute_input": "2023-05-15T20:22:04.892789Z",
     "iopub.status.busy": "2023-05-15T20:22:04.891709Z",
     "iopub.status.idle": "2023-05-15T20:22:04.903148Z",
     "shell.execute_reply": "2023-05-15T20:22:04.901251Z",
     "shell.execute_reply.started": "2023-05-15T20:22:04.892732Z"
    },
    "tags": []
   },
   "outputs": [
    {
     "data": {
      "text/plain": [
       "(1413, 10)"
      ]
     },
     "execution_count": 25,
     "metadata": {},
     "output_type": "execute_result"
    }
   ],
   "source": [
    "predictions.shape"
   ]
  },
  {
   "cell_type": "code",
   "execution_count": 41,
   "id": "b20c1ee0-7696-45e6-83c1-9d369bade4b5",
   "metadata": {
    "execution": {
     "iopub.execute_input": "2023-05-15T21:48:04.293165Z",
     "iopub.status.busy": "2023-05-15T21:48:04.292514Z",
     "iopub.status.idle": "2023-05-15T21:48:04.300875Z",
     "shell.execute_reply": "2023-05-15T21:48:04.299193Z",
     "shell.execute_reply.started": "2023-05-15T21:48:04.293113Z"
    },
    "tags": []
   },
   "outputs": [],
   "source": [
    "# multi label predictions and accuracy measures\n",
    "from sklearn.metrics import accuracy_score, precision_score, recall_score, f1_score, multilabel_confusion_matrix, classification_report"
   ]
  },
  {
   "cell_type": "code",
   "execution_count": 30,
   "id": "273efc57-d0af-49ed-8c21-10307d241cd0",
   "metadata": {
    "collapsed": true,
    "execution": {
     "iopub.execute_input": "2023-05-15T21:03:53.316125Z",
     "iopub.status.busy": "2023-05-15T21:03:53.315460Z",
     "iopub.status.idle": "2023-05-15T21:04:00.199533Z",
     "shell.execute_reply": "2023-05-15T21:04:00.197110Z",
     "shell.execute_reply.started": "2023-05-15T21:03:53.316072Z"
    },
    "jupyter": {
     "outputs_hidden": true
    },
    "tags": []
   },
   "outputs": [
    {
     "name": "stdout",
     "output_type": "stream",
     "text": [
      "Collecting scikit-learn\n",
      "  Downloading scikit_learn-1.2.2-cp310-cp310-manylinux_2_17_x86_64.manylinux2014_x86_64.whl (9.6 MB)\n",
      "\u001b[2K     \u001b[90m━━━━━━━━━━━━━━━━━━━━━━━━━━━━━━━━━━━━━━━━\u001b[0m \u001b[32m9.6/9.6 MB\u001b[0m \u001b[31m29.4 MB/s\u001b[0m eta \u001b[36m0:00:00\u001b[0m00:01\u001b[0m00:01\u001b[0m\n",
      "\u001b[?25hRequirement already satisfied: numpy>=1.17.3 in /opt/conda/lib/python3.10/site-packages (from scikit-learn) (1.23.5)\n",
      "Collecting joblib>=1.1.1\n",
      "  Downloading joblib-1.2.0-py3-none-any.whl (297 kB)\n",
      "\u001b[2K     \u001b[90m━━━━━━━━━━━━━━━━━━━━━━━━━━━━━━━━━━━━━━━\u001b[0m \u001b[32m298.0/298.0 kB\u001b[0m \u001b[31m4.2 MB/s\u001b[0m eta \u001b[36m0:00:00\u001b[0m00:01\u001b[0m\n",
      "\u001b[?25hRequirement already satisfied: scipy>=1.3.2 in /opt/conda/lib/python3.10/site-packages (from scikit-learn) (1.10.1)\n",
      "Collecting threadpoolctl>=2.0.0\n",
      "  Downloading threadpoolctl-3.1.0-py3-none-any.whl (14 kB)\n",
      "Installing collected packages: threadpoolctl, joblib, scikit-learn\n",
      "Successfully installed joblib-1.2.0 scikit-learn-1.2.2 threadpoolctl-3.1.0\n"
     ]
    }
   ],
   "source": [
    "!pip install scikit-learn"
   ]
  },
  {
   "cell_type": "code",
   "execution_count": null,
   "id": "ac52b6bd-53a9-46c8-808e-070444535d8f",
   "metadata": {},
   "outputs": [],
   "source": [
    "def multi_label_scores(model):\n",
    "    \n",
    "    thresholds = [0.5] * 10\n",
    "    predictions = model.predict(X_test)\n",
    "    y_pred_labels = np.where(predictions >= thresholds, 1, 0)\n",
    "    \n",
    "    report = classification_report(\n",
    "            y_test,\n",
    "            y_pred_labels,\n",
    "            output_dict=False,\n",
    "            target_names=['inspiring', 'energetic', 'happy', 'sad', 'motivational', 'relaxing', 'uplifting', 'calm', 'love','hopeful'],\n",
    "            zero_division=1\n",
    "            )\n",
    "    print(report)\n",
    "    "
   ]
  },
  {
   "cell_type": "code",
   "execution_count": 32,
   "id": "25898b79-0bc4-429b-a751-4c8ef83550f8",
   "metadata": {
    "execution": {
     "iopub.execute_input": "2023-05-15T21:04:39.383439Z",
     "iopub.status.busy": "2023-05-15T21:04:39.382768Z",
     "iopub.status.idle": "2023-05-15T21:04:39.396683Z",
     "shell.execute_reply": "2023-05-15T21:04:39.394664Z",
     "shell.execute_reply.started": "2023-05-15T21:04:39.383385Z"
    },
    "tags": []
   },
   "outputs": [
    {
     "name": "stdout",
     "output_type": "stream",
     "text": [
      "[0.5, 0.5, 0.5, 0.5, 0.5, 0.5, 0.5, 0.5, 0.5, 0.5]\n"
     ]
    }
   ],
   "source": [
    "# how to choose the thresholds?\n",
    "thresholds = [0.5] * 10\n",
    "print(thresholds)"
   ]
  },
  {
   "cell_type": "code",
   "execution_count": 33,
   "id": "9c65d2a4-9671-4273-bd45-08fe1072ed97",
   "metadata": {
    "execution": {
     "iopub.execute_input": "2023-05-15T21:05:20.268232Z",
     "iopub.status.busy": "2023-05-15T21:05:20.267516Z",
     "iopub.status.idle": "2023-05-15T21:05:20.275886Z",
     "shell.execute_reply": "2023-05-15T21:05:20.274621Z",
     "shell.execute_reply.started": "2023-05-15T21:05:20.268175Z"
    },
    "tags": []
   },
   "outputs": [],
   "source": [
    "y_pred_labels = np.where(predictions >= thresholds, 1, 0)"
   ]
  },
  {
   "cell_type": "code",
   "execution_count": 35,
   "id": "c7255d5e-b055-4990-8249-0cd9f7ce6b80",
   "metadata": {
    "execution": {
     "iopub.execute_input": "2023-05-15T21:06:35.395496Z",
     "iopub.status.busy": "2023-05-15T21:06:35.394687Z",
     "iopub.status.idle": "2023-05-15T21:06:35.430829Z",
     "shell.execute_reply": "2023-05-15T21:06:35.429961Z",
     "shell.execute_reply.started": "2023-05-15T21:06:35.395442Z"
    },
    "tags": []
   },
   "outputs": [],
   "source": [
    "accuracy = accuracy_score(y_test, y_pred_labels)\n",
    "precision = precision_score(y_test, y_pred_labels, average='micro')\n",
    "recall = recall_score(y_test, y_pred_labels, average='micro')\n",
    "f1 = f1_score(y_test, y_pred_labels, average='micro')"
   ]
  },
  {
   "cell_type": "code",
   "execution_count": 36,
   "id": "0e23578a-dfc6-43f6-b5b9-4716cc04ed8b",
   "metadata": {
    "execution": {
     "iopub.execute_input": "2023-05-15T21:07:41.442186Z",
     "iopub.status.busy": "2023-05-15T21:07:41.441527Z",
     "iopub.status.idle": "2023-05-15T21:07:41.451672Z",
     "shell.execute_reply": "2023-05-15T21:07:41.450736Z",
     "shell.execute_reply.started": "2023-05-15T21:07:41.442133Z"
    },
    "tags": []
   },
   "outputs": [
    {
     "name": "stdout",
     "output_type": "stream",
     "text": [
      "Accuracy: 0.1047\n",
      "The accuracy score represents the overall accuracy of the predictions, which is the ratio of correct predictions to the total number of samples.\n",
      "Precision: 0.3022\n",
      "Precision measures the proportion of correctly predicted positive labels (true positives) out of all positive predictions. A higher precision indicates a lower false positive rate.\n",
      "Recall: 0.2036\n",
      "Recall, also known as sensitivity or true positive rate, measures the proportion of correctly predicted positive labels (true positives) out of all actual positive samples. A higher recall indicates a lower false negative rate.\n",
      "F1 Score: 0.2433\n",
      "The F1 score is the harmonic mean of precision and recall. It provides a balanced measure of the model's performance by considering both precision and recall. It is a single metric that summarizes the model's accuracy and completeness.\n"
     ]
    }
   ],
   "source": [
    "print(f\"Accuracy: {accuracy:.4f}\")\n",
    "print(\"The accuracy score represents the overall accuracy of the predictions, which is the ratio of correct predictions to the total number of samples.\")\n",
    "\n",
    "print(f\"Precision: {precision:.4f}\")\n",
    "print(\"Precision measures the proportion of correctly predicted positive labels (true positives) out of all positive predictions. A higher precision indicates a lower false positive rate.\")\n",
    "\n",
    "print(f\"Recall: {recall:.4f}\")\n",
    "print(\"Recall, also known as sensitivity or true positive rate, measures the proportion of correctly predicted positive labels (true positives) out of all actual positive samples. A higher recall indicates a lower false negative rate.\")\n",
    "\n",
    "print(f\"F1 Score: {f1:.4f}\")\n",
    "print(\"The F1 score is the harmonic mean of precision and recall. It provides a balanced measure of the model's performance by considering both precision and recall. It is a single metric that summarizes the model's accuracy and completeness.\")"
   ]
  },
  {
   "cell_type": "code",
   "execution_count": 39,
   "id": "bd172135-6478-411d-b458-ce25eab69922",
   "metadata": {
    "execution": {
     "iopub.execute_input": "2023-05-15T21:37:41.451443Z",
     "iopub.status.busy": "2023-05-15T21:37:41.450786Z",
     "iopub.status.idle": "2023-05-15T21:37:41.467233Z",
     "shell.execute_reply": "2023-05-15T21:37:41.465670Z",
     "shell.execute_reply.started": "2023-05-15T21:37:41.451390Z"
    },
    "tags": []
   },
   "outputs": [
    {
     "name": "stdout",
     "output_type": "stream",
     "text": [
      "Confusion matrix for label 1:\n",
      "[[1305   12]\n",
      " [  95    1]]\n",
      "\n",
      "Confusion matrix for label 2:\n",
      "[[1136   18]\n",
      " [ 239   20]]\n",
      "\n",
      "Confusion matrix for label 3:\n",
      "[[946 133]\n",
      " [243  91]]\n",
      "\n",
      "Confusion matrix for label 4:\n",
      "[[1356   17]\n",
      " [  39    1]]\n",
      "\n",
      "Confusion matrix for label 5:\n",
      "[[1006  228]\n",
      " [ 120   59]]\n",
      "\n",
      "Confusion matrix for label 6:\n",
      "[[1194   26]\n",
      " [ 172   21]]\n",
      "\n",
      "Confusion matrix for label 7:\n",
      "[[1198   83]\n",
      " [ 111   21]]\n",
      "\n",
      "Confusion matrix for label 8:\n",
      "[[868 277]\n",
      " [128 140]]\n",
      "\n",
      "Confusion matrix for label 9:\n",
      "[[1239   24]\n",
      " [ 145    5]]\n",
      "\n",
      "Confusion matrix for label 10:\n",
      "[[1261   20]\n",
      " [ 128    4]]\n",
      "\n"
     ]
    }
   ],
   "source": [
    "# multi label confusion matrix\n",
    "confusion_matrix = multilabel_confusion_matrix(y_test, y_pred_labels)\n",
    "\n",
    "for i, matrix in enumerate(confusion_matrix):\n",
    "    print(f\"Confusion matrix for label {i+1}:\")\n",
    "    print(matrix)\n",
    "    print()"
   ]
  },
  {
   "cell_type": "code",
   "execution_count": 43,
   "id": "b51963ae-b5fd-4330-9c64-d43d44755df9",
   "metadata": {
    "execution": {
     "iopub.execute_input": "2023-05-15T21:51:35.559654Z",
     "iopub.status.busy": "2023-05-15T21:51:35.558999Z",
     "iopub.status.idle": "2023-05-15T21:51:35.581049Z",
     "shell.execute_reply": "2023-05-15T21:51:35.580190Z",
     "shell.execute_reply.started": "2023-05-15T21:51:35.559601Z"
    },
    "tags": []
   },
   "outputs": [
    {
     "name": "stdout",
     "output_type": "stream",
     "text": [
      "              precision    recall  f1-score   support\n",
      "\n",
      "   inspiring       0.08      0.01      0.02        96\n",
      "   energetic       0.53      0.08      0.13       259\n",
      "       happy       0.41      0.27      0.33       334\n",
      "         sad       0.06      0.03      0.03        40\n",
      "motivational       0.21      0.33      0.25       179\n",
      "    relaxing       0.45      0.11      0.17       193\n",
      "   uplifting       0.20      0.16      0.18       132\n",
      "        calm       0.34      0.52      0.41       268\n",
      "        love       0.17      0.03      0.06       150\n",
      "     hopeful       0.17      0.03      0.05       132\n",
      "\n",
      "   micro avg       0.30      0.20      0.24      1783\n",
      "   macro avg       0.26      0.16      0.16      1783\n",
      "weighted avg       0.32      0.20      0.21      1783\n",
      " samples avg       0.56      0.19      0.18      1783\n",
      "\n"
     ]
    }
   ],
   "source": [
    "# averages of a metrics — precision, recall or f1-score — over all classes\n",
    "report = classification_report(\n",
    "            y_test,\n",
    "            y_pred_labels,\n",
    "            output_dict=False,\n",
    "            target_names=['inspiring', 'energetic', 'happy', 'sad', 'motivational', 'relaxing', 'uplifting', 'calm', 'love','hopeful'],\n",
    "            zero_division=1\n",
    "            )\n",
    "\n",
    "print(report)"
   ]
  }
 ],
 "metadata": {
  "kernelspec": {
   "display_name": "Python 3 (ipykernel)",
   "language": "python",
   "name": "python3"
  },
  "language_info": {
   "codemirror_mode": {
    "name": "ipython",
    "version": 3
   },
   "file_extension": ".py",
   "mimetype": "text/x-python",
   "name": "python",
   "nbconvert_exporter": "python",
   "pygments_lexer": "ipython3",
   "version": "3.9.12"
  }
 },
 "nbformat": 4,
 "nbformat_minor": 5
}

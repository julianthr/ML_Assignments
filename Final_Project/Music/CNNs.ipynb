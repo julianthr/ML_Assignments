{
  "cells": [
    {
      "cell_type": "markdown",
      "metadata": {
        "id": "view-in-github",
        "colab_type": "text"
      },
      "source": [
        "<a href=\"https://colab.research.google.com/github/julianthr/ML_Assignments/blob/main/Final_Project/Music/CNNs.ipynb\" target=\"_parent\"><img src=\"https://colab.research.google.com/assets/colab-badge.svg\" alt=\"Open In Colab\"/></a>"
      ]
    },
    {
      "cell_type": "code",
      "execution_count": null,
      "id": "b3b52728",
      "metadata": {
        "id": "b3b52728"
      },
      "outputs": [],
      "source": [
        "import tensorflow\n",
        "import tensorflow.keras as keras\n",
        "from keras.models import Sequential\n",
        "from keras.layers import Reshape, Permute, GRU\n",
        "from keras.layers import Dense, Activation, Conv2D, MaxPool2D, BatchNormalization, Flatten, Dropout, LSTM\n",
        "from keras.callbacks import ModelCheckpoint, TensorBoard, ReduceLROnPlateau\n",
        "import matplotlib.pyplot as plt"
      ]
    },
    {
      "cell_type": "code",
      "execution_count": null,
      "id": "26044006",
      "metadata": {
        "colab": {
          "base_uri": "https://localhost:8080/"
        },
        "id": "26044006",
        "outputId": "556a7059-923e-4320-da37-df3d05cd1c34"
      },
      "outputs": [
        {
          "output_type": "stream",
          "name": "stdout",
          "text": [
            "Drive already mounted at /content/drive; to attempt to forcibly remount, call drive.mount(\"/content/drive\", force_remount=True).\n"
          ]
        }
      ],
      "source": [
        "from google.colab import drive\n",
        "\n",
        "# mount to Google Drive \n",
        "drive.mount(\"/content/drive\")\n",
        "\n",
        "# save the most common part of file path\n",
        "root_path = \"/content/drive/My Drive/Audio_Mood_Classification\""
      ]
    },
    {
      "cell_type": "code",
      "source": [
        "import numpy as np\n",
        "import os"
      ],
      "metadata": {
        "id": "LQXwFzFH6ERC"
      },
      "id": "LQXwFzFH6ERC",
      "execution_count": null,
      "outputs": []
    },
    {
      "cell_type": "code",
      "source": [
        "# load train, validation and test data\n",
        "\n",
        "# MFCCs\n",
        "file_names = ['X_train_mfcc30s.npy',\n",
        "              'X_val_mfcc30s.npy',\n",
        "              'X_test_mfcc30s.npy',\n",
        "              'y_train_mfcc30s.npy',\n",
        "              'y_val_mfcc30s.npy',\n",
        "              'y_test_mfcc30s.npy']\n",
        "\n",
        "folder = \"train_test_data/mfcc30s\"\n",
        "\n",
        "for name in file_names:\n",
        "    file_path = os.path.join(root_path, folder, name)\n",
        "    var_name = name.split('.')[0]\n",
        "    globals()[var_name] = np.load(file_path)\n",
        "\n",
        "# path = root_path + \"/train_test_data/mfcc30s/\" + file_name\n",
        "\n",
        "# X_train, X_val, X_test, y_train, y_val, y_test = [np.load(f) for f in file_names]\n",
        "\n",
        "\n",
        "# # declare variables\n",
        "# X_train_mfcc30s, X_val_mfcc30s, X_test_mfcc30s, y_train_mfcc30s, y_val_mfcc30s, y_test_mfcc30s = None, None, None, None, None, None\n",
        "\n",
        "# files = [X_train_mfcc30s, X_val_mfcc30s, X_test_mfcc30s, y_train_mfcc30s, y_val_mfcc30s, y_test_mfcc30s]\n",
        "\n",
        "# # load files\n",
        "# for file, file_name in zip(files, file_names):\n",
        "#     path = root_path + \"/train_test_data/mfcc30s/\" + file_name\n",
        "#     file = np.load(path)"
      ],
      "metadata": {
        "id": "4DmfYm_l6KlW"
      },
      "id": "4DmfYm_l6KlW",
      "execution_count": null,
      "outputs": []
    },
    {
      "cell_type": "code",
      "source": [
        "print('X_train_mfcc30s:')\n",
        "print(X_train_mfcc30s.shape)\n",
        "# print(X_train_mfcc30s[:5])\n",
        "print()\n",
        "print('X_val_mfcc30s:')\n",
        "print(X_val_mfcc30s.shape)\n",
        "# print(X_val_mfcc30s[:5])\n",
        "print()\n",
        "print('X_test_mfcc30s:')\n",
        "print(X_test_mfcc30s.shape)\n",
        "# print(X_test_mfcc30s[:5])\n",
        "print()\n",
        "print(\"y_train_mfcc30s:\")\n",
        "print(y_train_mfcc30s.shape)\n",
        "# print(y_train_mfcc30s[:5])\n",
        "print()\n",
        "print(\"y_val_mfcc30s:\")\n",
        "print(y_val_mfcc30s.shape)\n",
        "# print(y_val_mfcc30s[:5])\n",
        "print()\n",
        "print(\"y_test_mfcc30s:\")\n",
        "print(y_test_mfcc30s.shape)\n",
        "# print(y_test_mfcc30s[:5])\n"
      ],
      "metadata": {
        "id": "UKwRePh_7HNZ",
        "colab": {
          "base_uri": "https://localhost:8080/"
        },
        "outputId": "a1164bea-f0a3-49e9-eab4-e8425e4b17b7"
      },
      "id": "UKwRePh_7HNZ",
      "execution_count": null,
      "outputs": [
        {
          "output_type": "stream",
          "name": "stdout",
          "text": [
            "X_train_mfcc30s:\n",
            "(46, 1292, 20, 1)\n",
            "\n",
            "X_val_mfcc30s:\n",
            "(16, 1292, 20, 1)\n",
            "\n",
            "X_test_mfcc30s:\n",
            "(16, 1292, 20, 1)\n",
            "\n",
            "y_train_mfcc30s:\n",
            "(46, 10)\n",
            "\n",
            "y_val_mfcc30s:\n",
            "(16, 10)\n",
            "\n",
            "y_test_mfcc30s:\n",
            "(16, 10)\n"
          ]
        }
      ]
    },
    {
      "cell_type": "code",
      "source": [
        "# define input shape and optimizer for all CNNs, build uniform compiler and fit functions\n",
        "input_shape = (X_train_mfcc30s.shape[1], X_train_mfcc30s.shape[2], X_train_mfcc30s.shape[3])\n",
        "\n",
        "optimizer = keras.optimizers.Adam(learning_rate= 0.001)\n",
        "\n",
        "epochs = 30\n",
        "\n",
        "def compiler(cnn, optimizer=optimizer):\n",
        "  cnn.compile(optimizer=optimizer,\n",
        "             loss = keras.losses.binary_crossentropy,\n",
        "             metrics = [keras.metrics.AUC(name=\"auc\"),\n",
        "                        keras.metrics.Precision(name=\"precision\"),\n",
        "                        keras.metrics.Recall(name=\"recall\")])\n",
        "\n",
        "def fit_model(cnn):\n",
        "  history = cnn.fit(X_train_mfcc30s, y_train_mfcc30s,\n",
        "                    validation_data = (X_val_mfcc30s, y_val_mfcc30s),\n",
        "                    batch_size=32, epochs = epochs)\n",
        "  return history\n",
        "\n",
        "def plot_training(history):\n",
        "  # retrieve time series from history\n",
        "  auc = history.history['auc']\n",
        "  val_auc = history.history['val_auc']\n",
        "  loss=history.history['loss']\n",
        "  val_loss=history.history['val_loss']\n",
        "\n",
        "  epochs_range = range(epochs)\n",
        "\n",
        "  # Plot the figure for Training and Validation Accuracy\n",
        "  plt.plot(epochs_range, auc, label='Training AUC')\n",
        "  plt.plot(epochs_range, val_auc, label='Validation AUC')\n",
        "  plt.legend(loc='lower right')\n",
        "  plt.title('Training and Validation AUC')\n",
        "  plt.show()\n",
        "\n",
        "  # Plot the figure for Training and Validation Loss\n",
        "  plt.plot(epochs_range, loss, label='Training Loss')\n",
        "  plt.plot(epochs_range, val_loss, label='Validation Loss')\n",
        "  plt.legend(loc='upper right')\n",
        "  plt.title('Training and Validation Loss')\n",
        "  plt.show()\n",
        "  \n"
      ],
      "metadata": {
        "id": "h3wHWw5BFv6c"
      },
      "id": "h3wHWw5BFv6c",
      "execution_count": null,
      "outputs": []
    },
    {
      "cell_type": "code",
      "source": [
        "\n",
        "# CNN 1: Shallow CNN\n",
        "cnn1 = keras.models.Sequential([\n",
        "    # 1st conv layer\n",
        "    keras.layers.Conv2D(32, (3, 3), activation = 'relu', input_shape = input_shape),\n",
        "    keras.layers.MaxPool2D((3, 3), strides = (2, 2), padding = 'same'),\n",
        "    keras.layers.BatchNormalization(),\n",
        "    keras.layers.Dropout(0.1),\n",
        "\n",
        "    # 2nd conv layer\n",
        "    keras.layers.Conv2D(64, (2, 2), activation='relu'),\n",
        "    keras.layers.MaxPool2D((2, 2), strides=(3, 2), padding='same'),\n",
        "    keras.layers.BatchNormalization(),\n",
        "    keras.layers.Dropout(0.1),\n",
        "\n",
        "    # flatten\n",
        "    keras.layers.Flatten(),\n",
        "\n",
        "    # fully connected layer\n",
        "    keras.layers.Dense(128, activation='relu'),\n",
        "    keras.layers.Dropout(0.3),\n",
        "    \n",
        "    # output layer\n",
        "    keras.layers.Dense(10, activation = 'sigmoid', name='output')\n",
        "])"
      ],
      "metadata": {
        "id": "i2DMKgB4GlrS"
      },
      "id": "i2DMKgB4GlrS",
      "execution_count": null,
      "outputs": []
    },
    {
      "cell_type": "code",
      "source": [
        "# compile model\n",
        "compiler(cnn1)\n",
        "\n",
        "# train model\n",
        "cnn1_history = fit_model(cnn1)"
      ],
      "metadata": {
        "id": "kg3IVpExIzaP",
        "colab": {
          "base_uri": "https://localhost:8080/"
        },
        "outputId": "bcabc33c-cfaa-4336-dc42-c376422e5706"
      },
      "id": "kg3IVpExIzaP",
      "execution_count": null,
      "outputs": [
        {
          "output_type": "stream",
          "name": "stdout",
          "text": [
            "Epoch 1/30\n",
            "2/2 [==============================] - 3s 724ms/step - loss: 1.4724 - auc: 0.5423 - precision_17: 0.1347 - recall_17: 0.4483 - val_loss: 0.9893 - val_auc: 0.5573 - val_precision_17: 0.1442 - val_recall_17: 0.7500\n",
            "Epoch 2/30\n",
            "2/2 [==============================] - 1s 484ms/step - loss: 3.1922 - auc: 0.6027 - precision_17: 0.2955 - recall_17: 0.2241 - val_loss: 1.1609 - val_auc: 0.6007 - val_precision_17: 0.1458 - val_recall_17: 0.7000\n",
            "Epoch 3/30\n",
            "2/2 [==============================] - 1s 494ms/step - loss: 2.4283 - auc: 0.7294 - precision_17: 0.4219 - recall_17: 0.4655 - val_loss: 1.0647 - val_auc: 0.5723 - val_precision_17: 0.1548 - val_recall_17: 0.6500\n",
            "Epoch 4/30\n",
            "2/2 [==============================] - 2s 678ms/step - loss: 1.4156 - auc: 0.8060 - precision_17: 0.5211 - recall_17: 0.6379 - val_loss: 0.9697 - val_auc: 0.5748 - val_precision_17: 0.1500 - val_recall_17: 0.6000\n",
            "Epoch 5/30\n",
            "2/2 [==============================] - 2s 698ms/step - loss: 0.8623 - auc: 0.9035 - precision_17: 0.5476 - recall_17: 0.7931 - val_loss: 0.8758 - val_auc: 0.5045 - val_precision_17: 0.1500 - val_recall_17: 0.6000\n",
            "Epoch 6/30\n",
            "2/2 [==============================] - 2s 506ms/step - loss: 0.6151 - auc: 0.9450 - precision_17: 0.5976 - recall_17: 0.8448 - val_loss: 0.7715 - val_auc: 0.4809 - val_precision_17: 0.1412 - val_recall_17: 0.6000\n",
            "Epoch 7/30\n",
            "2/2 [==============================] - 1s 433ms/step - loss: 0.4217 - auc: 0.9108 - precision_17: 0.6154 - recall_17: 0.8276 - val_loss: 0.7336 - val_auc: 0.4730 - val_precision_17: 0.1124 - val_recall_17: 0.5000\n",
            "Epoch 8/30\n",
            "2/2 [==============================] - 1s 420ms/step - loss: 0.5454 - auc: 0.9039 - precision_17: 0.5595 - recall_17: 0.8103 - val_loss: 0.6945 - val_auc: 0.4905 - val_precision_17: 0.1184 - val_recall_17: 0.4500\n",
            "Epoch 9/30\n",
            "2/2 [==============================] - 1s 433ms/step - loss: 0.2718 - auc: 0.9655 - precision_17: 0.7123 - recall_17: 0.8966 - val_loss: 0.6654 - val_auc: 0.6038 - val_precision_17: 0.2093 - val_recall_17: 0.4500\n",
            "Epoch 10/30\n",
            "2/2 [==============================] - 1s 413ms/step - loss: 0.1512 - auc: 0.9656 - precision_17: 0.7714 - recall_17: 0.9310 - val_loss: 0.6565 - val_auc: 0.6034 - val_precision_17: 0.1852 - val_recall_17: 0.5000\n",
            "Epoch 11/30\n",
            "2/2 [==============================] - 2s 767ms/step - loss: 0.2073 - auc: 0.9503 - precision_17: 0.7937 - recall_17: 0.8621 - val_loss: 0.6434 - val_auc: 0.6087 - val_precision_17: 0.1795 - val_recall_17: 0.7000\n",
            "Epoch 12/30\n",
            "2/2 [==============================] - 2s 558ms/step - loss: 0.2248 - auc: 0.9671 - precision_17: 0.7571 - recall_17: 0.9138 - val_loss: 0.6596 - val_auc: 0.6052 - val_precision_17: 0.1571 - val_recall_17: 0.5500\n",
            "Epoch 13/30\n",
            "2/2 [==============================] - 2s 815ms/step - loss: 0.2837 - auc: 0.9676 - precision_17: 0.8421 - recall_17: 0.8276 - val_loss: 0.6851 - val_auc: 0.6305 - val_precision_17: 0.1525 - val_recall_17: 0.4500\n",
            "Epoch 14/30\n",
            "2/2 [==============================] - 2s 896ms/step - loss: 0.1333 - auc: 0.9772 - precision_17: 0.8413 - recall_17: 0.9138 - val_loss: 0.7041 - val_auc: 0.5996 - val_precision_17: 0.1571 - val_recall_17: 0.5500\n",
            "Epoch 15/30\n",
            "2/2 [==============================] - 3s 858ms/step - loss: 0.1283 - auc: 0.9785 - precision_17: 0.8966 - recall_17: 0.8966 - val_loss: 0.7261 - val_auc: 0.5530 - val_precision_17: 0.1463 - val_recall_17: 0.6000\n",
            "Epoch 16/30\n",
            "2/2 [==============================] - 2s 624ms/step - loss: 0.2888 - auc: 0.9491 - precision_17: 0.7500 - recall_17: 0.8276 - val_loss: 0.7365 - val_auc: 0.5141 - val_precision_17: 0.1011 - val_recall_17: 0.4500\n",
            "Epoch 17/30\n",
            "2/2 [==============================] - 1s 513ms/step - loss: 0.1170 - auc: 0.9740 - precision_17: 0.8596 - recall_17: 0.8448 - val_loss: 0.7484 - val_auc: 0.4918 - val_precision_17: 0.0978 - val_recall_17: 0.4500\n",
            "Epoch 18/30\n",
            "2/2 [==============================] - 1s 514ms/step - loss: 0.1080 - auc: 0.9956 - precision_17: 0.8286 - recall_17: 1.0000 - val_loss: 0.7459 - val_auc: 0.4804 - val_precision_17: 0.0875 - val_recall_17: 0.3500\n",
            "Epoch 19/30\n",
            "2/2 [==============================] - 1s 430ms/step - loss: 0.2387 - auc: 0.9686 - precision_17: 0.7206 - recall_17: 0.8448 - val_loss: 0.7628 - val_auc: 0.4902 - val_precision_17: 0.1014 - val_recall_17: 0.3500\n",
            "Epoch 20/30\n",
            "2/2 [==============================] - 1s 410ms/step - loss: 0.1653 - auc: 0.9918 - precision_17: 0.7971 - recall_17: 0.9483 - val_loss: 0.7834 - val_auc: 0.5030 - val_precision_17: 0.1111 - val_recall_17: 0.3500\n",
            "Epoch 21/30\n",
            "2/2 [==============================] - 1s 487ms/step - loss: 0.1401 - auc: 0.9761 - precision_17: 0.8525 - recall_17: 0.8966 - val_loss: 0.8336 - val_auc: 0.4954 - val_precision_17: 0.1111 - val_recall_17: 0.4000\n",
            "Epoch 22/30\n",
            "2/2 [==============================] - 1s 424ms/step - loss: 0.1880 - auc: 0.9723 - precision_17: 0.7879 - recall_17: 0.8966 - val_loss: 0.9185 - val_auc: 0.4880 - val_precision_17: 0.1190 - val_recall_17: 0.5000\n",
            "Epoch 23/30\n",
            "2/2 [==============================] - 1s 407ms/step - loss: 0.1236 - auc: 0.9918 - precision_17: 0.8769 - recall_17: 0.9828 - val_loss: 1.0611 - val_auc: 0.4932 - val_precision_17: 0.1236 - val_recall_17: 0.5500\n",
            "Epoch 24/30\n",
            "2/2 [==============================] - 1s 517ms/step - loss: 0.1912 - auc: 0.9771 - precision_17: 0.9322 - recall_17: 0.9483 - val_loss: 1.2396 - val_auc: 0.4927 - val_precision_17: 0.1170 - val_recall_17: 0.5500\n",
            "Epoch 25/30\n",
            "2/2 [==============================] - 2s 741ms/step - loss: 0.1353 - auc: 0.9696 - precision_17: 0.9444 - recall_17: 0.8793 - val_loss: 1.4011 - val_auc: 0.4904 - val_precision_17: 0.1170 - val_recall_17: 0.5500\n",
            "Epoch 26/30\n",
            "2/2 [==============================] - 2s 1s/step - loss: 0.0923 - auc: 0.9864 - precision_17: 0.8966 - recall_17: 0.8966 - val_loss: 1.5518 - val_auc: 0.4943 - val_precision_17: 0.1158 - val_recall_17: 0.5500\n",
            "Epoch 27/30\n",
            "2/2 [==============================] - 2s 674ms/step - loss: 0.1037 - auc: 0.9801 - precision_17: 0.9298 - recall_17: 0.9138 - val_loss: 1.7215 - val_auc: 0.4996 - val_precision_17: 0.1146 - val_recall_17: 0.5500\n",
            "Epoch 28/30\n",
            "2/2 [==============================] - 1s 422ms/step - loss: 0.0918 - auc: 0.9948 - precision_17: 0.8710 - recall_17: 0.9310 - val_loss: 1.8560 - val_auc: 0.5077 - val_precision_17: 0.1111 - val_recall_17: 0.5500\n",
            "Epoch 29/30\n",
            "2/2 [==============================] - 1s 498ms/step - loss: 0.1276 - auc: 0.9854 - precision_17: 0.8793 - recall_17: 0.8793 - val_loss: 1.9928 - val_auc: 0.4986 - val_precision_17: 0.1262 - val_recall_17: 0.6500\n",
            "Epoch 30/30\n",
            "2/2 [==============================] - 1s 467ms/step - loss: 0.1376 - auc: 0.9843 - precision_17: 0.8438 - recall_17: 0.9310 - val_loss: 2.0945 - val_auc: 0.4952 - val_precision_17: 0.1275 - val_recall_17: 0.6500\n"
          ]
        }
      ]
    },
    {
      "cell_type": "code",
      "source": [
        "print(\"input shape: \" + str(input_shape))\n",
        "cnn1.summary()"
      ],
      "metadata": {
        "id": "XMgoYEJXpJP4",
        "colab": {
          "base_uri": "https://localhost:8080/"
        },
        "outputId": "58a092f7-e0d9-4e9e-ee74-ffe6425b43f3"
      },
      "id": "XMgoYEJXpJP4",
      "execution_count": null,
      "outputs": [
        {
          "output_type": "stream",
          "name": "stdout",
          "text": [
            "input shape: (1292, 20, 1)\n",
            "Model: \"sequential_18\"\n",
            "_________________________________________________________________\n",
            " Layer (type)                Output Shape              Param #   \n",
            "=================================================================\n",
            " conv2d_89 (Conv2D)          (None, 1290, 18, 32)      320       \n",
            "                                                                 \n",
            " max_pooling2d_89 (MaxPoolin  (None, 645, 9, 32)       0         \n",
            " g2D)                                                            \n",
            "                                                                 \n",
            " batch_normalization_97 (Bat  (None, 645, 9, 32)       128       \n",
            " chNormalization)                                                \n",
            "                                                                 \n",
            " dropout_98 (Dropout)        (None, 645, 9, 32)        0         \n",
            "                                                                 \n",
            " conv2d_90 (Conv2D)          (None, 644, 8, 64)        8256      \n",
            "                                                                 \n",
            " max_pooling2d_90 (MaxPoolin  (None, 215, 4, 64)       0         \n",
            " g2D)                                                            \n",
            "                                                                 \n",
            " batch_normalization_98 (Bat  (None, 215, 4, 64)       256       \n",
            " chNormalization)                                                \n",
            "                                                                 \n",
            " dropout_99 (Dropout)        (None, 215, 4, 64)        0         \n",
            "                                                                 \n",
            " flatten_12 (Flatten)        (None, 55040)             0         \n",
            "                                                                 \n",
            " dense_10 (Dense)            (None, 128)               7045248   \n",
            "                                                                 \n",
            " dropout_100 (Dropout)       (None, 128)               0         \n",
            "                                                                 \n",
            " output (Dense)              (None, 10)                1290      \n",
            "                                                                 \n",
            "=================================================================\n",
            "Total params: 7,055,498\n",
            "Trainable params: 7,055,306\n",
            "Non-trainable params: 192\n",
            "_________________________________________________________________\n"
          ]
        }
      ]
    },
    {
      "cell_type": "code",
      "source": [
        "# plot training\n",
        "plot_training(cnn1_history)"
      ],
      "metadata": {
        "colab": {
          "base_uri": "https://localhost:8080/",
          "height": 887
        },
        "id": "5XMjarO_pcxc",
        "outputId": "8e5b751b-d49c-4432-f43d-d9498e927725"
      },
      "id": "5XMjarO_pcxc",
      "execution_count": null,
      "outputs": [
        {
          "output_type": "display_data",
          "data": {
            "text/plain": [
              "<Figure size 640x480 with 1 Axes>"
            ],
            "image/png": "[encoded data removed]"
          },
          "metadata": {}
        },
        {
          "output_type": "display_data",
          "data": {
            "text/plain": [
              "<Figure size 640x480 with 1 Axes>"
            ],
            "image/png": "[encoded data removed]"
          },
          "metadata": {}
        }
      ]
    },
    {
      "cell_type": "code",
      "source": [
        "print(cnn1_history.history.keys())"
      ],
      "metadata": {
        "colab": {
          "base_uri": "https://localhost:8080/"
        },
        "id": "hK30Zz82p-hr",
        "outputId": "0bab8ce3-4a80-4730-ac6e-6378e0ce1403"
      },
      "id": "hK30Zz82p-hr",
      "execution_count": null,
      "outputs": [
        {
          "output_type": "stream",
          "name": "stdout",
          "text": [
            "dict_keys(['loss', 'auc_16', 'precision_16', 'recall_16', 'val_loss', 'val_auc_16', 'val_precision_16', 'val_recall_16'])\n"
          ]
        }
      ]
    },
    {
      "cell_type": "code",
      "source": [
        "cnn1_val_predictions = cnn1.predict(X_val_mfcc30s)\n",
        "print(cnn1_val_predictions, y_val_mfcc30s)"
      ],
      "metadata": {
        "colab": {
          "base_uri": "https://localhost:8080/"
        },
        "id": "KbDPM4hsLOXN",
        "outputId": "9cb08c92-4875-448e-d41b-b25e60d765a5"
      },
      "id": "KbDPM4hsLOXN",
      "execution_count": null,
      "outputs": [
        {
          "output_type": "stream",
          "name": "stdout",
          "text": [
            "1/1 [==============================] - 0s 194ms/step\n",
            "[[0.1313266  0.5664763  0.29201782 0.99329334 0.83090836 0.99751604\n",
            "  0.5146735  0.18552051 0.9821112  0.992685  ]\n",
            " [0.13073494 0.49553064 0.23441717 0.9890564  0.8341308  0.9955868\n",
            "  0.5316149  0.11810479 0.97380114 0.9857727 ]\n",
            " [0.14481963 0.47472084 0.23982538 0.9913428  0.84352225 0.99598044\n",
            "  0.49117213 0.15128139 0.97933894 0.9869345 ]\n",
            " [0.12206221 0.6880474  0.37732723 0.99665046 0.83530253 0.99819136\n",
            "  0.45684233 0.3552849  0.9921912  0.9959113 ]\n",
            " [0.13648684 0.4807471  0.23802075 0.9881243  0.8039888  0.99574906\n",
            "  0.5719466  0.13064063 0.9747387  0.9856059 ]\n",
            " [0.13304308 0.54164207 0.25714853 0.99228394 0.8480393  0.99631345\n",
            "  0.5114993  0.15377328 0.98113114 0.989193  ]\n",
            " [0.10672591 0.54855794 0.3278965  0.9929365  0.84066087 0.997212\n",
            "  0.5413012  0.13721251 0.9832939  0.9916937 ]\n",
            " [0.15667398 0.4143158  0.21469249 0.99500316 0.85202354 0.99664927\n",
            "  0.5378079  0.13406374 0.98017555 0.9857041 ]\n",
            " [0.15570554 0.38074148 0.17244577 0.9858973  0.77235234 0.9945746\n",
            "  0.5772529  0.13309932 0.96789145 0.97719353]\n",
            " [0.12161165 0.371004   0.23101906 0.97638726 0.8476707  0.9925455\n",
            "  0.5537443  0.05737112 0.9577974  0.97132474]\n",
            " [0.1277514  0.5011479  0.24224381 0.98959845 0.84275883 0.9957605\n",
            "  0.50882167 0.12531838 0.97706336 0.98596615]\n",
            " [0.10976572 0.59741426 0.303274   0.99062186 0.7995928  0.9972317\n",
            "  0.5380669  0.18132257 0.9789845  0.99154174]\n",
            " [0.1137495  0.42790818 0.2486352  0.98563725 0.8474002  0.9947757\n",
            "  0.5237941  0.083584   0.9680172  0.9794492 ]\n",
            " [0.15262896 0.22361241 0.12865603 0.9800443  0.7558469  0.99467593\n",
            "  0.62408763 0.07763005 0.9474613  0.9602731 ]\n",
            " [0.11618672 0.6011286  0.30600783 0.99416083 0.8241765  0.9980603\n",
            "  0.5084794  0.23053172 0.9878271  0.9936011 ]\n",
            " [0.09252369 0.8076555  0.5983974  0.9971611  0.79335046 0.9990089\n",
            "  0.44998598 0.40783486 0.9934524  0.99835086]] [[0 0 0 0 0 0 1 0 0 0]\n",
            " [0 0 0 0 0 1 0 0 0 0]\n",
            " [0 0 1 0 0 0 0 0 0 0]\n",
            " [0 0 1 0 0 0 0 0 0 0]\n",
            " [0 0 0 0 0 1 0 0 0 0]\n",
            " [0 0 1 0 0 0 0 0 0 0]\n",
            " [0 0 1 0 0 0 0 0 0 0]\n",
            " [0 0 0 0 1 0 0 0 0 0]\n",
            " [0 0 0 0 0 0 0 1 0 0]\n",
            " [0 0 0 0 0 0 0 0 0 1]\n",
            " [0 1 0 0 0 0 0 0 0 0]\n",
            " [0 0 1 0 0 0 0 0 0 0]\n",
            " [0 0 0 0 1 0 1 0 0 1]\n",
            " [0 0 1 0 0 1 0 0 0 0]\n",
            " [0 0 0 0 1 1 0 0 0 0]\n",
            " [0 1 0 0 0 0 0 0 0 0]]\n"
          ]
        }
      ]
    },
    {
      "cell_type": "code",
      "source": [
        "# CNN 2: deep CNN inspired by Yi et al 2020\n",
        "cnn2 = keras.models.Sequential([\n",
        "    # 1st conv layer\n",
        "    keras.layers.Conv2D(32, kernel_size=3, padding=\"same\", activation=\"relu\", input_shape = input_shape),\n",
        "    keras.layers.MaxPool2D((2,2), strides=(2,1)),\n",
        "    keras.layers.BatchNormalization(),\n",
        "    keras.layers.Dropout(0.2),\n",
        "\n",
        "    # 2nd conv layer\n",
        "    keras.layers.Conv2D(64, kernel_size=3, activation=\"relu\"),\n",
        "    keras.layers.MaxPool2D((2,2), strides=(2,1)),\n",
        "    keras.layers.BatchNormalization(),\n",
        "    keras.layers.Dropout(0.2),\n",
        "\n",
        "    # 3rd conv layer\n",
        "    keras.layers.Conv2D(128, kernel_size=3,  activation=\"relu\"),\n",
        "    keras.layers.MaxPool2D((2,2), strides=(2,1)),\n",
        "    keras.layers.BatchNormalization(),\n",
        "    keras.layers.Dropout(0.2),\n",
        "\n",
        "    # 4th conv layer\n",
        "    keras.layers.Conv2D(256, kernel_size=3, activation=\"relu\"),\n",
        "    keras.layers.MaxPool2D((2,2), strides=(2,1)),\n",
        "    keras.layers.BatchNormalization(),\n",
        "    keras.layers.Dropout(0.2),\n",
        "\n",
        "    # 5th conv layer\n",
        "    keras.layers.Conv2D(512, kernel_size=3, activation=\"relu\"),\n",
        "    keras.layers.MaxPool2D((2,2), strides=(2,1)),\n",
        "    keras.layers.BatchNormalization(),\n",
        "    keras.layers.Dropout(0.2),\n",
        "\n",
        "    # 6th conv layer\n",
        "    keras.layers.Conv2D(256, kernel_size=3, activation=\"relu\"),\n",
        "    keras.layers.MaxPool2D((2,2), strides=(2,1)),\n",
        "    keras.layers.BatchNormalization(),\n",
        "    keras.layers.Dropout(0.2),\n",
        "\n",
        "    # Flatten\n",
        "    keras.layers.Flatten(),\n",
        "    \n",
        "    # Dense Layer\n",
        "    keras.layers.Dense(128, activation='relu'),\n",
        "    keras.layers.Dropout(0.1),\n",
        "\n",
        "    # Output layer\n",
        "    keras.layers.Dense(10, activation ='sigmoid', name='output')\n",
        "])\n",
        "\n",
        "# adjust all parameters but Conv layer numbers\n",
        "# do we need some special data structure in the flatten step?"
      ],
      "metadata": {
        "id": "NBdnktZuG4t8"
      },
      "id": "NBdnktZuG4t8",
      "execution_count": null,
      "outputs": []
    },
    {
      "cell_type": "code",
      "source": [
        "# compile model\n",
        "compiler(cnn2, optimizer=keras.optimizers.legacy.Adam(learning_rate= 0.001))\n",
        "\n",
        "# train model\n",
        "cnn2_history = fit_model(cnn2)"
      ],
      "metadata": {
        "colab": {
          "base_uri": "https://localhost:8080/"
        },
        "id": "jxGCApOaLUlt",
        "outputId": "d0bff262-d8fa-4a87-db7c-36155aa701c1"
      },
      "id": "jxGCApOaLUlt",
      "execution_count": null,
      "outputs": [
        {
          "output_type": "stream",
          "name": "stdout",
          "text": [
            "Epoch 1/30\n",
            "2/2 [==============================] - 14s 4s/step - loss: 0.8071 - auc_15: 0.6127 - precision_15: 0.1701 - recall_15: 0.5690 - val_loss: 0.6775 - val_auc_15: 0.6643 - val_precision_15: 0.1875 - val_recall_15: 0.4500\n",
            "Epoch 2/30\n",
            "2/2 [==============================] - 13s 4s/step - loss: 0.5941 - auc_15: 0.6584 - precision_15: 0.2742 - recall_15: 0.2931 - val_loss: 0.6958 - val_auc_15: 0.4446 - val_precision_15: 0.1077 - val_recall_15: 0.3500\n",
            "Epoch 3/30\n",
            "2/2 [==============================] - 13s 5s/step - loss: 0.5866 - auc_15: 0.7476 - precision_15: 0.3710 - recall_15: 0.3966 - val_loss: 0.6518 - val_auc_15: 0.5982 - val_precision_15: 0.1400 - val_recall_15: 0.3500\n",
            "Epoch 4/30\n",
            "2/2 [==============================] - 12s 5s/step - loss: 0.3761 - auc_15: 0.8394 - precision_15: 0.5660 - recall_15: 0.5172 - val_loss: 0.6596 - val_auc_15: 0.5166 - val_precision_15: 0.1250 - val_recall_15: 0.4000\n",
            "Epoch 5/30\n",
            "2/2 [==============================] - 11s 4s/step - loss: 0.2273 - auc_15: 0.9423 - precision_15: 0.6250 - recall_15: 0.7759 - val_loss: 0.6342 - val_auc_15: 0.4754 - val_precision_15: 0.1096 - val_recall_15: 0.4000\n",
            "Epoch 6/30\n",
            "2/2 [==============================] - 14s 6s/step - loss: 0.1921 - auc_15: 0.9362 - precision_15: 0.6964 - recall_15: 0.6724 - val_loss: 0.6689 - val_auc_15: 0.4223 - val_precision_15: 0.0781 - val_recall_15: 0.2500\n",
            "Epoch 7/30\n",
            "2/2 [==============================] - 12s 4s/step - loss: 0.1392 - auc_15: 0.9660 - precision_15: 0.8837 - recall_15: 0.6552 - val_loss: 0.8537 - val_auc_15: 0.4045 - val_precision_15: 0.1042 - val_recall_15: 0.2500\n",
            "Epoch 8/30\n",
            "2/2 [==============================] - 12s 5s/step - loss: 0.1439 - auc_15: 0.9670 - precision_15: 0.7458 - recall_15: 0.7586 - val_loss: 1.0856 - val_auc_15: 0.3918 - val_precision_15: 0.1042 - val_recall_15: 0.2500\n",
            "Epoch 9/30\n",
            "2/2 [==============================] - 11s 5s/step - loss: 0.1285 - auc_15: 0.9854 - precision_15: 0.7361 - recall_15: 0.9138 - val_loss: 1.0308 - val_auc_15: 0.4005 - val_precision_15: 0.0312 - val_recall_15: 0.0500\n",
            "Epoch 10/30\n",
            "2/2 [==============================] - 12s 4s/step - loss: 0.0833 - auc_15: 0.9906 - precision_15: 0.9107 - recall_15: 0.8793 - val_loss: 1.1246 - val_auc_15: 0.3650 - val_precision_15: 0.0625 - val_recall_15: 0.0500\n",
            "Epoch 11/30\n",
            "2/2 [==============================] - 13s 4s/step - loss: 0.0558 - auc_15: 0.9961 - precision_15: 0.9273 - recall_15: 0.8793 - val_loss: 1.1883 - val_auc_15: 0.4080 - val_precision_15: 0.0625 - val_recall_15: 0.0500\n",
            "Epoch 12/30\n",
            "2/2 [==============================] - 13s 5s/step - loss: 0.0840 - auc_15: 0.9925 - precision_15: 0.9583 - recall_15: 0.7931 - val_loss: 1.1533 - val_auc_15: 0.4461 - val_precision_15: 0.0625 - val_recall_15: 0.0500\n",
            "Epoch 13/30\n",
            "2/2 [==============================] - 12s 6s/step - loss: 0.0590 - auc_15: 0.9956 - precision_15: 0.9310 - recall_15: 0.9310 - val_loss: 1.0685 - val_auc_15: 0.4830 - val_precision_15: 0.0625 - val_recall_15: 0.0500\n",
            "Epoch 14/30\n",
            "2/2 [==============================] - 15s 8s/step - loss: 0.0595 - auc_15: 0.9980 - precision_15: 0.8286 - recall_15: 1.0000 - val_loss: 1.0594 - val_auc_15: 0.4748 - val_precision_15: 0.0625 - val_recall_15: 0.0500\n",
            "Epoch 15/30\n",
            "2/2 [==============================] - 13s 6s/step - loss: 0.0524 - auc_15: 0.9971 - precision_15: 0.8750 - recall_15: 0.9655 - val_loss: 1.1989 - val_auc_15: 0.4598 - val_precision_15: 0.0588 - val_recall_15: 0.0500\n",
            "Epoch 16/30\n",
            "2/2 [==============================] - 12s 4s/step - loss: 0.0356 - auc_15: 0.9987 - precision_15: 0.9500 - recall_15: 0.9828 - val_loss: 1.4530 - val_auc_15: 0.4320 - val_precision_15: 0.0312 - val_recall_15: 0.0500\n",
            "Epoch 17/30\n",
            "2/2 [==============================] - 12s 4s/step - loss: 0.0543 - auc_15: 0.9963 - precision_15: 0.9000 - recall_15: 0.9310 - val_loss: 1.7153 - val_auc_15: 0.4339 - val_precision_15: 0.0312 - val_recall_15: 0.0500\n",
            "Epoch 18/30\n",
            "2/2 [==============================] - 13s 4s/step - loss: 0.0224 - auc_15: 0.9987 - precision_15: 1.0000 - recall_15: 0.9483 - val_loss: 1.9000 - val_auc_15: 0.4232 - val_precision_15: 0.0312 - val_recall_15: 0.0500\n",
            "Epoch 19/30\n",
            "2/2 [==============================] - 13s 6s/step - loss: 0.0225 - auc_15: 0.9995 - precision_15: 0.9500 - recall_15: 0.9828 - val_loss: 2.0001 - val_auc_15: 0.4163 - val_precision_15: 0.0312 - val_recall_15: 0.0500\n",
            "Epoch 20/30\n",
            "2/2 [==============================] - 11s 4s/step - loss: 0.0337 - auc_15: 0.9992 - precision_15: 0.9048 - recall_15: 0.9828 - val_loss: 2.0256 - val_auc_15: 0.4171 - val_precision_15: 0.0312 - val_recall_15: 0.0500\n",
            "Epoch 21/30\n",
            "2/2 [==============================] - 12s 4s/step - loss: 0.0251 - auc_15: 0.9998 - precision_15: 0.9062 - recall_15: 1.0000 - val_loss: 2.1382 - val_auc_15: 0.4171 - val_precision_15: 0.0312 - val_recall_15: 0.0500\n",
            "Epoch 22/30\n",
            "2/2 [==============================] - 13s 4s/step - loss: 0.0199 - auc_15: 0.9908 - precision_15: 0.9661 - recall_15: 0.9828 - val_loss: 2.3150 - val_auc_15: 0.4171 - val_precision_15: 0.0312 - val_recall_15: 0.0500\n",
            "Epoch 23/30\n",
            "2/2 [==============================] - 13s 5s/step - loss: 0.0129 - auc_15: 0.9999 - precision_15: 0.9825 - recall_15: 0.9655 - val_loss: 2.3978 - val_auc_15: 0.4171 - val_precision_15: 0.0312 - val_recall_15: 0.0500\n",
            "Epoch 24/30\n",
            "2/2 [==============================] - 13s 6s/step - loss: 0.0461 - auc_15: 0.9971 - precision_15: 0.9455 - recall_15: 0.8966 - val_loss: 2.4952 - val_auc_15: 0.4171 - val_precision_15: 0.0625 - val_recall_15: 0.0500\n",
            "Epoch 25/30\n",
            "2/2 [==============================] - 11s 4s/step - loss: 0.0170 - auc_15: 0.9999 - precision_15: 1.0000 - recall_15: 0.9483 - val_loss: 2.6537 - val_auc_15: 0.4171 - val_precision_15: 0.0625 - val_recall_15: 0.0500\n",
            "Epoch 26/30\n",
            "2/2 [==============================] - 16s 7s/step - loss: 0.0142 - auc_15: 0.9997 - precision_15: 0.9828 - recall_15: 0.9828 - val_loss: 2.7565 - val_auc_15: 0.4171 - val_precision_15: 0.0625 - val_recall_15: 0.0500\n",
            "Epoch 27/30\n",
            "2/2 [==============================] - 12s 4s/step - loss: 0.0025 - auc_15: 1.0000 - precision_15: 1.0000 - recall_15: 1.0000 - val_loss: 2.8405 - val_auc_15: 0.4714 - val_precision_15: 0.0625 - val_recall_15: 0.0500\n",
            "Epoch 28/30\n",
            "2/2 [==============================] - 13s 4s/step - loss: 0.0070 - auc_15: 1.0000 - precision_15: 0.9667 - recall_15: 1.0000 - val_loss: 2.9350 - val_auc_15: 0.4714 - val_precision_15: 0.0625 - val_recall_15: 0.0500\n",
            "Epoch 29/30\n",
            "2/2 [==============================] - 13s 5s/step - loss: 0.0144 - auc_15: 0.9999 - precision_15: 0.9667 - recall_15: 1.0000 - val_loss: 2.8893 - val_auc_15: 0.4714 - val_precision_15: 0.0625 - val_recall_15: 0.0500\n",
            "Epoch 30/30\n",
            "2/2 [==============================] - 12s 6s/step - loss: 0.0103 - auc_15: 0.9999 - precision_15: 0.9831 - recall_15: 1.0000 - val_loss: 2.6088 - val_auc_15: 0.4938 - val_precision_15: 0.0625 - val_recall_15: 0.0500\n"
          ]
        }
      ]
    },
    {
      "cell_type": "code",
      "source": [
        "print(\"input shape: \" + str(input_shape))\n",
        "cnn2.summary()"
      ],
      "metadata": {
        "colab": {
          "base_uri": "https://localhost:8080/"
        },
        "id": "WSJNqh-zmwl9",
        "outputId": "66762f4c-99f7-4607-8498-46c7fb78602d"
      },
      "id": "WSJNqh-zmwl9",
      "execution_count": null,
      "outputs": [
        {
          "output_type": "stream",
          "name": "stdout",
          "text": [
            "input shape: (1292, 20, 1)\n",
            "Model: \"sequential_17\"\n",
            "_________________________________________________________________\n",
            " Layer (type)                Output Shape              Param #   \n",
            "=================================================================\n",
            " conv2d_83 (Conv2D)          (None, 1292, 20, 32)      320       \n",
            "                                                                 \n",
            " max_pooling2d_83 (MaxPoolin  (None, 646, 19, 32)      0         \n",
            " g2D)                                                            \n",
            "                                                                 \n",
            " batch_normalization_91 (Bat  (None, 646, 19, 32)      128       \n",
            " chNormalization)                                                \n",
            "                                                                 \n",
            " dropout_91 (Dropout)        (None, 646, 19, 32)       0         \n",
            "                                                                 \n",
            " conv2d_84 (Conv2D)          (None, 644, 17, 64)       18496     \n",
            "                                                                 \n",
            " max_pooling2d_84 (MaxPoolin  (None, 322, 16, 64)      0         \n",
            " g2D)                                                            \n",
            "                                                                 \n",
            " batch_normalization_92 (Bat  (None, 322, 16, 64)      256       \n",
            " chNormalization)                                                \n",
            "                                                                 \n",
            " dropout_92 (Dropout)        (None, 322, 16, 64)       0         \n",
            "                                                                 \n",
            " conv2d_85 (Conv2D)          (None, 320, 14, 128)      73856     \n",
            "                                                                 \n",
            " max_pooling2d_85 (MaxPoolin  (None, 160, 13, 128)     0         \n",
            " g2D)                                                            \n",
            "                                                                 \n",
            " batch_normalization_93 (Bat  (None, 160, 13, 128)     512       \n",
            " chNormalization)                                                \n",
            "                                                                 \n",
            " dropout_93 (Dropout)        (None, 160, 13, 128)      0         \n",
            "                                                                 \n",
            " conv2d_86 (Conv2D)          (None, 158, 11, 256)      295168    \n",
            "                                                                 \n",
            " max_pooling2d_86 (MaxPoolin  (None, 79, 10, 256)      0         \n",
            " g2D)                                                            \n",
            "                                                                 \n",
            " batch_normalization_94 (Bat  (None, 79, 10, 256)      1024      \n",
            " chNormalization)                                                \n",
            "                                                                 \n",
            " dropout_94 (Dropout)        (None, 79, 10, 256)       0         \n",
            "                                                                 \n",
            " conv2d_87 (Conv2D)          (None, 77, 8, 512)        1180160   \n",
            "                                                                 \n",
            " max_pooling2d_87 (MaxPoolin  (None, 38, 7, 512)       0         \n",
            " g2D)                                                            \n",
            "                                                                 \n",
            " batch_normalization_95 (Bat  (None, 38, 7, 512)       2048      \n",
            " chNormalization)                                                \n",
            "                                                                 \n",
            " dropout_95 (Dropout)        (None, 38, 7, 512)        0         \n",
            "                                                                 \n",
            " conv2d_88 (Conv2D)          (None, 36, 5, 256)        1179904   \n",
            "                                                                 \n",
            " max_pooling2d_88 (MaxPoolin  (None, 18, 4, 256)       0         \n",
            " g2D)                                                            \n",
            "                                                                 \n",
            " batch_normalization_96 (Bat  (None, 18, 4, 256)       1024      \n",
            " chNormalization)                                                \n",
            "                                                                 \n",
            " dropout_96 (Dropout)        (None, 18, 4, 256)        0         \n",
            "                                                                 \n",
            " flatten_11 (Flatten)        (None, 18432)             0         \n",
            "                                                                 \n",
            " dense_9 (Dense)             (None, 128)               2359424   \n",
            "                                                                 \n",
            " dropout_97 (Dropout)        (None, 128)               0         \n",
            "                                                                 \n",
            " output (Dense)              (None, 10)                1290      \n",
            "                                                                 \n",
            "=================================================================\n",
            "Total params: 5,113,610\n",
            "Trainable params: 5,111,114\n",
            "Non-trainable params: 2,496\n",
            "_________________________________________________________________\n"
          ]
        }
      ]
    },
    {
      "cell_type": "code",
      "source": [
        "# plot training\n",
        "plot_training(cnn2_history)"
      ],
      "metadata": {
        "id": "1amaTiJKs3dx"
      },
      "id": "1amaTiJKs3dx",
      "execution_count": null,
      "outputs": []
    },
    {
      "cell_type": "code",
      "source": [
        "# CNN 3 (FCN-4): FCN structure inspired by Choi et al. 2016\n",
        "# input shape in paper: (96x1366x1)\n",
        "# our input shape: (1292x40x1)\n",
        "\n",
        "\n",
        "cnn3 = keras.models.Sequential([\n",
        "    \n",
        "    # 1st conv layer\n",
        "    keras.layers.Conv2D(128, kernel_size=3, strides=(2,1), padding=\"same\", activation=\"relu\", input_shape=input_shape),\n",
        "    keras.layers.MaxPool2D((4,1), strides=(2,2), padding=\"same\"),\n",
        "    keras.layers.BatchNormalization(),\n",
        "    keras.layers.Dropout(0.5),\n",
        "\n",
        "    # 2nd conv layer\n",
        "    keras.layers.Conv2D(384, kernel_size=3, strides = (2,1), activation=\"relu\"),\n",
        "    keras.layers.MaxPool2D((5,2), strides=(2,2), padding=\"same\"),\n",
        "    keras.layers.BatchNormalization(),\n",
        "    keras.layers.Dropout(0.5),\n",
        "\n",
        "    # 3rd conv layer\n",
        "    keras.layers.Conv2D(768, kernel_size=(3,1), strides = (2,1), activation=\"relu\"),\n",
        "    keras.layers.MaxPool2D((6,2), strides=(2,2)),\n",
        "    keras.layers.BatchNormalization(),\n",
        "    keras.layers.Dropout(0.5),\n",
        "\n",
        "    # 4th conv layer\n",
        "    keras.layers.Conv2D(2024, kernel_size=(3,2), strides = (2,1), activation=\"relu\"),\n",
        "    keras.layers.MaxPool2D((7,1), strides=(2,1)),\n",
        "    keras.layers.BatchNormalization(),\n",
        "    keras.layers.Dropout(0.5),\n",
        "\n",
        "    # Flatten (only necessary for dimensionality of output)\n",
        "    keras.layers.Flatten(),\n",
        "\n",
        "    # Output layer\n",
        "    keras.layers.BatchNormalization(),\n",
        "    keras.layers.Dense(10, activation ='sigmoid', name='output')\n",
        "])"
      ],
      "metadata": {
        "id": "cNfQygxdG6m3"
      },
      "id": "cNfQygxdG6m3",
      "execution_count": null,
      "outputs": []
    },
    {
      "cell_type": "code",
      "source": [
        "# compile model\n",
        "compiler(cnn3)\n",
        "\n",
        "# train model\n",
        "cnn3_history = fit_model(cnn3)"
      ],
      "metadata": {
        "colab": {
          "base_uri": "https://localhost:8080/"
        },
        "id": "vUz0lQNsLXzz",
        "outputId": "ccafb59e-69e7-4d99-ede5-bcee4e113534"
      },
      "id": "vUz0lQNsLXzz",
      "execution_count": null,
      "outputs": [
        {
          "output_type": "stream",
          "name": "stdout",
          "text": [
            "Epoch 1/30\n",
            "2/2 [==============================] - 9s 3s/step - loss: 1.1139 - auc_7: 0.5027 - precision_7: 0.1202 - recall_7: 0.4828 - val_loss: 0.6861 - val_auc_7: 0.5266 - val_precision_7: 0.1600 - val_recall_7: 0.4000\n",
            "Epoch 2/30\n",
            "2/2 [==============================] - 7s 3s/step - loss: 1.1405 - auc_7: 0.6188 - precision_7: 0.1510 - recall_7: 0.6379 - val_loss: 0.6591 - val_auc_7: 0.6200 - val_precision_7: 0.1250 - val_recall_7: 0.2000\n",
            "Epoch 3/30\n",
            "2/2 [==============================] - 6s 2s/step - loss: 0.9261 - auc_7: 0.6454 - precision_7: 0.1806 - recall_7: 0.6724 - val_loss: 0.6388 - val_auc_7: 0.5291 - val_precision_7: 0.1111 - val_recall_7: 0.2000\n",
            "Epoch 4/30\n",
            "2/2 [==============================] - 6s 2s/step - loss: 0.8435 - auc_7: 0.7006 - precision_7: 0.1953 - recall_7: 0.7241 - val_loss: 0.6593 - val_auc_7: 0.5737 - val_precision_7: 0.1250 - val_recall_7: 0.2000\n",
            "Epoch 5/30\n",
            "2/2 [==============================] - 6s 2s/step - loss: 0.7771 - auc_7: 0.7518 - precision_7: 0.2070 - recall_7: 0.8103 - val_loss: 0.7048 - val_auc_7: 0.4845 - val_precision_7: 0.0833 - val_recall_7: 0.2000\n",
            "Epoch 6/30\n",
            "2/2 [==============================] - 5s 2s/step - loss: 0.7234 - auc_7: 0.7953 - precision_7: 0.2273 - recall_7: 0.8621 - val_loss: 0.7053 - val_auc_7: 0.4193 - val_precision_7: 0.0625 - val_recall_7: 0.1500\n",
            "Epoch 7/30\n",
            "2/2 [==============================] - 7s 2s/step - loss: 0.7329 - auc_7: 0.7410 - precision_7: 0.1914 - recall_7: 0.6897 - val_loss: 0.6922 - val_auc_7: 0.4145 - val_precision_7: 0.0909 - val_recall_7: 0.1500\n",
            "Epoch 8/30\n",
            "2/2 [==============================] - 5s 2s/step - loss: 0.6413 - auc_7: 0.8527 - precision_7: 0.2796 - recall_7: 0.8966 - val_loss: 0.6990 - val_auc_7: 0.4068 - val_precision_7: 0.0938 - val_recall_7: 0.1500\n",
            "Epoch 9/30\n",
            "2/2 [==============================] - 7s 2s/step - loss: 0.6149 - auc_7: 0.8724 - precision_7: 0.2880 - recall_7: 0.9138 - val_loss: 0.7252 - val_auc_7: 0.3654 - val_precision_7: 0.0638 - val_recall_7: 0.1500\n",
            "Epoch 10/30\n",
            "2/2 [==============================] - 5s 2s/step - loss: 0.5931 - auc_7: 0.8836 - precision_7: 0.2811 - recall_7: 0.8966 - val_loss: 0.7729 - val_auc_7: 0.3787 - val_precision_7: 0.0375 - val_recall_7: 0.1500\n",
            "Epoch 11/30\n",
            "2/2 [==============================] - 7s 2s/step - loss: 0.5706 - auc_7: 0.8596 - precision_7: 0.2768 - recall_7: 0.8448 - val_loss: 0.8084 - val_auc_7: 0.3575 - val_precision_7: 0.0870 - val_recall_7: 0.4000\n",
            "Epoch 12/30\n",
            "2/2 [==============================] - 5s 2s/step - loss: 0.5534 - auc_7: 0.8937 - precision_7: 0.3176 - recall_7: 0.9310 - val_loss: 0.8444 - val_auc_7: 0.3370 - val_precision_7: 0.1182 - val_recall_7: 0.6500\n",
            "Epoch 13/30\n",
            "2/2 [==============================] - 7s 3s/step - loss: 0.5288 - auc_7: 0.9108 - precision_7: 0.3155 - recall_7: 0.9138 - val_loss: 0.8588 - val_auc_7: 0.3827 - val_precision_7: 0.1172 - val_recall_7: 0.7500\n",
            "Epoch 14/30\n",
            "2/2 [==============================] - 5s 2s/step - loss: 0.5422 - auc_7: 0.8981 - precision_7: 0.3247 - recall_7: 0.8621 - val_loss: 0.8864 - val_auc_7: 0.5102 - val_precision_7: 0.1172 - val_recall_7: 0.7500\n",
            "Epoch 15/30\n",
            "2/2 [==============================] - 6s 3s/step - loss: 0.4993 - auc_7: 0.8848 - precision_7: 0.3052 - recall_7: 0.8103 - val_loss: 0.9460 - val_auc_7: 0.4752 - val_precision_7: 0.1172 - val_recall_7: 0.7500\n",
            "Epoch 16/30\n",
            "2/2 [==============================] - 6s 2s/step - loss: 0.4844 - auc_7: 0.9162 - precision_7: 0.3185 - recall_7: 0.8621 - val_loss: 1.0161 - val_auc_7: 0.4875 - val_precision_7: 0.0982 - val_recall_7: 0.5500\n",
            "Epoch 17/30\n",
            "2/2 [==============================] - 5s 2s/step - loss: 0.4952 - auc_7: 0.8872 - precision_7: 0.3310 - recall_7: 0.8276 - val_loss: 1.0650 - val_auc_7: 0.4552 - val_precision_7: 0.0982 - val_recall_7: 0.5500\n",
            "Epoch 18/30\n",
            "2/2 [==============================] - 7s 2s/step - loss: 0.4632 - auc_7: 0.8923 - precision_7: 0.3404 - recall_7: 0.8276 - val_loss: 1.0876 - val_auc_7: 0.3971 - val_precision_7: 0.0982 - val_recall_7: 0.5500\n",
            "Epoch 19/30\n",
            "2/2 [==============================] - 5s 2s/step - loss: 0.4353 - auc_7: 0.9254 - precision_7: 0.3806 - recall_7: 0.8793 - val_loss: 1.1085 - val_auc_7: 0.3555 - val_precision_7: 0.0909 - val_recall_7: 0.5000\n",
            "Epoch 20/30\n",
            "2/2 [==============================] - 7s 2s/step - loss: 0.4244 - auc_7: 0.9365 - precision_7: 0.4074 - recall_7: 0.9483 - val_loss: 1.0855 - val_auc_7: 0.3314 - val_precision_7: 0.0938 - val_recall_7: 0.4500\n",
            "Epoch 21/30\n",
            "2/2 [==============================] - 6s 2s/step - loss: 0.4117 - auc_7: 0.9384 - precision_7: 0.3969 - recall_7: 0.8966 - val_loss: 1.0151 - val_auc_7: 0.2650 - val_precision_7: 0.0625 - val_recall_7: 0.3500\n",
            "Epoch 22/30\n",
            "2/2 [==============================] - 7s 3s/step - loss: 0.3708 - auc_7: 0.9553 - precision_7: 0.4454 - recall_7: 0.9138 - val_loss: 0.9758 - val_auc_7: 0.2866 - val_precision_7: 0.0625 - val_recall_7: 0.3500\n",
            "Epoch 23/30\n",
            "2/2 [==============================] - 6s 2s/step - loss: 0.3692 - auc_7: 0.9544 - precision_7: 0.4397 - recall_7: 0.8793 - val_loss: 0.9812 - val_auc_7: 0.3318 - val_precision_7: 0.0866 - val_recall_7: 0.5500\n",
            "Epoch 24/30\n",
            "2/2 [==============================] - 7s 3s/step - loss: 0.3654 - auc_7: 0.9456 - precision_7: 0.4298 - recall_7: 0.8966 - val_loss: 1.0115 - val_auc_7: 0.3788 - val_precision_7: 0.0859 - val_recall_7: 0.5500\n",
            "Epoch 25/30\n",
            "2/2 [==============================] - 6s 2s/step - loss: 0.3451 - auc_7: 0.9688 - precision_7: 0.4661 - recall_7: 0.9483 - val_loss: 1.0417 - val_auc_7: 0.3405 - val_precision_7: 0.0982 - val_recall_7: 0.5500\n",
            "Epoch 26/30\n",
            "2/2 [==============================] - 7s 3s/step - loss: 0.3277 - auc_7: 0.9661 - precision_7: 0.5347 - recall_7: 0.9310 - val_loss: 1.1075 - val_auc_7: 0.3804 - val_precision_7: 0.1048 - val_recall_7: 0.5500\n",
            "Epoch 27/30\n",
            "2/2 [==============================] - 6s 2s/step - loss: 0.3100 - auc_7: 0.9840 - precision_7: 0.4912 - recall_7: 0.9655 - val_loss: 1.1280 - val_auc_7: 0.3814 - val_precision_7: 0.1125 - val_recall_7: 0.4500\n",
            "Epoch 28/30\n",
            "2/2 [==============================] - 6s 2s/step - loss: 0.2753 - auc_7: 0.9808 - precision_7: 0.6222 - recall_7: 0.9655 - val_loss: 1.0465 - val_auc_7: 0.4102 - val_precision_7: 0.1125 - val_recall_7: 0.4500\n",
            "Epoch 29/30\n",
            "2/2 [==============================] - 6s 2s/step - loss: 0.2819 - auc_7: 0.9661 - precision_7: 0.5824 - recall_7: 0.9138 - val_loss: 0.9779 - val_auc_7: 0.4320 - val_precision_7: 0.1406 - val_recall_7: 0.4500\n",
            "Epoch 30/30\n",
            "2/2 [==============================] - 5s 2s/step - loss: 0.2774 - auc_7: 0.9736 - precision_7: 0.5657 - recall_7: 0.9655 - val_loss: 0.9437 - val_auc_7: 0.4348 - val_precision_7: 0.1341 - val_recall_7: 0.5500\n"
          ]
        }
      ]
    },
    {
      "cell_type": "code",
      "source": [
        "print(\"input shape: \" + str(input_shape))\n",
        "cnn3.summary()"
      ],
      "metadata": {
        "colab": {
          "base_uri": "https://localhost:8080/"
        },
        "id": "mxobmOC1mqTG",
        "outputId": "8d945c25-e32c-4416-9f3b-ca9d7040c87c"
      },
      "id": "mxobmOC1mqTG",
      "execution_count": null,
      "outputs": [
        {
          "output_type": "stream",
          "name": "stdout",
          "text": [
            "input shape: (1292, 20, 1)\n",
            "Model: \"sequential_13\"\n",
            "_________________________________________________________________\n",
            " Layer (type)                Output Shape              Param #   \n",
            "=================================================================\n",
            " conv2d_65 (Conv2D)          (None, 646, 20, 128)      1280      \n",
            "                                                                 \n",
            " max_pooling2d_65 (MaxPoolin  (None, 323, 10, 128)     0         \n",
            " g2D)                                                            \n",
            "                                                                 \n",
            " batch_normalization_72 (Bat  (None, 323, 10, 128)     512       \n",
            " chNormalization)                                                \n",
            "                                                                 \n",
            " dropout_70 (Dropout)        (None, 323, 10, 128)      0         \n",
            "                                                                 \n",
            " conv2d_66 (Conv2D)          (None, 161, 8, 384)       442752    \n",
            "                                                                 \n",
            " max_pooling2d_66 (MaxPoolin  (None, 81, 4, 384)       0         \n",
            " g2D)                                                            \n",
            "                                                                 \n",
            " batch_normalization_73 (Bat  (None, 81, 4, 384)       1536      \n",
            " chNormalization)                                                \n",
            "                                                                 \n",
            " dropout_71 (Dropout)        (None, 81, 4, 384)        0         \n",
            "                                                                 \n",
            " conv2d_67 (Conv2D)          (None, 40, 4, 768)        885504    \n",
            "                                                                 \n",
            " max_pooling2d_67 (MaxPoolin  (None, 18, 2, 768)       0         \n",
            " g2D)                                                            \n",
            "                                                                 \n",
            " batch_normalization_74 (Bat  (None, 18, 2, 768)       3072      \n",
            " chNormalization)                                                \n",
            "                                                                 \n",
            " dropout_72 (Dropout)        (None, 18, 2, 768)        0         \n",
            "                                                                 \n",
            " conv2d_68 (Conv2D)          (None, 8, 1, 2024)        9328616   \n",
            "                                                                 \n",
            " max_pooling2d_68 (MaxPoolin  (None, 1, 1, 2024)       0         \n",
            " g2D)                                                            \n",
            "                                                                 \n",
            " batch_normalization_75 (Bat  (None, 1, 1, 2024)       8096      \n",
            " chNormalization)                                                \n",
            "                                                                 \n",
            " dropout_73 (Dropout)        (None, 1, 1, 2024)        0         \n",
            "                                                                 \n",
            " flatten_7 (Flatten)         (None, 2024)              0         \n",
            "                                                                 \n",
            " batch_normalization_76 (Bat  (None, 2024)             8096      \n",
            " chNormalization)                                                \n",
            "                                                                 \n",
            " output (Dense)              (None, 10)                20250     \n",
            "                                                                 \n",
            "=================================================================\n",
            "Total params: 10,699,714\n",
            "Trainable params: 10,689,058\n",
            "Non-trainable params: 10,656\n",
            "_________________________________________________________________\n"
          ]
        }
      ]
    },
    {
      "cell_type": "code",
      "source": [
        "# plot training\n",
        "plot_training(cnn3_history)"
      ],
      "metadata": {
        "id": "KqvhtfUZtCWm"
      },
      "id": "KqvhtfUZtCWm",
      "execution_count": null,
      "outputs": []
    }
  ],
  "metadata": {
    "kernelspec": {
      "display_name": "Python 3 (ipykernel)",
      "language": "python",
      "name": "python3"
    },
    "language_info": {
      "codemirror_mode": {
        "name": "ipython",
        "version": 3
      },
      "file_extension": ".py",
      "mimetype": "text/x-python",
      "name": "python",
      "nbconvert_exporter": "python",
      "pygments_lexer": "ipython3",
      "version": "3.9.12"
    },
    "colab": {
      "provenance": [],
      "include_colab_link": true
    }
  },
  "nbformat": 4,
  "nbformat_minor": 5
}
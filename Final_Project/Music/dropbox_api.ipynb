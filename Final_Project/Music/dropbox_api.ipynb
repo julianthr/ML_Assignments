{
 "cells": [
  {
   "cell_type": "code",
   "execution_count": 1,
   "id": "fbb2e1f6",
   "metadata": {},
   "outputs": [],
   "source": [
    "# pip install dropbox"
   ]
  },
  {
   "cell_type": "code",
   "execution_count": 3,
   "id": "99a6daa1",
   "metadata": {},
   "outputs": [],
   "source": [
    "import pandas as pd\n",
    "import dropbox\n",
    "import librosa\n",
    "import io"
   ]
  },
  {
   "cell_type": "code",
   "execution_count": 4,
   "id": "7bda9702",
   "metadata": {},
   "outputs": [],
   "source": [
    "# store access token for Dropbox\n",
    "DROPBOX_ACCESS_TOKEN = \"sl.Bd2k9ROeMw1ePj9KR-YgOvSwc_u9wIoUEPhwX6Ybe0V3UPDrMkjgRgpDPPIqP6_7VpGNxpxrgqFORV6MbGQdcM1xA04IWmy2qVhjSaadESd36HOU7PK95vawB-zngRpxX4pXftk\""
   ]
  },
  {
   "cell_type": "code",
   "execution_count": 5,
   "id": "ef65fa79",
   "metadata": {},
   "outputs": [],
   "source": [
    "# connect to the dropbox folder\n",
    "dbx = dropbox.Dropbox(DROPBOX_ACCESS_TOKEN)"
   ]
  },
  {
   "cell_type": "code",
   "execution_count": 6,
   "id": "031998ed",
   "metadata": {},
   "outputs": [
    {
     "name": "stderr",
     "output_type": "stream",
     "text": [
      "Unable to refresh access token without                 refresh token and app key\n"
     ]
    },
    {
     "ename": "AuthError",
     "evalue": "AuthError('03cec5289282496c9189bf77ab7ae092', AuthError('expired_access_token', None))",
     "output_type": "error",
     "traceback": [
      "\u001b[1;31m---------------------------------------------------------------------------\u001b[0m",
      "\u001b[1;31mAuthError\u001b[0m                                 Traceback (most recent call last)",
      "Input \u001b[1;32mIn [6]\u001b[0m, in \u001b[0;36m<cell line: 2>\u001b[1;34m()\u001b[0m\n\u001b[0;32m      1\u001b[0m \u001b[38;5;66;03m# check that the right Dropbox account is linked\u001b[39;00m\n\u001b[1;32m----> 2\u001b[0m \u001b[43mdbx\u001b[49m\u001b[38;5;241;43m.\u001b[39;49m\u001b[43musers_get_current_account\u001b[49m\u001b[43m(\u001b[49m\u001b[43m)\u001b[49m\n",
      "File \u001b[1;32m~\\anaconda3\\lib\\site-packages\\dropbox\\base.py:5866\u001b[0m, in \u001b[0;36mDropboxBase.users_get_current_account\u001b[1;34m(self)\u001b[0m\n\u001b[0;32m   5857\u001b[0m \u001b[38;5;124;03m\"\"\"\u001b[39;00m\n\u001b[0;32m   5858\u001b[0m \u001b[38;5;124;03mGet information about the current user's account.\u001b[39;00m\n\u001b[0;32m   5859\u001b[0m \n\u001b[1;32m   (...)\u001b[0m\n\u001b[0;32m   5863\u001b[0m \u001b[38;5;124;03m:rtype: :class:`dropbox.users.FullAccount`\u001b[39;00m\n\u001b[0;32m   5864\u001b[0m \u001b[38;5;124;03m\"\"\"\u001b[39;00m\n\u001b[0;32m   5865\u001b[0m arg \u001b[38;5;241m=\u001b[39m \u001b[38;5;28;01mNone\u001b[39;00m\n\u001b[1;32m-> 5866\u001b[0m r \u001b[38;5;241m=\u001b[39m \u001b[38;5;28;43mself\u001b[39;49m\u001b[38;5;241;43m.\u001b[39;49m\u001b[43mrequest\u001b[49m\u001b[43m(\u001b[49m\n\u001b[0;32m   5867\u001b[0m \u001b[43m    \u001b[49m\u001b[43musers\u001b[49m\u001b[38;5;241;43m.\u001b[39;49m\u001b[43mget_current_account\u001b[49m\u001b[43m,\u001b[49m\n\u001b[0;32m   5868\u001b[0m \u001b[43m    \u001b[49m\u001b[38;5;124;43m'\u001b[39;49m\u001b[38;5;124;43musers\u001b[39;49m\u001b[38;5;124;43m'\u001b[39;49m\u001b[43m,\u001b[49m\n\u001b[0;32m   5869\u001b[0m \u001b[43m    \u001b[49m\u001b[43marg\u001b[49m\u001b[43m,\u001b[49m\n\u001b[0;32m   5870\u001b[0m \u001b[43m    \u001b[49m\u001b[38;5;28;43;01mNone\u001b[39;49;00m\u001b[43m,\u001b[49m\n\u001b[0;32m   5871\u001b[0m \u001b[43m\u001b[49m\u001b[43m)\u001b[49m\n\u001b[0;32m   5872\u001b[0m \u001b[38;5;28;01mreturn\u001b[39;00m r\n",
      "File \u001b[1;32m~\\anaconda3\\lib\\site-packages\\dropbox\\dropbox_client.py:326\u001b[0m, in \u001b[0;36m_DropboxTransport.request\u001b[1;34m(self, route, namespace, request_arg, request_binary, timeout)\u001b[0m\n\u001b[0;32m    315\u001b[0m \u001b[38;5;28;01mif\u001b[39;00m (timeout \u001b[38;5;129;01mis\u001b[39;00m \u001b[38;5;28;01mNone\u001b[39;00m \u001b[38;5;129;01mand\u001b[39;00m\n\u001b[0;32m    316\u001b[0m         route \u001b[38;5;241m==\u001b[39m files\u001b[38;5;241m.\u001b[39mlist_folder_longpoll):\n\u001b[0;32m    317\u001b[0m     \u001b[38;5;66;03m# The client normally sends a timeout value to the\u001b[39;00m\n\u001b[1;32m   (...)\u001b[0m\n\u001b[0;32m    322\u001b[0m     \u001b[38;5;66;03m# due to a shorter socket timeout.\u001b[39;00m\n\u001b[0;32m    323\u001b[0m     \u001b[38;5;66;03m# NB: This is done here because base.py is auto-generated\u001b[39;00m\n\u001b[0;32m    324\u001b[0m     timeout \u001b[38;5;241m=\u001b[39m request_arg\u001b[38;5;241m.\u001b[39mtimeout \u001b[38;5;241m+\u001b[39m \u001b[38;5;241m90\u001b[39m\n\u001b[1;32m--> 326\u001b[0m res \u001b[38;5;241m=\u001b[39m \u001b[38;5;28;43mself\u001b[39;49m\u001b[38;5;241;43m.\u001b[39;49m\u001b[43mrequest_json_string_with_retry\u001b[49m\u001b[43m(\u001b[49m\u001b[43mhost\u001b[49m\u001b[43m,\u001b[49m\n\u001b[0;32m    327\u001b[0m \u001b[43m                                          \u001b[49m\u001b[43mroute_name\u001b[49m\u001b[43m,\u001b[49m\n\u001b[0;32m    328\u001b[0m \u001b[43m                                          \u001b[49m\u001b[43mroute_style\u001b[49m\u001b[43m,\u001b[49m\n\u001b[0;32m    329\u001b[0m \u001b[43m                                          \u001b[49m\u001b[43mserialized_arg\u001b[49m\u001b[43m,\u001b[49m\n\u001b[0;32m    330\u001b[0m \u001b[43m                                          \u001b[49m\u001b[43mauth_type\u001b[49m\u001b[43m,\u001b[49m\n\u001b[0;32m    331\u001b[0m \u001b[43m                                          \u001b[49m\u001b[43mrequest_binary\u001b[49m\u001b[43m,\u001b[49m\n\u001b[0;32m    332\u001b[0m \u001b[43m                                          \u001b[49m\u001b[43mtimeout\u001b[49m\u001b[38;5;241;43m=\u001b[39;49m\u001b[43mtimeout\u001b[49m\u001b[43m)\u001b[49m\n\u001b[0;32m    333\u001b[0m decoded_obj_result \u001b[38;5;241m=\u001b[39m json\u001b[38;5;241m.\u001b[39mloads(res\u001b[38;5;241m.\u001b[39mobj_result)\n\u001b[0;32m    334\u001b[0m \u001b[38;5;28;01mif\u001b[39;00m \u001b[38;5;28misinstance\u001b[39m(res, RouteResult):\n",
      "File \u001b[1;32m~\\anaconda3\\lib\\site-packages\\dropbox\\dropbox_client.py:476\u001b[0m, in \u001b[0;36m_DropboxTransport.request_json_string_with_retry\u001b[1;34m(self, host, route_name, route_style, request_json_arg, auth_type, request_binary, timeout)\u001b[0m\n\u001b[0;32m    474\u001b[0m \u001b[38;5;28mself\u001b[39m\u001b[38;5;241m.\u001b[39m_logger\u001b[38;5;241m.\u001b[39minfo(\u001b[38;5;124m'\u001b[39m\u001b[38;5;124mRequest to \u001b[39m\u001b[38;5;132;01m%s\u001b[39;00m\u001b[38;5;124m'\u001b[39m, route_name)\n\u001b[0;32m    475\u001b[0m \u001b[38;5;28;01mtry\u001b[39;00m:\n\u001b[1;32m--> 476\u001b[0m     \u001b[38;5;28;01mreturn\u001b[39;00m \u001b[38;5;28;43mself\u001b[39;49m\u001b[38;5;241;43m.\u001b[39;49m\u001b[43mrequest_json_string\u001b[49m\u001b[43m(\u001b[49m\u001b[43mhost\u001b[49m\u001b[43m,\u001b[49m\n\u001b[0;32m    477\u001b[0m \u001b[43m                                    \u001b[49m\u001b[43mroute_name\u001b[49m\u001b[43m,\u001b[49m\n\u001b[0;32m    478\u001b[0m \u001b[43m                                    \u001b[49m\u001b[43mroute_style\u001b[49m\u001b[43m,\u001b[49m\n\u001b[0;32m    479\u001b[0m \u001b[43m                                    \u001b[49m\u001b[43mrequest_json_arg\u001b[49m\u001b[43m,\u001b[49m\n\u001b[0;32m    480\u001b[0m \u001b[43m                                    \u001b[49m\u001b[43mauth_type\u001b[49m\u001b[43m,\u001b[49m\n\u001b[0;32m    481\u001b[0m \u001b[43m                                    \u001b[49m\u001b[43mrequest_binary\u001b[49m\u001b[43m,\u001b[49m\n\u001b[0;32m    482\u001b[0m \u001b[43m                                    \u001b[49m\u001b[43mtimeout\u001b[49m\u001b[38;5;241;43m=\u001b[39;49m\u001b[43mtimeout\u001b[49m\u001b[43m)\u001b[49m\n\u001b[0;32m    483\u001b[0m \u001b[38;5;28;01mexcept\u001b[39;00m AuthError \u001b[38;5;28;01mas\u001b[39;00m e:\n\u001b[0;32m    484\u001b[0m     \u001b[38;5;28;01mif\u001b[39;00m e\u001b[38;5;241m.\u001b[39merror \u001b[38;5;129;01mand\u001b[39;00m e\u001b[38;5;241m.\u001b[39merror\u001b[38;5;241m.\u001b[39mis_expired_access_token():\n",
      "File \u001b[1;32m~\\anaconda3\\lib\\site-packages\\dropbox\\dropbox_client.py:596\u001b[0m, in \u001b[0;36m_DropboxTransport.request_json_string\u001b[1;34m(self, host, func_name, route_style, request_json_arg, auth_type, request_binary, timeout)\u001b[0m\n\u001b[0;32m    587\u001b[0m     timeout \u001b[38;5;241m=\u001b[39m \u001b[38;5;28mself\u001b[39m\u001b[38;5;241m.\u001b[39m_timeout\n\u001b[0;32m    589\u001b[0m r \u001b[38;5;241m=\u001b[39m \u001b[38;5;28mself\u001b[39m\u001b[38;5;241m.\u001b[39m_session\u001b[38;5;241m.\u001b[39mpost(url,\n\u001b[0;32m    590\u001b[0m                        headers\u001b[38;5;241m=\u001b[39mheaders,\n\u001b[0;32m    591\u001b[0m                        data\u001b[38;5;241m=\u001b[39mbody,\n\u001b[1;32m   (...)\u001b[0m\n\u001b[0;32m    594\u001b[0m                        timeout\u001b[38;5;241m=\u001b[39mtimeout,\n\u001b[0;32m    595\u001b[0m                        )\n\u001b[1;32m--> 596\u001b[0m \u001b[38;5;28;43mself\u001b[39;49m\u001b[38;5;241;43m.\u001b[39;49m\u001b[43mraise_dropbox_error_for_resp\u001b[49m\u001b[43m(\u001b[49m\u001b[43mr\u001b[49m\u001b[43m)\u001b[49m\n\u001b[0;32m    597\u001b[0m request_id \u001b[38;5;241m=\u001b[39m r\u001b[38;5;241m.\u001b[39mheaders\u001b[38;5;241m.\u001b[39mget(\u001b[38;5;124m'\u001b[39m\u001b[38;5;124mx-dropbox-request-id\u001b[39m\u001b[38;5;124m'\u001b[39m)\n\u001b[0;32m    598\u001b[0m \u001b[38;5;28;01mif\u001b[39;00m r\u001b[38;5;241m.\u001b[39mstatus_code \u001b[38;5;129;01min\u001b[39;00m (\u001b[38;5;241m403\u001b[39m, \u001b[38;5;241m404\u001b[39m, \u001b[38;5;241m409\u001b[39m):\n",
      "File \u001b[1;32m~\\anaconda3\\lib\\site-packages\\dropbox\\dropbox_client.py:639\u001b[0m, in \u001b[0;36m_DropboxTransport.raise_dropbox_error_for_resp\u001b[1;34m(self, res)\u001b[0m\n\u001b[0;32m    634\u001b[0m     \u001b[38;5;28;01massert\u001b[39;00m res\u001b[38;5;241m.\u001b[39mheaders\u001b[38;5;241m.\u001b[39mget(\u001b[38;5;124m'\u001b[39m\u001b[38;5;124mcontent-type\u001b[39m\u001b[38;5;124m'\u001b[39m) \u001b[38;5;241m==\u001b[39m \u001b[38;5;124m'\u001b[39m\u001b[38;5;124mapplication/json\u001b[39m\u001b[38;5;124m'\u001b[39m, (\n\u001b[0;32m    635\u001b[0m         \u001b[38;5;124m'\u001b[39m\u001b[38;5;124mExpected content-type to be application/json, got \u001b[39m\u001b[38;5;132;01m%r\u001b[39;00m\u001b[38;5;124m'\u001b[39m \u001b[38;5;241m%\u001b[39m\n\u001b[0;32m    636\u001b[0m         res\u001b[38;5;241m.\u001b[39mheaders\u001b[38;5;241m.\u001b[39mget(\u001b[38;5;124m'\u001b[39m\u001b[38;5;124mcontent-type\u001b[39m\u001b[38;5;124m'\u001b[39m))\n\u001b[0;32m    637\u001b[0m     err \u001b[38;5;241m=\u001b[39m stone_serializers\u001b[38;5;241m.\u001b[39mjson_compat_obj_decode(\n\u001b[0;32m    638\u001b[0m         AuthError_validator, res\u001b[38;5;241m.\u001b[39mjson()[\u001b[38;5;124m'\u001b[39m\u001b[38;5;124merror\u001b[39m\u001b[38;5;124m'\u001b[39m])\n\u001b[1;32m--> 639\u001b[0m     \u001b[38;5;28;01mraise\u001b[39;00m AuthError(request_id, err)\n\u001b[0;32m    640\u001b[0m \u001b[38;5;28;01melif\u001b[39;00m res\u001b[38;5;241m.\u001b[39mstatus_code \u001b[38;5;241m==\u001b[39m HTTP_STATUS_INVALID_PATH_ROOT:\n\u001b[0;32m    641\u001b[0m     err \u001b[38;5;241m=\u001b[39m stone_serializers\u001b[38;5;241m.\u001b[39mjson_compat_obj_decode(\n\u001b[0;32m    642\u001b[0m         PathRootError_validator, res\u001b[38;5;241m.\u001b[39mjson()[\u001b[38;5;124m'\u001b[39m\u001b[38;5;124merror\u001b[39m\u001b[38;5;124m'\u001b[39m])\n",
      "\u001b[1;31mAuthError\u001b[0m: AuthError('03cec5289282496c9189bf77ab7ae092', AuthError('expired_access_token', None))"
     ]
    }
   ],
   "source": [
    "# check that the right Dropbox account is linked\n",
    "dbx.users_get_current_account()"
   ]
  },
  {
   "cell_type": "code",
   "execution_count": null,
   "id": "97a84241",
   "metadata": {},
   "outputs": [],
   "source": [
    "for entry in dbx.files_list_folder(\"\").entries:\n",
    "    print(entry.name)"
   ]
  },
  {
   "cell_type": "code",
   "execution_count": 7,
   "id": "f524f629",
   "metadata": {},
   "outputs": [],
   "source": [
    "mp3_path = \"/7400.mp3\""
   ]
  },
  {
   "cell_type": "code",
   "execution_count": 8,
   "id": "4599bd14",
   "metadata": {},
   "outputs": [],
   "source": [
    "# store the mp3 file in memory as a byte string before loading it \n",
    "_, response = dbx.files_download(mp3_path)\n",
    "mp3_bytes = response.content"
   ]
  },
  {
   "cell_type": "code",
   "execution_count": 9,
   "id": "3aedaa1b",
   "metadata": {},
   "outputs": [
    {
     "name": "stdout",
     "output_type": "stream",
     "text": [
      "Audio signal: \n",
      " [-7.1033835e-05 -1.2492016e-04 -1.8467382e-04 ... -7.6801189e-07\n",
      "  1.7133607e-06 -1.0036852e-05] \n",
      "\n",
      "Sample rate: 22050\n"
     ]
    }
   ],
   "source": [
    "# load the mp3 audio file using librosa\n",
    "audio, sr = librosa.load(io.BytesIO(mp3_bytes), sr=22050)\n",
    "\n",
    "# Print the audio signal and sample rate\n",
    "print(\"Audio signal: \\n\", audio, \"\\n\")\n",
    "print(\"Sample rate:\", sr)"
   ]
  },
  {
   "cell_type": "markdown",
   "id": "89228326",
   "metadata": {},
   "source": [
    "### Preparation for looping through Dropbox files"
   ]
  },
  {
   "cell_type": "code",
   "execution_count": 5,
   "id": "2267a6a7",
   "metadata": {},
   "outputs": [],
   "source": [
    "# load the file containing the track_id and mood labels\n",
    "df = pd.read_csv()"
   ]
  },
  {
   "cell_type": "code",
   "execution_count": 9,
   "id": "55e64b1d",
   "metadata": {},
   "outputs": [
    {
     "name": "stdout",
     "output_type": "stream",
     "text": [
      "[3346, 3347, 3348, 3349, 3350, 4639, 6253, 6254, 6256, 6257]\n"
     ]
    }
   ],
   "source": [
    "# store the track_id as a list\n",
    "tracks = df[\"track_id\"].to_list()\n",
    "print(tracks[:10])"
   ]
  },
  {
   "cell_type": "code",
   "execution_count": 12,
   "id": "13a68af0",
   "metadata": {},
   "outputs": [
    {
     "data": {
      "text/plain": [
       "int"
      ]
     },
     "execution_count": 12,
     "metadata": {},
     "output_type": "execute_result"
    }
   ],
   "source": [
    "type(tracks[0])"
   ]
  },
  {
   "cell_type": "code",
   "execution_count": null,
   "id": "d84073db",
   "metadata": {},
   "outputs": [],
   "source": [
    "# prepare a dictionary to store all relevant information for future machine learning algorithms"
   ]
  },
  {
   "cell_type": "code",
   "execution_count": 13,
   "id": "40da7e7e",
   "metadata": {},
   "outputs": [
    {
     "name": "stdout",
     "output_type": "stream",
     "text": [
      "3346.mp3\n",
      "3347.mp3\n",
      "3348.mp3\n"
     ]
    }
   ],
   "source": [
    "# loop through all audio files that are considered for our machine learning algorithm\n",
    "for i in tracks[:3]:\n",
    "    \n",
    "    # translate the track_id into the correct audiofile name in the Dropbox folder\n",
    "    mp3_path = str(i) + \".mp3\"\n",
    "    \n",
    "    # store the mp3 file in memory as a byte string before loading it \n",
    "    _, response = dbx.files_download(mp3_path)\n",
    "    mp3_bytes = response.content\n",
    "    \n",
    "    # load the mp3 audio file using librosa\n",
    "    audio, sr = librosa.load(io.BytesIO(mp3_bytes), sr=22050)\n",
    "    "
   ]
  }
 ],
 "metadata": {
  "kernelspec": {
   "display_name": "Python 3 (ipykernel)",
   "language": "python",
   "name": "python3"
  },
  "language_info": {
   "codemirror_mode": {
    "name": "ipython",
    "version": 3
   },
   "file_extension": ".py",
   "mimetype": "text/x-python",
   "name": "python",
   "nbconvert_exporter": "python",
   "pygments_lexer": "ipython3",
   "version": "3.9.12"
  }
 },
 "nbformat": 4,
 "nbformat_minor": 5
}

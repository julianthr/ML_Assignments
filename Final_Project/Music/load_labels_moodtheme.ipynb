{
 "cells": [
  {
   "cell_type": "code",
   "execution_count": 1,
   "id": "7b59120a",
   "metadata": {},
   "outputs": [],
   "source": [
    "import commons\n",
    "import pandas as pd\n",
    "import seaborn as sns\n",
    "import matplotlib.pyplot as plt\n",
    "import pickle"
   ]
  },
  {
   "cell_type": "code",
   "execution_count": 2,
   "id": "dda6140e",
   "metadata": {},
   "outputs": [
    {
     "name": "stdout",
     "output_type": "stream",
     "text": [
      "Reading: 18486 tracks, 4506 albums, 1533 artists\n"
     ]
    }
   ],
   "source": [
    "input_file = 'autotagging_moodtheme.tsv'\n",
    "tracks, tags, extra = commons.read_file(input_file)"
   ]
  },
  {
   "cell_type": "code",
   "execution_count": 3,
   "id": "c55b2316",
   "metadata": {},
   "outputs": [
    {
     "name": "stdout",
     "output_type": "stream",
     "text": [
      "(948, {'artist_id': 87, 'album_id': 149, 'path': '48/948.mp3', 'duration': 212.7, 'tags': ['mood/theme---background'], 'genre': set(), 'instrument': set(), 'mood/theme': {'background'}})\n"
     ]
    }
   ],
   "source": [
    "# Get the first key-value pair and print it\n",
    "first_pair = list(tracks.items())[0]\n",
    "print(first_pair)"
   ]
  },
  {
   "cell_type": "code",
   "execution_count": 4,
   "id": "5c5e7292",
   "metadata": {},
   "outputs": [],
   "source": [
    "# delete genre and instrument from dictionary\n",
    "for key in tracks:\n",
    "    tracks[key].pop('genre', None)\n",
    "    tracks[key].pop('instrument', None)\n",
    "    tracks[key].pop('tags', None)"
   ]
  },
  {
   "cell_type": "code",
   "execution_count": 6,
   "id": "ba42e18e",
   "metadata": {
    "scrolled": true
   },
   "outputs": [
    {
     "name": "stdout",
     "output_type": "stream",
     "text": [
      "   track_id  artist_id  album_id         path  duration     mood/theme\n",
      "0       948         87       149   48/948.mp3     212.7   {background}\n",
      "1       950         87       149   50/950.mp3     248.0   {background}\n",
      "2       951         87       149   51/951.mp3     199.7   {background}\n",
      "3      2165        326       347  65/2165.mp3     229.0         {film}\n",
      "4      2263        320       366  63/2263.mp3     494.7  {melancholic}\n"
     ]
    }
   ],
   "source": [
    "# transform into dataframe\n",
    "df_labels = pd.DataFrame.from_dict(tracks, orient='index').reset_index()\n",
    "df_labels = df_labels.rename(columns={'index': 'track_id'})\n",
    "print(df_labels.head())"
   ]
  },
  {
   "cell_type": "code",
   "execution_count": 25,
   "id": "9ec2a074",
   "metadata": {},
   "outputs": [],
   "source": [
    "# save dataframe to csv in my own folder\n",
    "folder_path = \"C:/Users/marce/OneDrive/Dokumente/Master/CBS/2nd semester/ML/Project/Music\"\n",
    "file_path = folder_path + '/autotagging_moodtheme_transformed.csv'\n",
    "df_labels.to_csv(file_path, index=False)"
   ]
  },
  {
   "cell_type": "markdown",
   "id": "f6cb74da",
   "metadata": {},
   "source": [
    "## EDA of labels dataset"
   ]
  },
  {
   "cell_type": "code",
   "execution_count": 8,
   "id": "dc8688d1",
   "metadata": {
    "scrolled": true
   },
   "outputs": [
    {
     "name": "stdout",
     "output_type": "stream",
     "text": [
      "['background', 'background', 'background', 'film', 'melancholic', 'calm', 'melodic', 'calm', 'melodic', 'calm']\n"
     ]
    }
   ],
   "source": [
    "# Count number of tracks per label\n",
    "\n",
    "moods = []\n",
    "for track in tracks.values():\n",
    "    moods.extend(list(track['mood/theme']))\n",
    "\n",
    "print(moods[:10])"
   ]
  },
  {
   "cell_type": "code",
   "execution_count": 81,
   "id": "9a251e0e",
   "metadata": {},
   "outputs": [
    {
     "name": "stdout",
     "output_type": "stream",
     "text": [
      "There are 59 mood/theme labels.\n"
     ]
    }
   ],
   "source": [
    "print('There are', len(set(moods)), 'mood/theme labels.')"
   ]
  },
  {
   "cell_type": "code",
   "execution_count": 20,
   "id": "2d214345",
   "metadata": {
    "scrolled": true
   },
   "outputs": [
    {
     "name": "stdout",
     "output_type": "stream",
     "text": [
      "           Label  Count\n",
      "0          happy   1657\n",
      "1           film   1502\n",
      "2      energetic   1357\n",
      "3       relaxing   1350\n",
      "4      emotional   1271\n",
      "5        melodic   1213\n",
      "6           dark   1202\n",
      "7           epic    982\n",
      "8          dream    951\n",
      "9           love    909\n",
      "10     inspiring    877\n",
      "11           sad    749\n",
      "12    meditative    742\n",
      "13     uplifting    693\n",
      "14   advertising    673\n",
      "15  motivational    635\n",
      "16          deep    635\n",
      "17      romantic    627\n",
      "18     christmas    623\n",
      "19   documentary    612\n",
      "20     corporate    609\n",
      "21      positive    539\n",
      "22        summer    505\n",
      "23         space    503\n",
      "24    background    496\n",
      "25           fun    480\n",
      "26    soundscape    480\n",
      "27          soft    465\n",
      "28     ambiental    460\n",
      "29          calm    457\n",
      "30      children    456\n",
      "31     adventure    448\n",
      "32        upbeat    444\n",
      "33   melancholic    441\n",
      "34          slow    437\n",
      "35    commercial    428\n",
      "36         drama    424\n",
      "37         movie    413\n",
      "38        action    407\n",
      "39        ballad    334\n",
      "40      dramatic    317\n",
      "41         sport    297\n",
      "42       trailer    270\n",
      "43         party    266\n",
      "44          game    261\n",
      "45        nature    259\n",
      "46          cool    251\n",
      "47      powerful    238\n",
      "48       hopeful    216\n",
      "49         retro    213\n",
      "50         funny    203\n",
      "51        groovy    194\n",
      "52       holiday    176\n",
      "53        travel    171\n",
      "54        horror    158\n",
      "55         heavy    156\n",
      "56        mellow    154\n",
      "57          sexy    122\n",
      "58          fast    119\n"
     ]
    }
   ],
   "source": [
    "# number of tracks per label\n",
    "label_counts = pd.Series(moods).value_counts()\n",
    "label_counts = pd.DataFrame({'Label': label_counts.index, 'Count': label_counts.values})\n",
    "print(label_counts)"
   ]
  },
  {
   "cell_type": "markdown",
   "id": "4c828a7e",
   "metadata": {},
   "source": [
    "As our project focuses on music emotion recognition (MER), we simplify the task by dropping theme labels. This has two benefits:\n",
    "- We avoid introducing additional irrelevant factors that could potentially affect the accuracy of your model.  \n",
    "- We reduce the complexity of the analysis and make it easier to interpret the results.\n",
    "\n",
    "To identify which of the labels can be regarded as emotions, we used the 'wheel of emotions' proposed by Robert Plutchik (2001).\n",
    "\n",
    "Plutchik, R. (2001). The Nature of Emotions: Human emotions have deep evolutionary roots, a fact that may explain their complexity and provide tools for clinical practice. *American Scientist, 89*(4), 344–350.\n",
    "\n",
    "Based on his model, the labels considered emotions are: 'inspiring', 'energetic', 'happy', 'sad', 'motivational', 'relaxing', 'uplifting', 'calm', 'love','hopeful'.\n",
    "\n",
    "The labels not considered emotions are: 'summer', 'holiday', 'emotional', 'film', 'action', 'heavy', 'christmas', 'groovy', 'soundscape', 'cool', 'fast', 'nature', 'drama', 'ambiental', 'retro', 'funny', 'fun', 'game', 'documentary', 'dark', 'dream', 'sexy', 'epic', 'ballad', 'sport', 'corporate', 'children', 'travel', 'party', 'positive', 'advertising', 'soft', 'romantic', 'meditative', 'adventure', 'space', 'horror', 'movie', 'trailer', 'deep', 'commercial', 'dramatic', 'mellow', 'upbeat', 'powerful'."
   ]
  },
  {
   "cell_type": "code",
   "execution_count": 9,
   "id": "0a90d6f3",
   "metadata": {},
   "outputs": [
    {
     "name": "stdout",
     "output_type": "stream",
     "text": [
      "['calm', 'calm', 'calm', 'calm', 'calm', 'relaxing', 'relaxing', 'relaxing', 'relaxing', 'relaxing']\n"
     ]
    }
   ],
   "source": [
    "# drop theme labels, only keep emotion labels\n",
    "emotions = ['inspiring', 'energetic', 'happy', 'sad', 'motivational', 'relaxing', 'uplifting', 'calm', 'love','hopeful']\n",
    "labels_emotions = list(filter(lambda x: x in emotions, moods))\n",
    "print(labels_emotions[:10])"
   ]
  },
  {
   "cell_type": "code",
   "execution_count": 11,
   "id": "47c8ed7b",
   "metadata": {
    "scrolled": true
   },
   "outputs": [
    {
     "name": "stdout",
     "output_type": "stream",
     "text": [
      "        emotion  Count\n",
      "0         happy   1657\n",
      "1     energetic   1357\n",
      "2      relaxing   1350\n",
      "3          love    909\n",
      "4     inspiring    877\n",
      "5           sad    749\n",
      "6     uplifting    693\n",
      "7  motivational    635\n",
      "8          calm    457\n",
      "9       hopeful    216\n"
     ]
    }
   ],
   "source": [
    "# number of tracks per emotion label\n",
    "emotion_counts_s = pd.Series(labels_emotions).value_counts()\n",
    "emotion_counts_df = pd.DataFrame({'emotion': emotion_counts_s.index, 'Count': emotion_counts_s.values})\n",
    "print(emotion_counts_df)"
   ]
  },
  {
   "cell_type": "code",
   "execution_count": 49,
   "id": "3ce92359",
   "metadata": {},
   "outputs": [
    {
     "data": {
      "text/plain": [
       "8900"
      ]
     },
     "execution_count": 49,
     "metadata": {},
     "output_type": "execute_result"
    }
   ],
   "source": [
    "sum(emotion_counts_df[\"Count\"])"
   ]
  },
  {
   "cell_type": "code",
   "execution_count": 47,
   "id": "497c3a6d",
   "metadata": {},
   "outputs": [
    {
     "data": {
      "image/png": "[encoded data removed]",
      "text/plain": [
       "<Figure size 720x432 with 1 Axes>"
      ]
     },
     "metadata": {},
     "output_type": "display_data"
    }
   ],
   "source": [
    "sns.set_style('whitegrid')\n",
    "plt.figure(figsize=(10,6))\n",
    "sns.barplot(data=emotion_counts_df, x=\"emotion\", y=\"Count\", color='blue')\n",
    "plt.show()"
   ]
  },
  {
   "cell_type": "code",
   "execution_count": 72,
   "id": "3c8c3ed6",
   "metadata": {},
   "outputs": [],
   "source": [
    "# drop labels not considered emotions from dataset and delete entries that do not have any labels left \n",
    "\n",
    "keys_to_delete = []\n",
    "\n",
    "for key, value in tracks.items():\n",
    "    value['mood/theme'] = value['mood/theme'].intersection(emotions)\n",
    "    if not value['mood/theme']:\n",
    "        keys_to_delete.append(key)\n",
    "\n",
    "for key in keys_to_delete:\n",
    "    del tracks[key]"
   ]
  },
  {
   "cell_type": "code",
   "execution_count": 12,
   "id": "da5f54c5",
   "metadata": {},
   "outputs": [
    {
     "name": "stdout",
     "output_type": "stream",
     "text": [
      "[(948, {'artist_id': 87, 'album_id': 149, 'path': '48/948.mp3', 'duration': 212.7, 'mood/theme': {'background'}}), (950, {'artist_id': 87, 'album_id': 149, 'path': '50/950.mp3', 'duration': 248.0, 'mood/theme': {'background'}}), (951, {'artist_id': 87, 'album_id': 149, 'path': '51/951.mp3', 'duration': 199.7, 'mood/theme': {'background'}}), (2165, {'artist_id': 326, 'album_id': 347, 'path': '65/2165.mp3', 'duration': 229.0, 'mood/theme': {'film'}}), (2263, {'artist_id': 320, 'album_id': 366, 'path': '63/2263.mp3', 'duration': 494.7, 'mood/theme': {'melancholic'}}), (3346, {'artist_id': 517, 'album_id': 521, 'path': '46/3346.mp3', 'duration': 195.0, 'mood/theme': {'calm', 'melodic'}}), (3347, {'artist_id': 517, 'album_id': 521, 'path': '47/3347.mp3', 'duration': 201.8, 'mood/theme': {'calm', 'melodic'}}), (3348, {'artist_id': 517, 'album_id': 521, 'path': '48/3348.mp3', 'duration': 253.3, 'mood/theme': {'calm', 'melodic'}}), (3349, {'artist_id': 517, 'album_id': 521, 'path': '49/3349.mp3', 'duration': 228.4, 'mood/theme': {'calm', 'melodic'}}), (3350, {'artist_id': 517, 'album_id': 521, 'path': '50/3350.mp3', 'duration': 194.7, 'mood/theme': {'calm', 'melodic'}})]\n"
     ]
    }
   ],
   "source": [
    "print(list(tracks.items())[:10])"
   ]
  },
  {
   "cell_type": "code",
   "execution_count": 80,
   "id": "d919b3ab",
   "metadata": {},
   "outputs": [
    {
     "name": "stdout",
     "output_type": "stream",
     "text": [
      "The number of tracks left after only considering emotion labels is 7087.\n"
     ]
    }
   ],
   "source": [
    "print('The number of tracks left after only considering emotion labels is ' + str(len(tracks)) + '.')"
   ]
  },
  {
   "cell_type": "code",
   "execution_count": 13,
   "id": "a9e749fc",
   "metadata": {},
   "outputs": [
    {
     "name": "stdout",
     "output_type": "stream",
     "text": [
      "   track_id  artist_id  album_id         path  duration     mood/theme\n",
      "0       948         87       149   48/948.mp3     212.7   {background}\n",
      "1       950         87       149   50/950.mp3     248.0   {background}\n",
      "2       951         87       149   51/951.mp3     199.7   {background}\n",
      "3      2165        326       347  65/2165.mp3     229.0         {film}\n",
      "4      2263        320       366  63/2263.mp3     494.7  {melancholic}\n"
     ]
    }
   ],
   "source": [
    "# transform into dataframe\n",
    "df_labels_emotion = pd.DataFrame.from_dict(tracks, orient='index').reset_index()\n",
    "df_labels_emotion = df_labels_emotion.rename(columns={'index': 'track_id'})\n",
    "print(df_labels_emotion.head())"
   ]
  },
  {
   "cell_type": "code",
   "execution_count": 83,
   "id": "daa88210",
   "metadata": {},
   "outputs": [],
   "source": [
    "# save dataframe to csv to current folder\n",
    "df_labels_emotion.to_csv('autotagging_moodtheme_transformed_emotion.csv', index=False)"
   ]
  },
  {
   "cell_type": "code",
   "execution_count": 86,
   "id": "327b37b2",
   "metadata": {},
   "outputs": [],
   "source": [
    "# save dictionary as pickle file to current folder\n",
    "with open('tracks.pkl', 'wb') as f:\n",
    "    pickle.dump(tracks, f)"
   ]
  }
 ],
 "metadata": {
  "kernelspec": {
   "display_name": "Python 3 (ipykernel)",
   "language": "python",
   "name": "python3"
  },
  "language_info": {
   "codemirror_mode": {
    "name": "ipython",
    "version": 3
   },
   "file_extension": ".py",
   "mimetype": "text/x-python",
   "name": "python",
   "nbconvert_exporter": "python",
   "pygments_lexer": "ipython3",
   "version": "3.9.12"
  }
 },
 "nbformat": 4,
 "nbformat_minor": 5
}

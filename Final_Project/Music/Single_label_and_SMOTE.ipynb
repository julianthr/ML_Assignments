{
  "cells": [
    {
      "cell_type": "markdown",
      "metadata": {
        "id": "view-in-github",
        "colab_type": "text"
      },
      "source": [
        "<a href=\"https://colab.research.google.com/github/julianthr/ML_Assignments/blob/main/Final_Project/Music/temporary_solution.ipynb\" target=\"_parent\"><img src=\"https://colab.research.google.com/assets/colab-badge.svg\" alt=\"Open In Colab\"/></a>"
      ]
    },
    {
      "cell_type": "code",
      "execution_count": null,
      "id": "dfd873b3-2192-4171-972f-91036204b5f3",
      "metadata": {
        "execution": {
          "iopub.execute_input": "2023-05-16T09:52:46.697432Z",
          "iopub.status.busy": "2023-05-16T09:52:46.696633Z",
          "iopub.status.idle": "2023-05-16T09:52:46.704508Z",
          "shell.execute_reply": "2023-05-16T09:52:46.703080Z",
          "shell.execute_reply.started": "2023-05-16T09:52:46.697374Z"
        },
        "tags": [],
        "id": "dfd873b3-2192-4171-972f-91036204b5f3"
      },
      "outputs": [],
      "source": [
        "# import libraries\n",
        "!pip install scikit-learn\n",
        "import numpy as np\n",
        "from sklearn.model_selection import train_test_split\n",
        "from imblearn.over_sampling import SMOTE"
      ]
    },
    {
      "cell_type": "markdown",
      "source": [
        "### Transform to single-label dataset"
      ],
      "metadata": {
        "id": "Ngtk5g3S4BjX"
      },
      "id": "Ngtk5g3S4BjX"
    },
    {
      "cell_type": "code",
      "execution_count": null,
      "id": "d99ea011-a08c-48eb-91b3-4e325065f614",
      "metadata": {
        "execution": {
          "iopub.execute_input": "2023-05-16T09:08:41.238458Z",
          "iopub.status.busy": "2023-05-16T09:08:41.237595Z",
          "iopub.status.idle": "2023-05-16T09:08:41.538012Z",
          "shell.execute_reply": "2023-05-16T09:08:41.536040Z",
          "shell.execute_reply.started": "2023-05-16T09:08:41.238392Z"
        },
        "tags": [],
        "id": "d99ea011-a08c-48eb-91b3-4e325065f614"
      },
      "outputs": [],
      "source": [
        "# load relevant training data\n",
        "X_train = np.load(\"X_train.npy\")\n",
        "y_train = np.load(\"y_train.npy\")\n",
        "\n",
        "# load relevant training data\n",
        "X_val = np.load(\"X_val.npy\")\n",
        "y_val = np.load(\"y_val.npy\")\n",
        "\n",
        "# load relevant test data\n",
        "X_test = np.load(\"X_test.npy\")\n",
        "y_test = np.load(\"y_test.npy\")"
      ]
    },
    {
      "cell_type": "code",
      "execution_count": null,
      "id": "dc44dd66-8724-47ac-b8fd-87833b03c3ee",
      "metadata": {
        "execution": {
          "iopub.execute_input": "2023-05-16T09:08:41.571087Z",
          "iopub.status.busy": "2023-05-16T09:08:41.570846Z",
          "iopub.status.idle": "2023-05-16T09:08:42.073013Z",
          "shell.execute_reply": "2023-05-16T09:08:42.072173Z",
          "shell.execute_reply.started": "2023-05-16T09:08:41.571066Z"
        },
        "tags": [],
        "id": "dc44dd66-8724-47ac-b8fd-87833b03c3ee"
      },
      "outputs": [],
      "source": [
        "# append all sets to perform the operations on the whole dataset - the train/test split will be performed again afterwards\n",
        "X = np.append(X_train, np.append(X_val, X_test, axis=0), axis=0)\n",
        "y = np.append(y_train, np.append(y_val, y_test, axis=0), axis=0)"
      ]
    },
    {
      "cell_type": "code",
      "execution_count": null,
      "id": "33a2ff4d-d339-48cf-a98b-cd6b10588aea",
      "metadata": {
        "execution": {
          "iopub.execute_input": "2023-05-16T09:09:10.737348Z",
          "iopub.status.busy": "2023-05-16T09:09:10.736507Z",
          "iopub.status.idle": "2023-05-16T09:09:10.745198Z",
          "shell.execute_reply": "2023-05-16T09:09:10.744151Z",
          "shell.execute_reply.started": "2023-05-16T09:09:10.737287Z"
        },
        "tags": [],
        "id": "33a2ff4d-d339-48cf-a98b-cd6b10588aea",
        "outputId": "8eb6ff72-9d28-4a44-c661-22d427aa12ab"
      },
      "outputs": [
        {
          "name": "stdout",
          "output_type": "stream",
          "text": [
            "(7065, 1292, 20, 1)\n",
            "(7065, 10)\n"
          ]
        }
      ],
      "source": [
        "# input shapes: all but the first shape have to stay the same\n",
        "print(X.shape)\n",
        "print(y.shape)"
      ]
    },
    {
      "cell_type": "code",
      "execution_count": null,
      "id": "f41c1633-1ffe-4b1d-9834-32b966072647",
      "metadata": {
        "execution": {
          "iopub.execute_input": "2023-05-16T09:20:50.619343Z",
          "iopub.status.busy": "2023-05-16T09:20:50.618665Z",
          "iopub.status.idle": "2023-05-16T09:20:50.644427Z",
          "shell.execute_reply": "2023-05-16T09:20:50.643322Z",
          "shell.execute_reply.started": "2023-05-16T09:20:50.619304Z"
        },
        "tags": [],
        "id": "f41c1633-1ffe-4b1d-9834-32b966072647"
      },
      "outputs": [],
      "source": [
        "# build new dataset without mulitlabel cases\n",
        "X_new = []\n",
        "y_new = []\n",
        "counter = 0\n",
        "\n",
        "for i in y:\n",
        "    if i.sum()==1:\n",
        "        X_new.append(X[counter])\n",
        "        y_new.append(y[counter])\n",
        "    counter+=1"
      ]
    },
    {
      "cell_type": "code",
      "execution_count": null,
      "id": "e65079bb-acc3-4a4d-8cb0-327a231818ad",
      "metadata": {
        "execution": {
          "iopub.execute_input": "2023-05-16T09:23:51.741802Z",
          "iopub.status.busy": "2023-05-16T09:23:51.740486Z",
          "iopub.status.idle": "2023-05-16T09:23:51.924612Z",
          "shell.execute_reply": "2023-05-16T09:23:51.923338Z",
          "shell.execute_reply.started": "2023-05-16T09:23:51.741739Z"
        },
        "tags": [],
        "id": "e65079bb-acc3-4a4d-8cb0-327a231818ad"
      },
      "outputs": [],
      "source": [
        "# transform lists to arrays\n",
        "X_final = np.array(X_new)\n",
        "y_final = np.array(y_new)"
      ]
    },
    {
      "cell_type": "code",
      "execution_count": null,
      "id": "13fa4649-1bef-45ed-86b9-aaf5afb4f61c",
      "metadata": {
        "execution": {
          "iopub.execute_input": "2023-05-16T10:14:55.101094Z",
          "iopub.status.busy": "2023-05-16T10:14:55.100304Z",
          "iopub.status.idle": "2023-05-16T10:14:55.416173Z",
          "shell.execute_reply": "2023-05-16T10:14:55.415338Z",
          "shell.execute_reply.started": "2023-05-16T10:14:55.101033Z"
        },
        "tags": [],
        "id": "13fa4649-1bef-45ed-86b9-aaf5afb4f61c"
      },
      "outputs": [],
      "source": [
        "# reestablish train:validation:test in the ratio 60:20:20\n",
        "\n",
        "# Split the MFCCs into train and test sets\n",
        "X_train, X_test, y_train, y_test = train_test_split(X_final, y_final, test_size=0.2, random_state=42)\n",
        "\n",
        "# Split training data into training and validation sets\n",
        "X_train, X_val, y_train, y_val = train_test_split(X_train, y_train, test_size=0.25, random_state=42)"
      ]
    },
    {
      "cell_type": "markdown",
      "source": [
        "### SMOTE\n"
      ],
      "metadata": {
        "id": "AMZjTSyS4Nms"
      },
      "id": "AMZjTSyS4Nms"
    },
    {
      "cell_type": "code",
      "execution_count": null,
      "id": "897140ca-d97d-48b5-a8a4-b350e15a5f1e",
      "metadata": {
        "execution": {
          "iopub.execute_input": "2023-05-16T10:26:52.533798Z",
          "iopub.status.busy": "2023-05-16T10:26:52.533591Z",
          "iopub.status.idle": "2023-05-16T10:26:52.539082Z",
          "shell.execute_reply": "2023-05-16T10:26:52.538405Z",
          "shell.execute_reply.started": "2023-05-16T10:26:52.533777Z"
        },
        "tags": [],
        "id": "897140ca-d97d-48b5-a8a4-b350e15a5f1e"
      },
      "outputs": [],
      "source": [
        "# get the number of occurences of all 10 labels in single-label dataset\n",
        "index_positions = np.argmax(y_train, axis=1)\n",
        "\n",
        "\n",
        "# Get the unique values and their counts\n",
        "unique_values, counts = np.unique(index_positions, return_counts=True)\n",
        "\n",
        "count_dict = {}\n",
        "\n",
        "# Print the unique values and their counts\n",
        "for value, count in zip(unique_values, counts):\n",
        "    count_dict[value] = count"
      ]
    },
    {
      "cell_type": "code",
      "execution_count": null,
      "id": "19483ae9-49ce-4445-a334-4c685492b703",
      "metadata": {
        "execution": {
          "iopub.execute_input": "2023-05-16T10:26:52.539979Z",
          "iopub.status.busy": "2023-05-16T10:26:52.539804Z",
          "iopub.status.idle": "2023-05-16T10:26:52.780632Z",
          "shell.execute_reply": "2023-05-16T10:26:52.779924Z",
          "shell.execute_reply.started": "2023-05-16T10:26:52.539962Z"
        },
        "tags": [],
        "id": "19483ae9-49ce-4445-a334-4c685492b703",
        "outputId": "cd0675c8-1da3-4566-febe-051a78fd76ef"
      },
      "outputs": [
        {
          "data": {
            "text/plain": [
              "{0: 161, 1: 631, 2: 588, 3: 62, 4: 211, 5: 431, 6: 147, 7: 657, 8: 358, 9: 147}"
            ]
          },
          "execution_count": 167,
          "metadata": {},
          "output_type": "execute_result"
        }
      ],
      "source": [
        "# label distribution\n",
        "count_dict"
      ]
    },
    {
      "cell_type": "code",
      "execution_count": null,
      "id": "39854b26-ca09-49bf-ac26-424d08957537",
      "metadata": {
        "execution": {
          "iopub.execute_input": "2023-05-16T10:26:52.782618Z",
          "iopub.status.busy": "2023-05-16T10:26:52.782386Z",
          "iopub.status.idle": "2023-05-16T10:26:53.024117Z",
          "shell.execute_reply": "2023-05-16T10:26:53.022833Z",
          "shell.execute_reply.started": "2023-05-16T10:26:52.782595Z"
        },
        "tags": [],
        "id": "39854b26-ca09-49bf-ac26-424d08957537"
      },
      "outputs": [],
      "source": [
        "# retrieve the count for the majority class - this will be the benchmark for SMOTE\n",
        "max_val = np.max(list(count_dict.values()))"
      ]
    },
    {
      "cell_type": "code",
      "execution_count": null,
      "id": "f03210ca-c73e-4845-b941-66f93b94b006",
      "metadata": {
        "execution": {
          "iopub.execute_input": "2023-05-16T10:26:53.027028Z",
          "iopub.status.busy": "2023-05-16T10:26:53.026341Z",
          "iopub.status.idle": "2023-05-16T10:26:53.080214Z",
          "shell.execute_reply": "2023-05-16T10:26:53.078974Z",
          "shell.execute_reply.started": "2023-05-16T10:26:53.026971Z"
        },
        "tags": [],
        "id": "f03210ca-c73e-4845-b941-66f93b94b006"
      },
      "outputs": [],
      "source": [
        "# calculate the number of observations we want to have after SMOTE for each label\n",
        "# as upsampling all classes to the observation count of the majority class will lead to overfitting\n",
        "# (we have 10 times more observation for emotion 7 than for emotion 3),\n",
        "# this is supposed to bridge only a share of the difference (e.g. 60% of the difference between the observation count of a particular class and the majority class)\n",
        "weight_dict = count_dict.copy()\n",
        "for i in count_dict.keys():\n",
        "    count_dict[i]=max_val/count_dict[i]\n",
        "    count_dict[i]-=1\n",
        "    count_dict[i]*=0.6\n",
        "    count_dict[i]+=1\n",
        "    count_dict[i] = int(count_dict[i] * weight_dict[i])"
      ]
    },
    {
      "cell_type": "code",
      "execution_count": null,
      "id": "51ac47bb-6cdb-4964-85cf-a710855b6510",
      "metadata": {
        "execution": {
          "iopub.execute_input": "2023-05-16T10:27:13.977616Z",
          "iopub.status.busy": "2023-05-16T10:27:13.977269Z",
          "iopub.status.idle": "2023-05-16T10:27:13.981584Z",
          "shell.execute_reply": "2023-05-16T10:27:13.981127Z",
          "shell.execute_reply.started": "2023-05-16T10:27:13.977594Z"
        },
        "tags": [],
        "id": "51ac47bb-6cdb-4964-85cf-a710855b6510",
        "outputId": "dc717cf7-541b-4336-aa46-242bfa568f6d"
      },
      "outputs": [
        {
          "data": {
            "text/plain": [
              "{0: 309,\n",
              " 1: 638,\n",
              " 2: 608,\n",
              " 3: 240,\n",
              " 4: 344,\n",
              " 5: 498,\n",
              " 6: 299,\n",
              " 7: 657,\n",
              " 8: 447,\n",
              " 9: 299}"
            ]
          },
          "execution_count": 170,
          "metadata": {},
          "output_type": "execute_result"
        }
      ],
      "source": [
        "# the desired observation counts after SMOTE\n",
        "count_dict"
      ]
    },
    {
      "cell_type": "code",
      "execution_count": null,
      "id": "31e5a967-b7f3-4b5a-ba34-439e42abd2ed",
      "metadata": {
        "execution": {
          "iopub.execute_input": "2023-05-16T10:19:10.382130Z",
          "iopub.status.busy": "2023-05-16T10:19:10.381892Z",
          "iopub.status.idle": "2023-05-16T10:19:10.386492Z",
          "shell.execute_reply": "2023-05-16T10:19:10.385826Z",
          "shell.execute_reply.started": "2023-05-16T10:19:10.382107Z"
        },
        "tags": [],
        "id": "31e5a967-b7f3-4b5a-ba34-439e42abd2ed"
      },
      "outputs": [],
      "source": [
        "# remove the key with the maximum occurences from the dict -  for this class, no SMOTE has to be conducted\n",
        "key=max(count_dict, key=count_dict.get)\n",
        "del count_dict[key]\n",
        "count_dict"
      ]
    },
    {
      "cell_type": "code",
      "execution_count": null,
      "id": "0635226b-88d2-4efe-8ccc-86c9298e5970",
      "metadata": {
        "execution": {
          "iopub.execute_input": "2023-05-16T10:19:45.104459Z",
          "iopub.status.busy": "2023-05-16T10:19:45.103660Z",
          "iopub.status.idle": "2023-05-16T10:19:45.111379Z",
          "shell.execute_reply": "2023-05-16T10:19:45.110266Z",
          "shell.execute_reply.started": "2023-05-16T10:19:45.104399Z"
        },
        "tags": [],
        "id": "0635226b-88d2-4efe-8ccc-86c9298e5970"
      },
      "outputs": [],
      "source": [
        "# reshape X_train to a 2D array (necessity for SMOTE - will be reversed afterwards)\n",
        "X_train = X_train.reshape((X_train.shape[0], -1))\n",
        "X_train.shape"
      ]
    },
    {
      "cell_type": "code",
      "execution_count": null,
      "id": "432101e3-b41d-44c2-ae07-ec78451aeef8",
      "metadata": {
        "execution": {
          "iopub.execute_input": "2023-05-16T10:28:34.789345Z",
          "iopub.status.busy": "2023-05-16T10:28:34.788677Z",
          "iopub.status.idle": "2023-05-16T10:28:44.419673Z",
          "shell.execute_reply": "2023-05-16T10:28:44.418351Z",
          "shell.execute_reply.started": "2023-05-16T10:28:34.789287Z"
        },
        "tags": [],
        "id": "432101e3-b41d-44c2-ae07-ec78451aeef8"
      },
      "outputs": [],
      "source": [
        "# conduct SMOTE - oversample all minority classes based on the count_dict\n",
        "smote = SMOTE(sampling_strategy = count_dict, random_state = 42)\n",
        "X_smote, y_smote = smote.fit_resample(X_train, y_train)"
      ]
    },
    {
      "cell_type": "code",
      "execution_count": null,
      "id": "14121aaa-7fcb-4083-8865-168f4cc0a2c5",
      "metadata": {
        "execution": {
          "iopub.execute_input": "2023-05-16T10:28:49.839845Z",
          "iopub.status.busy": "2023-05-16T10:28:49.839646Z",
          "iopub.status.idle": "2023-05-16T10:28:49.845778Z",
          "shell.execute_reply": "2023-05-16T10:28:49.845151Z",
          "shell.execute_reply.started": "2023-05-16T10:28:49.839825Z"
        },
        "tags": [],
        "id": "14121aaa-7fcb-4083-8865-168f4cc0a2c5",
        "outputId": "bb29e030-453a-4408-98a4-557f4ff5bd23"
      },
      "outputs": [
        {
          "data": {
            "text/plain": [
              "(4339, 25840)"
            ]
          },
          "execution_count": 176,
          "metadata": {},
          "output_type": "execute_result"
        }
      ],
      "source": [
        "# SMOTE added observations\n",
        "X_smote.shape"
      ]
    },
    {
      "cell_type": "code",
      "execution_count": null,
      "id": "98667356-3282-4e4b-b167-f80c3526fdf4",
      "metadata": {
        "execution": {
          "iopub.execute_input": "2023-05-16T10:28:55.259661Z",
          "iopub.status.busy": "2023-05-16T10:28:55.259450Z",
          "iopub.status.idle": "2023-05-16T10:28:55.266163Z",
          "shell.execute_reply": "2023-05-16T10:28:55.265335Z",
          "shell.execute_reply.started": "2023-05-16T10:28:55.259641Z"
        },
        "tags": [],
        "id": "98667356-3282-4e4b-b167-f80c3526fdf4",
        "outputId": "c148b9e4-02fd-4482-cbbb-5fe49fd4b394"
      },
      "outputs": [
        {
          "name": "stdout",
          "output_type": "stream",
          "text": [
            "0: 309\n",
            "1: 638\n",
            "2: 608\n",
            "3: 240\n",
            "4: 344\n",
            "5: 498\n",
            "6: 299\n",
            "7: 657\n",
            "8: 447\n",
            "9: 299\n"
          ]
        }
      ],
      "source": [
        "# the counts for each class coincide with the desired observation counts defined above\n",
        "index_positions = np.argmax(y_smote, axis=1)\n",
        "\n",
        "\n",
        "# Get the unique values and their counts\n",
        "unique_values, counts = np.unique(index_positions, return_counts=True)\n",
        "\n",
        "# Print the unique values and their counts\n",
        "for value, count in zip(unique_values, counts):\n",
        "    print(f\"{value}: {count}\")"
      ]
    },
    {
      "cell_type": "code",
      "execution_count": null,
      "id": "3be0d98c-38bd-4cab-997c-1f3b9059d1c3",
      "metadata": {
        "execution": {
          "iopub.execute_input": "2023-05-16T10:33:12.440462Z",
          "iopub.status.busy": "2023-05-16T10:33:12.439788Z",
          "iopub.status.idle": "2023-05-16T10:33:12.449770Z",
          "shell.execute_reply": "2023-05-16T10:33:12.448685Z",
          "shell.execute_reply.started": "2023-05-16T10:33:12.440394Z"
        },
        "tags": [],
        "id": "3be0d98c-38bd-4cab-997c-1f3b9059d1c3",
        "outputId": "3ad8e640-9e97-4eb2-aa6b-6f2c746d589a"
      },
      "outputs": [
        {
          "data": {
            "text/plain": [
              "(4339, 25840)"
            ]
          },
          "execution_count": 179,
          "metadata": {},
          "output_type": "execute_result"
        }
      ],
      "source": [
        "X_smote.shape"
      ]
    },
    {
      "cell_type": "code",
      "execution_count": null,
      "id": "3283a134-eaa7-4d5f-9f98-d792a2c657f5",
      "metadata": {
        "execution": {
          "iopub.execute_input": "2023-05-16T10:33:29.650708Z",
          "iopub.status.busy": "2023-05-16T10:33:29.650067Z",
          "iopub.status.idle": "2023-05-16T10:33:29.658217Z",
          "shell.execute_reply": "2023-05-16T10:33:29.656808Z",
          "shell.execute_reply.started": "2023-05-16T10:33:29.650651Z"
        },
        "tags": [],
        "id": "3283a134-eaa7-4d5f-9f98-d792a2c657f5"
      },
      "outputs": [],
      "source": [
        "# reshape the training set again\n",
        "X_train = X_smote.reshape(X_smote.shape[0], 1292, 20, 1)\n",
        "y_train = y_smote.reshape(y_smote.shape[0], 10)"
      ]
    },
    {
      "cell_type": "code",
      "execution_count": null,
      "id": "771fb756-415d-4bad-98c5-de2926caa276",
      "metadata": {
        "execution": {
          "iopub.execute_input": "2023-05-16T10:33:40.625627Z",
          "iopub.status.busy": "2023-05-16T10:33:40.624909Z",
          "iopub.status.idle": "2023-05-16T10:33:40.634487Z",
          "shell.execute_reply": "2023-05-16T10:33:40.633304Z",
          "shell.execute_reply.started": "2023-05-16T10:33:40.625569Z"
        },
        "tags": [],
        "id": "771fb756-415d-4bad-98c5-de2926caa276",
        "outputId": "8c0f6027-2013-449e-b830-9c397bc4d300"
      },
      "outputs": [
        {
          "data": {
            "text/plain": [
              "(4339, 1292, 20, 1)"
            ]
          },
          "execution_count": 182,
          "metadata": {},
          "output_type": "execute_result"
        }
      ],
      "source": [
        "print(X_train.shape)\n",
        "print(y_train.shape)"
      ]
    },
    {
      "cell_type": "code",
      "source": [
        "# we will use one-hot encoding for the training\n",
        "# code for transformation to sparse encoding would be like this:\n",
        "\"\"\"\n",
        "def reshape_y(y):\n",
        "  y_reshaped = []\n",
        "  for index,values in enumerate(y):\n",
        "      for inner_index, inner_value in enumerate(y[index]):\n",
        "          if inner_value==1:\n",
        "              y_reshaped.append(inner_index)\n",
        "  y_reshaped = np.array(y_reshaped).reshape((-1, 1))\n",
        "  return y_reshaped\n",
        "\n",
        "y_train_reshaped = reshape_y(y_train)\n",
        "y_val_reshaped = reshape_y(y_val)\n",
        "y_test_reshaped = reshape_y(y_test)\n",
        "\"\"\""
      ],
      "metadata": {
        "id": "tJ1Be5cR79h3"
      },
      "id": "tJ1Be5cR79h3",
      "execution_count": null,
      "outputs": []
    },
    {
      "cell_type": "code",
      "execution_count": null,
      "id": "34bea55d-00fa-47ac-9d39-7a25bb242f10",
      "metadata": {
        "execution": {
          "iopub.execute_input": "2023-05-16T10:35:00.940898Z",
          "iopub.status.busy": "2023-05-16T10:35:00.940260Z",
          "iopub.status.idle": "2023-05-16T10:35:01.343206Z",
          "shell.execute_reply": "2023-05-16T10:35:01.342364Z",
          "shell.execute_reply.started": "2023-05-16T10:35:00.940841Z"
        },
        "tags": [],
        "id": "34bea55d-00fa-47ac-9d39-7a25bb242f10"
      },
      "outputs": [],
      "source": [
        "# store the train, validation and test set \n",
        "\n",
        "files = [X_train, X_val, X_test, y_train, y_val, y_test]\n",
        "\n",
        "file_names = ['X_train.npy',\n",
        "              'X_val.npy',\n",
        "              'X_test.npy',\n",
        "              'y_train.npy',\n",
        "              'y_val.npy',\n",
        "              'y_test.npy']\n",
        "\n",
        "for file, file_name in zip(files, file_names):\n",
        "    np.save(file_name, file)"
      ]
    }
  ],
  "metadata": {
    "kernelspec": {
      "display_name": "Python 3 ",
      "language": "python",
      "name": "python3"
    },
    "language_info": {
      "codemirror_mode": {
        "name": "ipython",
        "version": 3
      },
      "file_extension": ".py",
      "mimetype": "text/x-python",
      "name": "python",
      "nbconvert_exporter": "python",
      "pygments_lexer": "ipython3",
      "version": "3.10.8"
    },
    "colab": {
      "provenance": [],
      "include_colab_link": true
    }
  },
  "nbformat": 4,
  "nbformat_minor": 5
}

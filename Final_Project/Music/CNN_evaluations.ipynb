{
 "cells": [
  {
   "cell_type": "code",
   "execution_count": 4,
   "id": "96d65d6a-084e-4704-a16a-0b163f7a1b6e",
   "metadata": {
    "execution": {
     "iopub.execute_input": "2023-05-16T09:51:02.764274Z",
     "iopub.status.busy": "2023-05-16T09:51:02.763642Z",
     "iopub.status.idle": "2023-05-16T09:51:02.770874Z",
     "shell.execute_reply": "2023-05-16T09:51:02.770023Z",
     "shell.execute_reply.started": "2023-05-16T09:51:02.764235Z"
    },
    "tags": []
   },
   "outputs": [],
   "source": [
    "import tensorflow\n",
    "import tensorflow.keras as keras\n",
    "from keras.models import Sequential, load_model\n",
    "from keras.layers import Reshape, Permute, GRU\n",
    "from keras.layers import Dense, Activation, Conv2D, MaxPool2D, BatchNormalization, Flatten, Dropout, LSTM\n",
    "from keras.callbacks import ModelCheckpoint, TensorBoard, ReduceLROnPlateau\n",
    "import matplotlib.pyplot as plt\n",
    "import pandas as pd\n",
    "# import zipfile\n",
    "import numpy as np"
   ]
  },
  {
   "cell_type": "code",
   "execution_count": 30,
   "id": "b20c1ee0-7696-45e6-83c1-9d369bade4b5",
   "metadata": {
    "execution": {
     "iopub.execute_input": "2023-05-16T10:28:23.202945Z",
     "iopub.status.busy": "2023-05-16T10:28:23.202106Z",
     "iopub.status.idle": "2023-05-16T10:28:23.210069Z",
     "shell.execute_reply": "2023-05-16T10:28:23.208989Z",
     "shell.execute_reply.started": "2023-05-16T10:28:23.202885Z"
    },
    "tags": []
   },
   "outputs": [],
   "source": [
    "# multi label predictions and accuracy measures\n",
    "from sklearn.metrics import accuracy_score, precision_score, recall_score, f1_score, multilabel_confusion_matrix, classification_report, roc_auc_score, average_precision_score"
   ]
  },
  {
   "cell_type": "code",
   "execution_count": 3,
   "id": "273efc57-d0af-49ed-8c21-10307d241cd0",
   "metadata": {
    "collapsed": true,
    "execution": {
     "iopub.execute_input": "2023-05-16T09:50:32.949976Z",
     "iopub.status.busy": "2023-05-16T09:50:32.949157Z",
     "iopub.status.idle": "2023-05-16T09:50:42.506655Z",
     "shell.execute_reply": "2023-05-16T09:50:42.503294Z",
     "shell.execute_reply.started": "2023-05-16T09:50:32.949917Z"
    },
    "jupyter": {
     "outputs_hidden": true
    },
    "tags": []
   },
   "outputs": [
    {
     "name": "stdout",
     "output_type": "stream",
     "text": [
      "Collecting scikit-learn\n",
      "  Downloading scikit_learn-1.2.2-cp310-cp310-manylinux_2_17_x86_64.manylinux2014_x86_64.whl (9.6 MB)\n",
      "\u001b[2K     \u001b[90m━━━━━━━━━━━━━━━━━━━━━━━━━━━━━━━━━━━━━━━━\u001b[0m \u001b[32m9.6/9.6 MB\u001b[0m \u001b[31m21.5 MB/s\u001b[0m eta \u001b[36m0:00:00\u001b[0m00:01\u001b[0m00:01\u001b[0m\n",
      "\u001b[?25hRequirement already satisfied: numpy>=1.17.3 in /opt/conda/lib/python3.10/site-packages (from scikit-learn) (1.23.5)\n",
      "Requirement already satisfied: scipy>=1.3.2 in /opt/conda/lib/python3.10/site-packages (from scikit-learn) (1.10.1)\n",
      "Collecting joblib>=1.1.1\n",
      "  Downloading joblib-1.2.0-py3-none-any.whl (297 kB)\n",
      "\u001b[2K     \u001b[90m━━━━━━━━━━━━━━━━━━━━━━━━━━━━━━━━━━━━━━━\u001b[0m \u001b[32m298.0/298.0 kB\u001b[0m \u001b[31m2.6 MB/s\u001b[0m eta \u001b[36m0:00:00\u001b[0m00:01\u001b[0m\n",
      "\u001b[?25hCollecting threadpoolctl>=2.0.0\n",
      "  Downloading threadpoolctl-3.1.0-py3-none-any.whl (14 kB)\n",
      "Installing collected packages: threadpoolctl, joblib, scikit-learn\n",
      "Successfully installed joblib-1.2.0 scikit-learn-1.2.2 threadpoolctl-3.1.0\n"
     ]
    }
   ],
   "source": [
    "!pip install scikit-learn"
   ]
  },
  {
   "cell_type": "code",
   "execution_count": 1,
   "id": "7a4edd8d-c56d-408c-bdc3-f8d4f2835a8d",
   "metadata": {
    "collapsed": true,
    "execution": {
     "iopub.execute_input": "2023-05-16T09:47:33.882852Z",
     "iopub.status.busy": "2023-05-16T09:47:33.882052Z",
     "iopub.status.idle": "2023-05-16T09:48:57.740615Z",
     "shell.execute_reply": "2023-05-16T09:48:57.737796Z",
     "shell.execute_reply.started": "2023-05-16T09:47:33.882795Z"
    },
    "jupyter": {
     "outputs_hidden": true
    },
    "tags": []
   },
   "outputs": [
    {
     "name": "stdout",
     "output_type": "stream",
     "text": [
      "Collecting tensorflow\n",
      "  Downloading tensorflow-2.12.0-cp310-cp310-manylinux_2_17_x86_64.manylinux2014_x86_64.whl (585.9 MB)\n",
      "\u001b[2K     \u001b[90m━━━━━━━━━━━━━━━━━━━━━━━━━━━━━━━━━━━━━━━\u001b[0m \u001b[32m585.9/585.9 MB\u001b[0m \u001b[31m6.1 MB/s\u001b[0m eta \u001b[36m0:00:00\u001b[0m00:01\u001b[0m00:01\u001b[0m\n",
      "\u001b[?25hCollecting opt-einsum>=2.3.2\n",
      "  Downloading opt_einsum-3.3.0-py3-none-any.whl (65 kB)\n",
      "\u001b[2K     \u001b[90m━━━━━━━━━━━━━━━━━━━━━━━━━━━━━━━━━━━━━━━━\u001b[0m \u001b[32m65.5/65.5 kB\u001b[0m \u001b[31m1.2 MB/s\u001b[0m eta \u001b[36m0:00:00\u001b[0mta \u001b[36m0:00:01\u001b[0m\n",
      "\u001b[?25hCollecting tensorboard<2.13,>=2.12\n",
      "  Downloading tensorboard-2.12.3-py3-none-any.whl (5.6 MB)\n",
      "\u001b[2K     \u001b[90m━━━━━━━━━━━━━━━━━━━━━━━━━━━━━━━━━━━━━━━━\u001b[0m \u001b[32m5.6/5.6 MB\u001b[0m \u001b[31m25.1 MB/s\u001b[0m eta \u001b[36m0:00:00\u001b[0m:00:01\u001b[0m\n",
      "\u001b[?25hCollecting keras<2.13,>=2.12.0\n",
      "  Downloading keras-2.12.0-py2.py3-none-any.whl (1.7 MB)\n",
      "\u001b[2K     \u001b[90m━━━━━━━━━━━━━━━━━━━━━━━━━━━━━━━━━━━━━━━━\u001b[0m \u001b[32m1.7/1.7 MB\u001b[0m \u001b[31m11.3 MB/s\u001b[0m eta \u001b[36m0:00:00\u001b[0m:00:01\u001b[0m\n",
      "\u001b[?25hCollecting flatbuffers>=2.0\n",
      "  Downloading flatbuffers-23.5.9-py2.py3-none-any.whl (26 kB)\n",
      "Collecting tensorflow-estimator<2.13,>=2.12.0\n",
      "  Downloading tensorflow_estimator-2.12.0-py2.py3-none-any.whl (440 kB)\n",
      "\u001b[2K     \u001b[90m━━━━━━━━━━━━━━━━━━━━━━━━━━━━━━━━━━━━━━\u001b[0m \u001b[32m440.7/440.7 kB\u001b[0m \u001b[31m14.9 MB/s\u001b[0m eta \u001b[36m0:00:00\u001b[0m\n",
      "\u001b[?25hCollecting tensorflow-io-gcs-filesystem>=0.23.1\n",
      "  Downloading tensorflow_io_gcs_filesystem-0.32.0-cp310-cp310-manylinux_2_12_x86_64.manylinux2010_x86_64.whl (2.4 MB)\n",
      "\u001b[2K     \u001b[90m━━━━━━━━━━━━━━━━━━━━━━━━━━━━━━━━━━━━━━━━\u001b[0m \u001b[32m2.4/2.4 MB\u001b[0m \u001b[31m12.2 MB/s\u001b[0m eta \u001b[36m0:00:00\u001b[0m:00:01\u001b[0m\n",
      "\u001b[?25hCollecting termcolor>=1.1.0\n",
      "  Downloading termcolor-2.3.0-py3-none-any.whl (6.9 kB)\n",
      "Collecting astunparse>=1.6.0\n",
      "  Downloading astunparse-1.6.3-py2.py3-none-any.whl (12 kB)\n",
      "Collecting jax>=0.3.15\n",
      "  Downloading jax-0.4.10.tar.gz (1.3 MB)\n",
      "\u001b[2K     \u001b[90m━━━━━━━━━━━━━━━━━━━━━━━━━━━━━━━━━━━━━━━━\u001b[0m \u001b[32m1.3/1.3 MB\u001b[0m \u001b[31m9.0 MB/s\u001b[0m eta \u001b[36m0:00:00\u001b[0m0:00:01\u001b[0m\n",
      "\u001b[?25h  Installing build dependencies ... \u001b[?25ldone\n",
      "\u001b[?25h  Getting requirements to build wheel ... \u001b[?25ldone\n",
      "\u001b[?25h  Preparing metadata (pyproject.toml) ... \u001b[?25ldone\n",
      "\u001b[?25hRequirement already satisfied: packaging in /opt/conda/lib/python3.10/site-packages (from tensorflow) (23.0)\n",
      "Requirement already satisfied: setuptools in /opt/conda/lib/python3.10/site-packages (from tensorflow) (65.6.3)\n",
      "Collecting absl-py>=1.0.0\n",
      "  Downloading absl_py-1.4.0-py3-none-any.whl (126 kB)\n",
      "\u001b[2K     \u001b[90m━━━━━━━━━━━━━━━━━━━━━━━━━━━━━━━━━━━━━━━\u001b[0m \u001b[32m126.5/126.5 kB\u001b[0m \u001b[31m1.1 MB/s\u001b[0m eta \u001b[36m0:00:00\u001b[0ma \u001b[36m0:00:01\u001b[0m\n",
      "\u001b[?25hRequirement already satisfied: typing-extensions>=3.6.6 in /opt/conda/lib/python3.10/site-packages (from tensorflow) (4.5.0)\n",
      "Collecting protobuf!=4.21.0,!=4.21.1,!=4.21.2,!=4.21.3,!=4.21.4,!=4.21.5,<5.0.0dev,>=3.20.3\n",
      "  Downloading protobuf-4.23.0-cp37-abi3-manylinux2014_x86_64.whl (304 kB)\n",
      "\u001b[2K     \u001b[90m━━━━━━━━━━━━━━━━━━━━━━━━━━━━━━━━━━━━━━━\u001b[0m \u001b[32m304.5/304.5 kB\u001b[0m \u001b[31m7.4 MB/s\u001b[0m eta \u001b[36m0:00:00\u001b[0m00:01\u001b[0m\n",
      "\u001b[?25hCollecting wrapt<1.15,>=1.11.0\n",
      "  Downloading wrapt-1.14.1-cp310-cp310-manylinux_2_5_x86_64.manylinux1_x86_64.manylinux_2_17_x86_64.manylinux2014_x86_64.whl (77 kB)\n",
      "\u001b[2K     \u001b[90m━━━━━━━━━━━━━━━━━━━━━━━━━━━━━━━━━━━━━━━\u001b[0m \u001b[32m77.9/77.9 kB\u001b[0m \u001b[31m772.5 kB/s\u001b[0m eta \u001b[36m0:00:00\u001b[0ma \u001b[36m0:00:01\u001b[0m\n",
      "\u001b[?25hCollecting gast<=0.4.0,>=0.2.1\n",
      "  Downloading gast-0.4.0-py3-none-any.whl (9.8 kB)\n",
      "Requirement already satisfied: six>=1.12.0 in /opt/conda/lib/python3.10/site-packages (from tensorflow) (1.16.0)\n",
      "Collecting h5py>=2.9.0\n",
      "  Downloading h5py-3.8.0-cp310-cp310-manylinux_2_17_x86_64.manylinux2014_x86_64.whl (4.6 MB)\n",
      "\u001b[2K     \u001b[90m━━━━━━━━━━━━━━━━━━━━━━━━━━━━━━━━━━━━━━━━\u001b[0m \u001b[32m4.6/4.6 MB\u001b[0m \u001b[31m43.5 MB/s\u001b[0m eta \u001b[36m0:00:00\u001b[0m:00:01\u001b[0m\n",
      "\u001b[?25hCollecting libclang>=13.0.0\n",
      "  Downloading libclang-16.0.0-py2.py3-none-manylinux2010_x86_64.whl (22.9 MB)\n",
      "\u001b[2K     \u001b[90m━━━━━━━━━━━━━━━━━━━━━━━━━━━━━━━━━━━━━━━━\u001b[0m \u001b[32m22.9/22.9 MB\u001b[0m \u001b[31m18.1 MB/s\u001b[0m eta \u001b[36m0:00:00\u001b[0m00:01\u001b[0m00:01\u001b[0m\n",
      "\u001b[?25hCollecting numpy<1.24,>=1.22\n",
      "  Downloading numpy-1.23.5-cp310-cp310-manylinux_2_17_x86_64.manylinux2014_x86_64.whl (17.1 MB)\n",
      "\u001b[2K     \u001b[90m━━━━━━━━━━━━━━━━━━━━━━━━━━━━━━━━━━━━━━━━\u001b[0m \u001b[32m17.1/17.1 MB\u001b[0m \u001b[31m28.1 MB/s\u001b[0m eta \u001b[36m0:00:00\u001b[0m00:01\u001b[0m00:01\u001b[0m\n",
      "\u001b[?25hCollecting google-pasta>=0.1.1\n",
      "  Downloading google_pasta-0.2.0-py3-none-any.whl (57 kB)\n",
      "\u001b[2K     \u001b[90m━━━━━━━━━━━━━━━━━━━━━━━━━━━━━━━━━━━━━━━\u001b[0m \u001b[32m57.5/57.5 kB\u001b[0m \u001b[31m454.9 kB/s\u001b[0m eta \u001b[36m0:00:00\u001b[0ma \u001b[36m0:00:01\u001b[0m\n",
      "\u001b[?25hCollecting grpcio<2.0,>=1.24.3\n",
      "  Downloading grpcio-1.54.2-cp310-cp310-manylinux_2_17_x86_64.manylinux2014_x86_64.whl (5.1 MB)\n",
      "\u001b[2K     \u001b[90m━━━━━━━━━━━━━━━━━━━━━━━━━━━━━━━━━━━━━━━━\u001b[0m \u001b[32m5.1/5.1 MB\u001b[0m \u001b[31m21.5 MB/s\u001b[0m eta \u001b[36m0:00:00\u001b[0m:00:01\u001b[0m\n",
      "\u001b[?25hRequirement already satisfied: wheel<1.0,>=0.23.0 in /opt/conda/lib/python3.10/site-packages (from astunparse>=1.6.0->tensorflow) (0.40.0)\n",
      "Collecting ml-dtypes>=0.1.0\n",
      "  Downloading ml_dtypes-0.1.0-cp310-cp310-manylinux_2_17_x86_64.manylinux2014_x86_64.whl (190 kB)\n",
      "\u001b[2K     \u001b[90m━━━━━━━━━━━━━━━━━━━━━━━━━━━━━━━━━━━━━\u001b[0m \u001b[32m190.6/190.6 kB\u001b[0m \u001b[31m966.1 kB/s\u001b[0m eta \u001b[36m0:00:00\u001b[0ma \u001b[36m0:00:01\u001b[0m\n",
      "\u001b[?25hCollecting scipy>=1.7\n",
      "  Downloading scipy-1.10.1-cp310-cp310-manylinux_2_17_x86_64.manylinux2014_x86_64.whl (34.4 MB)\n",
      "\u001b[2K     \u001b[90m━━━━━━━━━━━━━━━━━━━━━━━━━━━━━━━━━━━━━━━━\u001b[0m \u001b[32m34.4/34.4 MB\u001b[0m \u001b[31m31.8 MB/s\u001b[0m eta \u001b[36m0:00:00\u001b[0m00:01\u001b[0m00:01\u001b[0m\n",
      "\u001b[?25hCollecting google-auth-oauthlib<1.1,>=0.5\n",
      "  Downloading google_auth_oauthlib-1.0.0-py2.py3-none-any.whl (18 kB)\n",
      "Collecting google-auth<3,>=1.6.3\n",
      "  Downloading google_auth-2.18.0-py2.py3-none-any.whl (178 kB)\n",
      "\u001b[2K     \u001b[90m━━━━━━━━━━━━━━━━━━━━━━━━━━━━━━━━━━━━━━━\u001b[0m \u001b[32m178.9/178.9 kB\u001b[0m \u001b[31m1.4 MB/s\u001b[0m eta \u001b[36m0:00:00\u001b[0m00:01\u001b[0m\n",
      "\u001b[?25hCollecting werkzeug>=1.0.1\n",
      "  Downloading Werkzeug-2.3.4-py3-none-any.whl (242 kB)\n",
      "\u001b[2K     \u001b[90m━━━━━━━━━━━━━━━━━━━━━━━━━━━━━━━━━━━━━━━\u001b[0m \u001b[32m242.5/242.5 kB\u001b[0m \u001b[31m2.0 MB/s\u001b[0m eta \u001b[36m0:00:00\u001b[0ma \u001b[36m0:00:01\u001b[0m\n",
      "\u001b[?25hRequirement already satisfied: requests<3,>=2.21.0 in /opt/conda/lib/python3.10/site-packages (from tensorboard<2.13,>=2.12->tensorflow) (2.28.2)\n",
      "Collecting tensorboard-data-server<0.8.0,>=0.7.0\n",
      "  Downloading tensorboard_data_server-0.7.0-py3-none-manylinux2014_x86_64.whl (6.6 MB)\n",
      "\u001b[2K     \u001b[90m━━━━━━━━━━━━━━━━━━━━━━━━━━━━━━━━━━━━━━━━\u001b[0m \u001b[32m6.6/6.6 MB\u001b[0m \u001b[31m28.9 MB/s\u001b[0m eta \u001b[36m0:00:00\u001b[0m:00:01\u001b[0m00:01\u001b[0m\n",
      "\u001b[?25hCollecting markdown>=2.6.8\n",
      "  Downloading Markdown-3.4.3-py3-none-any.whl (93 kB)\n",
      "\u001b[2K     \u001b[90m━━━━━━━━━━━━━━━━━━━━━━━━━━━━━━━━━━━━━━━\u001b[0m \u001b[32m93.9/93.9 kB\u001b[0m \u001b[31m216.8 kB/s\u001b[0m eta \u001b[36m0:00:00\u001b[0m00:01\u001b[0m\n",
      "\u001b[?25hCollecting cachetools<6.0,>=2.0.0\n",
      "  Downloading cachetools-5.3.0-py3-none-any.whl (9.3 kB)\n",
      "Collecting pyasn1-modules>=0.2.1\n",
      "  Downloading pyasn1_modules-0.3.0-py2.py3-none-any.whl (181 kB)\n",
      "\u001b[2K     \u001b[90m━━━━━━━━━━━━━━━━━━━━━━━━━━━━━━━━━━━━━━━\u001b[0m \u001b[32m181.3/181.3 kB\u001b[0m \u001b[31m1.5 MB/s\u001b[0m eta \u001b[36m0:00:00\u001b[0ma \u001b[36m0:00:01\u001b[0m\n",
      "\u001b[?25hRequirement already satisfied: urllib3<2.0 in /opt/conda/lib/python3.10/site-packages (from google-auth<3,>=1.6.3->tensorboard<2.13,>=2.12->tensorflow) (1.26.15)\n",
      "Collecting rsa<5,>=3.1.4\n",
      "  Downloading rsa-4.9-py3-none-any.whl (34 kB)\n",
      "Collecting requests-oauthlib>=0.7.0\n",
      "  Downloading requests_oauthlib-1.3.1-py2.py3-none-any.whl (23 kB)\n",
      "Requirement already satisfied: charset-normalizer<4,>=2 in /opt/conda/lib/python3.10/site-packages (from requests<3,>=2.21.0->tensorboard<2.13,>=2.12->tensorflow) (3.1.0)\n",
      "Requirement already satisfied: certifi>=2017.4.17 in /opt/conda/lib/python3.10/site-packages (from requests<3,>=2.21.0->tensorboard<2.13,>=2.12->tensorflow) (2022.12.7)\n",
      "Requirement already satisfied: idna<4,>=2.5 in /opt/conda/lib/python3.10/site-packages (from requests<3,>=2.21.0->tensorboard<2.13,>=2.12->tensorflow) (3.4)\n",
      "Requirement already satisfied: MarkupSafe>=2.1.1 in /opt/conda/lib/python3.10/site-packages (from werkzeug>=1.0.1->tensorboard<2.13,>=2.12->tensorflow) (2.1.2)\n",
      "Collecting pyasn1<0.6.0,>=0.4.6\n",
      "  Downloading pyasn1-0.5.0-py2.py3-none-any.whl (83 kB)\n",
      "\u001b[2K     \u001b[90m━━━━━━━━━━━━━━━━━━━━━━━━━━━━━━━━━━━━━━━━\u001b[0m \u001b[32m83.9/83.9 kB\u001b[0m \u001b[31m4.0 MB/s\u001b[0m eta \u001b[36m0:00:00\u001b[0m\n",
      "\u001b[?25hRequirement already satisfied: oauthlib>=3.0.0 in /opt/conda/lib/python3.10/site-packages (from requests-oauthlib>=0.7.0->google-auth-oauthlib<1.1,>=0.5->tensorboard<2.13,>=2.12->tensorflow) (3.2.2)\n",
      "Building wheels for collected packages: jax\n",
      "  Building wheel for jax (pyproject.toml) ... \u001b[?25ldone\n",
      "\u001b[?25h  Created wheel for jax: filename=jax-0.4.10-py3-none-any.whl size=1480503 sha256=135d0f3c4b827a6b99fb7269ae729ace8a1579295041dec0404019c7c06136ba\n",
      "  Stored in directory: /home/ucloud/.cache/pip/wheels/2f/04/51/ebc9c5225f0a0df1e56c231c1f4c9b7afd3e024ebb492eed99\n",
      "Successfully built jax\n",
      "Installing collected packages: libclang, flatbuffers, wrapt, werkzeug, termcolor, tensorflow-io-gcs-filesystem, tensorflow-estimator, tensorboard-data-server, pyasn1, protobuf, numpy, markdown, keras, grpcio, google-pasta, gast, cachetools, astunparse, absl-py, scipy, rsa, requests-oauthlib, pyasn1-modules, opt-einsum, ml-dtypes, h5py, jax, google-auth, google-auth-oauthlib, tensorboard, tensorflow\n",
      "  Attempting uninstall: numpy\n",
      "    Found existing installation: numpy 1.24.2\n",
      "    Uninstalling numpy-1.24.2:\n",
      "      Successfully uninstalled numpy-1.24.2\n",
      "Successfully installed absl-py-1.4.0 astunparse-1.6.3 cachetools-5.3.0 flatbuffers-23.5.9 gast-0.4.0 google-auth-2.18.0 google-auth-oauthlib-1.0.0 google-pasta-0.2.0 grpcio-1.54.2 h5py-3.8.0 jax-0.4.10 keras-2.12.0 libclang-16.0.0 markdown-3.4.3 ml-dtypes-0.1.0 numpy-1.23.5 opt-einsum-3.3.0 protobuf-4.23.0 pyasn1-0.5.0 pyasn1-modules-0.3.0 requests-oauthlib-1.3.1 rsa-4.9 scipy-1.10.1 tensorboard-2.12.3 tensorboard-data-server-0.7.0 tensorflow-2.12.0 tensorflow-estimator-2.12.0 tensorflow-io-gcs-filesystem-0.32.0 termcolor-2.3.0 werkzeug-2.3.4 wrapt-1.14.1\n"
     ]
    }
   ],
   "source": [
    "!pip install tensorflow"
   ]
  },
  {
   "cell_type": "code",
   "execution_count": 6,
   "id": "ca40c27a-663c-490f-8927-7818cfd63004",
   "metadata": {
    "execution": {
     "iopub.execute_input": "2023-05-16T09:51:09.755868Z",
     "iopub.status.busy": "2023-05-16T09:51:09.755005Z",
     "iopub.status.idle": "2023-05-16T09:51:10.412118Z",
     "shell.execute_reply": "2023-05-16T09:51:10.409395Z",
     "shell.execute_reply.started": "2023-05-16T09:51:09.755810Z"
    },
    "tags": []
   },
   "outputs": [],
   "source": [
    "# load test data\n",
    "X_test = np.load('mfcc30s20_arrays/X_test.npy')\n",
    "y_test = np.load('mfcc30s20_arrays/y_test.npy')"
   ]
  },
  {
   "cell_type": "code",
   "execution_count": null,
   "id": "8fc5cffc-1116-4af9-8027-5bdfbb94e6a7",
   "metadata": {},
   "outputs": [],
   "source": []
  },
  {
   "cell_type": "code",
   "execution_count": 5,
   "id": "eaa71015-ed66-4c9a-82af-aa5ae85ef67e",
   "metadata": {
    "execution": {
     "iopub.execute_input": "2023-05-15T16:18:08.847380Z",
     "iopub.status.busy": "2023-05-15T16:18:08.846733Z",
     "iopub.status.idle": "2023-05-15T16:18:09.289720Z",
     "shell.execute_reply": "2023-05-15T16:18:09.289008Z",
     "shell.execute_reply.started": "2023-05-15T16:18:08.847339Z"
    },
    "tags": []
   },
   "outputs": [],
   "source": [
    "zip_file_path = 'cnn1.zip'\n",
    "extract_path = 'cnn1'\n",
    "\n",
    "with zipfile.ZipFile(zip_file_path, 'r') as zip_ref:\n",
    "    zip_ref.extractall(extract_path)"
   ]
  },
  {
   "cell_type": "code",
   "execution_count": 7,
   "id": "a1c0d5e4-fe51-418f-98c0-92aca6485e66",
   "metadata": {
    "execution": {
     "iopub.execute_input": "2023-05-16T09:51:19.245506Z",
     "iopub.status.busy": "2023-05-16T09:51:19.244658Z",
     "iopub.status.idle": "2023-05-16T09:51:21.065427Z",
     "shell.execute_reply": "2023-05-16T09:51:21.064680Z",
     "shell.execute_reply.started": "2023-05-16T09:51:19.245448Z"
    },
    "tags": []
   },
   "outputs": [
    {
     "name": "stdout",
     "output_type": "stream",
     "text": [
      "WARNING:tensorflow:No training configuration found in save file, so the model was *not* compiled. Compile it manually.\n"
     ]
    }
   ],
   "source": [
    "cnn1 = tensorflow.keras.models.load_model('cnn1')"
   ]
  },
  {
   "cell_type": "code",
   "execution_count": 8,
   "id": "ea00802d-2b1f-4dda-afa7-4eae34e63603",
   "metadata": {
    "execution": {
     "iopub.execute_input": "2023-05-16T09:51:23.262946Z",
     "iopub.status.busy": "2023-05-16T09:51:23.262091Z",
     "iopub.status.idle": "2023-05-16T09:51:23.293264Z",
     "shell.execute_reply": "2023-05-16T09:51:23.292467Z",
     "shell.execute_reply.started": "2023-05-16T09:51:23.262884Z"
    },
    "tags": []
   },
   "outputs": [],
   "source": [
    "cnn1.compile(optimizer=keras.optimizers.Adam(learning_rate= 0.001),\n",
    "             loss = keras.losses.binary_crossentropy,\n",
    "             metrics = [keras.metrics.AUC(name=\"auc\"),\n",
    "                        keras.metrics.Precision(name=\"precision\"),\n",
    "                        keras.metrics.Recall(name=\"recall\")])"
   ]
  },
  {
   "cell_type": "code",
   "execution_count": 9,
   "id": "4df4a157-436d-47c9-8eea-bf3c6f364a62",
   "metadata": {
    "execution": {
     "iopub.execute_input": "2023-05-16T09:51:24.860940Z",
     "iopub.status.busy": "2023-05-16T09:51:24.860255Z",
     "iopub.status.idle": "2023-05-16T09:51:24.896871Z",
     "shell.execute_reply": "2023-05-16T09:51:24.896240Z",
     "shell.execute_reply.started": "2023-05-16T09:51:24.860881Z"
    },
    "tags": []
   },
   "outputs": [
    {
     "name": "stdout",
     "output_type": "stream",
     "text": [
      "Model: \"sequential_2\"\n",
      "_________________________________________________________________\n",
      " Layer (type)                Output Shape              Param #   \n",
      "=================================================================\n",
      " conv2d_8 (Conv2D)           (None, 1290, 18, 32)      320       \n",
      "                                                                 \n",
      " max_pooling2d_8 (MaxPooling  (None, 645, 9, 32)       0         \n",
      " 2D)                                                             \n",
      "                                                                 \n",
      " batch_normalization_8 (Batc  (None, 645, 9, 32)       128       \n",
      " hNormalization)                                                 \n",
      "                                                                 \n",
      " dropout_10 (Dropout)        (None, 645, 9, 32)        0         \n",
      "                                                                 \n",
      " conv2d_9 (Conv2D)           (None, 643, 7, 64)        18496     \n",
      "                                                                 \n",
      " max_pooling2d_9 (MaxPooling  (None, 215, 4, 64)       0         \n",
      " 2D)                                                             \n",
      "                                                                 \n",
      " batch_normalization_9 (Batc  (None, 215, 4, 64)       256       \n",
      " hNormalization)                                                 \n",
      "                                                                 \n",
      " dropout_11 (Dropout)        (None, 215, 4, 64)        0         \n",
      "                                                                 \n",
      " flatten_2 (Flatten)         (None, 55040)             0         \n",
      "                                                                 \n",
      " dense_2 (Dense)             (None, 128)               7045248   \n",
      "                                                                 \n",
      " dropout_12 (Dropout)        (None, 128)               0         \n",
      "                                                                 \n",
      " output (Dense)              (None, 10)                1290      \n",
      "                                                                 \n",
      "=================================================================\n",
      "Total params: 7,065,738\n",
      "Trainable params: 7,065,546\n",
      "Non-trainable params: 192\n",
      "_________________________________________________________________\n"
     ]
    }
   ],
   "source": [
    "cnn1.summary()"
   ]
  },
  {
   "cell_type": "code",
   "execution_count": 13,
   "id": "13f139e3-0fae-4273-b7b0-23dff14ca95c",
   "metadata": {
    "execution": {
     "iopub.execute_input": "2023-05-15T16:48:06.358229Z",
     "iopub.status.busy": "2023-05-15T16:48:06.357620Z",
     "iopub.status.idle": "2023-05-15T16:48:07.470784Z",
     "shell.execute_reply": "2023-05-15T16:48:07.469880Z",
     "shell.execute_reply.started": "2023-05-15T16:48:06.358188Z"
    },
    "tags": []
   },
   "outputs": [
    {
     "name": "stdout",
     "output_type": "stream",
     "text": [
      "45/45 [==============================] - 1s 22ms/step - loss: 0.7129 - auc: 0.4897 - precision: 0.1261 - recall: 0.5222\n",
      "AUC: 0.48969870805740356\n",
      "Precision: 0.12608341872692108\n",
      "Recall: 0.5221536755561829\n"
     ]
    }
   ],
   "source": [
    "# evaluate the CNN on the test set - examplary output for non-augmented 3 second segments with 20 MFCC coefficients\n",
    "# Assuming you have X_test and y_test as your test data\n",
    "\n",
    "# Evaluate the model on the test set\n",
    "loss, auc, precision, recall = cnn1.evaluate(X_test, y_test)\n",
    "\n",
    "# Print the test accuracy and other metrics\n",
    "# print(f'Test Accuracy: {accuracy}')\n",
    "print(f'AUC: {auc}')\n",
    "print(f'Precision: {precision}')\n",
    "print(f'Recall: {recall}')\n"
   ]
  },
  {
   "cell_type": "code",
   "execution_count": null,
   "id": "cf14d4c9-2f59-4f61-a17e-9659dff5e610",
   "metadata": {},
   "outputs": [],
   "source": []
  },
  {
   "cell_type": "code",
   "execution_count": 14,
   "id": "4592fb93-42fe-4f65-abbc-4431999f6485",
   "metadata": {
    "execution": {
     "iopub.execute_input": "2023-05-15T16:54:02.544764Z",
     "iopub.status.busy": "2023-05-15T16:54:02.544221Z",
     "iopub.status.idle": "2023-05-15T16:54:03.105042Z",
     "shell.execute_reply": "2023-05-15T16:54:03.103956Z",
     "shell.execute_reply.started": "2023-05-15T16:54:02.544731Z"
    },
    "tags": []
   },
   "outputs": [],
   "source": [
    "zip_file_path = 'cnn2.zip'\n",
    "extract_path = 'cnn2'\n",
    "\n",
    "with zipfile.ZipFile(zip_file_path, 'r') as zip_ref:\n",
    "    zip_ref.extractall(extract_path)"
   ]
  },
  {
   "cell_type": "code",
   "execution_count": 10,
   "id": "b731fc67-82e6-461f-992c-7b741ca1e027",
   "metadata": {
    "execution": {
     "iopub.execute_input": "2023-05-16T09:51:33.948751Z",
     "iopub.status.busy": "2023-05-16T09:51:33.947911Z",
     "iopub.status.idle": "2023-05-16T09:51:35.872850Z",
     "shell.execute_reply": "2023-05-16T09:51:35.871854Z",
     "shell.execute_reply.started": "2023-05-16T09:51:33.948692Z"
    },
    "tags": []
   },
   "outputs": [],
   "source": [
    "cnn2 = tensorflow.keras.models.load_model('cnn2')"
   ]
  },
  {
   "cell_type": "code",
   "execution_count": 11,
   "id": "b9a50f13-f84b-431a-a6d0-4d9c3216f2c6",
   "metadata": {
    "execution": {
     "iopub.execute_input": "2023-05-16T09:51:35.887573Z",
     "iopub.status.busy": "2023-05-16T09:51:35.887376Z",
     "iopub.status.idle": "2023-05-16T09:51:35.904935Z",
     "shell.execute_reply": "2023-05-16T09:51:35.904232Z",
     "shell.execute_reply.started": "2023-05-16T09:51:35.887539Z"
    },
    "tags": []
   },
   "outputs": [],
   "source": [
    "cnn2.compile(optimizer=keras.optimizers.Adam(learning_rate= 0.001),\n",
    "             loss = keras.losses.binary_crossentropy,\n",
    "             metrics = [keras.metrics.AUC(name=\"auc\"),\n",
    "                        keras.metrics.Precision(name=\"precision\"),\n",
    "                        keras.metrics.Recall(name=\"recall\")])"
   ]
  },
  {
   "cell_type": "code",
   "execution_count": 12,
   "id": "a78dd6b2-c559-47ed-8257-983d1423195d",
   "metadata": {
    "execution": {
     "iopub.execute_input": "2023-05-16T09:51:35.906291Z",
     "iopub.status.busy": "2023-05-16T09:51:35.906086Z",
     "iopub.status.idle": "2023-05-16T09:51:36.090398Z",
     "shell.execute_reply": "2023-05-16T09:51:36.089774Z",
     "shell.execute_reply.started": "2023-05-16T09:51:35.906272Z"
    },
    "tags": []
   },
   "outputs": [
    {
     "name": "stdout",
     "output_type": "stream",
     "text": [
      "Model: \"sequential_3\"\n",
      "_________________________________________________________________\n",
      " Layer (type)                Output Shape              Param #   \n",
      "=================================================================\n",
      " conv2d_10 (Conv2D)          (None, 1292, 20, 32)      320       \n",
      "                                                                 \n",
      " max_pooling2d_10 (MaxPoolin  (None, 646, 19, 32)      0         \n",
      " g2D)                                                            \n",
      "                                                                 \n",
      " batch_normalization_10 (Bat  (None, 646, 19, 32)      128       \n",
      " chNormalization)                                                \n",
      "                                                                 \n",
      " dropout_13 (Dropout)        (None, 646, 19, 32)       0         \n",
      "                                                                 \n",
      " conv2d_11 (Conv2D)          (None, 644, 17, 64)       18496     \n",
      "                                                                 \n",
      " max_pooling2d_11 (MaxPoolin  (None, 322, 16, 64)      0         \n",
      " g2D)                                                            \n",
      "                                                                 \n",
      " batch_normalization_11 (Bat  (None, 322, 16, 64)      256       \n",
      " chNormalization)                                                \n",
      "                                                                 \n",
      " dropout_14 (Dropout)        (None, 322, 16, 64)       0         \n",
      "                                                                 \n",
      " conv2d_12 (Conv2D)          (None, 320, 14, 128)      73856     \n",
      "                                                                 \n",
      " max_pooling2d_12 (MaxPoolin  (None, 160, 13, 128)     0         \n",
      " g2D)                                                            \n",
      "                                                                 \n",
      " batch_normalization_12 (Bat  (None, 160, 13, 128)     512       \n",
      " chNormalization)                                                \n",
      "                                                                 \n",
      " dropout_15 (Dropout)        (None, 160, 13, 128)      0         \n",
      "                                                                 \n",
      " conv2d_13 (Conv2D)          (None, 158, 11, 256)      295168    \n",
      "                                                                 \n",
      " max_pooling2d_13 (MaxPoolin  (None, 79, 10, 256)      0         \n",
      " g2D)                                                            \n",
      "                                                                 \n",
      " batch_normalization_13 (Bat  (None, 79, 10, 256)      1024      \n",
      " chNormalization)                                                \n",
      "                                                                 \n",
      " dropout_16 (Dropout)        (None, 79, 10, 256)       0         \n",
      "                                                                 \n",
      " conv2d_14 (Conv2D)          (None, 77, 8, 512)        1180160   \n",
      "                                                                 \n",
      " max_pooling2d_14 (MaxPoolin  (None, 38, 7, 512)       0         \n",
      " g2D)                                                            \n",
      "                                                                 \n",
      " batch_normalization_14 (Bat  (None, 38, 7, 512)       2048      \n",
      " chNormalization)                                                \n",
      "                                                                 \n",
      " dropout_17 (Dropout)        (None, 38, 7, 512)        0         \n",
      "                                                                 \n",
      " conv2d_15 (Conv2D)          (None, 36, 5, 256)        1179904   \n",
      "                                                                 \n",
      " max_pooling2d_15 (MaxPoolin  (None, 18, 4, 256)       0         \n",
      " g2D)                                                            \n",
      "                                                                 \n",
      " batch_normalization_15 (Bat  (None, 18, 4, 256)       1024      \n",
      " chNormalization)                                                \n",
      "                                                                 \n",
      " dropout_18 (Dropout)        (None, 18, 4, 256)        0         \n",
      "                                                                 \n",
      " flatten_3 (Flatten)         (None, 18432)             0         \n",
      "                                                                 \n",
      " dense_3 (Dense)             (None, 128)               2359424   \n",
      "                                                                 \n",
      " dropout_19 (Dropout)        (None, 128)               0         \n",
      "                                                                 \n",
      " output (Dense)              (None, 10)                1290      \n",
      "                                                                 \n",
      "=================================================================\n",
      "Total params: 5,113,610\n",
      "Trainable params: 5,111,114\n",
      "Non-trainable params: 2,496\n",
      "_________________________________________________________________\n"
     ]
    }
   ],
   "source": [
    "cnn2.summary()"
   ]
  },
  {
   "cell_type": "code",
   "execution_count": 18,
   "id": "06b912d1-f414-42d7-948f-889b5c412aa9",
   "metadata": {
    "execution": {
     "iopub.execute_input": "2023-05-15T16:56:21.043399Z",
     "iopub.status.busy": "2023-05-15T16:56:21.042707Z",
     "iopub.status.idle": "2023-05-15T16:56:28.024096Z",
     "shell.execute_reply": "2023-05-15T16:56:28.022936Z",
     "shell.execute_reply.started": "2023-05-15T16:56:21.043343Z"
    },
    "tags": []
   },
   "outputs": [
    {
     "name": "stdout",
     "output_type": "stream",
     "text": [
      "45/45 [==============================] - 7s 146ms/step - loss: 0.4453 - auc: 0.6148 - precision: 0.2384 - recall: 0.0550\n",
      "AUC: 0.6147589683532715\n",
      "Precision: 0.2384428232908249\n",
      "Recall: 0.05496354401111603\n"
     ]
    }
   ],
   "source": [
    "# evaluate the CNN on the test set - examplary output for non-augmented 3 second segments with 20 MFCC coefficients\n",
    "# Assuming you have X_test and y_test as your test data\n",
    "\n",
    "# Evaluate the model on the test set\n",
    "loss, auc, precision, recall = cnn2.evaluate(X_test, y_test)\n",
    "\n",
    "# Print the test accuracy and other metrics\n",
    "# print(f'Test Accuracy: {accuracy}')\n",
    "print(f'AUC: {auc}')\n",
    "print(f'Precision: {precision}')\n",
    "print(f'Recall: {recall}')\n"
   ]
  },
  {
   "cell_type": "code",
   "execution_count": null,
   "id": "a8f7926d-e850-47d8-8e5b-a7661586275b",
   "metadata": {},
   "outputs": [],
   "source": []
  },
  {
   "cell_type": "code",
   "execution_count": 19,
   "id": "53d94383-f645-4ae6-aeff-76f526fd5b71",
   "metadata": {
    "execution": {
     "iopub.execute_input": "2023-05-15T16:57:08.067152Z",
     "iopub.status.busy": "2023-05-15T16:57:08.066453Z",
     "iopub.status.idle": "2023-05-15T16:57:08.918384Z",
     "shell.execute_reply": "2023-05-15T16:57:08.917557Z",
     "shell.execute_reply.started": "2023-05-15T16:57:08.067094Z"
    },
    "tags": []
   },
   "outputs": [],
   "source": [
    "zip_file_path = 'cnn3.zip'\n",
    "extract_path = 'cnn3'\n",
    "\n",
    "with zipfile.ZipFile(zip_file_path, 'r') as zip_ref:\n",
    "    zip_ref.extractall(extract_path)"
   ]
  },
  {
   "cell_type": "code",
   "execution_count": 13,
   "id": "da2f0386-de1a-45b3-b677-0a57341b42aa",
   "metadata": {
    "execution": {
     "iopub.execute_input": "2023-05-16T09:51:45.637159Z",
     "iopub.status.busy": "2023-05-16T09:51:45.636312Z",
     "iopub.status.idle": "2023-05-16T09:51:48.782150Z",
     "shell.execute_reply": "2023-05-16T09:51:48.781298Z",
     "shell.execute_reply.started": "2023-05-16T09:51:45.637081Z"
    },
    "tags": []
   },
   "outputs": [],
   "source": [
    "cnn3 = tensorflow.keras.models.load_model('cnn3')"
   ]
  },
  {
   "cell_type": "code",
   "execution_count": 14,
   "id": "b1ceda2a-e440-4d53-a83a-6f718698a6d4",
   "metadata": {
    "execution": {
     "iopub.execute_input": "2023-05-16T09:51:48.797036Z",
     "iopub.status.busy": "2023-05-16T09:51:48.796701Z",
     "iopub.status.idle": "2023-05-16T09:51:48.817336Z",
     "shell.execute_reply": "2023-05-16T09:51:48.816618Z",
     "shell.execute_reply.started": "2023-05-16T09:51:48.797001Z"
    },
    "tags": []
   },
   "outputs": [],
   "source": [
    "cnn3.compile(optimizer=keras.optimizers.Adam(learning_rate= 0.001),\n",
    "             loss = keras.losses.binary_crossentropy,\n",
    "             metrics = [keras.metrics.AUC(name=\"auc\"),\n",
    "                        keras.metrics.Precision(name=\"precision\"),\n",
    "                        keras.metrics.Recall(name=\"recall\")])"
   ]
  },
  {
   "cell_type": "code",
   "execution_count": 15,
   "id": "223d67cb-5e3e-4f6b-810d-92c19b37d78f",
   "metadata": {
    "execution": {
     "iopub.execute_input": "2023-05-16T09:51:48.818718Z",
     "iopub.status.busy": "2023-05-16T09:51:48.818534Z",
     "iopub.status.idle": "2023-05-16T09:51:49.089688Z",
     "shell.execute_reply": "2023-05-16T09:51:49.089017Z",
     "shell.execute_reply.started": "2023-05-16T09:51:48.818701Z"
    },
    "tags": []
   },
   "outputs": [
    {
     "name": "stdout",
     "output_type": "stream",
     "text": [
      "Model: \"sequential_1\"\n",
      "_________________________________________________________________\n",
      " Layer (type)                Output Shape              Param #   \n",
      "=================================================================\n",
      " conv2d_4 (Conv2D)           (None, 646, 20, 128)      1280      \n",
      "                                                                 \n",
      " max_pooling2d_4 (MaxPooling  (None, 323, 10, 128)     0         \n",
      " 2D)                                                             \n",
      "                                                                 \n",
      " batch_normalization_5 (Batc  (None, 323, 10, 128)     512       \n",
      " hNormalization)                                                 \n",
      "                                                                 \n",
      " dropout_4 (Dropout)         (None, 323, 10, 128)      0         \n",
      "                                                                 \n",
      " conv2d_5 (Conv2D)           (None, 161, 8, 384)       442752    \n",
      "                                                                 \n",
      " max_pooling2d_5 (MaxPooling  (None, 81, 4, 384)       0         \n",
      " 2D)                                                             \n",
      "                                                                 \n",
      " batch_normalization_6 (Batc  (None, 81, 4, 384)       1536      \n",
      " hNormalization)                                                 \n",
      "                                                                 \n",
      " dropout_5 (Dropout)         (None, 81, 4, 384)        0         \n",
      "                                                                 \n",
      " conv2d_6 (Conv2D)           (None, 40, 4, 768)        885504    \n",
      "                                                                 \n",
      " max_pooling2d_6 (MaxPooling  (None, 18, 2, 768)       0         \n",
      " 2D)                                                             \n",
      "                                                                 \n",
      " batch_normalization_7 (Batc  (None, 18, 2, 768)       3072      \n",
      " hNormalization)                                                 \n",
      "                                                                 \n",
      " dropout_6 (Dropout)         (None, 18, 2, 768)        0         \n",
      "                                                                 \n",
      " conv2d_7 (Conv2D)           (None, 8, 1, 2024)        9328616   \n",
      "                                                                 \n",
      " max_pooling2d_7 (MaxPooling  (None, 1, 1, 2024)       0         \n",
      " 2D)                                                             \n",
      "                                                                 \n",
      " batch_normalization_8 (Batc  (None, 1, 1, 2024)       8096      \n",
      " hNormalization)                                                 \n",
      "                                                                 \n",
      " dropout_7 (Dropout)         (None, 1, 1, 2024)        0         \n",
      "                                                                 \n",
      " flatten_1 (Flatten)         (None, 2024)              0         \n",
      "                                                                 \n",
      " batch_normalization_9 (Batc  (None, 2024)             8096      \n",
      " hNormalization)                                                 \n",
      "                                                                 \n",
      " output (Dense)              (None, 10)                20250     \n",
      "                                                                 \n",
      "=================================================================\n",
      "Total params: 10,699,714\n",
      "Trainable params: 10,689,058\n",
      "Non-trainable params: 10,656\n",
      "_________________________________________________________________\n"
     ]
    }
   ],
   "source": [
    "cnn3.summary()"
   ]
  },
  {
   "cell_type": "code",
   "execution_count": 23,
   "id": "42619e4b-59ba-492c-a730-f5deba24025e",
   "metadata": {
    "execution": {
     "iopub.execute_input": "2023-05-15T16:57:37.116999Z",
     "iopub.status.busy": "2023-05-15T16:57:37.116038Z",
     "iopub.status.idle": "2023-05-15T16:57:41.019048Z",
     "shell.execute_reply": "2023-05-15T16:57:41.017869Z",
     "shell.execute_reply.started": "2023-05-15T16:57:37.116898Z"
    },
    "tags": []
   },
   "outputs": [
    {
     "name": "stdout",
     "output_type": "stream",
     "text": [
      "45/45 [==============================] - 4s 78ms/step - loss: 0.4717 - auc: 0.7034 - precision: 0.3022 - recall: 0.2036\n",
      "AUC: 0.7033874988555908\n",
      "Precision: 0.30224812030792236\n",
      "Recall: 0.20358945429325104\n"
     ]
    }
   ],
   "source": [
    "# evaluate the CNN on the test set - examplary output for non-augmented 3 second segments with 20 MFCC coefficients\n",
    "# Assuming you have X_test and y_test as your test data\n",
    "\n",
    "# Evaluate the model on the test set\n",
    "loss, auc, precision, recall = cnn3.evaluate(X_test, y_test)\n",
    "\n",
    "# Print the test accuracy and other metrics\n",
    "# print(f'Test Accuracy: {accuracy}')\n",
    "print(f'AUC: {auc}')\n",
    "print(f'Precision: {precision}')\n",
    "print(f'Recall: {recall}')\n"
   ]
  },
  {
   "cell_type": "code",
   "execution_count": 24,
   "id": "0e20ad0f-05c2-435b-ae7d-da96ceb7d8a8",
   "metadata": {
    "execution": {
     "iopub.execute_input": "2023-05-15T20:21:43.502057Z",
     "iopub.status.busy": "2023-05-15T20:21:43.501405Z",
     "iopub.status.idle": "2023-05-15T20:21:47.304355Z",
     "shell.execute_reply": "2023-05-15T20:21:47.303086Z",
     "shell.execute_reply.started": "2023-05-15T20:21:43.502002Z"
    },
    "tags": []
   },
   "outputs": [
    {
     "name": "stdout",
     "output_type": "stream",
     "text": [
      "45/45 [==============================] - 4s 79ms/step\n"
     ]
    }
   ],
   "source": [
    "predictions = cnn3.predict(X_test)"
   ]
  },
  {
   "cell_type": "code",
   "execution_count": 25,
   "id": "6cf88e94-605d-4860-9d54-7b08f74cfa28",
   "metadata": {
    "execution": {
     "iopub.execute_input": "2023-05-15T20:22:04.892789Z",
     "iopub.status.busy": "2023-05-15T20:22:04.891709Z",
     "iopub.status.idle": "2023-05-15T20:22:04.903148Z",
     "shell.execute_reply": "2023-05-15T20:22:04.901251Z",
     "shell.execute_reply.started": "2023-05-15T20:22:04.892732Z"
    },
    "tags": []
   },
   "outputs": [
    {
     "data": {
      "text/plain": [
       "(1413, 10)"
      ]
     },
     "execution_count": 25,
     "metadata": {},
     "output_type": "execute_result"
    }
   ],
   "source": [
    "predictions.shape"
   ]
  },
  {
   "cell_type": "code",
   "execution_count": null,
   "id": "ac52b6bd-53a9-46c8-808e-070444535d8f",
   "metadata": {},
   "outputs": [],
   "source": []
  },
  {
   "cell_type": "code",
   "execution_count": 32,
   "id": "25898b79-0bc4-429b-a751-4c8ef83550f8",
   "metadata": {
    "execution": {
     "iopub.execute_input": "2023-05-15T21:04:39.383439Z",
     "iopub.status.busy": "2023-05-15T21:04:39.382768Z",
     "iopub.status.idle": "2023-05-15T21:04:39.396683Z",
     "shell.execute_reply": "2023-05-15T21:04:39.394664Z",
     "shell.execute_reply.started": "2023-05-15T21:04:39.383385Z"
    },
    "tags": []
   },
   "outputs": [
    {
     "name": "stdout",
     "output_type": "stream",
     "text": [
      "[0.5, 0.5, 0.5, 0.5, 0.5, 0.5, 0.5, 0.5, 0.5, 0.5]\n"
     ]
    }
   ],
   "source": [
    "# how to choose the thresholds?\n",
    "thresholds = [0.5] * 10\n",
    "print(thresholds)"
   ]
  },
  {
   "cell_type": "code",
   "execution_count": 33,
   "id": "9c65d2a4-9671-4273-bd45-08fe1072ed97",
   "metadata": {
    "execution": {
     "iopub.execute_input": "2023-05-15T21:05:20.268232Z",
     "iopub.status.busy": "2023-05-15T21:05:20.267516Z",
     "iopub.status.idle": "2023-05-15T21:05:20.275886Z",
     "shell.execute_reply": "2023-05-15T21:05:20.274621Z",
     "shell.execute_reply.started": "2023-05-15T21:05:20.268175Z"
    },
    "tags": []
   },
   "outputs": [],
   "source": [
    "y_pred_labels = np.where(predictions >= thresholds, 1, 0)"
   ]
  },
  {
   "cell_type": "code",
   "execution_count": 35,
   "id": "c7255d5e-b055-4990-8249-0cd9f7ce6b80",
   "metadata": {
    "execution": {
     "iopub.execute_input": "2023-05-15T21:06:35.395496Z",
     "iopub.status.busy": "2023-05-15T21:06:35.394687Z",
     "iopub.status.idle": "2023-05-15T21:06:35.430829Z",
     "shell.execute_reply": "2023-05-15T21:06:35.429961Z",
     "shell.execute_reply.started": "2023-05-15T21:06:35.395442Z"
    },
    "tags": []
   },
   "outputs": [],
   "source": [
    "accuracy = accuracy_score(y_test, y_pred_labels)\n",
    "precision = precision_score(y_test, y_pred_labels, average='micro')\n",
    "recall = recall_score(y_test, y_pred_labels, average='micro')\n",
    "f1 = f1_score(y_test, y_pred_labels, average='micro')"
   ]
  },
  {
   "cell_type": "code",
   "execution_count": 36,
   "id": "0e23578a-dfc6-43f6-b5b9-4716cc04ed8b",
   "metadata": {
    "execution": {
     "iopub.execute_input": "2023-05-15T21:07:41.442186Z",
     "iopub.status.busy": "2023-05-15T21:07:41.441527Z",
     "iopub.status.idle": "2023-05-15T21:07:41.451672Z",
     "shell.execute_reply": "2023-05-15T21:07:41.450736Z",
     "shell.execute_reply.started": "2023-05-15T21:07:41.442133Z"
    },
    "tags": []
   },
   "outputs": [
    {
     "name": "stdout",
     "output_type": "stream",
     "text": [
      "Accuracy: 0.1047\n",
      "The accuracy score represents the overall accuracy of the predictions, which is the ratio of correct predictions to the total number of samples.\n",
      "Precision: 0.3022\n",
      "Precision measures the proportion of correctly predicted positive labels (true positives) out of all positive predictions. A higher precision indicates a lower false positive rate.\n",
      "Recall: 0.2036\n",
      "Recall, also known as sensitivity or true positive rate, measures the proportion of correctly predicted positive labels (true positives) out of all actual positive samples. A higher recall indicates a lower false negative rate.\n",
      "F1 Score: 0.2433\n",
      "The F1 score is the harmonic mean of precision and recall. It provides a balanced measure of the model's performance by considering both precision and recall. It is a single metric that summarizes the model's accuracy and completeness.\n"
     ]
    }
   ],
   "source": [
    "print(f\"Accuracy: {accuracy:.4f}\")\n",
    "print(\"The accuracy score represents the overall accuracy of the predictions, which is the ratio of correct predictions to the total number of samples.\")\n",
    "\n",
    "print(f\"Precision: {precision:.4f}\")\n",
    "print(\"Precision measures the proportion of correctly predicted positive labels (true positives) out of all positive predictions. A higher precision indicates a lower false positive rate.\")\n",
    "\n",
    "print(f\"Recall: {recall:.4f}\")\n",
    "print(\"Recall, also known as sensitivity or true positive rate, measures the proportion of correctly predicted positive labels (true positives) out of all actual positive samples. A higher recall indicates a lower false negative rate.\")\n",
    "\n",
    "print(f\"F1 Score: {f1:.4f}\")\n",
    "print(\"The F1 score is the harmonic mean of precision and recall. It provides a balanced measure of the model's performance by considering both precision and recall. It is a single metric that summarizes the model's accuracy and completeness.\")"
   ]
  },
  {
   "cell_type": "code",
   "execution_count": 48,
   "id": "ebfa938b-6610-4fd3-b477-65fb7534783e",
   "metadata": {
    "execution": {
     "iopub.execute_input": "2023-05-16T11:29:12.083464Z",
     "iopub.status.busy": "2023-05-16T11:29:12.080041Z",
     "iopub.status.idle": "2023-05-16T11:30:16.268895Z",
     "shell.execute_reply": "2023-05-16T11:30:16.267676Z",
     "shell.execute_reply.started": "2023-05-16T11:29:12.083413Z"
    },
    "tags": []
   },
   "outputs": [
    {
     "name": "stdout",
     "output_type": "stream",
     "text": [
      "45/45 [==============================] - 32s 707ms/step\n",
      "45/45 [==============================] - 32s 707ms/step\n"
     ]
    }
   ],
   "source": [
    "# predict labels of test set with optimized thresholds\n",
    "y_pred_val = cnn3.predict(X_val)\n",
    "thresholds = optimize_thresholds(y_val, y_pred_val)\n",
    "y_pred_test = cnn3.predict(X_test)\n"
   ]
  },
  {
   "cell_type": "code",
   "execution_count": 50,
   "id": "6febf5c5-bef4-4db6-adeb-bef4db9fd8f8",
   "metadata": {
    "execution": {
     "iopub.execute_input": "2023-05-16T11:31:22.442120Z",
     "iopub.status.busy": "2023-05-16T11:31:22.441287Z",
     "iopub.status.idle": "2023-05-16T11:31:22.448675Z",
     "shell.execute_reply": "2023-05-16T11:31:22.447478Z",
     "shell.execute_reply.started": "2023-05-16T11:31:22.442061Z"
    },
    "tags": []
   },
   "outputs": [],
   "source": [
    "y_pred_labels = np.where(y_pred_test >= thresholds, 1, 0)"
   ]
  },
  {
   "cell_type": "code",
   "execution_count": 53,
   "id": "bd172135-6478-411d-b458-ce25eab69922",
   "metadata": {
    "execution": {
     "iopub.execute_input": "2023-05-16T11:43:40.931560Z",
     "iopub.status.busy": "2023-05-16T11:43:40.930730Z",
     "iopub.status.idle": "2023-05-16T11:43:40.946797Z",
     "shell.execute_reply": "2023-05-16T11:43:40.945971Z",
     "shell.execute_reply.started": "2023-05-16T11:43:40.931500Z"
    },
    "tags": []
   },
   "outputs": [
    {
     "name": "stdout",
     "output_type": "stream",
     "text": [
      "Confusion matrix for label 1:\n",
      "[[1232   85]\n",
      " [  82   14]]\n",
      "\n",
      "Confusion matrix for label 2:\n",
      "[[892 262]\n",
      " [104 155]]\n",
      "\n",
      "Confusion matrix for label 3:\n",
      "[[590 489]\n",
      " [ 98 236]]\n",
      "\n",
      "Confusion matrix for label 4:\n",
      "[[1313   60]\n",
      " [  37    3]]\n",
      "\n",
      "Confusion matrix for label 5:\n",
      "[[819 415]\n",
      " [ 95  84]]\n",
      "\n",
      "Confusion matrix for label 6:\n",
      "[[946 274]\n",
      " [ 82 111]]\n",
      "\n",
      "Confusion matrix for label 7:\n",
      "[[1055  226]\n",
      " [  73   59]]\n",
      "\n",
      "Confusion matrix for label 8:\n",
      "[[749 396]\n",
      " [ 94 174]]\n",
      "\n",
      "Confusion matrix for label 9:\n",
      "[[1121  142]\n",
      " [ 103   47]]\n",
      "\n",
      "Confusion matrix for label 10:\n",
      "[[803 478]\n",
      " [ 52  80]]\n",
      "\n",
      "Accuracy: 0.7418966737438075\n"
     ]
    }
   ],
   "source": [
    "# multi label confusion matrix and accuracy\n",
    "confusion_matrix = multilabel_confusion_matrix(y_test, y_pred_labels)\n",
    "\n",
    "true = 0\n",
    "false = 0\n",
    "\n",
    "for i, matrix in enumerate(confusion_matrix):\n",
    "    print(f\"Confusion matrix for label {i+1}:\")\n",
    "    print(matrix)\n",
    "    print()\n",
    "    \n",
    "    true += matrix[0,0] + matrix[1,1]\n",
    "    false += matrix[0,1] + matrix[1,0]\n",
    "\n",
    "print(\"Accuracy:\", true / (true+false))\n"
   ]
  },
  {
   "cell_type": "code",
   "execution_count": 43,
   "id": "b51963ae-b5fd-4330-9c64-d43d44755df9",
   "metadata": {
    "execution": {
     "iopub.execute_input": "2023-05-15T21:51:35.559654Z",
     "iopub.status.busy": "2023-05-15T21:51:35.558999Z",
     "iopub.status.idle": "2023-05-15T21:51:35.581049Z",
     "shell.execute_reply": "2023-05-15T21:51:35.580190Z",
     "shell.execute_reply.started": "2023-05-15T21:51:35.559601Z"
    },
    "tags": []
   },
   "outputs": [
    {
     "name": "stdout",
     "output_type": "stream",
     "text": [
      "              precision    recall  f1-score   support\n",
      "\n",
      "   inspiring       0.08      0.01      0.02        96\n",
      "   energetic       0.53      0.08      0.13       259\n",
      "       happy       0.41      0.27      0.33       334\n",
      "         sad       0.06      0.03      0.03        40\n",
      "motivational       0.21      0.33      0.25       179\n",
      "    relaxing       0.45      0.11      0.17       193\n",
      "   uplifting       0.20      0.16      0.18       132\n",
      "        calm       0.34      0.52      0.41       268\n",
      "        love       0.17      0.03      0.06       150\n",
      "     hopeful       0.17      0.03      0.05       132\n",
      "\n",
      "   micro avg       0.30      0.20      0.24      1783\n",
      "   macro avg       0.26      0.16      0.16      1783\n",
      "weighted avg       0.32      0.20      0.21      1783\n",
      " samples avg       0.56      0.19      0.18      1783\n",
      "\n"
     ]
    }
   ],
   "source": [
    "# averages of a metrics — precision, recall or f1-score — over all classes\n",
    "report = classification_report(\n",
    "            y_test,\n",
    "            y_pred_labels,\n",
    "            output_dict=False,\n",
    "            target_names=['inspiring', 'energetic', 'happy', 'sad', 'motivational', 'relaxing', 'uplifting', 'calm', 'love','hopeful'],\n",
    "            zero_division=1\n",
    "            )\n",
    "\n",
    "print(report)"
   ]
  },
  {
   "cell_type": "code",
   "execution_count": 24,
   "id": "b2379d1c-cb0d-4d3a-920c-7b025ef58f61",
   "metadata": {
    "execution": {
     "iopub.execute_input": "2023-05-16T10:13:18.039345Z",
     "iopub.status.busy": "2023-05-16T10:13:18.038503Z",
     "iopub.status.idle": "2023-05-16T10:13:18.619286Z",
     "shell.execute_reply": "2023-05-16T10:13:18.618128Z",
     "shell.execute_reply.started": "2023-05-16T10:13:18.039282Z"
    },
    "tags": []
   },
   "outputs": [],
   "source": [
    "y_val = np.load('mfcc30s20_arrays/y_val.npy')\n",
    "X_val = np.load('mfcc30s20_arrays/X_val.npy')"
   ]
  },
  {
   "cell_type": "code",
   "execution_count": null,
   "id": "5e9adb79-285a-421e-b72e-631b81c23d09",
   "metadata": {},
   "outputs": [],
   "source": []
  },
  {
   "cell_type": "code",
   "execution_count": 44,
   "id": "e436daea-4fe2-4f65-b5fb-9e217ead25e3",
   "metadata": {
    "execution": {
     "iopub.execute_input": "2023-05-16T11:21:04.586749Z",
     "iopub.status.busy": "2023-05-16T11:21:04.585902Z",
     "iopub.status.idle": "2023-05-16T11:21:04.597041Z",
     "shell.execute_reply": "2023-05-16T11:21:04.596126Z",
     "shell.execute_reply.started": "2023-05-16T11:21:04.586689Z"
    },
    "tags": []
   },
   "outputs": [],
   "source": [
    "# optimize thresholds on the validation set maximizing macro f1 score\n",
    "def optimize_thresholds(y_val, y_pred_val):\n",
    "    thresholds = []\n",
    "    \n",
    "    for i in range(y_val.shape[1]):\n",
    "        best_threshold = 0\n",
    "        best_f1 = 0\n",
    "        \n",
    "        # Vary threshold from 0 to 1 with a small step size\n",
    "        for threshold in np.arange(0.1, 1.0, 0.05):\n",
    "            y_pred_thresholded = (y_pred_val[:, i] >= threshold).astype(int)\n",
    "            f1 = f1_score(y_val[:, i], y_pred_thresholded)\n",
    "            \n",
    "            # Update best threshold if F1-score is higher\n",
    "            if f1 > best_f1:\n",
    "                best_f1 = f1\n",
    "                best_threshold = threshold\n",
    "        \n",
    "        thresholds.append(best_threshold)\n",
    "    \n",
    "    return thresholds"
   ]
  },
  {
   "cell_type": "code",
   "execution_count": 54,
   "id": "85ae723d-07af-4690-8e83-2a27d0e2d1a5",
   "metadata": {
    "execution": {
     "iopub.execute_input": "2023-05-16T11:49:50.507955Z",
     "iopub.status.busy": "2023-05-16T11:49:50.507111Z",
     "iopub.status.idle": "2023-05-16T11:49:50.520849Z",
     "shell.execute_reply": "2023-05-16T11:49:50.519944Z",
     "shell.execute_reply.started": "2023-05-16T11:49:50.507896Z"
    },
    "tags": []
   },
   "outputs": [],
   "source": [
    "def multi_label_scores(model):\n",
    "    \n",
    "    y_pred_val = model.predict(X_val)\n",
    "    \n",
    "    thresholds = optimize_thresholds(y_val, y_pred_val)\n",
    "    \n",
    "    y_pred_test = model.predict(X_test)\n",
    "    \n",
    "    y_pred_labels = np.where(y_pred_test >= thresholds, 1, 0)\n",
    "    \n",
    "    # precision, recall, f1\n",
    "    report = classification_report(\n",
    "            y_test,\n",
    "            y_pred_labels,\n",
    "            output_dict=False,\n",
    "            target_names=['inspiring', 'energetic', 'happy', 'sad', 'motivational', 'relaxing', 'uplifting', 'calm', 'love','hopeful'],\n",
    "            )\n",
    "    \n",
    "    # calculate multi label accuracy using confusion matrix\n",
    "    confusion_matrix = multilabel_confusion_matrix(y_test, y_pred_labels)\n",
    "    \n",
    "    true = 0\n",
    "    false = 0\n",
    "\n",
    "    for i, matrix in enumerate(confusion_matrix):\n",
    "        # print(f\"Confusion matrix for label {i+1}:\")\n",
    "        # print(matrix)\n",
    "        # print()\n",
    "\n",
    "        true += matrix[0,0] + matrix[1,1]\n",
    "        false += matrix[0,1] + matrix[1,0]\n",
    "\n",
    "    print(report)\n",
    "    print()\n",
    "    print(\"Multi-label accuracy:\", true / (true+false))\n",
    "    "
   ]
  },
  {
   "cell_type": "code",
   "execution_count": 55,
   "id": "4f61682c-fbdf-456e-9540-391449255531",
   "metadata": {
    "execution": {
     "iopub.execute_input": "2023-05-16T11:49:55.601662Z",
     "iopub.status.busy": "2023-05-16T11:49:55.600830Z",
     "iopub.status.idle": "2023-05-16T11:50:15.985976Z",
     "shell.execute_reply": "2023-05-16T11:50:15.985065Z",
     "shell.execute_reply.started": "2023-05-16T11:49:55.601603Z"
    },
    "tags": []
   },
   "outputs": [
    {
     "name": "stdout",
     "output_type": "stream",
     "text": [
      "45/45 [==============================] - 10s 221ms/step\n",
      "45/45 [==============================] - 10s 221ms/step\n",
      "              precision    recall  f1-score   support\n",
      "\n",
      "   inspiring       0.07      1.00      0.13        96\n",
      "   energetic       0.18      1.00      0.31       259\n",
      "       happy       0.24      1.00      0.38       334\n",
      "         sad       0.03      1.00      0.06        40\n",
      "motivational       0.13      1.00      0.22       179\n",
      "    relaxing       0.14      1.00      0.24       193\n",
      "   uplifting       0.09      1.00      0.17       132\n",
      "        calm       0.19      1.00      0.32       268\n",
      "        love       0.11      1.00      0.19       150\n",
      "     hopeful       0.09      1.00      0.17       132\n",
      "\n",
      "   micro avg       0.13      1.00      0.22      1783\n",
      "   macro avg       0.13      1.00      0.22      1783\n",
      "weighted avg       0.15      1.00      0.26      1783\n",
      " samples avg       0.13      1.00      0.22      1783\n",
      "\n",
      "\n",
      "Multi-label accuracy: 0.12618542108987968\n"
     ]
    }
   ],
   "source": [
    "multi_label_scores(cnn1)"
   ]
  },
  {
   "cell_type": "code",
   "execution_count": 56,
   "id": "82281672-74c0-403b-a342-741cd98b1e5a",
   "metadata": {
    "execution": {
     "iopub.execute_input": "2023-05-16T11:51:08.769751Z",
     "iopub.status.busy": "2023-05-16T11:51:08.768932Z",
     "iopub.status.idle": "2023-05-16T11:53:27.188543Z",
     "shell.execute_reply": "2023-05-16T11:53:27.187404Z",
     "shell.execute_reply.started": "2023-05-16T11:51:08.769690Z"
    },
    "tags": []
   },
   "outputs": [
    {
     "name": "stdout",
     "output_type": "stream",
     "text": [
      "45/45 [==============================] - 69s 2s/step\n",
      "45/45 [==============================] - 69s 2s/step\n",
      "              precision    recall  f1-score   support\n",
      "\n",
      "   inspiring       0.11      0.34      0.17        96\n",
      "   energetic       0.37      0.29      0.32       259\n",
      "       happy       0.29      0.57      0.38       334\n",
      "         sad       0.01      0.03      0.01        40\n",
      "motivational       0.14      0.39      0.21       179\n",
      "    relaxing       0.26      0.28      0.27       193\n",
      "   uplifting       0.12      0.69      0.20       132\n",
      "        calm       0.26      0.65      0.37       268\n",
      "        love       0.15      0.26      0.19       150\n",
      "     hopeful       0.13      0.14      0.14       132\n",
      "\n",
      "   micro avg       0.20      0.42      0.27      1783\n",
      "   macro avg       0.18      0.36      0.23      1783\n",
      "weighted avg       0.23      0.42      0.27      1783\n",
      " samples avg       0.20      0.42      0.25      1783\n",
      "\n",
      "\n",
      "Multi-label accuracy: 0.7101910828025477\n"
     ]
    },
    {
     "name": "stderr",
     "output_type": "stream",
     "text": [
      "/opt/conda/lib/python3.10/site-packages/sklearn/metrics/_classification.py:1344: UndefinedMetricWarning: Precision and F-score are ill-defined and being set to 0.0 in samples with no predicted labels. Use `zero_division` parameter to control this behavior.\n",
      "  _warn_prf(average, modifier, msg_start, len(result))\n"
     ]
    }
   ],
   "source": [
    "multi_label_scores(cnn2)"
   ]
  },
  {
   "cell_type": "code",
   "execution_count": 57,
   "id": "ac9a38fe-e1f5-4355-a80c-59347e62caa3",
   "metadata": {
    "execution": {
     "iopub.execute_input": "2023-05-16T11:53:27.215192Z",
     "iopub.status.busy": "2023-05-16T11:53:27.214993Z",
     "iopub.status.idle": "2023-05-16T11:54:31.887819Z",
     "shell.execute_reply": "2023-05-16T11:54:31.886420Z",
     "shell.execute_reply.started": "2023-05-16T11:53:27.215172Z"
    },
    "tags": []
   },
   "outputs": [
    {
     "name": "stdout",
     "output_type": "stream",
     "text": [
      "45/45 [==============================] - 32s 716ms/step\n",
      "45/45 [==============================] - 32s 711ms/step\n",
      "              precision    recall  f1-score   support\n",
      "\n",
      "   inspiring       0.14      0.15      0.14        96\n",
      "   energetic       0.37      0.60      0.46       259\n",
      "       happy       0.33      0.71      0.45       334\n",
      "         sad       0.05      0.07      0.06        40\n",
      "motivational       0.17      0.47      0.25       179\n",
      "    relaxing       0.29      0.58      0.38       193\n",
      "   uplifting       0.21      0.45      0.28       132\n",
      "        calm       0.31      0.65      0.42       268\n",
      "        love       0.25      0.31      0.28       150\n",
      "     hopeful       0.14      0.61      0.23       132\n",
      "\n",
      "   micro avg       0.25      0.54      0.35      1783\n",
      "   macro avg       0.22      0.46      0.29      1783\n",
      "weighted avg       0.26      0.54      0.35      1783\n",
      " samples avg       0.26      0.54      0.33      1783\n",
      "\n",
      "\n",
      "Multi-label accuracy: 0.7418966737438075\n"
     ]
    },
    {
     "name": "stderr",
     "output_type": "stream",
     "text": [
      "/opt/conda/lib/python3.10/site-packages/sklearn/metrics/_classification.py:1344: UndefinedMetricWarning: Precision and F-score are ill-defined and being set to 0.0 in samples with no predicted labels. Use `zero_division` parameter to control this behavior.\n",
      "  _warn_prf(average, modifier, msg_start, len(result))\n"
     ]
    }
   ],
   "source": [
    "multi_label_scores(cnn3)"
   ]
  },
  {
   "cell_type": "code",
   "execution_count": 31,
   "id": "b02b1c28-90c7-4a2f-8711-ff22b4c9afc3",
   "metadata": {
    "execution": {
     "iopub.execute_input": "2023-05-16T10:29:49.505545Z",
     "iopub.status.busy": "2023-05-16T10:29:49.504722Z",
     "iopub.status.idle": "2023-05-16T10:29:49.533766Z",
     "shell.execute_reply": "2023-05-16T10:29:49.532830Z",
     "shell.execute_reply.started": "2023-05-16T10:29:49.505484Z"
    },
    "tags": []
   },
   "outputs": [
    {
     "ename": "NameError",
     "evalue": "name 'model' is not defined",
     "output_type": "error",
     "traceback": [
      "\u001b[0;31m---------------------------------------------------------------------------\u001b[0m",
      "\u001b[0;31mNameError\u001b[0m                                 Traceback (most recent call last)",
      "Cell \u001b[0;32mIn[31], line 2\u001b[0m\n\u001b[1;32m      1\u001b[0m \u001b[38;5;66;03m# calculate thresholds optimized on val set (maximizing f1 score)\u001b[39;00m\n\u001b[0;32m----> 2\u001b[0m y_pred_val \u001b[38;5;241m=\u001b[39m \u001b[43mmodel\u001b[49m\u001b[38;5;241m.\u001b[39mpredict(X_val) \n\u001b[1;32m      3\u001b[0m thresholds \u001b[38;5;241m=\u001b[39m optimize_thresholds(y_val, y_pred_val)\n",
      "\u001b[0;31mNameError\u001b[0m: name 'model' is not defined"
     ]
    }
   ],
   "source": [
    "# calculate thresholds optimized on val set (maximizing f1 score)\n",
    "y_pred_val = model.predict(X_val) \n",
    "thresholds = optimize_thresholds(y_val, y_pred_val)"
   ]
  },
  {
   "cell_type": "code",
   "execution_count": 35,
   "id": "46247c0e-a9f2-4c47-ba73-020c8b27e3be",
   "metadata": {
    "execution": {
     "iopub.execute_input": "2023-05-16T10:44:43.313580Z",
     "iopub.status.busy": "2023-05-16T10:44:43.312753Z",
     "iopub.status.idle": "2023-05-16T10:44:43.324705Z",
     "shell.execute_reply": "2023-05-16T10:44:43.323265Z",
     "shell.execute_reply.started": "2023-05-16T10:44:43.313520Z"
    },
    "tags": []
   },
   "outputs": [],
   "source": [
    "# calculate Macro ROC-AUC and PR-AUC\n",
    "\n",
    "def macro_auc(model):\n",
    "    \n",
    "    y_pred_proba = model.predict(X_test)\n",
    "\n",
    "    roc_auc_scores = []\n",
    "    for i in range(10):\n",
    "        roc_auc_scores.append(roc_auc_score(y_test[:, i], y_pred_proba[:, i]))\n",
    "\n",
    "    # Calculate PR-AUC for each class\n",
    "    pr_auc_scores = []\n",
    "    for i in range(10):\n",
    "        pr_auc_scores.append(average_precision_score(y_test[:, i], y_pred_proba[:, i]))\n",
    "\n",
    "    # Calculate macro ROC-AUC and macro PR-AUC\n",
    "    macro_roc_auc = np.mean(roc_auc_scores)\n",
    "    macro_pr_auc = np.mean(pr_auc_scores)\n",
    "\n",
    "    print(\"Macro ROC-AUC:\", macro_roc_auc)\n",
    "    print(\"Macro PR-AUC:\", macro_pr_auc)"
   ]
  },
  {
   "cell_type": "code",
   "execution_count": 36,
   "id": "e42ab66e-9ffe-4127-ae85-9ec009bcc135",
   "metadata": {
    "execution": {
     "iopub.execute_input": "2023-05-16T10:44:46.177477Z",
     "iopub.status.busy": "2023-05-16T10:44:46.176657Z",
     "iopub.status.idle": "2023-05-16T10:44:56.358311Z",
     "shell.execute_reply": "2023-05-16T10:44:56.357442Z",
     "shell.execute_reply.started": "2023-05-16T10:44:46.177417Z"
    },
    "tags": []
   },
   "outputs": [
    {
     "name": "stdout",
     "output_type": "stream",
     "text": [
      "45/45 [==============================] - 10s 221ms/step\n",
      "Macro ROC-AUC: 0.5046220968369951\n",
      "Macro PR-AUC: 0.13175013649990233\n"
     ]
    }
   ],
   "source": [
    "macro_auc(cnn1)"
   ]
  },
  {
   "cell_type": "code",
   "execution_count": 37,
   "id": "48403e8f-f522-4ed7-ada7-ff28a3f77eb5",
   "metadata": {
    "execution": {
     "iopub.execute_input": "2023-05-16T10:45:04.754326Z",
     "iopub.status.busy": "2023-05-16T10:45:04.753507Z",
     "iopub.status.idle": "2023-05-16T10:46:13.600576Z",
     "shell.execute_reply": "2023-05-16T10:46:13.599509Z",
     "shell.execute_reply.started": "2023-05-16T10:45:04.754266Z"
    },
    "tags": []
   },
   "outputs": [
    {
     "name": "stdout",
     "output_type": "stream",
     "text": [
      "45/45 [==============================] - 69s 2s/step\n",
      "Macro ROC-AUC: 0.5865059431575961\n",
      "Macro PR-AUC: 0.18280078191772292\n"
     ]
    }
   ],
   "source": [
    "macro_auc(cnn2)"
   ]
  },
  {
   "cell_type": "code",
   "execution_count": 38,
   "id": "d9761d5b-561d-46d6-a16e-64452ee194b6",
   "metadata": {
    "execution": {
     "iopub.execute_input": "2023-05-16T10:46:13.620072Z",
     "iopub.status.busy": "2023-05-16T10:46:13.619883Z",
     "iopub.status.idle": "2023-05-16T10:46:45.746567Z",
     "shell.execute_reply": "2023-05-16T10:46:45.745478Z",
     "shell.execute_reply.started": "2023-05-16T10:46:13.620053Z"
    },
    "tags": []
   },
   "outputs": [
    {
     "name": "stdout",
     "output_type": "stream",
     "text": [
      "45/45 [==============================] - 32s 709ms/step\n",
      "Macro ROC-AUC: 0.6712056547274388\n",
      "Macro PR-AUC: 0.22629314012176122\n"
     ]
    }
   ],
   "source": [
    "macro_auc(cnn3)"
   ]
  }
 ],
 "metadata": {
  "kernelspec": {
   "display_name": "Python 3 ",
   "language": "python",
   "name": "python3"
  },
  "language_info": {
   "codemirror_mode": {
    "name": "ipython",
    "version": 3
   },
   "file_extension": ".py",
   "mimetype": "text/x-python",
   "name": "python",
   "nbconvert_exporter": "python",
   "pygments_lexer": "ipython3",
   "version": "3.10.10"
  }
 },
 "nbformat": 4,
 "nbformat_minor": 5
}

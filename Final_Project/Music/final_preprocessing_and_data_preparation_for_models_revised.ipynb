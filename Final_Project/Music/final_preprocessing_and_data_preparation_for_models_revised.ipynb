{
 "cells": [
  {
   "cell_type": "markdown",
   "id": "ed981b16",
   "metadata": {},
   "source": [
    "### Final preprocessing and data creation"
   ]
  },
  {
   "cell_type": "markdown",
   "id": "0e3f1a96",
   "metadata": {},
   "source": [
    "In this file the relevant audio data is transformed in the appropriate format, pre-preprocessed according to model requirements and split into training, validation, and test set."
   ]
  },
  {
   "cell_type": "code",
   "execution_count": 1,
   "id": "09fc2ce4",
   "metadata": {
    "execution": {
     "iopub.execute_input": "2023-05-15T20:03:28.838114Z",
     "iopub.status.busy": "2023-05-15T20:03:28.837328Z",
     "iopub.status.idle": "2023-05-15T20:03:29.369407Z",
     "shell.execute_reply": "2023-05-15T20:03:29.368584Z",
     "shell.execute_reply.started": "2023-05-15T20:03:28.838052Z"
    },
    "tags": []
   },
   "outputs": [],
   "source": [
    "# import relevant libraries\n",
    "\n",
    "# for data manipulation \n",
    "import numpy as np\n",
    "\n",
    "# for audio extraction\n",
    "import librosa\n",
    "\n",
    "# for path definitions, opening files\n",
    "from pathlib import Path\n",
    "import os\n",
    "import tarfile\n",
    "import pickle\n",
    "import math\n",
    "\n",
    "# for pre-processing and data creation\n",
    "from sklearn.preprocessing import MultiLabelBinarizer\n",
    "from sklearn.model_selection import train_test_split\n",
    "from sklearn.preprocessing import MinMaxScaler\n",
    "\n",
    "# counter for for loops\n",
    "from tqdm import tqdm"
   ]
  },
  {
   "cell_type": "code",
   "execution_count": 2,
   "id": "72ea0ea0-eaa2-49d9-bdab-584d8e7d8326",
   "metadata": {
    "execution": {
     "iopub.execute_input": "2023-05-15T06:55:23.624407Z",
     "iopub.status.busy": "2023-05-15T06:55:23.623676Z",
     "iopub.status.idle": "2023-05-15T06:55:44.223416Z",
     "shell.execute_reply": "2023-05-15T06:55:44.221225Z",
     "shell.execute_reply.started": "2023-05-15T06:55:23.624304Z"
    },
    "tags": []
   },
   "outputs": [],
   "source": [
    "# install library if necessary\n",
    "# !pip install librosa"
   ]
  },
  {
   "cell_type": "code",
   "execution_count": 2,
   "id": "bf4e0b6f",
   "metadata": {
    "execution": {
     "iopub.execute_input": "2023-05-15T20:03:36.891532Z",
     "iopub.status.busy": "2023-05-15T20:03:36.891027Z",
     "iopub.status.idle": "2023-05-15T20:03:36.895523Z",
     "shell.execute_reply": "2023-05-15T20:03:36.894751Z",
     "shell.execute_reply.started": "2023-05-15T20:03:36.891497Z"
    },
    "tags": []
   },
   "outputs": [],
   "source": [
    "# save the path where data is stored (in UCloud)\n",
    "root_path = './775771'"
   ]
  },
  {
   "cell_type": "code",
   "execution_count": 3,
   "id": "6b902ada",
   "metadata": {
    "execution": {
     "iopub.execute_input": "2023-05-15T20:03:37.897611Z",
     "iopub.status.busy": "2023-05-15T20:03:37.896883Z",
     "iopub.status.idle": "2023-05-15T20:03:37.919681Z",
     "shell.execute_reply": "2023-05-15T20:03:37.918946Z",
     "shell.execute_reply.started": "2023-05-15T20:03:37.897549Z"
    },
    "tags": []
   },
   "outputs": [],
   "source": [
    "# load dictionary with track ID and labels \n",
    "with open('tracks.pkl', 'rb') as f:\n",
    "    tracks = pickle.load(f)"
   ]
  },
  {
   "cell_type": "code",
   "execution_count": 4,
   "id": "a0092eb3",
   "metadata": {
    "execution": {
     "iopub.execute_input": "2023-05-15T20:03:38.645934Z",
     "iopub.status.busy": "2023-05-15T20:03:38.645414Z",
     "iopub.status.idle": "2023-05-15T20:03:38.652524Z",
     "shell.execute_reply": "2023-05-15T20:03:38.651732Z",
     "shell.execute_reply.started": "2023-05-15T20:03:38.645896Z"
    },
    "tags": []
   },
   "outputs": [
    {
     "name": "stdout",
     "output_type": "stream",
     "text": [
      "7087\n"
     ]
    }
   ],
   "source": [
    "# check amount of tracks in pickle file\n",
    "print(len(list(tracks.items())))"
   ]
  },
  {
   "cell_type": "code",
   "execution_count": 5,
   "id": "ffb1849b",
   "metadata": {
    "execution": {
     "iopub.execute_input": "2023-05-15T20:03:41.077346Z",
     "iopub.status.busy": "2023-05-15T20:03:41.076607Z",
     "iopub.status.idle": "2023-05-15T20:03:41.096463Z",
     "shell.execute_reply": "2023-05-15T20:03:41.095661Z",
     "shell.execute_reply.started": "2023-05-15T20:03:41.077287Z"
    },
    "tags": []
   },
   "outputs": [
    {
     "name": "stdout",
     "output_type": "stream",
     "text": [
      "18486\n"
     ]
    }
   ],
   "source": [
    "# check amount of audio files in the folder\n",
    "print(len(os.listdir(root_path)))"
   ]
  },
  {
   "cell_type": "code",
   "execution_count": 7,
   "id": "fd86a6cc",
   "metadata": {
    "execution": {
     "iopub.execute_input": "2023-05-15T20:04:29.562434Z",
     "iopub.status.busy": "2023-05-15T20:04:29.561760Z",
     "iopub.status.idle": "2023-05-15T21:37:15.936447Z",
     "shell.execute_reply": "2023-05-15T21:37:15.931975Z",
     "shell.execute_reply.started": "2023-05-15T20:04:29.562370Z"
    },
    "tags": []
   },
   "outputs": [
    {
     "name": "stderr",
     "output_type": "stream",
     "text": [
      "100%|██████████| 18486/18486 [1:32:46<00:00,  3.32it/s]  \n"
     ]
    }
   ],
   "source": [
    "# create audio representation of each audio file that is in the dictionary\n",
    "\n",
    "# create list with all audio files in folder\n",
    "files = os.listdir(root_path)\n",
    "\n",
    "# create a list to check which audio files have been processed afterwards\n",
    "populated_IDS = []\n",
    "\n",
    "# for loop with counter to append raw audio form to dictionary\n",
    "for file in tqdm(files):\n",
    "    \n",
    "    # get file ID from audio file\n",
    "    ID = file.split('.')[0]\n",
    "\n",
    "    # when audio file is relevant, get raw audio form\n",
    "    if int(ID) in tracks.keys():\n",
    "\n",
    "        # storing the raw audio form using librosa\n",
    "        y, sr = librosa.load(f'{root_path}/{file}', sr=22050)\n",
    "\n",
    "        # add raw audio form to the dictionary\n",
    "        tracks[int(ID)]['raw'] = y\n",
    "        \n",
    "        # populate the dictionary with relevant IDs\n",
    "        populated_IDS.append(ID)    "
   ]
  },
  {
   "cell_type": "code",
   "execution_count": 8,
   "id": "227dc5c7",
   "metadata": {
    "execution": {
     "iopub.execute_input": "2023-05-15T21:43:11.841890Z",
     "iopub.status.busy": "2023-05-15T21:43:11.839891Z",
     "iopub.status.idle": "2023-05-15T21:43:11.847198Z",
     "shell.execute_reply": "2023-05-15T21:43:11.845950Z",
     "shell.execute_reply.started": "2023-05-15T21:43:11.841827Z"
    },
    "tags": []
   },
   "outputs": [
    {
     "name": "stdout",
     "output_type": "stream",
     "text": [
      "['1406057', '489238', '1320483', '325577', '1290879', '1110073', '1166111', '1137782', '1116404', '1199623']\n",
      "7087\n"
     ]
    }
   ],
   "source": [
    "# check that population worked\n",
    "print(populated_IDS[:10])\n",
    "print(len(populated_IDS))"
   ]
  },
  {
   "cell_type": "markdown",
   "id": "a2f5bed3",
   "metadata": {},
   "source": [
    "### Trimming the raw audio down to 30 seconds"
   ]
  },
  {
   "cell_type": "markdown",
   "id": "e9f173fe",
   "metadata": {},
   "source": [
    "Repeat the approach three times for start, middle, and end to create the training, validation and test data."
   ]
  },
  {
   "cell_type": "markdown",
   "id": "7cba2480",
   "metadata": {},
   "source": [
    "Approach to get the start (30 seconds) of the track:"
   ]
  },
  {
   "cell_type": "code",
   "execution_count": 9,
   "id": "1f92dc6b-f35e-45b8-9f68-beeb4e6076ca",
   "metadata": {
    "execution": {
     "iopub.execute_input": "2023-05-15T21:43:26.627071Z",
     "iopub.status.busy": "2023-05-15T21:43:26.626170Z",
     "iopub.status.idle": "2023-05-15T21:43:26.655702Z",
     "shell.execute_reply": "2023-05-15T21:43:26.655147Z",
     "shell.execute_reply.started": "2023-05-15T21:43:26.626977Z"
    },
    "scrolled": true,
    "tags": []
   },
   "outputs": [
    {
     "name": "stderr",
     "output_type": "stream",
     "text": [
      "100%|██████████| 7087/7087 [00:00<00:00, 584275.82it/s]\n"
     ]
    }
   ],
   "source": [
    "# cut out first 30s of audio data\n",
    "\n",
    "print('30 seconds of the audio at a sample rate of 22050 Hz results in', 30*22050, 'elements.')\n",
    "\n",
    "for key in tqdm(populated_IDS):\n",
    "    tracks[int(key)]['raw_30s'] = tracks[int(key)]['raw'][0:661500]"
   ]
  },
  {
   "cell_type": "markdown",
   "id": "a3fe4bbb",
   "metadata": {},
   "source": [
    "Approach to get the middle (30 seconds) of the track:"
   ]
  },
  {
   "cell_type": "code",
   "execution_count": 13,
   "id": "87355142",
   "metadata": {
    "execution": {
     "iopub.execute_input": "2023-05-15T08:28:44.297504Z",
     "iopub.status.busy": "2023-05-15T08:28:44.296839Z",
     "iopub.status.idle": "2023-05-15T08:28:44.330237Z",
     "shell.execute_reply": "2023-05-15T08:28:44.329617Z",
     "shell.execute_reply.started": "2023-05-15T08:28:44.297452Z"
    },
    "tags": []
   },
   "outputs": [
    {
     "name": "stdout",
     "output_type": "stream",
     "text": [
      "30 seconds of the audio at a sample rate of 22050 results in 661500 elements.\n"
     ]
    },
    {
     "name": "stderr",
     "output_type": "stream",
     "text": [
      "100%|██████████| 7087/7087 [00:00<00:00, 353436.05it/s]\n"
     ]
    }
   ],
   "source": [
    "# cut the raw audio data in 30 second windows\n",
    "\n",
    "# print('30 seconds of the audio at a sample rate of 22050 Hz results in', 30*22050, 'elements.')\n",
    "\n",
    "# for key in tqdm(populated_IDS):\n",
    "#     middle = (int(math.ceil(len(tracks[int(key)]['raw']) / 2))) - 1\n",
    "#     tracks[int(key)]['raw_30s'] = tracks[int(key)]['raw'][middle-330750:middle+330750]    "
   ]
  },
  {
   "cell_type": "markdown",
   "id": "8790447a",
   "metadata": {},
   "source": [
    "Approach to get the end of the song"
   ]
  },
  {
   "cell_type": "code",
   "execution_count": 24,
   "id": "feff2860-048d-4022-ab2c-48f6d9b4bf9b",
   "metadata": {
    "execution": {
     "iopub.execute_input": "2023-05-15T22:06:14.479398Z",
     "iopub.status.busy": "2023-05-15T22:06:14.478825Z",
     "iopub.status.idle": "2023-05-15T22:06:14.502833Z",
     "shell.execute_reply": "2023-05-15T22:06:14.502150Z",
     "shell.execute_reply.started": "2023-05-15T22:06:14.479337Z"
    },
    "tags": []
   },
   "outputs": [
    {
     "name": "stderr",
     "output_type": "stream",
     "text": [
      "100%|██████████| 7087/7087 [00:00<00:00, 508354.84it/s]\n"
     ]
    }
   ],
   "source": [
    "# cut out last 30s of audio data\n",
    "\n",
    "# print('30 seconds of the audio at a sample rate of 22050 Hz results in', 30*22050, 'elements.')\n",
    "\n",
    "# for key in tqdm(populated_IDS):\n",
    "#     tracks[int(key)]['raw_30s'] = tracks[int(key)]['raw'][-661500:]"
   ]
  },
  {
   "cell_type": "markdown",
   "id": "0aef3bac",
   "metadata": {},
   "source": [
    "### Get MFCC representation"
   ]
  },
  {
   "cell_type": "code",
   "execution_count": 25,
   "id": "80c64f08",
   "metadata": {
    "execution": {
     "iopub.execute_input": "2023-05-15T22:06:30.715446Z",
     "iopub.status.busy": "2023-05-15T22:06:30.714966Z",
     "iopub.status.idle": "2023-05-15T22:21:47.775571Z",
     "shell.execute_reply": "2023-05-15T22:21:47.773492Z",
     "shell.execute_reply.started": "2023-05-15T22:06:30.715421Z"
    },
    "tags": []
   },
   "outputs": [
    {
     "name": "stderr",
     "output_type": "stream",
     "text": [
      "100%|██████████| 7087/7087 [15:17<00:00,  7.73it/s]\n"
     ]
    }
   ],
   "source": [
    "# calculate MFCCs with the raw 30s data and store it in the tracks dictionary\n",
    "    \n",
    "for key in tqdm(populated_IDS):\n",
    "\n",
    "    # compute MFCCs: sample rate: 22050, number of coefficients: 20, number of frames = 1292, frame size (hop_length) = 512\n",
    "    y_mfcc_30s = librosa.feature.mfcc(y=tracks[int(key)]['raw_30s'], sr=22050, hop_length=512)\n",
    "    # store in tracks dictionary\n",
    "    tracks[int(key)]['mfcc_30s'] = y_mfcc_30s"
   ]
  },
  {
   "cell_type": "code",
   "execution_count": 11,
   "id": "b97041d8",
   "metadata": {
    "execution": {
     "iopub.execute_input": "2023-05-15T22:01:23.593277Z",
     "iopub.status.busy": "2023-05-15T22:01:23.592582Z",
     "iopub.status.idle": "2023-05-15T22:01:23.603787Z",
     "shell.execute_reply": "2023-05-15T22:01:23.602438Z",
     "shell.execute_reply.started": "2023-05-15T22:01:23.593213Z"
    },
    "tags": []
   },
   "outputs": [
    {
     "name": "stdout",
     "output_type": "stream",
     "text": [
      "[[-418.9718    -403.4135    -421.6354    ... -380.0868    -382.3547\n",
      "  -306.3769   ]\n",
      " [ 189.52945    205.0528     186.94696   ...  224.58728    221.09293\n",
      "   207.38431  ]\n",
      " [ 108.909805   110.85075    108.369675  ...  105.90192    102.03871\n",
      "    48.217697 ]\n",
      " [  36.145638    28.500072    35.76802   ...   11.860008     8.870483\n",
      "    11.745757 ]\n",
      " [   3.7493386   -4.4960294    1.1900263 ...  -18.567358   -18.794258\n",
      "    -7.999176 ]]\n",
      "(20, 1292)\n",
      "(20, 1292)\n"
     ]
    }
   ],
   "source": [
    "# rows represent the number of mel-frequency cepstral coefficients extracted per frame\n",
    "# columns represent the number of frames in the audio signal (frame size 512)\n",
    "\n",
    "print(tracks[1385300]['mfcc_30s'][:5])\n",
    "print(tracks[1385300]['mfcc_30s'].shape)"
   ]
  },
  {
   "cell_type": "code",
   "execution_count": 17,
   "id": "54dbe285",
   "metadata": {
    "execution": {
     "iopub.execute_input": "2023-05-15T08:54:47.923556Z",
     "iopub.status.busy": "2023-05-15T08:54:47.922852Z",
     "iopub.status.idle": "2023-05-15T08:54:47.932881Z",
     "shell.execute_reply": "2023-05-15T08:54:47.931776Z",
     "shell.execute_reply.started": "2023-05-15T08:54:47.923499Z"
    },
    "tags": []
   },
   "outputs": [
    {
     "name": "stdout",
     "output_type": "stream",
     "text": [
      "1406057:\n",
      "(20, 1292)\n",
      "489238:\n",
      "(20, 1292)\n",
      "1320483:\n",
      "(20, 1292)\n",
      "325577:\n",
      "(20, 1292)\n",
      "1290879:\n",
      "(20, 1292)\n",
      "1110073:\n",
      "(20, 1292)\n",
      "1166111:\n",
      "(20, 1292)\n",
      "1137782:\n",
      "(20, 1292)\n",
      "1116404:\n",
      "(20, 1292)\n",
      "1199623:\n",
      "(20, 1292)\n"
     ]
    }
   ],
   "source": [
    "# the 30s MFCCs all have the same length, i.e., same number of frames\n",
    "# first some visual inspection\n",
    "\n",
    "for key in populated_IDS[:10]:\n",
    "    print(key + \":\")\n",
    "    print(tracks[int(key)]['mfcc_30s'].shape)"
   ]
  },
  {
   "cell_type": "code",
   "execution_count": 26,
   "id": "5b752c00-4151-42b7-a3ec-c7f0f515b79d",
   "metadata": {
    "execution": {
     "iopub.execute_input": "2023-05-15T22:22:15.825820Z",
     "iopub.status.busy": "2023-05-15T22:22:15.825134Z",
     "iopub.status.idle": "2023-05-15T22:22:15.848202Z",
     "shell.execute_reply": "2023-05-15T22:22:15.847693Z",
     "shell.execute_reply.started": "2023-05-15T22:22:15.825759Z"
    },
    "tags": []
   },
   "outputs": [
    {
     "name": "stdout",
     "output_type": "stream",
     "text": [
      "[]\n"
     ]
    }
   ],
   "source": [
    "# check if all items have same length with for loop\n",
    "\n",
    "drop_list = []\n",
    "\n",
    "for key in populated_IDS:\n",
    "    if tracks[int(key)]['mfcc_30s'].shape[1] != 1292:\n",
    "        print(key, tracks[int(key)]['mfcc_30s'].shape[1])\n",
    "        drop_list.append(key)\n",
    "print(drop_list)"
   ]
  },
  {
   "cell_type": "markdown",
   "id": "49cd088d",
   "metadata": {},
   "source": [
    "No elements that have another length!"
   ]
  },
  {
   "cell_type": "code",
   "execution_count": 14,
   "id": "22da9b3f-6908-4901-b5f0-4017213b5ff4",
   "metadata": {
    "execution": {
     "iopub.execute_input": "2023-05-15T22:01:59.557941Z",
     "iopub.status.busy": "2023-05-15T22:01:59.557635Z",
     "iopub.status.idle": "2023-05-15T22:01:59.561690Z",
     "shell.execute_reply": "2023-05-15T22:01:59.561138Z",
     "shell.execute_reply.started": "2023-05-15T22:01:59.557918Z"
    },
    "tags": []
   },
   "outputs": [
    {
     "name": "stdout",
     "output_type": "stream",
     "text": [
      "7087\n"
     ]
    }
   ],
   "source": [
    "# drop corrupted files if there are any\n",
    "\n",
    "for key in drop_list:\n",
    "    del tracks[int(key)]\n",
    "\n",
    "# check how many tracks are left\n",
    "print(len(tracks))"
   ]
  },
  {
   "cell_type": "code",
   "execution_count": 15,
   "id": "01e8603d-9e8c-42f1-bc32-bcabb511f578",
   "metadata": {
    "execution": {
     "iopub.execute_input": "2023-05-15T22:02:10.300937Z",
     "iopub.status.busy": "2023-05-15T22:02:10.300706Z",
     "iopub.status.idle": "2023-05-15T22:02:10.306257Z",
     "shell.execute_reply": "2023-05-15T22:02:10.305074Z",
     "shell.execute_reply.started": "2023-05-15T22:02:10.300915Z"
    },
    "tags": []
   },
   "outputs": [
    {
     "name": "stdout",
     "output_type": "stream",
     "text": [
      "7087\n"
     ]
    }
   ],
   "source": [
    "# drop from populated list\n",
    "\n",
    "for key in drop_list:\n",
    "    populated_IDS.remove(key)\n",
    "\n",
    "print(len(populated_IDS))"
   ]
  },
  {
   "cell_type": "markdown",
   "id": "53b977fd",
   "metadata": {},
   "source": [
    "### Creation of multi-hot encoding numpy arrays as labels "
   ]
  },
  {
   "cell_type": "code",
   "execution_count": 27,
   "id": "23378a56",
   "metadata": {
    "execution": {
     "iopub.execute_input": "2023-05-15T22:22:45.025016Z",
     "iopub.status.busy": "2023-05-15T22:22:45.024163Z",
     "iopub.status.idle": "2023-05-15T22:22:45.057605Z",
     "shell.execute_reply": "2023-05-15T22:22:45.057067Z",
     "shell.execute_reply.started": "2023-05-15T22:22:45.024954Z"
    },
    "tags": []
   },
   "outputs": [
    {
     "name": "stdout",
     "output_type": "stream",
     "text": [
      "['calm' 'energetic' 'happy' 'hopeful' 'inspiring' 'love' 'motivational'\n",
      " 'relaxing' 'sad' 'uplifting']\n",
      "[[0 0 1 ... 0 0 0]\n",
      " [0 0 0 ... 0 0 0]\n",
      " [0 0 0 ... 0 1 0]\n",
      " ...\n",
      " [0 0 1 ... 0 0 1]\n",
      " [0 1 1 ... 0 0 0]\n",
      " [0 0 0 ... 0 0 0]]\n",
      "(7087, 10)\n"
     ]
    }
   ],
   "source": [
    "# create numpy array of labels by multi-hot encoding the labels\n",
    "\n",
    "labels_list = []\n",
    "\n",
    "for key in populated_IDS:\n",
    "    labels_list.append(list(tracks[int(key)]['mood/theme']))\n",
    "\n",
    "mlb = MultiLabelBinarizer()\n",
    "y_hot = mlb.fit_transform(labels_list)\n",
    "\n",
    "print(mlb.classes_)\n",
    "print(y_hot)\n",
    "print(y_hot.shape)"
   ]
  },
  {
   "cell_type": "markdown",
   "id": "cc8ef3ab",
   "metadata": {},
   "source": [
    "### Creation of training, validation, and test set"
   ]
  },
  {
   "cell_type": "markdown",
   "id": "fd888433",
   "metadata": {},
   "source": [
    "##### Create a numpy array with the MFCCs and transform them into the appropriate shape for our models"
   ]
  },
  {
   "cell_type": "code",
   "execution_count": 28,
   "id": "1c1ae5d1",
   "metadata": {
    "execution": {
     "iopub.execute_input": "2023-05-15T22:23:02.852170Z",
     "iopub.status.busy": "2023-05-15T22:23:02.851869Z",
     "iopub.status.idle": "2023-05-15T22:23:03.608050Z",
     "shell.execute_reply": "2023-05-15T22:23:03.607252Z",
     "shell.execute_reply.started": "2023-05-15T22:23:02.852147Z"
    },
    "tags": []
   },
   "outputs": [
    {
     "name": "stdout",
     "output_type": "stream",
     "text": [
      "[[[-1.15074341e+02 -9.67872009e+01 -7.89034195e+01 ... -4.51817413e+02\n",
      "   -4.51817413e+02 -4.51817413e+02]\n",
      "  [ 7.59934158e+01  7.37453308e+01  6.52228775e+01 ...  0.00000000e+00\n",
      "    0.00000000e+00  0.00000000e+00]\n",
      "  [ 1.39426613e+01  1.06665401e+01  1.28579235e+01 ...  0.00000000e+00\n",
      "    0.00000000e+00  0.00000000e+00]\n",
      "  ...\n",
      "  [-2.59192634e+00 -1.65563512e+00 -4.81208563e-01 ...  0.00000000e+00\n",
      "    0.00000000e+00  0.00000000e+00]\n",
      "  [ 7.04752445e+00 -9.54183221e-01 -1.05511503e+01 ...  0.00000000e+00\n",
      "    0.00000000e+00  0.00000000e+00]\n",
      "  [ 6.23311901e+00  1.36929178e+00  8.76857221e-01 ...  0.00000000e+00\n",
      "    0.00000000e+00  0.00000000e+00]]\n",
      "\n",
      " [[-1.95505722e+02 -2.07821503e+02 -2.00479874e+02 ... -5.74457092e+02\n",
      "   -5.74457092e+02 -5.74457092e+02]\n",
      "  [ 1.29257050e+02  1.45445129e+02  1.66857513e+02 ...  0.00000000e+00\n",
      "    0.00000000e+00  0.00000000e+00]\n",
      "  [ 2.46110287e+01  4.18668461e+00 -2.13272266e+01 ...  0.00000000e+00\n",
      "    0.00000000e+00  0.00000000e+00]\n",
      "  ...\n",
      "  [-5.40222931e+00 -7.50170290e-01  3.52218485e+00 ...  0.00000000e+00\n",
      "    0.00000000e+00  0.00000000e+00]\n",
      "  [-7.08053350e+00 -4.38071060e+00 -2.72315073e+00 ...  0.00000000e+00\n",
      "    0.00000000e+00  0.00000000e+00]\n",
      "  [-2.55110359e+00 -4.90191460e+00 -2.17229176e+00 ...  0.00000000e+00\n",
      "    0.00000000e+00  0.00000000e+00]]\n",
      "\n",
      " [[-2.86542603e+02 -3.01747162e+02 -3.29721588e+02 ... -6.28089111e+02\n",
      "   -6.32884705e+02 -6.09051880e+02]\n",
      "  [ 1.41255905e+02  1.63815582e+02  1.77552490e+02 ...  4.60429459e+01\n",
      "    4.53473625e+01  6.24920120e+01]\n",
      "  [ 1.95063362e+01  1.60701294e+01  6.19246006e+00 ...  3.20227470e+01\n",
      "    3.67475815e+01  3.55918617e+01]\n",
      "  ...\n",
      "  [-6.05327702e+00 -9.32839966e+00 -1.01967840e+01 ...  4.14505672e+00\n",
      "    2.09183860e+00  6.71150875e+00]\n",
      "  [-9.57474995e+00 -1.24441910e+01 -2.24550571e+01 ...  4.11388159e+00\n",
      "    1.84456265e+00  4.09845161e+00]\n",
      "  [-1.13276939e+01 -1.33621235e+01 -1.71528511e+01 ...  6.21581078e+00\n",
      "    6.72977734e+00  3.31155014e+00]]]\n",
      "(7087, 20, 1292)\n"
     ]
    }
   ],
   "source": [
    "# stack the 30s MFCCs of all the audio tracks inside a numpy array\n",
    "# resulting array has dimensions (n_samples, n_coeff, n_frames)\n",
    "\n",
    "mfccs_list = [] \n",
    "\n",
    "for key in populated_IDS:\n",
    "    mfccs_list.append(tracks[int(key)]['mfcc_30s'])\n",
    "\n",
    "mfccs = np.stack(mfccs_list, axis=0)\n",
    "\n",
    "# check the results\n",
    "print(mfccs[:3, :, :])\n",
    "print(mfccs.shape)"
   ]
  },
  {
   "cell_type": "code",
   "execution_count": 29,
   "id": "49554334",
   "metadata": {
    "execution": {
     "iopub.execute_input": "2023-05-15T22:23:20.975723Z",
     "iopub.status.busy": "2023-05-15T22:23:20.975099Z",
     "iopub.status.idle": "2023-05-15T22:23:20.982245Z",
     "shell.execute_reply": "2023-05-15T22:23:20.981109Z",
     "shell.execute_reply.started": "2023-05-15T22:23:20.975664Z"
    },
    "tags": []
   },
   "outputs": [
    {
     "name": "stdout",
     "output_type": "stream",
     "text": [
      "(7087, 1292, 20)\n"
     ]
    }
   ],
   "source": [
    "# transpose the dimensions of the mfccs array to the order specified above, dimensions (n_samples, n_frames, n_coeff)\n",
    "mfccs = mfccs.transpose(0, 2, 1)\n",
    "print(mfccs.shape)"
   ]
  },
  {
   "cell_type": "markdown",
   "id": "8edfa74b",
   "metadata": {},
   "source": [
    "##### Scaling the MFCCs "
   ]
  },
  {
   "cell_type": "code",
   "execution_count": 30,
   "id": "a1305880",
   "metadata": {
    "execution": {
     "iopub.execute_input": "2023-05-15T22:23:36.662127Z",
     "iopub.status.busy": "2023-05-15T22:23:36.661919Z",
     "iopub.status.idle": "2023-05-15T22:23:38.933595Z",
     "shell.execute_reply": "2023-05-15T22:23:38.931798Z",
     "shell.execute_reply.started": "2023-05-15T22:23:36.662106Z"
    },
    "tags": []
   },
   "outputs": [
    {
     "name": "stdout",
     "output_type": "stream",
     "text": [
      "[[-1.15074341e+02  7.59934158e+01  1.39426613e+01 ... -2.59192634e+00\n",
      "   7.04752445e+00  6.23311901e+00]\n",
      " [-9.67872009e+01  7.37453308e+01  1.06665401e+01 ... -1.65563512e+00\n",
      "  -9.54183221e-01  1.36929178e+00]\n",
      " [-7.89034195e+01  6.52228775e+01  1.28579235e+01 ... -4.81208563e-01\n",
      "  -1.05511503e+01  8.76857221e-01]\n",
      " ...\n",
      " [-6.61842468e+02  0.00000000e+00  0.00000000e+00 ...  0.00000000e+00\n",
      "   0.00000000e+00  0.00000000e+00]\n",
      " [-6.61842468e+02  0.00000000e+00  0.00000000e+00 ...  0.00000000e+00\n",
      "   0.00000000e+00  0.00000000e+00]\n",
      " [-6.61842468e+02  0.00000000e+00  0.00000000e+00 ...  0.00000000e+00\n",
      "   0.00000000e+00  0.00000000e+00]]\n",
      "(9156404, 20)\n",
      "[[[0.770476   0.54132587 0.5475009  ... 0.42626196 0.56453186 0.5611431 ]\n",
      "  [0.78433985 0.5368557  0.54016334 ... 0.43274936 0.5081874  0.53254753]\n",
      "  [0.79789793 0.51990926 0.54507136 ... 0.44088674 0.44060984 0.5296524 ]\n",
      "  ...\n",
      "  [0.5151839  0.39021742 0.5162734  ... 0.44422096 0.51490635 0.52449715]\n",
      "  [0.5151839  0.39021742 0.5162734  ... 0.44422096 0.51490635 0.52449715]\n",
      "  [0.5151839  0.39021742 0.5162734  ... 0.44422096 0.51490635 0.52449715]]\n",
      "\n",
      " [[0.70949924 0.64723754 0.5713949  ... 0.40678984 0.46504837 0.5094986 ]\n",
      "  [0.7001624  0.67942655 0.5256503  ... 0.43902317 0.48405933 0.49567765]\n",
      "  [0.70572823 0.7220038  0.4685066  ... 0.46862558 0.49573115 0.5117257 ]\n",
      "  ...\n",
      "  [0.4222082  0.39021742 0.5162734  ... 0.44422096 0.51490635 0.52449715]\n",
      "  [0.4222082  0.39021742 0.5162734  ... 0.44422096 0.51490635 0.52449715]\n",
      "  [0.4222082  0.39021742 0.5162734  ... 0.44422096 0.51490635 0.52449715]]\n",
      "\n",
      " [[0.64048225 0.67109656 0.5599619  ... 0.40227884 0.4474852  0.45789903]\n",
      "  [0.62895536 0.71595514 0.5522658  ... 0.3795861  0.4272799  0.44593814]\n",
      "  [0.6077474  0.74327016 0.53014266 ... 0.3735692  0.35678786 0.42365158]\n",
      "  ...\n",
      "  [0.38154864 0.4817711  0.58799505 ... 0.47294134 0.54387444 0.56104136]\n",
      "  [0.377913   0.480388   0.59857726 ... 0.45871496 0.5278949  0.5640631 ]\n",
      "  [0.39598116 0.51447916 0.5959888  ... 0.49072385 0.54376584 0.54396653]]\n",
      "\n",
      " ...\n",
      "\n",
      " [[0.7796104  0.5047873  0.48108107 ... 0.36922464 0.45513865 0.57896864]\n",
      "  [0.78911275 0.46291167 0.49857643 ... 0.3776685  0.4583726  0.5798581 ]\n",
      "  [0.77591366 0.4372605  0.4989673  ... 0.38433185 0.47412077 0.5909802 ]\n",
      "  ...\n",
      "  [0.6542553  0.4810555  0.5045669  ... 0.47017515 0.45986158 0.5296354 ]\n",
      "  [0.64477694 0.4820051  0.49764138 ... 0.4843583  0.46329075 0.5111043 ]\n",
      "  [0.63293636 0.49523002 0.49015662 ... 0.46777123 0.4745058  0.5101895 ]]\n",
      "\n",
      " [[0.8426949  0.45277485 0.6232113  ... 0.4876785  0.4756948  0.50302005]\n",
      "  [0.84101695 0.45575693 0.6217133  ... 0.51939166 0.49639407 0.5152353 ]\n",
      "  [0.8101209  0.5204773  0.6055547  ... 0.5029465  0.49791256 0.5099363 ]\n",
      "  ...\n",
      "  [0.48198137 0.39021742 0.5162734  ... 0.44422096 0.51490635 0.52449715]\n",
      "  [0.48198137 0.39021742 0.5162734  ... 0.44422096 0.51490635 0.52449715]\n",
      "  [0.48198137 0.39021742 0.5162734  ... 0.44422096 0.51490635 0.52449715]]\n",
      "\n",
      " [[0.67575026 0.76901615 0.56904656 ... 0.35849106 0.2982669  0.44605583]\n",
      "  [0.6775298  0.77297306 0.5759739  ... 0.35725892 0.28001958 0.42238045]\n",
      "  [0.67057204 0.76729554 0.5739245  ... 0.38618898 0.286598   0.4073199 ]\n",
      "  ...\n",
      "  [0.35595948 0.39021742 0.5162734  ... 0.44422096 0.51490635 0.52449715]\n",
      "  [0.35595948 0.39021742 0.5162734  ... 0.44422096 0.51490635 0.52449715]\n",
      "  [0.35595948 0.39021742 0.5162734  ... 0.44422096 0.51490635 0.52449715]]]\n",
      "(7087, 1292, 20)\n"
     ]
    }
   ],
   "source": [
    "# scale each MFCC to a range between 0 and 1 across all samples and frames\n",
    "# to ensure that the model can learn the relevant patterns using the whole data\n",
    "\n",
    "# reshape the MFCCs to a 2D array for scaling\n",
    "mfccs_2d = mfccs.reshape(-1, mfccs.shape[-1])\n",
    "\n",
    "print(mfccs_2d)\n",
    "print(mfccs_2d.shape)\n",
    "\n",
    "# scale the MFCCs\n",
    "mfccs_scaled = MinMaxScaler().fit_transform(mfccs_2d)\n",
    "\n",
    "# reshape the scaled MFCCs back to the original shape\n",
    "mfccs_scaled = mfccs_scaled.reshape(mfccs.shape)\n",
    "\n",
    "print(mfccs_scaled)\n",
    "print(mfccs_scaled.shape)"
   ]
  },
  {
   "cell_type": "code",
   "execution_count": 31,
   "id": "fa882978",
   "metadata": {
    "execution": {
     "iopub.execute_input": "2023-05-15T22:23:54.991415Z",
     "iopub.status.busy": "2023-05-15T22:23:54.991120Z",
     "iopub.status.idle": "2023-05-15T22:23:54.994748Z",
     "shell.execute_reply": "2023-05-15T22:23:54.994306Z",
     "shell.execute_reply.started": "2023-05-15T22:23:54.991392Z"
    },
    "tags": []
   },
   "outputs": [
    {
     "name": "stdout",
     "output_type": "stream",
     "text": [
      "(7087, 1292, 20, 1)\n"
     ]
    }
   ],
   "source": [
    "# add n_channels = 1 to the MFCCs data, dimensions: (n_samples, n_frames, n_coeff, n_channels)\n",
    "mfccs_scaled = np.expand_dims(mfccs_scaled, axis=-1)\n",
    "print(mfccs_scaled.shape)"
   ]
  },
  {
   "cell_type": "code",
   "execution_count": 32,
   "id": "bde51a05",
   "metadata": {
    "execution": {
     "iopub.execute_input": "2023-05-15T22:24:11.063525Z",
     "iopub.status.busy": "2023-05-15T22:24:11.063103Z",
     "iopub.status.idle": "2023-05-15T22:24:12.307539Z",
     "shell.execute_reply": "2023-05-15T22:24:12.306638Z",
     "shell.execute_reply.started": "2023-05-15T22:24:11.063499Z"
    },
    "tags": []
   },
   "outputs": [],
   "source": [
    "# split the MFCCs in train:validation:test set in the ratio 60:20:20\n",
    "\n",
    "# split the MFCCs into train and test sets\n",
    "X_train_, X_test, y_train_, y_test = train_test_split(mfccs_scaled, y_hot, test_size=0.2, random_state=42)\n",
    "\n",
    "# split training data into training and validation sets\n",
    "X_train, X_val, y_train, y_val = train_test_split(X_train_, y_train_, test_size=0.25, random_state=42)"
   ]
  },
  {
   "cell_type": "code",
   "execution_count": 22,
   "id": "feefa38d",
   "metadata": {
    "execution": {
     "iopub.execute_input": "2023-05-15T22:04:11.825480Z",
     "iopub.status.busy": "2023-05-15T22:04:11.824633Z",
     "iopub.status.idle": "2023-05-15T22:04:11.846047Z",
     "shell.execute_reply": "2023-05-15T22:04:11.845423Z",
     "shell.execute_reply.started": "2023-05-15T22:04:11.825419Z"
    },
    "tags": []
   },
   "outputs": [
    {
     "name": "stdout",
     "output_type": "stream",
     "text": [
      "X_train:\n",
      "(4251, 1292, 20, 1)\n",
      "[[[[0.28968054]\n",
      "   [0.4086325 ]\n",
      "   [0.57384235]\n",
      "   ...\n",
      "   [0.43866572]\n",
      "   [0.5247755 ]\n",
      "   [0.50184166]]\n",
      "\n",
      "  [[0.29401487]\n",
      "   [0.4190688 ]\n",
      "   [0.57840246]\n",
      "   ...\n",
      "   [0.45471388]\n",
      "   [0.5327516 ]\n",
      "   [0.5050449 ]]\n",
      "\n",
      "  [[0.29551417]\n",
      "   [0.422373  ]\n",
      "   [0.5787253 ]\n",
      "   ...\n",
      "   [0.45241883]\n",
      "   [0.53241163]\n",
      "   [0.5042787 ]]\n",
      "\n",
      "  ...\n",
      "\n",
      "  [[0.53238404]\n",
      "   [0.7719376 ]\n",
      "   [0.53440934]\n",
      "   ...\n",
      "   [0.5317178 ]\n",
      "   [0.51749355]\n",
      "   [0.5118062 ]]\n",
      "\n",
      "  [[0.56447434]\n",
      "   [0.8038856 ]\n",
      "   [0.50384766]\n",
      "   ...\n",
      "   [0.4929266 ]\n",
      "   [0.5124929 ]\n",
      "   [0.51570314]]\n",
      "\n",
      "  [[0.6165538 ]\n",
      "   [0.7916075 ]\n",
      "   [0.5277902 ]\n",
      "   ...\n",
      "   [0.4812412 ]\n",
      "   [0.525434  ]\n",
      "   [0.55409443]]]]\n",
      "\n",
      "X_val:\n",
      "[[[[0.37785777]\n",
      "   [0.4355316 ]\n",
      "   [0.5897354 ]\n",
      "   ...\n",
      "   [0.4184648 ]\n",
      "   [0.52810264]\n",
      "   [0.505432  ]]\n",
      "\n",
      "  [[0.38803676]\n",
      "   [0.4451772 ]\n",
      "   [0.5864549 ]\n",
      "   ...\n",
      "   [0.41249344]\n",
      "   [0.5267891 ]\n",
      "   [0.4948068 ]]\n",
      "\n",
      "  [[0.39757156]\n",
      "   [0.47390112]\n",
      "   [0.6168524 ]\n",
      "   ...\n",
      "   [0.4114784 ]\n",
      "   [0.5342563 ]\n",
      "   [0.50476485]]\n",
      "\n",
      "  ...\n",
      "\n",
      "  [[0.81914085]\n",
      "   [0.5260913 ]\n",
      "   [0.603258  ]\n",
      "   ...\n",
      "   [0.50486934]\n",
      "   [0.55772763]\n",
      "   [0.5280635 ]]\n",
      "\n",
      "  [[0.8259354 ]\n",
      "   [0.5452087 ]\n",
      "   [0.602296  ]\n",
      "   ...\n",
      "   [0.48105296]\n",
      "   [0.5288694 ]\n",
      "   [0.5337446 ]]\n",
      "\n",
      "  [[0.8227003 ]\n",
      "   [0.5619155 ]\n",
      "   [0.57744664]\n",
      "   ...\n",
      "   [0.49481207]\n",
      "   [0.52399427]\n",
      "   [0.54054636]]]]\n",
      "\n",
      "X_test:\n",
      "[[[[0.8353499 ]\n",
      "   [0.53761667]\n",
      "   [0.5602728 ]\n",
      "   ...\n",
      "   [0.4996684 ]\n",
      "   [0.5623649 ]\n",
      "   [0.45294857]]\n",
      "\n",
      "  [[0.80023474]\n",
      "   [0.55134946]\n",
      "   [0.57139266]\n",
      "   ...\n",
      "   [0.48754343]\n",
      "   [0.5618078 ]\n",
      "   [0.4576464 ]]\n",
      "\n",
      "  [[0.5875865 ]\n",
      "   [0.6362708 ]\n",
      "   [0.5902398 ]\n",
      "   ...\n",
      "   [0.46858108]\n",
      "   [0.5741834 ]\n",
      "   [0.49382943]]\n",
      "\n",
      "  ...\n",
      "\n",
      "  [[0.7448921 ]\n",
      "   [0.5185907 ]\n",
      "   [0.56467396]\n",
      "   ...\n",
      "   [0.488266  ]\n",
      "   [0.5247286 ]\n",
      "   [0.48043668]]\n",
      "\n",
      "  [[0.73183364]\n",
      "   [0.5178908 ]\n",
      "   [0.5575104 ]\n",
      "   ...\n",
      "   [0.5198136 ]\n",
      "   [0.5193629 ]\n",
      "   [0.48658037]]\n",
      "\n",
      "  [[0.7297393 ]\n",
      "   [0.53237855]\n",
      "   [0.56740326]\n",
      "   ...\n",
      "   [0.5416009 ]\n",
      "   [0.5228827 ]\n",
      "   [0.49894834]]]]\n",
      "\n",
      "y_train:\n",
      "(4251, 10)\n",
      "[[0 0 0 0 0 0 0 1 0 0]]\n",
      "\n",
      "y_val:\n",
      "[[0 0 1 0 0 0 0 0 0 0]]\n",
      "\n",
      "y_test:\n",
      "[[0 1 1 0 0 0 0 0 0 0]]\n"
     ]
    }
   ],
   "source": [
    "# check results\n",
    "\n",
    "print(\"X_train:\")\n",
    "print(X_train.shape)\n",
    "print(X_train[:1])\n",
    "print()\n",
    "print(\"X_val:\")\n",
    "print(X_val[:1])\n",
    "print()\n",
    "print(\"X_test:\")\n",
    "print(X_test[:1])\n",
    "print()\n",
    "print(\"y_train:\")\n",
    "print(y_train.shape)\n",
    "print(y_train[:1])\n",
    "print()\n",
    "print(\"y_val:\")\n",
    "print(y_val[:1])\n",
    "print()\n",
    "print(\"y_test:\")\n",
    "print(y_test[:1])"
   ]
  },
  {
   "cell_type": "markdown",
   "id": "dd20e544",
   "metadata": {},
   "source": [
    "##### Store the final data "
   ]
  },
  {
   "cell_type": "code",
   "execution_count": 33,
   "id": "78bef342",
   "metadata": {
    "execution": {
     "iopub.execute_input": "2023-05-15T22:24:28.302788Z",
     "iopub.status.busy": "2023-05-15T22:24:28.302584Z",
     "iopub.status.idle": "2023-05-15T22:24:28.880497Z",
     "shell.execute_reply": "2023-05-15T22:24:28.879001Z",
     "shell.execute_reply.started": "2023-05-15T22:24:28.302768Z"
    },
    "tags": []
   },
   "outputs": [],
   "source": [
    "# store the train, validation and test set of 30s MFCCs\n",
    "\n",
    "files = [X_train, X_val, X_test, y_train, y_val, y_test]\n",
    "\n",
    "file_names = ['X_train.npy',\n",
    "              'X_val.npy',\n",
    "              'X_test.npy',\n",
    "              'y_train.npy',\n",
    "              'y_val.npy',\n",
    "              'y_test.npy']\n",
    "\n",
    "for file, file_name in zip(files, file_names):\n",
    "    np.save(f'{file_name}', file)"
   ]
  },
  {
   "cell_type": "code",
   "execution_count": null,
   "id": "c27e9cb6-7f1f-4277-add7-19a02a1306da",
   "metadata": {
    "execution": {
     "iopub.execute_input": "2023-05-15T09:42:20.536589Z",
     "iopub.status.busy": "2023-05-15T09:42:20.535796Z"
    },
    "tags": []
   },
   "outputs": [],
   "source": [
    "# store the final dictionary\n",
    "with open('tracks_final_dict', 'wb') as file:\n",
    "    pickle.dump(tracks, file)"
   ]
  }
 ],
 "metadata": {
  "kernelspec": {
   "display_name": "Python 3 (ipykernel)",
   "language": "python",
   "name": "python3"
  },
  "language_info": {
   "codemirror_mode": {
    "name": "ipython",
    "version": 3
   },
   "file_extension": ".py",
   "mimetype": "text/x-python",
   "name": "python",
   "nbconvert_exporter": "python",
   "pygments_lexer": "ipython3",
   "version": "3.8.3"
  }
 },
 "nbformat": 4,
 "nbformat_minor": 5
}

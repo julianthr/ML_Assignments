{
 "cells": [
  {
   "cell_type": "code",
   "execution_count": 15,
   "metadata": {
    "execution": {
     "iopub.execute_input": "2023-05-16T17:22:37.647704Z",
     "iopub.status.busy": "2023-05-16T17:22:37.647048Z",
     "iopub.status.idle": "2023-05-16T17:22:37.657660Z",
     "shell.execute_reply": "2023-05-16T17:22:37.656751Z",
     "shell.execute_reply.started": "2023-05-16T17:22:37.647645Z"
    },
    "id": "fvUaGjR-tswe",
    "tags": []
   },
   "outputs": [],
   "source": [
    "import numpy as np\n",
    "import pandas as pd\n",
    "\n",
    "# for PCA\n",
    "from sklearn.decomposition import PCA\n",
    "\n",
    "# for SVM\n",
    "from sklearn.svm import LinearSVC\n",
    "from sklearn.svm import SVC\n",
    "from sklearn.multioutput import ClassifierChain, MultiOutputClassifier\n",
    "from sklearn.model_selection import GridSearchCV, ShuffleSplit\n",
    "from sklearn.metrics import make_scorer, roc_auc_score\n",
    "from sklearn.metrics import average_precision_score#, average_recall_score, average_f1_score\n",
    "from sklearn.metrics import precision_recall_fscore_support\n",
    "from sklearn.metrics import classification_report, multilabel_confusion_matrix\n",
    "from sklearn.preprocessing import MultiLabelBinarizer\n",
    "\n",
    "# save models\n",
    "import joblib\n",
    "from joblib import dump\n",
    "import shutil"
   ]
  },
  {
   "cell_type": "code",
   "execution_count": 2,
   "metadata": {
    "execution": {
     "iopub.execute_input": "2023-05-16T17:19:33.372238Z",
     "iopub.status.busy": "2023-05-16T17:19:33.371739Z",
     "iopub.status.idle": "2023-05-16T17:19:33.377467Z",
     "shell.execute_reply": "2023-05-16T17:19:33.375930Z",
     "shell.execute_reply.started": "2023-05-16T17:19:33.372202Z"
    },
    "tags": []
   },
   "outputs": [],
   "source": [
    "# define path where the training, validation and test data is\n",
    "root_path = \"\""
   ]
  },
  {
   "cell_type": "code",
   "execution_count": 3,
   "metadata": {
    "execution": {
     "iopub.execute_input": "2023-05-16T17:19:33.384077Z",
     "iopub.status.busy": "2023-05-16T17:19:33.383419Z",
     "iopub.status.idle": "2023-05-16T17:19:33.798909Z",
     "shell.execute_reply": "2023-05-16T17:19:33.798092Z",
     "shell.execute_reply.started": "2023-05-16T17:19:33.384030Z"
    },
    "id": "reJP6-pKtgVX",
    "tags": []
   },
   "outputs": [],
   "source": [
    "# load relevant training data\n",
    "X_train = np.load(\"X_train2.npy\")\n",
    "y_train = np.load(\"y_train2.npy\")\n",
    "\n",
    "# load relevant training data\n",
    "X_val = np.load(\"X_val2.npy\")\n",
    "y_val = np.load(\"y_val2.npy\")\n",
    "\n",
    "# load relevant test data\n",
    "X_test = np.load(\"X_test2.npy\")\n",
    "y_test = np.load(\"y_test2.npy\")"
   ]
  },
  {
   "cell_type": "code",
   "execution_count": 4,
   "metadata": {
    "colab": {
     "base_uri": "https://localhost:8080/"
    },
    "execution": {
     "iopub.execute_input": "2023-05-16T17:19:33.801292Z",
     "iopub.status.busy": "2023-05-16T17:19:33.801092Z",
     "iopub.status.idle": "2023-05-16T17:19:33.806833Z",
     "shell.execute_reply": "2023-05-16T17:19:33.805840Z",
     "shell.execute_reply.started": "2023-05-16T17:19:33.801273Z"
    },
    "id": "-r_cVW1Wv3Ve",
    "outputId": "99ad2fc0-9e2a-45e4-858d-d4ed6c9eb060",
    "tags": []
   },
   "outputs": [
    {
     "name": "stdout",
     "output_type": "stream",
     "text": [
      "Shape of X_train:  (4239, 1292, 20, 1) \n",
      "\n",
      "Shape of X_val:  (1413, 1292, 20, 1) \n",
      "\n",
      "Shape of X_test:  (1413, 1292, 20, 1) \n",
      "\n",
      "Shape of y_train:  (4239, 10) \n",
      "\n",
      "Shape of y_val:  (1413, 10) \n",
      "\n",
      "Shape of y_test:  (1413, 10) \n",
      "\n"
     ]
    }
   ],
   "source": [
    "# check shape of X\n",
    "print(\"Shape of X_train: \", X_train.shape, \"\\n\")\n",
    "print(\"Shape of X_val: \", X_val.shape, \"\\n\")\n",
    "print(\"Shape of X_test: \", X_test.shape, \"\\n\")\n",
    "\n",
    "# check shape of Y\n",
    "print(\"Shape of y_train: \", y_train.shape, \"\\n\")\n",
    "print(\"Shape of y_val: \", y_val.shape, \"\\n\")\n",
    "print(\"Shape of y_test: \", y_test.shape, \"\\n\")"
   ]
  },
  {
   "cell_type": "markdown",
   "metadata": {
    "execution": {
     "iopub.execute_input": "2023-05-16T15:35:48.616856Z",
     "iopub.status.busy": "2023-05-16T15:35:48.615928Z",
     "iopub.status.idle": "2023-05-16T15:35:48.627293Z",
     "shell.execute_reply": "2023-05-16T15:35:48.625988Z",
     "shell.execute_reply.started": "2023-05-16T15:35:48.616771Z"
    },
    "tags": []
   },
   "source": [
    "### Reshape features according to the model"
   ]
  },
  {
   "cell_type": "code",
   "execution_count": 5,
   "metadata": {
    "execution": {
     "iopub.execute_input": "2023-05-16T17:19:33.928362Z",
     "iopub.status.busy": "2023-05-16T17:19:33.928179Z",
     "iopub.status.idle": "2023-05-16T17:19:34.130958Z",
     "shell.execute_reply": "2023-05-16T17:19:34.129725Z",
     "shell.execute_reply.started": "2023-05-16T17:19:33.928344Z"
    },
    "id": "Zrfbf76EOB-d",
    "tags": []
   },
   "outputs": [],
   "source": [
    "# append validation data to training data because grid-search with cv is used\n",
    "X_train = np.append(X_train, X_val, axis=0)\n",
    "y_train = np.append(y_train, y_val, axis=0)"
   ]
  },
  {
   "cell_type": "code",
   "execution_count": 6,
   "metadata": {
    "execution": {
     "iopub.execute_input": "2023-05-16T17:19:34.503015Z",
     "iopub.status.busy": "2023-05-16T17:19:34.502298Z",
     "iopub.status.idle": "2023-05-16T17:19:34.510263Z",
     "shell.execute_reply": "2023-05-16T17:19:34.508808Z",
     "shell.execute_reply.started": "2023-05-16T17:19:34.502957Z"
    },
    "tags": []
   },
   "outputs": [
    {
     "name": "stdout",
     "output_type": "stream",
     "text": [
      "(5652, 1292, 20, 1)\n",
      "(5652, 10)\n"
     ]
    }
   ],
   "source": [
    "# check that append worked\n",
    "print(X_train.shape)\n",
    "print(y_train.shape)"
   ]
  },
  {
   "cell_type": "code",
   "execution_count": 7,
   "metadata": {
    "execution": {
     "iopub.execute_input": "2023-05-16T17:19:35.342763Z",
     "iopub.status.busy": "2023-05-16T17:19:35.342053Z",
     "iopub.status.idle": "2023-05-16T17:19:35.350836Z",
     "shell.execute_reply": "2023-05-16T17:19:35.349317Z",
     "shell.execute_reply.started": "2023-05-16T17:19:35.342667Z"
    },
    "id": "v8p_dlVUJOIC",
    "tags": []
   },
   "outputs": [],
   "source": [
    "# remove channel dimension of MFCCs by reshaping features\n",
    "X_train = X_train.reshape((X_train.shape[0], -1))\n",
    "X_test = X_test.reshape((X_test.shape[0], -1))"
   ]
  },
  {
   "cell_type": "code",
   "execution_count": 8,
   "metadata": {
    "execution": {
     "iopub.execute_input": "2023-05-16T17:19:35.634515Z",
     "iopub.status.busy": "2023-05-16T17:19:35.634130Z",
     "iopub.status.idle": "2023-05-16T17:19:35.639274Z",
     "shell.execute_reply": "2023-05-16T17:19:35.638591Z",
     "shell.execute_reply.started": "2023-05-16T17:19:35.634491Z"
    },
    "tags": []
   },
   "outputs": [
    {
     "name": "stdout",
     "output_type": "stream",
     "text": [
      "(5652, 25840)\n",
      "(1413, 25840)\n"
     ]
    }
   ],
   "source": [
    "# check that removal of channel dimension worked\n",
    "print(X_train.shape)\n",
    "print(X_test.shape)"
   ]
  },
  {
   "cell_type": "markdown",
   "metadata": {},
   "source": [
    "### PCA to reduce number of features"
   ]
  },
  {
   "cell_type": "code",
   "execution_count": 9,
   "metadata": {
    "execution": {
     "iopub.execute_input": "2023-05-16T17:19:38.836092Z",
     "iopub.status.busy": "2023-05-16T17:19:38.835428Z",
     "iopub.status.idle": "2023-05-16T17:21:24.157782Z",
     "shell.execute_reply": "2023-05-16T17:21:24.155722Z",
     "shell.execute_reply.started": "2023-05-16T17:19:38.836034Z"
    },
    "tags": []
   },
   "outputs": [],
   "source": [
    "# perform PCA on X to reduce amount of features\n",
    "# reduce to dimensionality so that 70% of variance is kept\n",
    "pca = PCA(n_components=0.7, random_state=42)\n",
    "X_pca_train = pca.fit_transform(X_train)"
   ]
  },
  {
   "cell_type": "code",
   "execution_count": 10,
   "metadata": {
    "execution": {
     "iopub.execute_input": "2023-05-16T17:21:24.177940Z",
     "iopub.status.busy": "2023-05-16T17:21:24.177750Z",
     "iopub.status.idle": "2023-05-16T17:21:24.183194Z",
     "shell.execute_reply": "2023-05-16T17:21:24.182578Z",
     "shell.execute_reply.started": "2023-05-16T17:21:24.177921Z"
    },
    "tags": []
   },
   "outputs": [
    {
     "data": {
      "text/plain": [
       "305"
      ]
     },
     "execution_count": 10,
     "metadata": {},
     "output_type": "execute_result"
    }
   ],
   "source": [
    "# check how many principal components are needed\n",
    "pca.n_components_"
   ]
  },
  {
   "cell_type": "code",
   "execution_count": 11,
   "metadata": {
    "execution": {
     "iopub.execute_input": "2023-05-16T17:21:24.184592Z",
     "iopub.status.busy": "2023-05-16T17:21:24.184416Z",
     "iopub.status.idle": "2023-05-16T17:21:24.457917Z",
     "shell.execute_reply": "2023-05-16T17:21:24.456399Z",
     "shell.execute_reply.started": "2023-05-16T17:21:24.184575Z"
    },
    "tags": []
   },
   "outputs": [],
   "source": [
    "# apply the trained PCA model on the test set as well\n",
    "X_pca_test = pca.transform(X_test)"
   ]
  },
  {
   "cell_type": "code",
   "execution_count": 12,
   "metadata": {
    "execution": {
     "iopub.execute_input": "2023-05-16T17:21:24.459909Z",
     "iopub.status.busy": "2023-05-16T17:21:24.459424Z",
     "iopub.status.idle": "2023-05-16T17:21:24.526867Z",
     "shell.execute_reply": "2023-05-16T17:21:24.523694Z",
     "shell.execute_reply.started": "2023-05-16T17:21:24.459864Z"
    },
    "tags": []
   },
   "outputs": [],
   "source": [
    "# change to original variable convention\n",
    "X_train = X_pca_train\n",
    "X_test = X_pca_test"
   ]
  },
  {
   "cell_type": "code",
   "execution_count": 13,
   "metadata": {
    "execution": {
     "iopub.execute_input": "2023-05-16T17:21:24.530071Z",
     "iopub.status.busy": "2023-05-16T17:21:24.529434Z",
     "iopub.status.idle": "2023-05-16T17:21:24.619984Z",
     "shell.execute_reply": "2023-05-16T17:21:24.618233Z",
     "shell.execute_reply.started": "2023-05-16T17:21:24.530022Z"
    },
    "tags": []
   },
   "outputs": [
    {
     "name": "stdout",
     "output_type": "stream",
     "text": [
      "(5652, 305)\n",
      "(1413, 305)\n"
     ]
    }
   ],
   "source": [
    "# check that PCA worked\n",
    "print(X_train.shape)\n",
    "print(X_test.shape)"
   ]
  },
  {
   "cell_type": "markdown",
   "metadata": {},
   "source": [
    "Performance of linear SVM"
   ]
  },
  {
   "cell_type": "code",
   "execution_count": 16,
   "metadata": {
    "execution": {
     "iopub.execute_input": "2023-05-16T17:22:45.256157Z",
     "iopub.status.busy": "2023-05-16T17:22:45.255489Z",
     "iopub.status.idle": "2023-05-16T17:22:45.266373Z",
     "shell.execute_reply": "2023-05-16T17:22:45.265459Z",
     "shell.execute_reply.started": "2023-05-16T17:22:45.256099Z"
    },
    "id": "4AJ7VCQRjizN",
    "tags": []
   },
   "outputs": [],
   "source": [
    "# define the linear SVM model\n",
    "svm = SVC(kernel='linear', class_weight='balanced', random_state=42)\n",
    "multi_svm = ClassifierChain(svm)\n",
    "\n",
    "# define the hyperparameter grid\n",
    "param_grid = {\n",
    "    'base_estimator__C':[2**-5, 2**-3, 2**-1, 2],\n",
    "}\n",
    "\n",
    "# define the scoring metric\n",
    "scorer = make_scorer(roc_auc_score, multi_class='ovr')\n",
    "\n",
    "# define the grid search\n",
    "grid = GridSearchCV(\n",
    "    multi_svm,\n",
    "    param_grid,\n",
    "    # cv=5,\n",
    "    cv=ShuffleSplit(test_size=0.25, n_splits=1),\n",
    "    scoring=scorer,\n",
    "    refit=True,\n",
    "    return_train_score=True,\n",
    "    verbose=3)"
   ]
  },
  {
   "cell_type": "code",
   "execution_count": 17,
   "metadata": {
    "execution": {
     "iopub.execute_input": "2023-05-16T17:22:47.943670Z",
     "iopub.status.busy": "2023-05-16T17:22:47.943016Z",
     "iopub.status.idle": "2023-05-16T17:27:32.199646Z",
     "shell.execute_reply": "2023-05-16T17:27:32.198949Z",
     "shell.execute_reply.started": "2023-05-16T17:22:47.943612Z"
    },
    "tags": []
   },
   "outputs": [
    {
     "name": "stdout",
     "output_type": "stream",
     "text": [
      "Fitting 1 folds for each of 4 candidates, totalling 4 fits\n",
      "[CV 1/1] END base_estimator__C=0.03125;, score=(train=0.650, test=0.561) total time=  20.5s\n",
      "[CV 1/1] END base_estimator__C=0.125;, score=(train=0.637, test=0.554) total time=  23.4s\n",
      "[CV 1/1] END base_estimator__C=0.5;, score=(train=0.640, test=0.550) total time=  42.6s\n",
      "[CV 1/1] END base_estimator__C=2;, score=(train=0.646, test=0.550) total time= 2.1min\n"
     ]
    },
    {
     "data": {
      "text/html": [
       "<style>#sk-container-id-1 {color: black;background-color: white;}#sk-container-id-1 pre{padding: 0;}#sk-container-id-1 div.sk-toggleable {background-color: white;}#sk-container-id-1 label.sk-toggleable__label {cursor: pointer;display: block;width: 100%;margin-bottom: 0;padding: 0.3em;box-sizing: border-box;text-align: center;}#sk-container-id-1 label.sk-toggleable__label-arrow:before {content: \"▸\";float: left;margin-right: 0.25em;color: #696969;}#sk-container-id-1 label.sk-toggleable__label-arrow:hover:before {color: black;}#sk-container-id-1 div.sk-estimator:hover label.sk-toggleable__label-arrow:before {color: black;}#sk-container-id-1 div.sk-toggleable__content {max-height: 0;max-width: 0;overflow: hidden;text-align: left;background-color: #f0f8ff;}#sk-container-id-1 div.sk-toggleable__content pre {margin: 0.2em;color: black;border-radius: 0.25em;background-color: #f0f8ff;}#sk-container-id-1 input.sk-toggleable__control:checked~div.sk-toggleable__content {max-height: 200px;max-width: 100%;overflow: auto;}#sk-container-id-1 input.sk-toggleable__control:checked~label.sk-toggleable__label-arrow:before {content: \"▾\";}#sk-container-id-1 div.sk-estimator input.sk-toggleable__control:checked~label.sk-toggleable__label {background-color: #d4ebff;}#sk-container-id-1 div.sk-label input.sk-toggleable__control:checked~label.sk-toggleable__label {background-color: #d4ebff;}#sk-container-id-1 input.sk-hidden--visually {border: 0;clip: rect(1px 1px 1px 1px);clip: rect(1px, 1px, 1px, 1px);height: 1px;margin: -1px;overflow: hidden;padding: 0;position: absolute;width: 1px;}#sk-container-id-1 div.sk-estimator {font-family: monospace;background-color: #f0f8ff;border: 1px dotted black;border-radius: 0.25em;box-sizing: border-box;margin-bottom: 0.5em;}#sk-container-id-1 div.sk-estimator:hover {background-color: #d4ebff;}#sk-container-id-1 div.sk-parallel-item::after {content: \"\";width: 100%;border-bottom: 1px solid gray;flex-grow: 1;}#sk-container-id-1 div.sk-label:hover label.sk-toggleable__label {background-color: #d4ebff;}#sk-container-id-1 div.sk-serial::before {content: \"\";position: absolute;border-left: 1px solid gray;box-sizing: border-box;top: 0;bottom: 0;left: 50%;z-index: 0;}#sk-container-id-1 div.sk-serial {display: flex;flex-direction: column;align-items: center;background-color: white;padding-right: 0.2em;padding-left: 0.2em;position: relative;}#sk-container-id-1 div.sk-item {position: relative;z-index: 1;}#sk-container-id-1 div.sk-parallel {display: flex;align-items: stretch;justify-content: center;background-color: white;position: relative;}#sk-container-id-1 div.sk-item::before, #sk-container-id-1 div.sk-parallel-item::before {content: \"\";position: absolute;border-left: 1px solid gray;box-sizing: border-box;top: 0;bottom: 0;left: 50%;z-index: -1;}#sk-container-id-1 div.sk-parallel-item {display: flex;flex-direction: column;z-index: 1;position: relative;background-color: white;}#sk-container-id-1 div.sk-parallel-item:first-child::after {align-self: flex-end;width: 50%;}#sk-container-id-1 div.sk-parallel-item:last-child::after {align-self: flex-start;width: 50%;}#sk-container-id-1 div.sk-parallel-item:only-child::after {width: 0;}#sk-container-id-1 div.sk-dashed-wrapped {border: 1px dashed gray;margin: 0 0.4em 0.5em 0.4em;box-sizing: border-box;padding-bottom: 0.4em;background-color: white;}#sk-container-id-1 div.sk-label label {font-family: monospace;font-weight: bold;display: inline-block;line-height: 1.2em;}#sk-container-id-1 div.sk-label-container {text-align: center;}#sk-container-id-1 div.sk-container {/* jupyter's `normalize.less` sets `[hidden] { display: none; }` but bootstrap.min.css set `[hidden] { display: none !important; }` so we also need the `!important` here to be able to override the default hidden behavior on the sphinx rendered scikit-learn.org. See: https://github.com/scikit-learn/scikit-learn/issues/21755 */display: inline-block !important;position: relative;}#sk-container-id-1 div.sk-text-repr-fallback {display: none;}</style><div id=\"sk-container-id-1\" class=\"sk-top-container\"><div class=\"sk-text-repr-fallback\"><pre>GridSearchCV(cv=ShuffleSplit(n_splits=1, random_state=None, test_size=0.25, train_size=None),\n",
       "             estimator=ClassifierChain(base_estimator=SVC(class_weight=&#x27;balanced&#x27;,\n",
       "                                                          kernel=&#x27;linear&#x27;,\n",
       "                                                          random_state=42)),\n",
       "             param_grid={&#x27;base_estimator__C&#x27;: [0.03125, 0.125, 0.5, 2]},\n",
       "             return_train_score=True,\n",
       "             scoring=make_scorer(roc_auc_score, multi_class=ovr), verbose=3)</pre><b>In a Jupyter environment, please rerun this cell to show the HTML representation or trust the notebook. <br />On GitHub, the HTML representation is unable to render, please try loading this page with nbviewer.org.</b></div><div class=\"sk-container\" hidden><div class=\"sk-item sk-dashed-wrapped\"><div class=\"sk-label-container\"><div class=\"sk-label sk-toggleable\"><input class=\"sk-toggleable__control sk-hidden--visually\" id=\"sk-estimator-id-1\" type=\"checkbox\" ><label for=\"sk-estimator-id-1\" class=\"sk-toggleable__label sk-toggleable__label-arrow\">GridSearchCV</label><div class=\"sk-toggleable__content\"><pre>GridSearchCV(cv=ShuffleSplit(n_splits=1, random_state=None, test_size=0.25, train_size=None),\n",
       "             estimator=ClassifierChain(base_estimator=SVC(class_weight=&#x27;balanced&#x27;,\n",
       "                                                          kernel=&#x27;linear&#x27;,\n",
       "                                                          random_state=42)),\n",
       "             param_grid={&#x27;base_estimator__C&#x27;: [0.03125, 0.125, 0.5, 2]},\n",
       "             return_train_score=True,\n",
       "             scoring=make_scorer(roc_auc_score, multi_class=ovr), verbose=3)</pre></div></div></div><div class=\"sk-parallel\"><div class=\"sk-parallel-item\"><div class=\"sk-item\"><div class=\"sk-label-container\"><div class=\"sk-label sk-toggleable\"><input class=\"sk-toggleable__control sk-hidden--visually\" id=\"sk-estimator-id-2\" type=\"checkbox\" ><label for=\"sk-estimator-id-2\" class=\"sk-toggleable__label sk-toggleable__label-arrow\">estimator: ClassifierChain</label><div class=\"sk-toggleable__content\"><pre>ClassifierChain(base_estimator=SVC(class_weight=&#x27;balanced&#x27;, kernel=&#x27;linear&#x27;,\n",
       "                                   random_state=42))</pre></div></div></div><div class=\"sk-serial\"><div class=\"sk-item sk-dashed-wrapped\"><div class=\"sk-parallel\"><div class=\"sk-parallel-item\"><div class=\"sk-item\"><div class=\"sk-label-container\"><div class=\"sk-label sk-toggleable\"><input class=\"sk-toggleable__control sk-hidden--visually\" id=\"sk-estimator-id-3\" type=\"checkbox\" ><label for=\"sk-estimator-id-3\" class=\"sk-toggleable__label sk-toggleable__label-arrow\">base_estimator: SVC</label><div class=\"sk-toggleable__content\"><pre>SVC(class_weight=&#x27;balanced&#x27;, kernel=&#x27;linear&#x27;, random_state=42)</pre></div></div></div><div class=\"sk-serial\"><div class=\"sk-item\"><div class=\"sk-estimator sk-toggleable\"><input class=\"sk-toggleable__control sk-hidden--visually\" id=\"sk-estimator-id-4\" type=\"checkbox\" ><label for=\"sk-estimator-id-4\" class=\"sk-toggleable__label sk-toggleable__label-arrow\">SVC</label><div class=\"sk-toggleable__content\"><pre>SVC(class_weight=&#x27;balanced&#x27;, kernel=&#x27;linear&#x27;, random_state=42)</pre></div></div></div></div></div></div></div></div></div></div></div></div></div></div></div>"
      ],
      "text/plain": [
       "GridSearchCV(cv=ShuffleSplit(n_splits=1, random_state=None, test_size=0.25, train_size=None),\n",
       "             estimator=ClassifierChain(base_estimator=SVC(class_weight='balanced',\n",
       "                                                          kernel='linear',\n",
       "                                                          random_state=42)),\n",
       "             param_grid={'base_estimator__C': [0.03125, 0.125, 0.5, 2]},\n",
       "             return_train_score=True,\n",
       "             scoring=make_scorer(roc_auc_score, multi_class=ovr), verbose=3)"
      ]
     },
     "execution_count": 17,
     "metadata": {},
     "output_type": "execute_result"
    }
   ],
   "source": [
    "# train the SVMs\n",
    "grid.fit(X_train, y_train)"
   ]
  },
  {
   "cell_type": "code",
   "execution_count": 19,
   "metadata": {
    "execution": {
     "iopub.execute_input": "2023-05-16T17:29:01.127267Z",
     "iopub.status.busy": "2023-05-16T17:29:01.126601Z",
     "iopub.status.idle": "2023-05-16T17:29:01.144487Z",
     "shell.execute_reply": "2023-05-16T17:29:01.143703Z",
     "shell.execute_reply.started": "2023-05-16T17:29:01.127208Z"
    },
    "tags": []
   },
   "outputs": [
    {
     "data": {
      "text/html": [
       "<div>\n",
       "<style scoped>\n",
       "    .dataframe tbody tr th:only-of-type {\n",
       "        vertical-align: middle;\n",
       "    }\n",
       "\n",
       "    .dataframe tbody tr th {\n",
       "        vertical-align: top;\n",
       "    }\n",
       "\n",
       "    .dataframe thead th {\n",
       "        text-align: right;\n",
       "    }\n",
       "</style>\n",
       "<table border=\"1\" class=\"dataframe\">\n",
       "  <thead>\n",
       "    <tr style=\"text-align: right;\">\n",
       "      <th></th>\n",
       "      <th>base_estimator__C</th>\n",
       "      <th>Training Mean AUC</th>\n",
       "      <th>Validation Mean AUC</th>\n",
       "    </tr>\n",
       "  </thead>\n",
       "  <tbody>\n",
       "    <tr>\n",
       "      <th>0</th>\n",
       "      <td>0.03125</td>\n",
       "      <td>0.649891</td>\n",
       "      <td>0.560581</td>\n",
       "    </tr>\n",
       "    <tr>\n",
       "      <th>1</th>\n",
       "      <td>0.12500</td>\n",
       "      <td>0.636601</td>\n",
       "      <td>0.554020</td>\n",
       "    </tr>\n",
       "    <tr>\n",
       "      <th>2</th>\n",
       "      <td>0.50000</td>\n",
       "      <td>0.640247</td>\n",
       "      <td>0.549721</td>\n",
       "    </tr>\n",
       "    <tr>\n",
       "      <th>3</th>\n",
       "      <td>2.00000</td>\n",
       "      <td>0.645924</td>\n",
       "      <td>0.549617</td>\n",
       "    </tr>\n",
       "  </tbody>\n",
       "</table>\n",
       "</div>"
      ],
      "text/plain": [
       "   base_estimator__C  Training Mean AUC  Validation Mean AUC\n",
       "0            0.03125           0.649891             0.560581\n",
       "1            0.12500           0.636601             0.554020\n",
       "2            0.50000           0.640247             0.549721\n",
       "3            2.00000           0.645924             0.549617"
      ]
     },
     "execution_count": 19,
     "metadata": {},
     "output_type": "execute_result"
    }
   ],
   "source": [
    "# check performance of the models\n",
    "pd.concat([pd.DataFrame(grid.cv_results_[\"params\"]),pd.DataFrame(grid.cv_results_[\"mean_train_score\"], columns=[\"Training Mean AUC\"]),pd.DataFrame(grid.cv_results_[\"mean_test_score\"], columns=[\"Validation Mean AUC\"])], axis=1)"
   ]
  },
  {
   "cell_type": "code",
   "execution_count": 20,
   "metadata": {
    "execution": {
     "iopub.execute_input": "2023-05-16T17:29:04.456401Z",
     "iopub.status.busy": "2023-05-16T17:29:04.455747Z",
     "iopub.status.idle": "2023-05-16T17:29:04.463778Z",
     "shell.execute_reply": "2023-05-16T17:29:04.462602Z",
     "shell.execute_reply.started": "2023-05-16T17:29:04.456332Z"
    },
    "tags": []
   },
   "outputs": [
    {
     "name": "stdout",
     "output_type": "stream",
     "text": [
      "Best Hyperparameters:  {'base_estimator__C': 0.03125}\n"
     ]
    }
   ],
   "source": [
    "# print the best hyperparameters\n",
    "print('Best Hyperparameters: ', grid.best_params_)"
   ]
  },
  {
   "cell_type": "code",
   "execution_count": 21,
   "metadata": {
    "execution": {
     "iopub.execute_input": "2023-05-16T17:29:07.400552Z",
     "iopub.status.busy": "2023-05-16T17:29:07.399911Z",
     "iopub.status.idle": "2023-05-16T17:29:07.407111Z",
     "shell.execute_reply": "2023-05-16T17:29:07.405761Z",
     "shell.execute_reply.started": "2023-05-16T17:29:07.400495Z"
    },
    "tags": []
   },
   "outputs": [],
   "source": [
    "# save the best model\n",
    "# dump(grid, 'svm_linear.joblib') # without zip\n",
    "# shutil.make_archive('svm_linear', 'zip', '.', 'svm_linear.joblib') # with zip"
   ]
  },
  {
   "cell_type": "code",
   "execution_count": 22,
   "metadata": {
    "execution": {
     "iopub.execute_input": "2023-05-16T17:29:07.706423Z",
     "iopub.status.busy": "2023-05-16T17:29:07.706045Z",
     "iopub.status.idle": "2023-05-16T17:29:07.710559Z",
     "shell.execute_reply": "2023-05-16T17:29:07.709711Z",
     "shell.execute_reply.started": "2023-05-16T17:29:07.706399Z"
    },
    "tags": []
   },
   "outputs": [],
   "source": [
    "# load the model if already trained\n",
    "# grid = joblib.load('svm_linear.joblib')"
   ]
  },
  {
   "cell_type": "code",
   "execution_count": 23,
   "metadata": {
    "execution": {
     "iopub.execute_input": "2023-05-16T17:29:08.821072Z",
     "iopub.status.busy": "2023-05-16T17:29:08.820479Z",
     "iopub.status.idle": "2023-05-16T17:29:13.945454Z",
     "shell.execute_reply": "2023-05-16T17:29:13.944425Z",
     "shell.execute_reply.started": "2023-05-16T17:29:08.821017Z"
    },
    "tags": []
   },
   "outputs": [],
   "source": [
    "# make predictions on the test set\n",
    "y_pred = grid.predict(X_test)"
   ]
  },
  {
   "cell_type": "code",
   "execution_count": 24,
   "metadata": {
    "execution": {
     "iopub.execute_input": "2023-05-16T17:29:21.686680Z",
     "iopub.status.busy": "2023-05-16T17:29:21.686036Z",
     "iopub.status.idle": "2023-05-16T17:29:21.697337Z",
     "shell.execute_reply": "2023-05-16T17:29:21.696189Z",
     "shell.execute_reply.started": "2023-05-16T17:29:21.686622Z"
    },
    "tags": []
   },
   "outputs": [
    {
     "data": {
      "text/plain": [
       "array([[0., 0., 0., 1., 1., 0., 1., 0., 0., 1.],\n",
       "       [0., 0., 0., 0., 1., 0., 1., 0., 0., 1.],\n",
       "       [0., 1., 0., 0., 0., 0., 0., 0., 0., 1.],\n",
       "       [1., 0., 0., 0., 0., 0., 0., 1., 0., 0.],\n",
       "       [1., 0., 0., 1., 0., 0., 0., 1., 0., 0.]])"
      ]
     },
     "execution_count": 24,
     "metadata": {},
     "output_type": "execute_result"
    }
   ],
   "source": [
    "# check predictions \n",
    "y_pred[:5]"
   ]
  },
  {
   "cell_type": "code",
   "execution_count": 25,
   "metadata": {
    "execution": {
     "iopub.execute_input": "2023-05-16T17:29:23.029034Z",
     "iopub.status.busy": "2023-05-16T17:29:23.028442Z",
     "iopub.status.idle": "2023-05-16T17:29:23.047856Z",
     "shell.execute_reply": "2023-05-16T17:29:23.046879Z",
     "shell.execute_reply.started": "2023-05-16T17:29:23.028979Z"
    },
    "tags": []
   },
   "outputs": [],
   "source": [
    "# get results from the test set\n",
    "auc_score = roc_auc_score(y_test, y_pred)"
   ]
  },
  {
   "cell_type": "code",
   "execution_count": 26,
   "metadata": {
    "execution": {
     "iopub.execute_input": "2023-05-16T17:29:26.349704Z",
     "iopub.status.busy": "2023-05-16T17:29:26.349064Z",
     "iopub.status.idle": "2023-05-16T17:29:26.356982Z",
     "shell.execute_reply": "2023-05-16T17:29:26.355563Z",
     "shell.execute_reply.started": "2023-05-16T17:29:26.349646Z"
    },
    "tags": []
   },
   "outputs": [
    {
     "name": "stdout",
     "output_type": "stream",
     "text": [
      "AUC: : 0.5565569688041891\n"
     ]
    }
   ],
   "source": [
    "# print the results\n",
    "print(\"AUC: :\", auc_score)"
   ]
  },
  {
   "cell_type": "code",
   "execution_count": 28,
   "metadata": {
    "execution": {
     "iopub.execute_input": "2023-05-16T17:29:32.375676Z",
     "iopub.status.busy": "2023-05-16T17:29:32.374890Z",
     "iopub.status.idle": "2023-05-16T17:29:32.398685Z",
     "shell.execute_reply": "2023-05-16T17:29:32.397931Z",
     "shell.execute_reply.started": "2023-05-16T17:29:32.375615Z"
    },
    "tags": []
   },
   "outputs": [
    {
     "name": "stdout",
     "output_type": "stream",
     "text": [
      "              precision    recall  f1-score   support\n",
      "\n",
      "           0       0.13      0.59      0.21        96\n",
      "           1       0.33      0.68      0.45       259\n",
      "           2       0.29      0.25      0.27       334\n",
      "           3       0.03      0.17      0.05        40\n",
      "           4       0.18      0.35      0.23       179\n",
      "           5       0.13      0.05      0.07       193\n",
      "           6       0.11      0.31      0.16       132\n",
      "           7       0.30      0.37      0.33       268\n",
      "           8       0.29      0.05      0.08       150\n",
      "           9       0.10      0.31      0.16       132\n",
      "\n",
      "   micro avg       0.19      0.33      0.24      1783\n",
      "   macro avg       0.19      0.31      0.20      1783\n",
      "weighted avg       0.23      0.33      0.24      1783\n",
      " samples avg       0.22      0.33      0.24      1783\n",
      "\n"
     ]
    }
   ],
   "source": [
    "print(classification_report(y_test, y_pred))"
   ]
  },
  {
   "cell_type": "markdown",
   "metadata": {},
   "source": [
    "### Performance of RBF kernel"
   ]
  },
  {
   "cell_type": "code",
   "execution_count": 31,
   "metadata": {
    "execution": {
     "iopub.execute_input": "2023-05-16T17:30:16.297499Z",
     "iopub.status.busy": "2023-05-16T17:30:16.296850Z",
     "iopub.status.idle": "2023-05-16T17:30:16.308031Z",
     "shell.execute_reply": "2023-05-16T17:30:16.306795Z",
     "shell.execute_reply.started": "2023-05-16T17:30:16.297442Z"
    },
    "id": "4AJ7VCQRjizN",
    "tags": []
   },
   "outputs": [],
   "source": [
    "# define the SVM model with RBF kernel\n",
    "svm = SVC(kernel='rbf', class_weight='balanced', random_state=42)\n",
    "multi_svm = ClassifierChain(svm)\n",
    "\n",
    "# define the hyperparameter grid\n",
    "param_grid = {\n",
    "    # 'base_estimator__C':[2**-5, 2**-3, 2**-1, 2],\n",
    "    'base_estimator__C':[2**-5, 2**-3],\n",
    "    'base_estimator__gamma':[2**-15,2**-9,2**-3,2**-1]\n",
    "}\n",
    "\n",
    "# define the scoring metric\n",
    "scorer = make_scorer(roc_auc_score, multi_class='ovr')\n",
    "\n",
    "# define the grid search\n",
    "grid = GridSearchCV(\n",
    "    multi_svm,\n",
    "    param_grid,\n",
    "    # cv=5,\n",
    "    cv=ShuffleSplit(test_size=0.25, n_splits=1),\n",
    "    scoring=scorer,\n",
    "    refit=True,\n",
    "    return_train_score=True,\n",
    "    verbose=3)"
   ]
  },
  {
   "cell_type": "code",
   "execution_count": null,
   "metadata": {
    "execution": {
     "iopub.execute_input": "2023-05-16T17:30:19.430574Z",
     "iopub.status.busy": "2023-05-16T17:30:19.429937Z"
    },
    "tags": []
   },
   "outputs": [
    {
     "name": "stdout",
     "output_type": "stream",
     "text": [
      "Fitting 1 folds for each of 16 candidates, totalling 16 fits\n",
      "[CV 1/1] END base_estimator__C=0.03125, base_estimator__gamma=3.0517578125e-05;, score=(train=0.500, test=0.500) total time=  41.5s\n",
      "[CV 1/1] END base_estimator__C=0.03125, base_estimator__gamma=0.001953125;, score=(train=0.618, test=0.625) total time=  37.7s\n",
      "[CV 1/1] END base_estimator__C=0.03125, base_estimator__gamma=0.125;, score=(train=0.500, test=0.500) total time=  35.6s\n",
      "[CV 1/1] END base_estimator__C=0.03125, base_estimator__gamma=0.5;, score=(train=0.500, test=0.500) total time=  34.8s\n",
      "[CV 1/1] END base_estimator__C=0.125, base_estimator__gamma=3.0517578125e-05;, score=(train=0.527, test=0.527) total time=  36.6s\n"
     ]
    }
   ],
   "source": [
    "# train the SVMs\n",
    "grid.fit(X_train, y_train)"
   ]
  },
  {
   "cell_type": "code",
   "execution_count": null,
   "metadata": {
    "tags": []
   },
   "outputs": [],
   "source": [
    "# check the models\n",
    "pd.concat([pd.DataFrame(grid.cv_results_[\"params\"]),pd.DataFrame(grid.cv_results_[\"mean_train_score\"], columns=[\"Training Mean AUC\"]),pd.DataFrame(grid.cv_results_[\"mean_test_score\"], columns=[\"Validation Mean AUC\"])], axis=1)"
   ]
  },
  {
   "cell_type": "code",
   "execution_count": null,
   "metadata": {
    "tags": []
   },
   "outputs": [],
   "source": [
    "# print the best hyperparameters\n",
    "print('Best Hyperparameters: ', grid.best_params_)"
   ]
  },
  {
   "cell_type": "code",
   "execution_count": null,
   "metadata": {},
   "outputs": [],
   "source": [
    "# save the best model\n",
    "# dump(grid, 'svm_linear.joblib') # without zip\n",
    "# shutil.make_archive('svm_linear', 'zip', '.', 'svm_linear.joblib') # with zip"
   ]
  },
  {
   "cell_type": "code",
   "execution_count": 16,
   "metadata": {
    "execution": {
     "iopub.execute_input": "2023-05-16T14:24:34.591286Z",
     "iopub.status.busy": "2023-05-16T14:24:34.590918Z",
     "iopub.status.idle": "2023-05-16T14:24:34.630597Z",
     "shell.execute_reply": "2023-05-16T14:24:34.629200Z",
     "shell.execute_reply.started": "2023-05-16T14:24:34.591260Z"
    },
    "tags": []
   },
   "outputs": [],
   "source": [
    "# load the model if already trained\n",
    "# grid = joblib.load('svm_linear.joblib')"
   ]
  },
  {
   "cell_type": "code",
   "execution_count": 76,
   "metadata": {
    "execution": {
     "iopub.execute_input": "2023-05-16T16:26:07.447278Z",
     "iopub.status.busy": "2023-05-16T16:26:07.446545Z",
     "iopub.status.idle": "2023-05-16T16:26:09.063306Z",
     "shell.execute_reply": "2023-05-16T16:26:09.062499Z",
     "shell.execute_reply.started": "2023-05-16T16:26:07.447221Z"
    },
    "tags": []
   },
   "outputs": [],
   "source": [
    "# make predictions on the test set\n",
    "y_pred = grid.predict(X_test)"
   ]
  },
  {
   "cell_type": "code",
   "execution_count": 82,
   "metadata": {
    "execution": {
     "iopub.execute_input": "2023-05-16T16:27:31.306033Z",
     "iopub.status.busy": "2023-05-16T16:27:31.305363Z",
     "iopub.status.idle": "2023-05-16T16:27:31.315136Z",
     "shell.execute_reply": "2023-05-16T16:27:31.313955Z",
     "shell.execute_reply.started": "2023-05-16T16:27:31.305975Z"
    },
    "tags": []
   },
   "outputs": [
    {
     "data": {
      "text/plain": [
       "array([4, 9, 7, ..., 4, 1, 5])"
      ]
     },
     "execution_count": 82,
     "metadata": {},
     "output_type": "execute_result"
    }
   ],
   "source": [
    "# check predictions \n",
    "y_pred[:5]"
   ]
  },
  {
   "cell_type": "code",
   "execution_count": 79,
   "metadata": {
    "execution": {
     "iopub.execute_input": "2023-05-16T16:26:58.300908Z",
     "iopub.status.busy": "2023-05-16T16:26:58.300233Z",
     "iopub.status.idle": "2023-05-16T16:26:58.377377Z",
     "shell.execute_reply": "2023-05-16T16:26:58.376283Z",
     "shell.execute_reply.started": "2023-05-16T16:26:58.300850Z"
    },
    "tags": []
   },
   "outputs": [
    {
     "ename": "AxisError",
     "evalue": "axis 1 is out of bounds for array of dimension 1",
     "output_type": "error",
     "traceback": [
      "\u001b[0;31m---------------------------------------------------------------------------\u001b[0m",
      "\u001b[0;31mAxisError\u001b[0m                                 Traceback (most recent call last)",
      "Cell \u001b[0;32mIn[79], line 2\u001b[0m\n\u001b[1;32m      1\u001b[0m \u001b[38;5;66;03m# get results from the test set\u001b[39;00m\n\u001b[0;32m----> 2\u001b[0m auc_score \u001b[38;5;241m=\u001b[39m \u001b[43mroc_auc_score\u001b[49m\u001b[43m(\u001b[49m\u001b[43my_train_indexed\u001b[49m\u001b[43m,\u001b[49m\u001b[43m \u001b[49m\u001b[43my_pred\u001b[49m\u001b[43m,\u001b[49m\u001b[43m \u001b[49m\u001b[43mmulti_class\u001b[49m\u001b[38;5;241;43m=\u001b[39;49m\u001b[38;5;124;43m\"\u001b[39;49m\u001b[38;5;124;43movo\u001b[39;49m\u001b[38;5;124;43m\"\u001b[39;49m\u001b[43m)\u001b[49m\n",
      "File \u001b[0;32m/opt/conda/lib/python3.10/site-packages/sklearn/metrics/_ranking.py:566\u001b[0m, in \u001b[0;36mroc_auc_score\u001b[0;34m(y_true, y_score, average, sample_weight, max_fpr, multi_class, labels)\u001b[0m\n\u001b[1;32m    564\u001b[0m     \u001b[38;5;28;01mif\u001b[39;00m multi_class \u001b[38;5;241m==\u001b[39m \u001b[38;5;124m\"\u001b[39m\u001b[38;5;124mraise\u001b[39m\u001b[38;5;124m\"\u001b[39m:\n\u001b[1;32m    565\u001b[0m         \u001b[38;5;28;01mraise\u001b[39;00m \u001b[38;5;167;01mValueError\u001b[39;00m(\u001b[38;5;124m\"\u001b[39m\u001b[38;5;124mmulti_class must be in (\u001b[39m\u001b[38;5;124m'\u001b[39m\u001b[38;5;124movo\u001b[39m\u001b[38;5;124m'\u001b[39m\u001b[38;5;124m, \u001b[39m\u001b[38;5;124m'\u001b[39m\u001b[38;5;124movr\u001b[39m\u001b[38;5;124m'\u001b[39m\u001b[38;5;124m)\u001b[39m\u001b[38;5;124m\"\u001b[39m)\n\u001b[0;32m--> 566\u001b[0m     \u001b[38;5;28;01mreturn\u001b[39;00m \u001b[43m_multiclass_roc_auc_score\u001b[49m\u001b[43m(\u001b[49m\n\u001b[1;32m    567\u001b[0m \u001b[43m        \u001b[49m\u001b[43my_true\u001b[49m\u001b[43m,\u001b[49m\u001b[43m \u001b[49m\u001b[43my_score\u001b[49m\u001b[43m,\u001b[49m\u001b[43m \u001b[49m\u001b[43mlabels\u001b[49m\u001b[43m,\u001b[49m\u001b[43m \u001b[49m\u001b[43mmulti_class\u001b[49m\u001b[43m,\u001b[49m\u001b[43m \u001b[49m\u001b[43maverage\u001b[49m\u001b[43m,\u001b[49m\u001b[43m \u001b[49m\u001b[43msample_weight\u001b[49m\n\u001b[1;32m    568\u001b[0m \u001b[43m    \u001b[49m\u001b[43m)\u001b[49m\n\u001b[1;32m    569\u001b[0m \u001b[38;5;28;01melif\u001b[39;00m y_type \u001b[38;5;241m==\u001b[39m \u001b[38;5;124m\"\u001b[39m\u001b[38;5;124mbinary\u001b[39m\u001b[38;5;124m\"\u001b[39m:\n\u001b[1;32m    570\u001b[0m     labels \u001b[38;5;241m=\u001b[39m np\u001b[38;5;241m.\u001b[39munique(y_true)\n",
      "File \u001b[0;32m/opt/conda/lib/python3.10/site-packages/sklearn/metrics/_ranking.py:638\u001b[0m, in \u001b[0;36m_multiclass_roc_auc_score\u001b[0;34m(y_true, y_score, labels, multi_class, average, sample_weight)\u001b[0m\n\u001b[1;32m    592\u001b[0m \u001b[38;5;250m\u001b[39m\u001b[38;5;124;03m\"\"\"Multiclass roc auc score.\u001b[39;00m\n\u001b[1;32m    593\u001b[0m \n\u001b[1;32m    594\u001b[0m \u001b[38;5;124;03mParameters\u001b[39;00m\n\u001b[0;32m   (...)\u001b[0m\n\u001b[1;32m    635\u001b[0m \n\u001b[1;32m    636\u001b[0m \u001b[38;5;124;03m\"\"\"\u001b[39;00m\n\u001b[1;32m    637\u001b[0m \u001b[38;5;66;03m# validation of the input y_score\u001b[39;00m\n\u001b[0;32m--> 638\u001b[0m \u001b[38;5;28;01mif\u001b[39;00m \u001b[38;5;129;01mnot\u001b[39;00m np\u001b[38;5;241m.\u001b[39mallclose(\u001b[38;5;241m1\u001b[39m, \u001b[43my_score\u001b[49m\u001b[38;5;241;43m.\u001b[39;49m\u001b[43msum\u001b[49m\u001b[43m(\u001b[49m\u001b[43maxis\u001b[49m\u001b[38;5;241;43m=\u001b[39;49m\u001b[38;5;241;43m1\u001b[39;49m\u001b[43m)\u001b[49m):\n\u001b[1;32m    639\u001b[0m     \u001b[38;5;28;01mraise\u001b[39;00m \u001b[38;5;167;01mValueError\u001b[39;00m(\n\u001b[1;32m    640\u001b[0m         \u001b[38;5;124m\"\u001b[39m\u001b[38;5;124mTarget scores need to be probabilities for multiclass \u001b[39m\u001b[38;5;124m\"\u001b[39m\n\u001b[1;32m    641\u001b[0m         \u001b[38;5;124m\"\u001b[39m\u001b[38;5;124mroc_auc, i.e. they should sum up to 1.0 over classes\u001b[39m\u001b[38;5;124m\"\u001b[39m\n\u001b[1;32m    642\u001b[0m     )\n\u001b[1;32m    644\u001b[0m \u001b[38;5;66;03m# validation for multiclass parameter specifications\u001b[39;00m\n",
      "File \u001b[0;32m/opt/conda/lib/python3.10/site-packages/numpy/core/_methods.py:49\u001b[0m, in \u001b[0;36m_sum\u001b[0;34m(a, axis, dtype, out, keepdims, initial, where)\u001b[0m\n\u001b[1;32m     47\u001b[0m \u001b[38;5;28;01mdef\u001b[39;00m \u001b[38;5;21m_sum\u001b[39m(a, axis\u001b[38;5;241m=\u001b[39m\u001b[38;5;28;01mNone\u001b[39;00m, dtype\u001b[38;5;241m=\u001b[39m\u001b[38;5;28;01mNone\u001b[39;00m, out\u001b[38;5;241m=\u001b[39m\u001b[38;5;28;01mNone\u001b[39;00m, keepdims\u001b[38;5;241m=\u001b[39m\u001b[38;5;28;01mFalse\u001b[39;00m,\n\u001b[1;32m     48\u001b[0m          initial\u001b[38;5;241m=\u001b[39m_NoValue, where\u001b[38;5;241m=\u001b[39m\u001b[38;5;28;01mTrue\u001b[39;00m):\n\u001b[0;32m---> 49\u001b[0m     \u001b[38;5;28;01mreturn\u001b[39;00m \u001b[43mumr_sum\u001b[49m\u001b[43m(\u001b[49m\u001b[43ma\u001b[49m\u001b[43m,\u001b[49m\u001b[43m \u001b[49m\u001b[43maxis\u001b[49m\u001b[43m,\u001b[49m\u001b[43m \u001b[49m\u001b[43mdtype\u001b[49m\u001b[43m,\u001b[49m\u001b[43m \u001b[49m\u001b[43mout\u001b[49m\u001b[43m,\u001b[49m\u001b[43m \u001b[49m\u001b[43mkeepdims\u001b[49m\u001b[43m,\u001b[49m\u001b[43m \u001b[49m\u001b[43minitial\u001b[49m\u001b[43m,\u001b[49m\u001b[43m \u001b[49m\u001b[43mwhere\u001b[49m\u001b[43m)\u001b[49m\n",
      "\u001b[0;31mAxisError\u001b[0m: axis 1 is out of bounds for array of dimension 1"
     ]
    }
   ],
   "source": [
    "# get results from the test set\n",
    "auc_score = roc_auc_score(y_test, y_pred)"
   ]
  },
  {
   "cell_type": "code",
   "execution_count": 74,
   "metadata": {
    "execution": {
     "iopub.execute_input": "2023-05-16T16:25:58.434750Z",
     "iopub.status.busy": "2023-05-16T16:25:58.434087Z",
     "iopub.status.idle": "2023-05-16T16:25:58.441914Z",
     "shell.execute_reply": "2023-05-16T16:25:58.440638Z",
     "shell.execute_reply.started": "2023-05-16T16:25:58.434679Z"
    },
    "tags": []
   },
   "outputs": [
    {
     "name": "stdout",
     "output_type": "stream",
     "text": [
      "AUC: : 0.6182190633495556\n"
     ]
    }
   ],
   "source": [
    "# print the results\n",
    "print(\"AUC: :\", auc_score)"
   ]
  },
  {
   "cell_type": "code",
   "execution_count": 36,
   "metadata": {
    "execution": {
     "iopub.execute_input": "2023-05-16T16:04:53.449950Z",
     "iopub.status.busy": "2023-05-16T16:04:53.449277Z",
     "iopub.status.idle": "2023-05-16T16:04:53.484363Z",
     "shell.execute_reply": "2023-05-16T16:04:53.483645Z",
     "shell.execute_reply.started": "2023-05-16T16:04:53.449893Z"
    },
    "tags": []
   },
   "outputs": [
    {
     "name": "stdout",
     "output_type": "stream",
     "text": [
      "              precision    recall  f1-score   support\n",
      "\n",
      "           0       0.11      0.53      0.19       361\n",
      "           1       0.34      0.77      0.47      1088\n",
      "           2       0.30      0.75      0.43      1314\n",
      "           3       0.06      0.30      0.09       176\n",
      "           4       0.19      0.43      0.26       692\n",
      "           5       0.18      0.43      0.26       716\n",
      "           6       0.11      0.82      0.20       497\n",
      "           7       0.34      0.68      0.45      1081\n",
      "           8       0.18      0.58      0.28       599\n",
      "           9       0.13      0.68      0.22       561\n",
      "\n",
      "   micro avg       0.20      0.64      0.31      7085\n",
      "   macro avg       0.19      0.60      0.29      7085\n",
      "weighted avg       0.24      0.64      0.34      7085\n",
      " samples avg       0.21      0.64      0.30      7085\n",
      "\n"
     ]
    }
   ],
   "source": [
    "print(classification_report(y_train, y_pred))"
   ]
  },
  {
   "cell_type": "markdown",
   "metadata": {},
   "source": [
    "Appendix"
   ]
  },
  {
   "cell_type": "code",
   "execution_count": null,
   "metadata": {
    "colab": {
     "base_uri": "https://localhost:8080/"
    },
    "id": "OM4vp3JTntrG",
    "outputId": "63c03d34-f66a-473d-d4c4-d546f2af4083",
    "tags": []
   },
   "outputs": [],
   "source": [
    "# compute confusion matrix for each label\n",
    "# cm = multilabel_confusion_matrix(y_test, y_pred)\n",
    "# print(\"These are the confusion matrices for all labels: \\n\")\n",
    "\n",
    "# for i in range(cm.shape[0]):\n",
    "#     print(f'Confusion matrix for label {i+1}: \\n', cm[i])"
   ]
  }
 ],
 "metadata": {
  "colab": {
   "provenance": []
  },
  "kernelspec": {
   "display_name": "Python 3 ",
   "language": "python",
   "name": "python3"
  },
  "language_info": {
   "codemirror_mode": {
    "name": "ipython",
    "version": 3
   },
   "file_extension": ".py",
   "mimetype": "text/x-python",
   "name": "python",
   "nbconvert_exporter": "python",
   "pygments_lexer": "ipython3",
   "version": "3.10.8"
  }
 },
 "nbformat": 4,
 "nbformat_minor": 4
}

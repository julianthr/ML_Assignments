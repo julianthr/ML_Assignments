{
 "cells": [
  {
   "cell_type": "code",
   "execution_count": 1,
   "id": "5c3a7b6e",
   "metadata": {},
   "outputs": [],
   "source": [
    "import numpy as np\n",
    "import librosa\n",
    "from pathlib import Path\n",
    "import os\n",
    "import pickle"
   ]
  },
  {
   "cell_type": "code",
   "execution_count": 2,
   "id": "3eeb4ba5",
   "metadata": {},
   "outputs": [],
   "source": [
    "# load labels dictionary\n",
    "with open('tracks.pkl', 'rb') as f:\n",
    "    tracks = pickle.load(f)"
   ]
  },
  {
   "cell_type": "code",
   "execution_count": 3,
   "id": "5be131dc",
   "metadata": {
    "scrolled": true
   },
   "outputs": [
    {
     "name": "stdout",
     "output_type": "stream",
     "text": [
      "[(3346, {'artist_id': 517, 'album_id': 521, 'path': '46/3346.mp3', 'duration': 195.0, 'mood/theme': {'calm'}}), (3347, {'artist_id': 517, 'album_id': 521, 'path': '47/3347.mp3', 'duration': 201.8, 'mood/theme': {'calm'}}), (3348, {'artist_id': 517, 'album_id': 521, 'path': '48/3348.mp3', 'duration': 253.3, 'mood/theme': {'calm'}}), (3349, {'artist_id': 517, 'album_id': 521, 'path': '49/3349.mp3', 'duration': 228.4, 'mood/theme': {'calm'}}), (3350, {'artist_id': 517, 'album_id': 521, 'path': '50/3350.mp3', 'duration': 194.7, 'mood/theme': {'calm'}}), (4639, {'artist_id': 87, 'album_id': 718, 'path': '39/4639.mp3', 'duration': 188.0, 'mood/theme': {'relaxing'}}), (6253, {'artist_id': 811, 'album_id': 960, 'path': '53/6253.mp3', 'duration': 271.8, 'mood/theme': {'relaxing'}}), (6254, {'artist_id': 811, 'album_id': 960, 'path': '54/6254.mp3', 'duration': 481.6, 'mood/theme': {'relaxing'}}), (6256, {'artist_id': 811, 'album_id': 960, 'path': '56/6256.mp3', 'duration': 236.5, 'mood/theme': {'relaxing'}}), (6257, {'artist_id': 811, 'album_id': 960, 'path': '57/6257.mp3', 'duration': 207.8, 'mood/theme': {'relaxing'}})]\n"
     ]
    }
   ],
   "source": [
    "print(list(tracks.items())[:10])"
   ]
  },
  {
   "cell_type": "code",
   "execution_count": 4,
   "id": "418be2d8",
   "metadata": {},
   "outputs": [],
   "source": [
    "#loading loop\n",
    "path = \"C:/Users/r/Desktop/DataScience/2nd semester/Machine Learning/Data/autotagging_moodtheme_audio-67/67\"\n",
    "files = Path(path).glob('*.mp3')\n",
    "names = os.listdir(path)\n",
    "\n",
    "# path = \"C:/Users/r/Desktop/DataScience/2nd semester/Machine Learning/Data/autotagging_moodtheme_audio-00/00\"\n",
    "# files = Path(\"C:/Users/r/Desktop/DataScience/2nd semester/Machine Learning/Data/autotagging_moodtheme_audio-00/00\").glob('*.mp3')\n",
    "# names = os.listdir(path)\n",
    "\n",
    "i=0\n",
    "populated_IDS = []\n",
    "\n",
    "for file in files:\n",
    "    \n",
    "\n",
    "    ID = names[i].split(\".\") #do with enumerate\n",
    "    i= i+1\n",
    "    \n",
    "    \n",
    "    if int(ID[0]) in tracks.keys():\n",
    "        \n",
    "        #storing the raw audio file\n",
    "        y,sr = librosa.load(file,sr=22050)\n",
    "        #transforming the audio file into MFCC\n",
    "        y_mfcc = librosa.feature.mfcc(y=y, sr=sr)\n",
    "        \n",
    "        #code to access the ID, where ID[0] is the id code\n",
    "        tracks[int(ID[0])]['raw'] = y\n",
    "        tracks[int(ID[0])]['mfcc'] = y_mfcc\n",
    "        \n",
    "        populated_IDS.append(ID[0])\n",
    "    "
   ]
  },
  {
   "cell_type": "code",
   "execution_count": 5,
   "id": "b8965cc0",
   "metadata": {},
   "outputs": [
    {
     "data": {
      "text/plain": [
       "['1027667',\n",
       " '1046467',\n",
       " '1061367',\n",
       " '1081867',\n",
       " '1084167',\n",
       " '1096667',\n",
       " '1109767',\n",
       " '1110067',\n",
       " '1110767',\n",
       " '1112067']"
      ]
     },
     "execution_count": 5,
     "metadata": {},
     "output_type": "execute_result"
    }
   ],
   "source": [
    "populated_IDS[:10]"
   ]
  },
  {
   "cell_type": "code",
   "execution_count": 6,
   "id": "5dcbe450",
   "metadata": {},
   "outputs": [
    {
     "data": {
      "text/plain": [
       "{'artist_id': 432967,\n",
       " 'album_id': 120847,\n",
       " 'path': '67/1027667.mp3',\n",
       " 'duration': 508.2,\n",
       " 'mood/theme': {'relaxing'},\n",
       " 'raw': array([-3.5129506e-07, -2.7281181e-05, -6.5797631e-06, ...,\n",
       "        -1.4380203e-07, -2.3498797e-07, -4.0430950e-07], dtype=float32),\n",
       " 'mfcc': array([[-552.60486, -552.60486, -552.60486, ..., -552.60486, -552.60486,\n",
       "         -552.60486],\n",
       "        [   0.     ,    0.     ,    0.     , ...,    0.     ,    0.     ,\n",
       "            0.     ],\n",
       "        [   0.     ,    0.     ,    0.     , ...,    0.     ,    0.     ,\n",
       "            0.     ],\n",
       "        ...,\n",
       "        [   0.     ,    0.     ,    0.     , ...,    0.     ,    0.     ,\n",
       "            0.     ],\n",
       "        [   0.     ,    0.     ,    0.     , ...,    0.     ,    0.     ,\n",
       "            0.     ],\n",
       "        [   0.     ,    0.     ,    0.     , ...,    0.     ,    0.     ,\n",
       "            0.     ]], dtype=float32)}"
      ]
     },
     "execution_count": 6,
     "metadata": {},
     "output_type": "execute_result"
    }
   ],
   "source": [
    "tracks[1027667]"
   ]
  }
 ],
 "metadata": {
  "kernelspec": {
   "display_name": "Python 3 (ipykernel)",
   "language": "python",
   "name": "python3"
  },
  "language_info": {
   "codemirror_mode": {
    "name": "ipython",
    "version": 3
   },
   "file_extension": ".py",
   "mimetype": "text/x-python",
   "name": "python",
   "nbconvert_exporter": "python",
   "pygments_lexer": "ipython3",
   "version": "3.9.12"
  }
 },
 "nbformat": 4,
 "nbformat_minor": 5
}

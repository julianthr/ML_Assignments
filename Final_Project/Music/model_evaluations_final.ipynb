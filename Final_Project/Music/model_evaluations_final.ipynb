{
 "cells": [
  {
   "cell_type": "code",
   "execution_count": 1,
   "id": "3a94f779-375b-49a9-92bb-36c188d0fbed",
   "metadata": {
    "execution": {
     "iopub.execute_input": "2023-05-18T18:37:36.648414Z",
     "iopub.status.busy": "2023-05-18T18:37:36.648224Z",
     "iopub.status.idle": "2023-05-18T18:37:39.322244Z",
     "shell.execute_reply": "2023-05-18T18:37:39.321169Z",
     "shell.execute_reply.started": "2023-05-18T18:37:36.648395Z"
    },
    "tags": []
   },
   "outputs": [],
   "source": [
    "import tensorflow\n",
    "import tensorflow.keras as keras\n",
    "from keras.models import Sequential, load_model\n",
    "from keras.layers import Reshape, Permute, GRU\n",
    "from keras.layers import Dense, Activation, Conv2D, MaxPool2D, BatchNormalization, Flatten, Dropout, LSTM\n",
    "from keras.callbacks import ModelCheckpoint, TensorBoard, ReduceLROnPlateau\n",
    "import matplotlib.pyplot as plt\n",
    "import pandas as pd\n",
    "import zipfile\n",
    "import numpy as np"
   ]
  },
  {
   "cell_type": "code",
   "execution_count": 2,
   "id": "f71a422a-3614-4365-8201-b9cf98d95a3f",
   "metadata": {
    "execution": {
     "iopub.execute_input": "2023-05-18T18:37:39.323750Z",
     "iopub.status.busy": "2023-05-18T18:37:39.323324Z",
     "iopub.status.idle": "2023-05-18T18:37:39.685068Z",
     "shell.execute_reply": "2023-05-18T18:37:39.684226Z",
     "shell.execute_reply.started": "2023-05-18T18:37:39.323723Z"
    },
    "tags": []
   },
   "outputs": [],
   "source": [
    "# multi label predictions and accuracy measures\n",
    "from sklearn.metrics import multilabel_confusion_matrix, classification_report, f1_score"
   ]
  },
  {
   "cell_type": "code",
   "execution_count": 3,
   "id": "59d0d19e-69d8-49f8-b3d2-9cfeebd531e7",
   "metadata": {
    "execution": {
     "iopub.execute_input": "2023-05-18T18:37:39.686160Z",
     "iopub.status.busy": "2023-05-18T18:37:39.685945Z",
     "iopub.status.idle": "2023-05-18T18:37:39.690376Z",
     "shell.execute_reply": "2023-05-18T18:37:39.689724Z",
     "shell.execute_reply.started": "2023-05-18T18:37:39.686141Z"
    },
    "tags": []
   },
   "outputs": [],
   "source": [
    "def unzip(zip_file_path, extract_path):\n",
    "    with zipfile.ZipFile(zip_file_path, 'r') as zip_ref:\n",
    "        zip_ref.extractall(extract_path)"
   ]
  },
  {
   "cell_type": "code",
   "execution_count": 4,
   "id": "659461c8-9d9c-4d30-9a52-6af95f4d7773",
   "metadata": {
    "execution": {
     "iopub.execute_input": "2023-05-18T18:37:39.691271Z",
     "iopub.status.busy": "2023-05-18T18:37:39.691092Z",
     "iopub.status.idle": "2023-05-18T18:37:39.785764Z",
     "shell.execute_reply": "2023-05-18T18:37:39.784536Z",
     "shell.execute_reply.started": "2023-05-18T18:37:39.691256Z"
    },
    "tags": []
   },
   "outputs": [],
   "source": [
    "def compiler(cnn):\n",
    "  \"\"\"\n",
    "  compiles the model\n",
    "  by default, the Adam optimizer from keras is used. In cases where this does not work, the optimizer can be chosen differently, e.g. legacy.Adam \n",
    "  \"\"\"\n",
    "  cnn.compile(optimizer=keras.optimizers.Adam(learning_rate= 0.001),\n",
    "             loss = keras.losses.binary_crossentropy,\n",
    "             metrics = keras.metrics.AUC(name=\"auc\",\n",
    "                                         curve=\"ROC\",\n",
    "                                         num_labels=10,\n",
    "                                         multi_label=True))"
   ]
  },
  {
   "cell_type": "code",
   "execution_count": 5,
   "id": "3617b210-7562-494c-a100-54e95b0ad280",
   "metadata": {
    "execution": {
     "iopub.execute_input": "2023-05-18T18:37:39.792778Z",
     "iopub.status.busy": "2023-05-18T18:37:39.791995Z",
     "iopub.status.idle": "2023-05-18T18:37:39.832838Z",
     "shell.execute_reply": "2023-05-18T18:37:39.831843Z",
     "shell.execute_reply.started": "2023-05-18T18:37:39.792726Z"
    },
    "tags": []
   },
   "outputs": [],
   "source": [
    "# optimize thresholds on the validation set maximizing macro f1 score\n",
    "def optimize_thresholds(y_val, y_pred_val):\n",
    "    thresholds = []\n",
    "    \n",
    "    for i in range(y_val.shape[1]):\n",
    "        best_threshold = 0\n",
    "        best_f1 = 0\n",
    "        \n",
    "        # Vary threshold from 0 to 1 with a small step size\n",
    "        for threshold in np.arange(0.1, 1.0, 0.05):\n",
    "            y_pred_thresholded = (y_pred_val[:, i] >= threshold).astype(int)\n",
    "            f1 = f1_score(y_val[:, i], y_pred_thresholded)\n",
    "            \n",
    "            # Update best threshold if F1-score is higher\n",
    "            if f1 > best_f1:\n",
    "                best_f1 = f1\n",
    "                best_threshold = threshold\n",
    "        \n",
    "        thresholds.append(best_threshold)\n",
    "    \n",
    "    return thresholds\n",
    "\n",
    "# print performance scores\n",
    "def get_classification_report_val(cnn):\n",
    "    \"\"\"\n",
    "    recalculates the probability output from the model to labels by finding the optimal threshold value for every class\n",
    "    prints a classification report with all relevant evaluation metrics for the evaluation set\n",
    "    \"\"\"\n",
    "    y_pred_val = cnn.predict(X_val)\n",
    "    thresholds = optimize_thresholds(y_val, y_pred_val)\n",
    "    y_pred_val_labels = np.where(y_pred_val >= thresholds, 1, 0)\n",
    "    \n",
    "    report = classification_report(\n",
    "            y_val,\n",
    "            y_pred_val_labels,\n",
    "            output_dict=False,\n",
    "            target_names=['inspiring', 'energetic', 'happy', 'sad', 'motivational', 'relaxing', 'uplifting', 'calm', 'love','hopeful'],\n",
    "            zero_division=0\n",
    "            )\n",
    "\n",
    "    # calculate multi label accuracy using confusion matrix\n",
    "    confusion_matrix = multilabel_confusion_matrix(y_val, y_pred_val_labels)\n",
    "    \n",
    "    true_positives = 0\n",
    "    true_negatives = 0\n",
    "    false_positives = 0\n",
    "    false_negatives = 0\n",
    "\n",
    "    for i, matrix in enumerate(confusion_matrix):\n",
    "        true_positives += matrix[1, 1]\n",
    "        true_negatives += matrix[0, 0]\n",
    "        false_positives += matrix[0, 1]\n",
    "        false_negatives += matrix[1, 0]\n",
    "\n",
    "    multi_label_accuracy = (true_positives + true_negatives) / (true_positives + true_negatives + false_positives + false_negatives)\n",
    "\n",
    "    print(report)\n",
    "    print()\n",
    "    print(\"Multi-label accuracy:\", multi_label_accuracy)\n",
    "\n",
    "def get_classification_report_test(cnn):\n",
    "    \"\"\"\n",
    "    recalculates the probability output from the model to labels by finding the optimal threshold value for every class\n",
    "    prints a classification report with all relevant evaluation metrics for the evaluation set\n",
    "    \"\"\"\n",
    "    y_pred_val = cnn.predict(X_val)\n",
    "    thresholds = optimize_thresholds(y_val, y_pred_val)\n",
    "    y_pred_test = cnn.predict(X_test)\n",
    "    y_pred_test_labels = np.where(y_pred_test >= thresholds, 1, 0)\n",
    "    \n",
    "    report = classification_report(\n",
    "            y_test,\n",
    "            y_pred_test_labels,\n",
    "            output_dict=False,\n",
    "            target_names=['inspiring', 'energetic', 'happy', 'sad', 'motivational', 'relaxing', 'uplifting', 'calm', 'love','hopeful'],\n",
    "            zero_division=0\n",
    "            )\n",
    "\n",
    "    # calculate multi label accuracy using confusion matrix\n",
    "    confusion_matrix = multilabel_confusion_matrix(y_test, y_pred_test_labels)\n",
    "    \n",
    "    true_positives = 0\n",
    "    true_negatives = 0\n",
    "    false_positives = 0\n",
    "    false_negatives = 0\n",
    "\n",
    "    for i, matrix in enumerate(confusion_matrix):\n",
    "        true_positives += matrix[1, 1]\n",
    "        true_negatives += matrix[0, 0]\n",
    "        false_positives += matrix[0, 1]\n",
    "        false_negatives += matrix[1, 0]\n",
    "\n",
    "    multi_label_accuracy = (true_positives + true_negatives) / (true_positives + true_negatives + false_positives + false_negatives)\n",
    "\n",
    "    print(report)\n",
    "    print()\n",
    "    print(\"Multi-label accuracy:\", multi_label_accuracy)"
   ]
  },
  {
   "cell_type": "code",
   "execution_count": 6,
   "id": "508bd228-5abb-4360-8737-a18d60f3a401",
   "metadata": {
    "execution": {
     "iopub.execute_input": "2023-05-18T18:37:39.834769Z",
     "iopub.status.busy": "2023-05-18T18:37:39.834207Z",
     "iopub.status.idle": "2023-05-18T18:37:40.021818Z",
     "shell.execute_reply": "2023-05-18T18:37:40.020857Z",
     "shell.execute_reply.started": "2023-05-18T18:37:39.834744Z"
    }
   },
   "outputs": [],
   "source": [
    "# make sure to load the right data before calculating scores (start, middle, end)"
   ]
  },
  {
   "cell_type": "markdown",
   "id": "3566e5a6-d122-4188-a0c1-2492d4be3aee",
   "metadata": {},
   "source": [
    "### CNN1 performance"
   ]
  },
  {
   "cell_type": "code",
   "execution_count": 7,
   "id": "c2ba6211-0744-444b-9a0f-38adf04c1dd0",
   "metadata": {
    "execution": {
     "iopub.execute_input": "2023-05-18T18:37:40.024038Z",
     "iopub.status.busy": "2023-05-18T18:37:40.023229Z",
     "iopub.status.idle": "2023-05-18T18:37:40.832164Z",
     "shell.execute_reply": "2023-05-18T18:37:40.830647Z",
     "shell.execute_reply.started": "2023-05-18T18:37:40.024003Z"
    },
    "tags": []
   },
   "outputs": [],
   "source": [
    "# load cnn1\n",
    "unzip('cnn1_middle_L2_Dropout0.5_padding.zip', 'cnn1_middle_L2_Dropout0.5_padding')"
   ]
  },
  {
   "cell_type": "code",
   "execution_count": 8,
   "id": "fabe4f56-f67a-4f98-b234-6e38cf1caa83",
   "metadata": {
    "execution": {
     "iopub.execute_input": "2023-05-18T18:37:40.835243Z",
     "iopub.status.busy": "2023-05-18T18:37:40.834621Z",
     "iopub.status.idle": "2023-05-18T18:37:41.407499Z",
     "shell.execute_reply": "2023-05-18T18:37:41.406673Z",
     "shell.execute_reply.started": "2023-05-18T18:37:40.835174Z"
    },
    "tags": []
   },
   "outputs": [],
   "source": [
    "cnn1 = tensorflow.keras.models.load_model('cnn1_middle_L2_Dropout0.5_padding')"
   ]
  },
  {
   "cell_type": "code",
   "execution_count": 9,
   "id": "b1812f4d-e088-48c5-8ea0-0fc83529c3b8",
   "metadata": {
    "execution": {
     "iopub.execute_input": "2023-05-18T18:37:41.408486Z",
     "iopub.status.busy": "2023-05-18T18:37:41.408297Z",
     "iopub.status.idle": "2023-05-18T18:37:41.420462Z",
     "shell.execute_reply": "2023-05-18T18:37:41.419557Z",
     "shell.execute_reply.started": "2023-05-18T18:37:41.408469Z"
    },
    "tags": []
   },
   "outputs": [],
   "source": [
    "compiler(cnn1)"
   ]
  },
  {
   "cell_type": "code",
   "execution_count": 10,
   "id": "04ee6593-0836-49e1-9da5-eff1d5b7f6ed",
   "metadata": {
    "execution": {
     "iopub.execute_input": "2023-05-18T18:37:41.421329Z",
     "iopub.status.busy": "2023-05-18T18:37:41.421120Z",
     "iopub.status.idle": "2023-05-18T18:37:41.539054Z",
     "shell.execute_reply": "2023-05-18T18:37:41.538310Z",
     "shell.execute_reply.started": "2023-05-18T18:37:41.421311Z"
    },
    "tags": []
   },
   "outputs": [
    {
     "name": "stdout",
     "output_type": "stream",
     "text": [
      "Model: \"sequential_8\"\n",
      "_________________________________________________________________\n",
      " Layer (type)                Output Shape              Param #   \n",
      "=================================================================\n",
      " conv2d_16 (Conv2D)          (None, 1292, 20, 32)      320       \n",
      "                                                                 \n",
      " max_pooling2d_16 (MaxPoolin  (None, 646, 10, 32)      0         \n",
      " g2D)                                                            \n",
      "                                                                 \n",
      " batch_normalization_16 (Bat  (None, 646, 10, 32)      128       \n",
      " chNormalization)                                                \n",
      "                                                                 \n",
      " dropout_18 (Dropout)        (None, 646, 10, 32)       0         \n",
      "                                                                 \n",
      " conv2d_17 (Conv2D)          (None, 646, 10, 64)       18496     \n",
      "                                                                 \n",
      " max_pooling2d_17 (MaxPoolin  (None, 216, 5, 64)       0         \n",
      " g2D)                                                            \n",
      "                                                                 \n",
      " batch_normalization_17 (Bat  (None, 216, 5, 64)       256       \n",
      " chNormalization)                                                \n",
      "                                                                 \n",
      " dropout_19 (Dropout)        (None, 216, 5, 64)        0         \n",
      "                                                                 \n",
      " flatten_8 (Flatten)         (None, 69120)             0         \n",
      "                                                                 \n",
      " dense_8 (Dense)             (None, 128)               8847488   \n",
      "                                                                 \n",
      " dropout_20 (Dropout)        (None, 128)               0         \n",
      "                                                                 \n",
      " output (Dense)              (None, 10)                1290      \n",
      "                                                                 \n",
      "=================================================================\n",
      "Total params: 8,867,978\n",
      "Trainable params: 8,867,786\n",
      "Non-trainable params: 192\n",
      "_________________________________________________________________\n"
     ]
    }
   ],
   "source": [
    "cnn1.summary()"
   ]
  },
  {
   "cell_type": "markdown",
   "id": "b2701342-b631-4dee-a039-1f5fc70c8708",
   "metadata": {},
   "source": [
    "**Performance with middle MFCCs**"
   ]
  },
  {
   "cell_type": "code",
   "execution_count": 11,
   "id": "76dc7b0e-1d2e-49fe-9d58-20307e169e44",
   "metadata": {
    "execution": {
     "iopub.execute_input": "2023-05-18T18:37:41.540543Z",
     "iopub.status.busy": "2023-05-18T18:37:41.540139Z",
     "iopub.status.idle": "2023-05-18T18:37:41.667299Z",
     "shell.execute_reply": "2023-05-18T18:37:41.666025Z",
     "shell.execute_reply.started": "2023-05-18T18:37:41.540519Z"
    },
    "tags": []
   },
   "outputs": [],
   "source": [
    "# load test data\n",
    "X_test = np.load('mfcc30s20_arrays/X_test.npy')\n",
    "y_test = np.load('mfcc30s20_arrays/y_test.npy')\n",
    "# load validation data\n",
    "X_val = np.load('mfcc30s20_arrays/X_val.npy')\n",
    "y_val = np.load('mfcc30s20_arrays/y_val.npy')"
   ]
  },
  {
   "cell_type": "code",
   "execution_count": 12,
   "id": "528ef858-11ea-4303-a908-1c62486f8df8",
   "metadata": {
    "colab": {
     "base_uri": "https://localhost:8080/"
    },
    "execution": {
     "iopub.execute_input": "2023-05-18T18:37:41.668989Z",
     "iopub.status.busy": "2023-05-18T18:37:41.668749Z",
     "iopub.status.idle": "2023-05-18T18:37:43.601093Z",
     "shell.execute_reply": "2023-05-18T18:37:43.600154Z",
     "shell.execute_reply.started": "2023-05-18T18:37:41.668961Z"
    },
    "executionInfo": {
     "elapsed": 232,
     "status": "ok",
     "timestamp": 1684071370134,
     "user": {
      "displayName": "Yile Huang",
      "userId": "13131152773821944096"
     },
     "user_tz": -120
    },
    "id": "Vpn7suNAVwR0",
    "outputId": "7627b451-0de5-45bd-cc21-c8bf63249494",
    "tags": []
   },
   "outputs": [
    {
     "name": "stdout",
     "output_type": "stream",
     "text": [
      "45/45 [==============================] - 2s 33ms/step - loss: 0.3365 - auc: 0.6440\n"
     ]
    }
   ],
   "source": [
    "# compute final training evaluation metrics\n",
    "cnn1_evaluation_val = cnn1.evaluate(x = X_val, y= y_val)"
   ]
  },
  {
   "cell_type": "code",
   "execution_count": 13,
   "id": "b807afcd-5848-4683-b3bc-36da12e42e17",
   "metadata": {
    "execution": {
     "iopub.execute_input": "2023-05-18T18:37:43.602763Z",
     "iopub.status.busy": "2023-05-18T18:37:43.602348Z",
     "iopub.status.idle": "2023-05-18T18:37:45.351500Z",
     "shell.execute_reply": "2023-05-18T18:37:45.350515Z",
     "shell.execute_reply.started": "2023-05-18T18:37:43.602736Z"
    },
    "tags": []
   },
   "outputs": [
    {
     "name": "stdout",
     "output_type": "stream",
     "text": [
      "45/45 [==============================] - 1s 29ms/step\n",
      "              precision    recall  f1-score   support\n",
      "\n",
      "   inspiring       1.00      0.01      0.02        83\n",
      "   energetic       0.38      0.64      0.48       286\n",
      "       happy       0.29      0.78      0.42       334\n",
      "         sad       0.03      1.00      0.06        40\n",
      "motivational       0.15      0.47      0.23       161\n",
      "    relaxing       0.15      0.55      0.23       186\n",
      "   uplifting       0.22      0.02      0.04       100\n",
      "        calm       0.39      0.57      0.46       254\n",
      "        love       0.20      0.47      0.28       141\n",
      "     hopeful       0.20      0.01      0.01       142\n",
      "\n",
      "   micro avg       0.19      0.51      0.27      1727\n",
      "   macro avg       0.30      0.45      0.22      1727\n",
      "weighted avg       0.30      0.51      0.30      1727\n",
      " samples avg       0.19      0.52      0.27      1727\n",
      "\n",
      "\n",
      "Multi-label accuracy: 0.667728237791932\n"
     ]
    }
   ],
   "source": [
    "# print the validation evaluation metrics with optimized thresholds\n",
    "get_classification_report_val(cnn1)"
   ]
  },
  {
   "cell_type": "code",
   "execution_count": 14,
   "id": "9eb68237-aba1-45a0-a0a4-c1fb479e4d7a",
   "metadata": {
    "execution": {
     "iopub.execute_input": "2023-05-18T18:37:45.352964Z",
     "iopub.status.busy": "2023-05-18T18:37:45.352748Z",
     "iopub.status.idle": "2023-05-18T18:37:46.913139Z",
     "shell.execute_reply": "2023-05-18T18:37:46.911768Z",
     "shell.execute_reply.started": "2023-05-18T18:37:45.352946Z"
    },
    "tags": []
   },
   "outputs": [
    {
     "name": "stdout",
     "output_type": "stream",
     "text": [
      "45/45 [==============================] - 1s 32ms/step - loss: 0.3443 - auc: 0.6466\n"
     ]
    }
   ],
   "source": [
    "cnn1_evaluation_test = cnn1.evaluate(x = X_test, y= y_test)"
   ]
  },
  {
   "cell_type": "code",
   "execution_count": 15,
   "id": "5621a807-02b1-463b-867d-6d10a0658933",
   "metadata": {
    "execution": {
     "iopub.execute_input": "2023-05-18T18:37:46.915787Z",
     "iopub.status.busy": "2023-05-18T18:37:46.915172Z",
     "iopub.status.idle": "2023-05-18T18:37:50.000556Z",
     "shell.execute_reply": "2023-05-18T18:37:49.999547Z",
     "shell.execute_reply.started": "2023-05-18T18:37:46.915750Z"
    },
    "tags": []
   },
   "outputs": [
    {
     "name": "stdout",
     "output_type": "stream",
     "text": [
      "45/45 [==============================] - 1s 29ms/step\n",
      "45/45 [==============================] - 1s 28ms/step\n",
      "              precision    recall  f1-score   support\n",
      "\n",
      "   inspiring       0.00      0.00      0.00        96\n",
      "   energetic       0.36      0.72      0.48       259\n",
      "       happy       0.31      0.80      0.45       334\n",
      "         sad       0.03      1.00      0.06        40\n",
      "motivational       0.17      0.49      0.25       179\n",
      "    relaxing       0.15      0.52      0.23       193\n",
      "   uplifting       0.53      0.07      0.12       132\n",
      "        calm       0.39      0.54      0.45       268\n",
      "        love       0.20      0.44      0.27       150\n",
      "     hopeful       0.00      0.00      0.00       132\n",
      "\n",
      "   micro avg       0.19      0.51      0.28      1783\n",
      "   macro avg       0.21      0.46      0.23      1783\n",
      "weighted avg       0.26      0.51      0.30      1783\n",
      " samples avg       0.19      0.52      0.27      1783\n",
      "\n",
      "\n",
      "Multi-label accuracy: 0.6679405520169851\n"
     ]
    }
   ],
   "source": [
    "# print the test evaluation metrics with optimized thresholds\n",
    "get_classification_report_test(cnn1)"
   ]
  },
  {
   "cell_type": "markdown",
   "id": "99804d79-be6b-4cf7-a750-5da612a64e39",
   "metadata": {
    "tags": []
   },
   "source": [
    " \n",
    " \n",
    "  \n",
    " "
   ]
  },
  {
   "cell_type": "markdown",
   "id": "45fdfab3-3404-4c7c-8b45-4f50bcb4fada",
   "metadata": {
    "tags": []
   },
   "source": [
    "**Performance with start MFCCs**"
   ]
  },
  {
   "cell_type": "code",
   "execution_count": 16,
   "id": "7b1b4eac-8642-400b-9089-515c3db6ae87",
   "metadata": {
    "execution": {
     "iopub.execute_input": "2023-05-18T18:37:50.003509Z",
     "iopub.status.busy": "2023-05-18T18:37:50.002796Z",
     "iopub.status.idle": "2023-05-18T18:37:50.116285Z",
     "shell.execute_reply": "2023-05-18T18:37:50.114467Z",
     "shell.execute_reply.started": "2023-05-18T18:37:50.003453Z"
    },
    "tags": []
   },
   "outputs": [],
   "source": [
    "# load data\n",
    "X_test = np.load('mfcc30s20_start/X_test.npy')\n",
    "y_test = np.load('mfcc30s20_start/y_test.npy')\n",
    "\n",
    "X_val = np.load('mfcc30s20_start/X_val.npy')\n",
    "y_val = np.load('mfcc30s20_start/y_val.npy')"
   ]
  },
  {
   "cell_type": "code",
   "execution_count": 17,
   "id": "9d429386-9f49-405a-90d3-1de6846c69c8",
   "metadata": {
    "colab": {
     "base_uri": "https://localhost:8080/"
    },
    "execution": {
     "iopub.execute_input": "2023-05-18T18:37:50.118457Z",
     "iopub.status.busy": "2023-05-18T18:37:50.117946Z",
     "iopub.status.idle": "2023-05-18T18:37:51.694887Z",
     "shell.execute_reply": "2023-05-18T18:37:51.693876Z",
     "shell.execute_reply.started": "2023-05-18T18:37:50.118427Z"
    },
    "executionInfo": {
     "elapsed": 232,
     "status": "ok",
     "timestamp": 1684071370134,
     "user": {
      "displayName": "Yile Huang",
      "userId": "13131152773821944096"
     },
     "user_tz": -120
    },
    "id": "Vpn7suNAVwR0",
    "outputId": "7627b451-0de5-45bd-cc21-c8bf63249494",
    "tags": []
   },
   "outputs": [
    {
     "name": "stdout",
     "output_type": "stream",
     "text": [
      "45/45 [==============================] - 1s 33ms/step - loss: 0.3430 - auc: 0.6520\n"
     ]
    }
   ],
   "source": [
    "# compute final training evaluation metrics\n",
    "cnn1_evaluation_val = cnn1.evaluate(x = X_val, y= y_val)"
   ]
  },
  {
   "cell_type": "code",
   "execution_count": 18,
   "id": "52960de5-dd2b-4a06-9a17-739260b77958",
   "metadata": {
    "execution": {
     "iopub.execute_input": "2023-05-18T18:37:51.696806Z",
     "iopub.status.busy": "2023-05-18T18:37:51.696406Z",
     "iopub.status.idle": "2023-05-18T18:37:53.304995Z",
     "shell.execute_reply": "2023-05-18T18:37:53.303480Z",
     "shell.execute_reply.started": "2023-05-18T18:37:51.696780Z"
    },
    "tags": []
   },
   "outputs": [
    {
     "name": "stdout",
     "output_type": "stream",
     "text": [
      "45/45 [==============================] - 1s 28ms/step\n",
      "              precision    recall  f1-score   support\n",
      "\n",
      "   inspiring       0.07      1.00      0.13        97\n",
      "   energetic       0.40      0.66      0.50       276\n",
      "       happy       0.33      0.79      0.47       328\n",
      "         sad       0.03      1.00      0.06        42\n",
      "motivational       0.15      0.52      0.24       172\n",
      "    relaxing       0.14      0.58      0.23       178\n",
      "   uplifting       0.27      0.03      0.06       129\n",
      "        calm       0.35      0.73      0.47       273\n",
      "        love       0.16      0.90      0.27       144\n",
      "     hopeful       0.14      0.01      0.02       121\n",
      "\n",
      "   micro avg       0.16      0.63      0.26      1760\n",
      "   macro avg       0.20      0.62      0.24      1760\n",
      "weighted avg       0.26      0.63      0.32      1760\n",
      " samples avg       0.17      0.65      0.26      1760\n",
      "\n",
      "\n",
      "Multi-label accuracy: 0.5547249647390691\n"
     ]
    }
   ],
   "source": [
    "# print the validation evaluation metrics with optimized thresholds\n",
    "get_classification_report_val(cnn1)"
   ]
  },
  {
   "cell_type": "code",
   "execution_count": 19,
   "id": "fb9a1596-7b60-421c-98ad-da3789bddb0d",
   "metadata": {
    "execution": {
     "iopub.execute_input": "2023-05-18T18:37:53.312595Z",
     "iopub.status.busy": "2023-05-18T18:37:53.312121Z",
     "iopub.status.idle": "2023-05-18T18:37:54.914386Z",
     "shell.execute_reply": "2023-05-18T18:37:54.913059Z",
     "shell.execute_reply.started": "2023-05-18T18:37:53.312567Z"
    },
    "tags": []
   },
   "outputs": [
    {
     "name": "stdout",
     "output_type": "stream",
     "text": [
      "45/45 [==============================] - 2s 33ms/step - loss: 0.3554 - auc: 0.6585\n"
     ]
    }
   ],
   "source": [
    "cnn1_evaluation_test = cnn1.evaluate(x = X_test, y= y_test)"
   ]
  },
  {
   "cell_type": "code",
   "execution_count": 20,
   "id": "a6ed151e-5bd5-4292-849e-04bdbac4e52d",
   "metadata": {
    "execution": {
     "iopub.execute_input": "2023-05-18T18:37:54.916534Z",
     "iopub.status.busy": "2023-05-18T18:37:54.916104Z",
     "iopub.status.idle": "2023-05-18T18:37:57.922983Z",
     "shell.execute_reply": "2023-05-18T18:37:57.922018Z",
     "shell.execute_reply.started": "2023-05-18T18:37:54.916507Z"
    },
    "tags": []
   },
   "outputs": [
    {
     "name": "stdout",
     "output_type": "stream",
     "text": [
      "45/45 [==============================] - 1s 28ms/step\n",
      "45/45 [==============================] - 1s 28ms/step\n",
      "              precision    recall  f1-score   support\n",
      "\n",
      "   inspiring       0.07      1.00      0.13        99\n",
      "   energetic       0.37      0.62      0.46       266\n",
      "       happy       0.34      0.76      0.47       334\n",
      "         sad       0.03      1.00      0.06        46\n",
      "motivational       0.19      0.53      0.28       193\n",
      "    relaxing       0.15      0.50      0.23       202\n",
      "   uplifting       0.60      0.03      0.05       114\n",
      "        calm       0.32      0.77      0.45       252\n",
      "        love       0.17      0.85      0.28       160\n",
      "     hopeful       0.50      0.02      0.04       152\n",
      "\n",
      "   micro avg       0.17      0.61      0.26      1818\n",
      "   macro avg       0.27      0.61      0.25      1818\n",
      "weighted avg       0.30      0.61      0.31      1818\n",
      " samples avg       0.17      0.63      0.26      1818\n",
      "\n",
      "\n",
      "Multi-label accuracy: 0.5571932299012694\n"
     ]
    }
   ],
   "source": [
    "# print the test evaluation metrics with optimized thresholds\n",
    "get_classification_report_test(cnn1)"
   ]
  },
  {
   "cell_type": "markdown",
   "id": "69692641-8907-4056-9332-45381a151154",
   "metadata": {},
   "source": [
    " \n",
    " \n",
    " \n",
    "  "
   ]
  },
  {
   "cell_type": "markdown",
   "id": "7cd3f09a-b347-4361-b447-97986eaa2418",
   "metadata": {
    "tags": []
   },
   "source": [
    "**Performance with end MFCCs**"
   ]
  },
  {
   "cell_type": "code",
   "execution_count": 21,
   "id": "82d964c4-ff56-47ff-b26b-03a4bf2a549f",
   "metadata": {
    "execution": {
     "iopub.execute_input": "2023-05-18T18:37:57.924975Z",
     "iopub.status.busy": "2023-05-18T18:37:57.924294Z",
     "iopub.status.idle": "2023-05-18T18:37:58.041650Z",
     "shell.execute_reply": "2023-05-18T18:37:58.040620Z",
     "shell.execute_reply.started": "2023-05-18T18:37:57.924938Z"
    },
    "tags": []
   },
   "outputs": [],
   "source": [
    "# load data\n",
    "X_test = np.load('mfcc30s20_end/X_test.npy')\n",
    "y_test = np.load('mfcc30s20_end/y_test.npy')\n",
    "\n",
    "X_val = np.load('mfcc30s20_end/X_val.npy')\n",
    "y_val = np.load('mfcc30s20_end/y_val.npy')"
   ]
  },
  {
   "cell_type": "code",
   "execution_count": 22,
   "id": "3705a0a8-3e8d-4e3d-b52f-cd0d47cbafc6",
   "metadata": {
    "colab": {
     "base_uri": "https://localhost:8080/"
    },
    "execution": {
     "iopub.execute_input": "2023-05-18T18:37:58.043454Z",
     "iopub.status.busy": "2023-05-18T18:37:58.042906Z",
     "iopub.status.idle": "2023-05-18T18:37:59.577390Z",
     "shell.execute_reply": "2023-05-18T18:37:59.576041Z",
     "shell.execute_reply.started": "2023-05-18T18:37:58.043419Z"
    },
    "executionInfo": {
     "elapsed": 232,
     "status": "ok",
     "timestamp": 1684071370134,
     "user": {
      "displayName": "Yile Huang",
      "userId": "13131152773821944096"
     },
     "user_tz": -120
    },
    "id": "Vpn7suNAVwR0",
    "outputId": "7627b451-0de5-45bd-cc21-c8bf63249494",
    "tags": []
   },
   "outputs": [
    {
     "name": "stdout",
     "output_type": "stream",
     "text": [
      "45/45 [==============================] - 1s 31ms/step - loss: 0.3358 - auc: 0.6651\n"
     ]
    }
   ],
   "source": [
    "# compute final training evaluation metrics\n",
    "# print validation macro ROC-AUC\n",
    "cnn1_evaluation_val = cnn1.evaluate(x = X_val, y= y_val)"
   ]
  },
  {
   "cell_type": "code",
   "execution_count": 23,
   "id": "9cd45d58-e4d4-456d-aeeb-2096da54da6f",
   "metadata": {
    "execution": {
     "iopub.execute_input": "2023-05-18T18:37:59.580541Z",
     "iopub.status.busy": "2023-05-18T18:37:59.579887Z",
     "iopub.status.idle": "2023-05-18T18:38:01.242994Z",
     "shell.execute_reply": "2023-05-18T18:38:01.242169Z",
     "shell.execute_reply.started": "2023-05-18T18:37:59.580503Z"
    },
    "tags": []
   },
   "outputs": [
    {
     "name": "stdout",
     "output_type": "stream",
     "text": [
      "45/45 [==============================] - 1s 28ms/step\n",
      "              precision    recall  f1-score   support\n",
      "\n",
      "   inspiring       0.07      1.00      0.13        97\n",
      "   energetic       0.41      0.66      0.50       276\n",
      "       happy       0.32      0.75      0.45       328\n",
      "         sad       0.03      1.00      0.06        42\n",
      "motivational       0.18      0.59      0.27       172\n",
      "    relaxing       0.13      0.53      0.21       178\n",
      "   uplifting       0.12      0.01      0.01       129\n",
      "        calm       0.37      0.78      0.51       273\n",
      "        love       0.18      0.82      0.29       144\n",
      "     hopeful       0.09      1.00      0.16       121\n",
      "\n",
      "   micro avg       0.15      0.69      0.25      1760\n",
      "   macro avg       0.19      0.71      0.26      1760\n",
      "weighted avg       0.25      0.69      0.33      1760\n",
      " samples avg       0.15      0.70      0.24      1760\n",
      "\n",
      "\n",
      "Multi-label accuracy: 0.4814527503526093\n"
     ]
    }
   ],
   "source": [
    "# print the validation evaluation metrics with optimized thresholds\n",
    "get_classification_report_val(cnn1)"
   ]
  },
  {
   "cell_type": "code",
   "execution_count": 24,
   "id": "cc0bf66e-f86d-4498-85cf-05bfe6c8bd68",
   "metadata": {
    "execution": {
     "iopub.execute_input": "2023-05-18T18:38:01.244127Z",
     "iopub.status.busy": "2023-05-18T18:38:01.243915Z",
     "iopub.status.idle": "2023-05-18T18:38:02.787963Z",
     "shell.execute_reply": "2023-05-18T18:38:02.787222Z",
     "shell.execute_reply.started": "2023-05-18T18:38:01.244108Z"
    },
    "tags": []
   },
   "outputs": [
    {
     "name": "stdout",
     "output_type": "stream",
     "text": [
      "45/45 [==============================] - 1s 32ms/step - loss: 0.3496 - auc: 0.6662\n"
     ]
    }
   ],
   "source": [
    "# print test macro ROC-AUC\n",
    "cnn1_evaluation_test = cnn1.evaluate(x = X_test, y= y_test)"
   ]
  },
  {
   "cell_type": "code",
   "execution_count": 25,
   "id": "b94242df-0d85-4574-bfcb-9dd9c4906641",
   "metadata": {
    "execution": {
     "iopub.execute_input": "2023-05-18T18:38:02.790081Z",
     "iopub.status.busy": "2023-05-18T18:38:02.789600Z",
     "iopub.status.idle": "2023-05-18T18:38:05.793628Z",
     "shell.execute_reply": "2023-05-18T18:38:05.792292Z",
     "shell.execute_reply.started": "2023-05-18T18:38:02.790053Z"
    },
    "tags": []
   },
   "outputs": [
    {
     "name": "stdout",
     "output_type": "stream",
     "text": [
      "45/45 [==============================] - 1s 28ms/step\n",
      "45/45 [==============================] - 1s 28ms/step\n",
      "              precision    recall  f1-score   support\n",
      "\n",
      "   inspiring       0.07      1.00      0.13        99\n",
      "   energetic       0.43      0.66      0.52       266\n",
      "       happy       0.33      0.71      0.45       334\n",
      "         sad       0.03      1.00      0.06        46\n",
      "motivational       0.19      0.55      0.28       193\n",
      "    relaxing       0.17      0.63      0.27       202\n",
      "   uplifting       1.00      0.03      0.05       114\n",
      "        calm       0.31      0.77      0.45       252\n",
      "        love       0.17      0.79      0.29       160\n",
      "     hopeful       0.11      1.00      0.19       152\n",
      "\n",
      "   micro avg       0.16      0.70      0.26      1818\n",
      "   macro avg       0.28      0.71      0.27      1818\n",
      "weighted avg       0.30      0.70      0.33      1818\n",
      " samples avg       0.16      0.71      0.25      1818\n",
      "\n",
      "\n",
      "Multi-label accuracy: 0.4825811001410437\n"
     ]
    }
   ],
   "source": [
    "# print the test evaluation metrics with optimized thresholds\n",
    "get_classification_report_test(cnn1)"
   ]
  },
  {
   "cell_type": "markdown",
   "id": "ebdcfa3e-22f7-41ba-a17a-01f72b94d3d4",
   "metadata": {},
   "source": [
    " \n",
    " \n",
    " \n",
    "  "
   ]
  },
  {
   "cell_type": "markdown",
   "id": "ce11dbde-6604-45e2-990c-dcc814027c68",
   "metadata": {},
   "source": [
    "### CNN2 performance"
   ]
  },
  {
   "cell_type": "code",
   "execution_count": 26,
   "id": "8648b085-48d0-4e08-bf4c-b3e0982e539d",
   "metadata": {
    "execution": {
     "iopub.execute_input": "2023-05-18T18:38:05.795817Z",
     "iopub.status.busy": "2023-05-18T18:38:05.795542Z",
     "iopub.status.idle": "2023-05-18T18:38:06.550113Z",
     "shell.execute_reply": "2023-05-18T18:38:06.548599Z",
     "shell.execute_reply.started": "2023-05-18T18:38:05.795789Z"
    },
    "tags": []
   },
   "outputs": [],
   "source": [
    "# load cnn2\n",
    "unzip('CNN2_middle_noL2_Dropuout_0.5.zip', 'CNN2_middle_noL2_Dropuout_0.5')"
   ]
  },
  {
   "cell_type": "code",
   "execution_count": 27,
   "id": "92cd5b08-57fc-4df4-8125-c8f519290d72",
   "metadata": {
    "execution": {
     "iopub.execute_input": "2023-05-18T18:38:06.553276Z",
     "iopub.status.busy": "2023-05-18T18:38:06.552678Z",
     "iopub.status.idle": "2023-05-18T18:38:07.679002Z",
     "shell.execute_reply": "2023-05-18T18:38:07.678010Z",
     "shell.execute_reply.started": "2023-05-18T18:38:06.553223Z"
    },
    "tags": []
   },
   "outputs": [],
   "source": [
    "cnn2 = tensorflow.keras.models.load_model('CNN2_middle_noL2_Dropuout_0.5')"
   ]
  },
  {
   "cell_type": "code",
   "execution_count": 28,
   "id": "1f2ce7cd-ba85-4321-9f46-8176caa915b9",
   "metadata": {
    "execution": {
     "iopub.execute_input": "2023-05-18T18:38:07.680263Z",
     "iopub.status.busy": "2023-05-18T18:38:07.680055Z",
     "iopub.status.idle": "2023-05-18T18:38:07.693496Z",
     "shell.execute_reply": "2023-05-18T18:38:07.692344Z",
     "shell.execute_reply.started": "2023-05-18T18:38:07.680245Z"
    },
    "tags": []
   },
   "outputs": [],
   "source": [
    "compiler(cnn2)"
   ]
  },
  {
   "cell_type": "code",
   "execution_count": 29,
   "id": "b06a8da9-e483-4a6a-99ca-559db772ff64",
   "metadata": {
    "execution": {
     "iopub.execute_input": "2023-05-18T18:38:07.694588Z",
     "iopub.status.busy": "2023-05-18T18:38:07.694406Z",
     "iopub.status.idle": "2023-05-18T18:38:07.864884Z",
     "shell.execute_reply": "2023-05-18T18:38:07.864315Z",
     "shell.execute_reply.started": "2023-05-18T18:38:07.694572Z"
    },
    "tags": []
   },
   "outputs": [
    {
     "name": "stdout",
     "output_type": "stream",
     "text": [
      "Model: \"sequential\"\n",
      "_________________________________________________________________\n",
      " Layer (type)                Output Shape              Param #   \n",
      "=================================================================\n",
      " conv2d (Conv2D)             (None, 1290, 18, 32)      320       \n",
      "                                                                 \n",
      " max_pooling2d (MaxPooling2D  (None, 645, 17, 32)      0         \n",
      " )                                                               \n",
      "                                                                 \n",
      " batch_normalization (BatchN  (None, 645, 17, 32)      128       \n",
      " ormalization)                                                   \n",
      "                                                                 \n",
      " dropout (Dropout)           (None, 645, 17, 32)       0         \n",
      "                                                                 \n",
      " conv2d_1 (Conv2D)           (None, 643, 15, 64)       18496     \n",
      "                                                                 \n",
      " max_pooling2d_1 (MaxPooling  (None, 321, 14, 64)      0         \n",
      " 2D)                                                             \n",
      "                                                                 \n",
      " batch_normalization_1 (Batc  (None, 321, 14, 64)      256       \n",
      " hNormalization)                                                 \n",
      "                                                                 \n",
      " dropout_1 (Dropout)         (None, 321, 14, 64)       0         \n",
      "                                                                 \n",
      " conv2d_2 (Conv2D)           (None, 319, 12, 128)      73856     \n",
      "                                                                 \n",
      " max_pooling2d_2 (MaxPooling  (None, 159, 11, 128)     0         \n",
      " 2D)                                                             \n",
      "                                                                 \n",
      " batch_normalization_2 (Batc  (None, 159, 11, 128)     512       \n",
      " hNormalization)                                                 \n",
      "                                                                 \n",
      " dropout_2 (Dropout)         (None, 159, 11, 128)      0         \n",
      "                                                                 \n",
      " conv2d_3 (Conv2D)           (None, 157, 9, 256)       295168    \n",
      "                                                                 \n",
      " max_pooling2d_3 (MaxPooling  (None, 78, 8, 256)       0         \n",
      " 2D)                                                             \n",
      "                                                                 \n",
      " batch_normalization_3 (Batc  (None, 78, 8, 256)       1024      \n",
      " hNormalization)                                                 \n",
      "                                                                 \n",
      " dropout_3 (Dropout)         (None, 78, 8, 256)        0         \n",
      "                                                                 \n",
      " conv2d_4 (Conv2D)           (None, 76, 6, 512)        1180160   \n",
      "                                                                 \n",
      " max_pooling2d_4 (MaxPooling  (None, 38, 5, 512)       0         \n",
      " 2D)                                                             \n",
      "                                                                 \n",
      " batch_normalization_4 (Batc  (None, 38, 5, 512)       2048      \n",
      " hNormalization)                                                 \n",
      "                                                                 \n",
      " dropout_4 (Dropout)         (None, 38, 5, 512)        0         \n",
      "                                                                 \n",
      " conv2d_5 (Conv2D)           (None, 36, 3, 256)        1179904   \n",
      "                                                                 \n",
      " max_pooling2d_5 (MaxPooling  (None, 18, 2, 256)       0         \n",
      " 2D)                                                             \n",
      "                                                                 \n",
      " batch_normalization_5 (Batc  (None, 18, 2, 256)       1024      \n",
      " hNormalization)                                                 \n",
      "                                                                 \n",
      " dropout_5 (Dropout)         (None, 18, 2, 256)        0         \n",
      "                                                                 \n",
      " flatten (Flatten)           (None, 9216)              0         \n",
      "                                                                 \n",
      " dense (Dense)               (None, 128)               1179776   \n",
      "                                                                 \n",
      " dropout_6 (Dropout)         (None, 128)               0         \n",
      "                                                                 \n",
      " output (Dense)              (None, 10)                1290      \n",
      "                                                                 \n",
      "=================================================================\n",
      "Total params: 3,933,962\n",
      "Trainable params: 3,931,466\n",
      "Non-trainable params: 2,496\n",
      "_________________________________________________________________\n"
     ]
    }
   ],
   "source": [
    "cnn2.summary()"
   ]
  },
  {
   "cell_type": "markdown",
   "id": "eeb8794a-50ba-4800-a0da-b935202f35de",
   "metadata": {},
   "source": [
    "**Performance with middle MFCCs**"
   ]
  },
  {
   "cell_type": "code",
   "execution_count": 30,
   "id": "2eafdde2-f8b3-450b-80e1-934a02890609",
   "metadata": {
    "execution": {
     "iopub.execute_input": "2023-05-18T18:38:07.865989Z",
     "iopub.status.busy": "2023-05-18T18:38:07.865650Z",
     "iopub.status.idle": "2023-05-18T18:38:07.965841Z",
     "shell.execute_reply": "2023-05-18T18:38:07.965167Z",
     "shell.execute_reply.started": "2023-05-18T18:38:07.865972Z"
    },
    "tags": []
   },
   "outputs": [],
   "source": [
    "# load test data\n",
    "X_test = np.load('mfcc30s20_arrays/X_test.npy')\n",
    "y_test = np.load('mfcc30s20_arrays/y_test.npy')\n",
    "# load validation data\n",
    "X_val = np.load('mfcc30s20_arrays/X_val.npy')\n",
    "y_val = np.load('mfcc30s20_arrays/y_val.npy')"
   ]
  },
  {
   "cell_type": "code",
   "execution_count": 31,
   "id": "c502aa44-3d11-49d7-9ab0-87681806d218",
   "metadata": {
    "colab": {
     "base_uri": "https://localhost:8080/"
    },
    "execution": {
     "iopub.execute_input": "2023-05-18T18:38:07.967121Z",
     "iopub.status.busy": "2023-05-18T18:38:07.966765Z",
     "iopub.status.idle": "2023-05-18T18:38:14.060067Z",
     "shell.execute_reply": "2023-05-18T18:38:14.058288Z",
     "shell.execute_reply.started": "2023-05-18T18:38:07.967102Z"
    },
    "executionInfo": {
     "elapsed": 232,
     "status": "ok",
     "timestamp": 1684071370134,
     "user": {
      "displayName": "Yile Huang",
      "userId": "13131152773821944096"
     },
     "user_tz": -120
    },
    "id": "Vpn7suNAVwR0",
    "outputId": "7627b451-0de5-45bd-cc21-c8bf63249494",
    "tags": []
   },
   "outputs": [
    {
     "name": "stdout",
     "output_type": "stream",
     "text": [
      "45/45 [==============================] - 6s 127ms/step - loss: 0.3467 - auc: 0.6456\n"
     ]
    }
   ],
   "source": [
    "# compute final training evaluation metrics\n",
    "cnn2_evaluation_val = cnn2.evaluate(x = X_val, y= y_val)"
   ]
  },
  {
   "cell_type": "code",
   "execution_count": 32,
   "id": "8c199d90-23cb-42b3-8c75-06b144dcbfc7",
   "metadata": {
    "execution": {
     "iopub.execute_input": "2023-05-18T18:38:14.064017Z",
     "iopub.status.busy": "2023-05-18T18:38:14.063327Z",
     "iopub.status.idle": "2023-05-18T18:38:20.197991Z",
     "shell.execute_reply": "2023-05-18T18:38:20.196975Z",
     "shell.execute_reply.started": "2023-05-18T18:38:14.063967Z"
    },
    "tags": []
   },
   "outputs": [
    {
     "name": "stdout",
     "output_type": "stream",
     "text": [
      "45/45 [==============================] - 6s 127ms/step\n",
      "              precision    recall  f1-score   support\n",
      "\n",
      "   inspiring       0.18      0.02      0.04        83\n",
      "   energetic       0.36      0.76      0.49       286\n",
      "       happy       0.32      0.67      0.43       334\n",
      "         sad       0.03      1.00      0.06        40\n",
      "motivational       0.13      0.76      0.22       161\n",
      "    relaxing       0.16      0.43      0.23       186\n",
      "   uplifting       0.11      0.44      0.18       100\n",
      "        calm       0.34      0.65      0.44       254\n",
      "        love       0.16      0.57      0.26       141\n",
      "     hopeful       0.13      0.50      0.20       142\n",
      "\n",
      "   micro avg       0.17      0.61      0.27      1727\n",
      "   macro avg       0.19      0.58      0.25      1727\n",
      "weighted avg       0.24      0.61      0.33      1727\n",
      " samples avg       0.17      0.60      0.26      1727\n",
      "\n",
      "\n",
      "Multi-label accuracy: 0.5928520877565464\n"
     ]
    }
   ],
   "source": [
    "# print the evaluation metrics with optimized thresholds\n",
    "get_classification_report_val(cnn2)"
   ]
  },
  {
   "cell_type": "code",
   "execution_count": 33,
   "id": "c6d6b8c6-4090-4e44-bf55-424f9998efb6",
   "metadata": {
    "execution": {
     "iopub.execute_input": "2023-05-18T18:38:20.199508Z",
     "iopub.status.busy": "2023-05-18T18:38:20.199269Z",
     "iopub.status.idle": "2023-05-18T18:38:25.961152Z",
     "shell.execute_reply": "2023-05-18T18:38:25.959989Z",
     "shell.execute_reply.started": "2023-05-18T18:38:20.199487Z"
    },
    "tags": []
   },
   "outputs": [
    {
     "name": "stdout",
     "output_type": "stream",
     "text": [
      "45/45 [==============================] - 6s 127ms/step - loss: 0.3569 - auc: 0.6377\n"
     ]
    }
   ],
   "source": [
    "cnn2_evaluation_test = cnn2.evaluate(x = X_test, y= y_test)"
   ]
  },
  {
   "cell_type": "code",
   "execution_count": 34,
   "id": "b23172b7-1974-4853-8328-f8378f832a39",
   "metadata": {
    "execution": {
     "iopub.execute_input": "2023-05-18T18:38:25.964009Z",
     "iopub.status.busy": "2023-05-18T18:38:25.963202Z",
     "iopub.status.idle": "2023-05-18T18:38:37.712350Z",
     "shell.execute_reply": "2023-05-18T18:38:37.711189Z",
     "shell.execute_reply.started": "2023-05-18T18:38:25.963979Z"
    },
    "tags": []
   },
   "outputs": [
    {
     "name": "stdout",
     "output_type": "stream",
     "text": [
      "45/45 [==============================] - 6s 127ms/step\n",
      "45/45 [==============================] - 6s 126ms/step\n",
      "              precision    recall  f1-score   support\n",
      "\n",
      "   inspiring       0.13      0.02      0.04        96\n",
      "   energetic       0.33      0.79      0.47       259\n",
      "       happy       0.31      0.64      0.42       334\n",
      "         sad       0.03      1.00      0.06        40\n",
      "motivational       0.15      0.77      0.25       179\n",
      "    relaxing       0.18      0.48      0.26       193\n",
      "   uplifting       0.17      0.51      0.26       132\n",
      "        calm       0.33      0.63      0.43       268\n",
      "        love       0.16      0.56      0.25       150\n",
      "     hopeful       0.12      0.52      0.20       132\n",
      "\n",
      "   micro avg       0.18      0.60      0.27      1783\n",
      "   macro avg       0.19      0.59      0.26      1783\n",
      "weighted avg       0.23      0.60      0.32      1783\n",
      " samples avg       0.18      0.60      0.26      1783\n",
      "\n",
      "\n",
      "Multi-label accuracy: 0.5916489738145789\n"
     ]
    }
   ],
   "source": [
    "get_classification_report_test(cnn2)"
   ]
  },
  {
   "cell_type": "markdown",
   "id": "a0273fdf-9cc7-49dd-8a9f-41bb26c1dc78",
   "metadata": {},
   "source": [
    "**Performance with start MFCCs**"
   ]
  },
  {
   "cell_type": "code",
   "execution_count": 35,
   "id": "94bfa20f-317a-40d7-a6c5-9f026fc162cc",
   "metadata": {
    "execution": {
     "iopub.execute_input": "2023-05-18T18:38:37.714937Z",
     "iopub.status.busy": "2023-05-18T18:38:37.714423Z",
     "iopub.status.idle": "2023-05-18T18:38:37.823903Z",
     "shell.execute_reply": "2023-05-18T18:38:37.823024Z",
     "shell.execute_reply.started": "2023-05-18T18:38:37.714907Z"
    },
    "tags": []
   },
   "outputs": [],
   "source": [
    "# load data\n",
    "X_test = np.load('mfcc30s20_start/X_test.npy')\n",
    "y_test = np.load('mfcc30s20_start/y_test.npy')\n",
    "\n",
    "X_val = np.load('mfcc30s20_start/X_val.npy')\n",
    "y_val = np.load('mfcc30s20_start/y_val.npy')"
   ]
  },
  {
   "cell_type": "code",
   "execution_count": 36,
   "id": "b28d535e-59e8-4d65-9dd7-7a9b08a6ed3b",
   "metadata": {
    "colab": {
     "base_uri": "https://localhost:8080/"
    },
    "execution": {
     "iopub.execute_input": "2023-05-18T18:38:37.825309Z",
     "iopub.status.busy": "2023-05-18T18:38:37.824981Z",
     "iopub.status.idle": "2023-05-18T18:38:43.701295Z",
     "shell.execute_reply": "2023-05-18T18:38:43.700404Z",
     "shell.execute_reply.started": "2023-05-18T18:38:37.825284Z"
    },
    "executionInfo": {
     "elapsed": 232,
     "status": "ok",
     "timestamp": 1684071370134,
     "user": {
      "displayName": "Yile Huang",
      "userId": "13131152773821944096"
     },
     "user_tz": -120
    },
    "id": "Vpn7suNAVwR0",
    "outputId": "7627b451-0de5-45bd-cc21-c8bf63249494",
    "tags": []
   },
   "outputs": [
    {
     "name": "stdout",
     "output_type": "stream",
     "text": [
      "45/45 [==============================] - 6s 128ms/step - loss: 0.5311 - auc: 0.5263\n"
     ]
    }
   ],
   "source": [
    "# compute final training evaluation metrics\n",
    "cnn2_evaluation_val = cnn2.evaluate(x = X_val, y= y_val)"
   ]
  },
  {
   "cell_type": "code",
   "execution_count": 37,
   "id": "424cf006-80e1-491c-8b26-4af31fa28f13",
   "metadata": {
    "execution": {
     "iopub.execute_input": "2023-05-18T18:38:43.703224Z",
     "iopub.status.busy": "2023-05-18T18:38:43.702757Z",
     "iopub.status.idle": "2023-05-18T18:38:49.706671Z",
     "shell.execute_reply": "2023-05-18T18:38:49.705654Z",
     "shell.execute_reply.started": "2023-05-18T18:38:43.703176Z"
    },
    "tags": []
   },
   "outputs": [
    {
     "name": "stdout",
     "output_type": "stream",
     "text": [
      "45/45 [==============================] - 6s 125ms/step\n",
      "              precision    recall  f1-score   support\n",
      "\n",
      "   inspiring       0.08      0.02      0.03        97\n",
      "   energetic       0.38      0.15      0.22       276\n",
      "       happy       0.34      0.19      0.24       328\n",
      "         sad       0.03      1.00      0.06        42\n",
      "motivational       0.11      0.59      0.19       172\n",
      "    relaxing       0.09      0.22      0.12       178\n",
      "   uplifting       0.09      1.00      0.17       129\n",
      "        calm       0.23      0.74      0.35       273\n",
      "        love       0.09      0.41      0.15       144\n",
      "     hopeful       0.08      0.01      0.01       121\n",
      "\n",
      "   micro avg       0.11      0.39      0.17      1760\n",
      "   macro avg       0.15      0.43      0.15      1760\n",
      "weighted avg       0.20      0.39      0.19      1760\n",
      " samples avg       0.11      0.37      0.17      1760\n",
      "\n",
      "\n",
      "Multi-label accuracy: 0.5464739069111425\n"
     ]
    }
   ],
   "source": [
    "# print the evaluation metrics with optimized thresholds\n",
    "get_classification_report_val(cnn2)"
   ]
  },
  {
   "cell_type": "code",
   "execution_count": 38,
   "id": "ad477885-6126-47ba-9909-3ab091f6235b",
   "metadata": {
    "execution": {
     "iopub.execute_input": "2023-05-18T18:38:49.708232Z",
     "iopub.status.busy": "2023-05-18T18:38:49.707988Z",
     "iopub.status.idle": "2023-05-18T18:38:55.555377Z",
     "shell.execute_reply": "2023-05-18T18:38:55.554475Z",
     "shell.execute_reply.started": "2023-05-18T18:38:49.708209Z"
    },
    "tags": []
   },
   "outputs": [
    {
     "name": "stdout",
     "output_type": "stream",
     "text": [
      "45/45 [==============================] - 6s 127ms/step - loss: 0.5381 - auc: 0.5412\n"
     ]
    }
   ],
   "source": [
    "cnn2_evaluation_test = cnn2.evaluate(x = X_test, y= y_test)"
   ]
  },
  {
   "cell_type": "code",
   "execution_count": 39,
   "id": "501a101e-4b27-411f-9a9f-1bbc5e079e01",
   "metadata": {
    "execution": {
     "iopub.execute_input": "2023-05-18T18:38:55.556894Z",
     "iopub.status.busy": "2023-05-18T18:38:55.556556Z",
     "iopub.status.idle": "2023-05-18T18:39:07.623299Z",
     "shell.execute_reply": "2023-05-18T18:39:07.622246Z",
     "shell.execute_reply.started": "2023-05-18T18:38:55.556870Z"
    },
    "tags": []
   },
   "outputs": [
    {
     "name": "stdout",
     "output_type": "stream",
     "text": [
      "45/45 [==============================] - 6s 130ms/step\n",
      "45/45 [==============================] - 6s 129ms/step\n",
      "              precision    recall  f1-score   support\n",
      "\n",
      "   inspiring       0.08      0.02      0.03        99\n",
      "   energetic       0.42      0.17      0.24       266\n",
      "       happy       0.33      0.19      0.24       334\n",
      "         sad       0.03      1.00      0.06        46\n",
      "motivational       0.14      0.63      0.23       193\n",
      "    relaxing       0.12      0.26      0.16       202\n",
      "   uplifting       0.08      1.00      0.15       114\n",
      "        calm       0.22      0.78      0.35       252\n",
      "        love       0.09      0.34      0.14       160\n",
      "     hopeful       0.07      0.01      0.01       152\n",
      "\n",
      "   micro avg       0.12      0.38      0.18      1818\n",
      "   macro avg       0.16      0.44      0.16      1818\n",
      "weighted avg       0.20      0.38      0.20      1818\n",
      " samples avg       0.11      0.38      0.17      1818\n",
      "\n",
      "\n",
      "Multi-label accuracy: 0.5454866008462623\n"
     ]
    }
   ],
   "source": [
    "get_classification_report_test(cnn2)"
   ]
  },
  {
   "cell_type": "markdown",
   "id": "6489d83b-9d01-4767-b858-f78836366298",
   "metadata": {},
   "source": [
    "**Performance with end MFCCs**"
   ]
  },
  {
   "cell_type": "code",
   "execution_count": 40,
   "id": "1385309d-52cc-411b-8c57-6b96092e0b52",
   "metadata": {
    "execution": {
     "iopub.execute_input": "2023-05-18T18:39:07.625734Z",
     "iopub.status.busy": "2023-05-18T18:39:07.625254Z",
     "iopub.status.idle": "2023-05-18T18:39:07.743988Z",
     "shell.execute_reply": "2023-05-18T18:39:07.742790Z",
     "shell.execute_reply.started": "2023-05-18T18:39:07.625705Z"
    },
    "tags": []
   },
   "outputs": [],
   "source": [
    "# load data\n",
    "X_test = np.load('mfcc30s20_end/X_test.npy')\n",
    "y_test = np.load('mfcc30s20_end/y_test.npy')\n",
    "\n",
    "X_val = np.load('mfcc30s20_end/X_val.npy')\n",
    "y_val = np.load('mfcc30s20_end/y_val.npy')"
   ]
  },
  {
   "cell_type": "code",
   "execution_count": 41,
   "id": "b47d6f68-c9ac-47ad-a8fb-12621257cb31",
   "metadata": {
    "colab": {
     "base_uri": "https://localhost:8080/"
    },
    "execution": {
     "iopub.execute_input": "2023-05-18T18:39:07.745991Z",
     "iopub.status.busy": "2023-05-18T18:39:07.745672Z",
     "iopub.status.idle": "2023-05-18T18:39:13.496811Z",
     "shell.execute_reply": "2023-05-18T18:39:13.495660Z",
     "shell.execute_reply.started": "2023-05-18T18:39:07.745963Z"
    },
    "executionInfo": {
     "elapsed": 232,
     "status": "ok",
     "timestamp": 1684071370134,
     "user": {
      "displayName": "Yile Huang",
      "userId": "13131152773821944096"
     },
     "user_tz": -120
    },
    "id": "Vpn7suNAVwR0",
    "outputId": "7627b451-0de5-45bd-cc21-c8bf63249494",
    "tags": []
   },
   "outputs": [
    {
     "name": "stdout",
     "output_type": "stream",
     "text": [
      "45/45 [==============================] - 6s 126ms/step - loss: 0.6334 - auc: 0.5368\n"
     ]
    }
   ],
   "source": [
    "# compute final training evaluation metrics\n",
    "cnn2_evaluation_val = cnn2.evaluate(x = X_val, y= y_val)"
   ]
  },
  {
   "cell_type": "code",
   "execution_count": 42,
   "id": "596d447a-200a-4252-ab94-cfc513c76d1a",
   "metadata": {
    "execution": {
     "iopub.execute_input": "2023-05-18T18:39:13.499217Z",
     "iopub.status.busy": "2023-05-18T18:39:13.498797Z",
     "iopub.status.idle": "2023-05-18T18:39:19.425299Z",
     "shell.execute_reply": "2023-05-18T18:39:19.424511Z",
     "shell.execute_reply.started": "2023-05-18T18:39:13.499172Z"
    },
    "tags": []
   },
   "outputs": [
    {
     "name": "stdout",
     "output_type": "stream",
     "text": [
      "45/45 [==============================] - 6s 125ms/step\n",
      "              precision    recall  f1-score   support\n",
      "\n",
      "   inspiring       0.07      1.00      0.13        97\n",
      "   energetic       0.28      0.06      0.10       276\n",
      "       happy       0.33      0.08      0.13       328\n",
      "         sad       0.03      1.00      0.06        42\n",
      "motivational       0.13      0.52      0.20       172\n",
      "    relaxing       0.10      0.14      0.12       178\n",
      "   uplifting       0.25      0.02      0.03       129\n",
      "        calm       0.22      0.84      0.35       273\n",
      "        love       0.10      0.30      0.15       144\n",
      "     hopeful       0.17      0.01      0.02       121\n",
      "\n",
      "   micro avg       0.11      0.32      0.16      1760\n",
      "   macro avg       0.17      0.40      0.13      1760\n",
      "weighted avg       0.21      0.32      0.15      1760\n",
      " samples avg       0.11      0.33      0.16      1760\n",
      "\n",
      "\n",
      "Multi-label accuracy: 0.5772214386459803\n"
     ]
    }
   ],
   "source": [
    "# print the evaluation metrics with optimized thresholds\n",
    "get_classification_report_val(cnn2)"
   ]
  },
  {
   "cell_type": "code",
   "execution_count": 43,
   "id": "269a0e46-d4b4-4270-84e1-a7361d79f546",
   "metadata": {
    "execution": {
     "iopub.execute_input": "2023-05-18T18:39:19.426484Z",
     "iopub.status.busy": "2023-05-18T18:39:19.426263Z",
     "iopub.status.idle": "2023-05-18T18:39:25.273065Z",
     "shell.execute_reply": "2023-05-18T18:39:25.271962Z",
     "shell.execute_reply.started": "2023-05-18T18:39:19.426465Z"
    },
    "tags": []
   },
   "outputs": [
    {
     "name": "stdout",
     "output_type": "stream",
     "text": [
      "45/45 [==============================] - 6s 128ms/step - loss: 0.6809 - auc: 0.5241\n"
     ]
    }
   ],
   "source": [
    "cnn2_evaluation_test = cnn2.evaluate(x = X_test, y= y_test)"
   ]
  },
  {
   "cell_type": "code",
   "execution_count": 44,
   "id": "b32f272a-d3f5-4e18-8ad9-7d1b7123928a",
   "metadata": {
    "execution": {
     "iopub.execute_input": "2023-05-18T18:39:25.275062Z",
     "iopub.status.busy": "2023-05-18T18:39:25.274623Z",
     "iopub.status.idle": "2023-05-18T18:39:37.438377Z",
     "shell.execute_reply": "2023-05-18T18:39:37.437241Z",
     "shell.execute_reply.started": "2023-05-18T18:39:25.275032Z"
    },
    "tags": []
   },
   "outputs": [
    {
     "name": "stdout",
     "output_type": "stream",
     "text": [
      "45/45 [==============================] - 6s 131ms/step\n",
      "45/45 [==============================] - 6s 131ms/step\n",
      "              precision    recall  f1-score   support\n",
      "\n",
      "   inspiring       0.07      1.00      0.13        99\n",
      "   energetic       0.40      0.10      0.16       266\n",
      "       happy       0.33      0.08      0.13       334\n",
      "         sad       0.03      1.00      0.06        46\n",
      "motivational       0.17      0.57      0.26       193\n",
      "    relaxing       0.13      0.15      0.14       202\n",
      "   uplifting       0.00      0.00      0.00       114\n",
      "        calm       0.20      0.83      0.32       252\n",
      "        love       0.10      0.26      0.15       160\n",
      "     hopeful       0.09      0.01      0.01       152\n",
      "\n",
      "   micro avg       0.11      0.33      0.17      1818\n",
      "   macro avg       0.15      0.40      0.14      1818\n",
      "weighted avg       0.20      0.33      0.16      1818\n",
      " samples avg       0.11      0.34      0.16      1818\n",
      "\n",
      "\n",
      "Multi-label accuracy: 0.5777150916784203\n"
     ]
    }
   ],
   "source": [
    "get_classification_report_test(cnn2)"
   ]
  },
  {
   "cell_type": "markdown",
   "id": "d5be2f61-0c28-4648-bd03-c4c00f32b6bf",
   "metadata": {},
   "source": [
    " "
   ]
  },
  {
   "cell_type": "markdown",
   "id": "a9be569a-26b7-4fe4-9000-628bbcb583d8",
   "metadata": {},
   "source": [
    "### CNN3 performance"
   ]
  },
  {
   "cell_type": "code",
   "execution_count": 45,
   "id": "2660ad63-673e-4e98-84e3-f4d877bb7358",
   "metadata": {
    "execution": {
     "iopub.execute_input": "2023-05-18T18:39:37.440407Z",
     "iopub.status.busy": "2023-05-18T18:39:37.439910Z",
     "iopub.status.idle": "2023-05-18T18:39:38.959836Z",
     "shell.execute_reply": "2023-05-18T18:39:38.958566Z",
     "shell.execute_reply.started": "2023-05-18T18:39:37.440377Z"
    },
    "tags": []
   },
   "outputs": [],
   "source": [
    "# load cnn3\n",
    "unzip('CNN3_Middle_noL2_Dropout_0.2_padding.zip', 'CNN3_Middle_noL2_Dropout_0.2')"
   ]
  },
  {
   "cell_type": "code",
   "execution_count": 46,
   "id": "dd7e159e-3e1e-4111-9a6e-a57a1ea8dc3a",
   "metadata": {
    "execution": {
     "iopub.execute_input": "2023-05-18T18:39:38.961232Z",
     "iopub.status.busy": "2023-05-18T18:39:38.960908Z",
     "iopub.status.idle": "2023-05-18T18:39:39.713984Z",
     "shell.execute_reply": "2023-05-18T18:39:39.713137Z",
     "shell.execute_reply.started": "2023-05-18T18:39:38.961208Z"
    },
    "tags": []
   },
   "outputs": [],
   "source": [
    "cnn3 = tensorflow.keras.models.load_model('CNN3_Middle_noL2_Dropout_0.2')"
   ]
  },
  {
   "cell_type": "code",
   "execution_count": 47,
   "id": "d1dd5ae8-19e5-4cfa-a076-ce93cfd702ea",
   "metadata": {
    "execution": {
     "iopub.execute_input": "2023-05-18T18:39:39.715173Z",
     "iopub.status.busy": "2023-05-18T18:39:39.714980Z",
     "iopub.status.idle": "2023-05-18T18:39:39.727499Z",
     "shell.execute_reply": "2023-05-18T18:39:39.726587Z",
     "shell.execute_reply.started": "2023-05-18T18:39:39.715155Z"
    },
    "tags": []
   },
   "outputs": [],
   "source": [
    "compiler(cnn3)"
   ]
  },
  {
   "cell_type": "code",
   "execution_count": 48,
   "id": "709a0668-5645-408e-b0e1-0d031a05fdca",
   "metadata": {
    "execution": {
     "iopub.execute_input": "2023-05-18T18:39:39.728513Z",
     "iopub.status.busy": "2023-05-18T18:39:39.728336Z",
     "iopub.status.idle": "2023-05-18T18:39:39.790789Z",
     "shell.execute_reply": "2023-05-18T18:39:39.790168Z",
     "shell.execute_reply.started": "2023-05-18T18:39:39.728496Z"
    },
    "tags": []
   },
   "outputs": [
    {
     "name": "stdout",
     "output_type": "stream",
     "text": [
      "Model: \"sequential_1\"\n",
      "_________________________________________________________________\n",
      " Layer (type)                Output Shape              Param #   \n",
      "=================================================================\n",
      " conv2d_4 (Conv2D)           (None, 431, 10, 128)      1280      \n",
      "                                                                 \n",
      " max_pooling2d_4 (MaxPooling  (None, 216, 5, 128)      0         \n",
      " 2D)                                                             \n",
      "                                                                 \n",
      " batch_normalization_5 (Batc  (None, 216, 5, 128)      512       \n",
      " hNormalization)                                                 \n",
      "                                                                 \n",
      " dropout_4 (Dropout)         (None, 216, 5, 128)       0         \n",
      "                                                                 \n",
      " conv2d_5 (Conv2D)           (None, 72, 5, 384)        442752    \n",
      "                                                                 \n",
      " max_pooling2d_5 (MaxPooling  (None, 36, 3, 384)       0         \n",
      " 2D)                                                             \n",
      "                                                                 \n",
      " batch_normalization_6 (Batc  (None, 36, 3, 384)       1536      \n",
      " hNormalization)                                                 \n",
      "                                                                 \n",
      " dropout_5 (Dropout)         (None, 36, 3, 384)        0         \n",
      "                                                                 \n",
      " conv2d_6 (Conv2D)           (None, 12, 3, 768)        2654976   \n",
      "                                                                 \n",
      " max_pooling2d_6 (MaxPooling  (None, 6, 2, 768)        0         \n",
      " 2D)                                                             \n",
      "                                                                 \n",
      " batch_normalization_7 (Batc  (None, 6, 2, 768)        3072      \n",
      " hNormalization)                                                 \n",
      "                                                                 \n",
      " dropout_6 (Dropout)         (None, 6, 2, 768)         0         \n",
      "                                                                 \n",
      " conv2d_7 (Conv2D)           (None, 2, 2, 2024)        13991912  \n",
      "                                                                 \n",
      " max_pooling2d_7 (MaxPooling  (None, 1, 1, 2024)       0         \n",
      " 2D)                                                             \n",
      "                                                                 \n",
      " batch_normalization_8 (Batc  (None, 1, 1, 2024)       8096      \n",
      " hNormalization)                                                 \n",
      "                                                                 \n",
      " dropout_7 (Dropout)         (None, 1, 1, 2024)        0         \n",
      "                                                                 \n",
      " flatten_1 (Flatten)         (None, 2024)              0         \n",
      "                                                                 \n",
      " batch_normalization_9 (Batc  (None, 2024)             8096      \n",
      " hNormalization)                                                 \n",
      "                                                                 \n",
      " output (Dense)              (None, 10)                20250     \n",
      "                                                                 \n",
      "=================================================================\n",
      "Total params: 17,132,482\n",
      "Trainable params: 17,121,826\n",
      "Non-trainable params: 10,656\n",
      "_________________________________________________________________\n"
     ]
    }
   ],
   "source": [
    "cnn3.summary()"
   ]
  },
  {
   "cell_type": "markdown",
   "id": "3bb2cf3b-78fd-443a-96e0-ffd5ad6b0c24",
   "metadata": {},
   "source": [
    "**Performance with middle MFCCs**"
   ]
  },
  {
   "cell_type": "code",
   "execution_count": 49,
   "id": "f3e7cf4f-e530-4c2e-9b84-6bdaff3a77ac",
   "metadata": {
    "execution": {
     "iopub.execute_input": "2023-05-18T18:39:39.791841Z",
     "iopub.status.busy": "2023-05-18T18:39:39.791513Z",
     "iopub.status.idle": "2023-05-18T18:39:39.926627Z",
     "shell.execute_reply": "2023-05-18T18:39:39.925061Z",
     "shell.execute_reply.started": "2023-05-18T18:39:39.791823Z"
    },
    "tags": []
   },
   "outputs": [],
   "source": [
    "# load data\n",
    "X_test = np.load('mfcc30s20_arrays/X_test.npy')\n",
    "y_test = np.load('mfcc30s20_arrays/y_test.npy')\n",
    "\n",
    "X_val = np.load('mfcc30s20_arrays/X_val.npy')\n",
    "y_val = np.load('mfcc30s20_arrays/y_val.npy')"
   ]
  },
  {
   "cell_type": "code",
   "execution_count": 50,
   "id": "96ce4097-a4be-4147-86a1-277cdaa0ed8b",
   "metadata": {
    "colab": {
     "base_uri": "https://localhost:8080/"
    },
    "execution": {
     "iopub.execute_input": "2023-05-18T18:39:39.929975Z",
     "iopub.status.busy": "2023-05-18T18:39:39.928996Z",
     "iopub.status.idle": "2023-05-18T18:39:42.075464Z",
     "shell.execute_reply": "2023-05-18T18:39:42.074680Z",
     "shell.execute_reply.started": "2023-05-18T18:39:39.929921Z"
    },
    "executionInfo": {
     "elapsed": 232,
     "status": "ok",
     "timestamp": 1684071370134,
     "user": {
      "displayName": "Yile Huang",
      "userId": "13131152773821944096"
     },
     "user_tz": -120
    },
    "id": "Vpn7suNAVwR0",
    "outputId": "7627b451-0de5-45bd-cc21-c8bf63249494",
    "tags": []
   },
   "outputs": [
    {
     "name": "stdout",
     "output_type": "stream",
     "text": [
      "45/45 [==============================] - 2s 41ms/step - loss: 0.3762 - auc: 0.6957\n"
     ]
    }
   ],
   "source": [
    "# compute final training evaluation metrics\n",
    "cnn3_evaluation_val = cnn3.evaluate(x = X_val, y= y_val)"
   ]
  },
  {
   "cell_type": "code",
   "execution_count": 51,
   "id": "6c2c7e78-9b45-4f55-8d83-ee31016c6228",
   "metadata": {
    "execution": {
     "iopub.execute_input": "2023-05-18T18:39:42.077598Z",
     "iopub.status.busy": "2023-05-18T18:39:42.077132Z",
     "iopub.status.idle": "2023-05-18T18:39:44.328892Z",
     "shell.execute_reply": "2023-05-18T18:39:44.328085Z",
     "shell.execute_reply.started": "2023-05-18T18:39:42.077565Z"
    },
    "tags": []
   },
   "outputs": [
    {
     "name": "stdout",
     "output_type": "stream",
     "text": [
      "45/45 [==============================] - 2s 40ms/step\n",
      "              precision    recall  f1-score   support\n",
      "\n",
      "   inspiring       0.13      0.22      0.17        83\n",
      "   energetic       0.41      0.71      0.52       286\n",
      "       happy       0.45      0.58      0.51       334\n",
      "         sad       0.08      0.03      0.04        40\n",
      "motivational       0.32      0.30      0.31       161\n",
      "    relaxing       0.36      0.44      0.40       186\n",
      "   uplifting       0.30      0.27      0.28       100\n",
      "        calm       0.34      0.68      0.45       254\n",
      "        love       0.24      0.31      0.27       141\n",
      "     hopeful       0.22      0.11      0.14       142\n",
      "\n",
      "   micro avg       0.35      0.47      0.40      1727\n",
      "   macro avg       0.29      0.36      0.31      1727\n",
      "weighted avg       0.34      0.47      0.38      1727\n",
      " samples avg       0.38      0.48      0.40      1727\n",
      "\n",
      "\n",
      "Multi-label accuracy: 0.8300070771408351\n"
     ]
    }
   ],
   "source": [
    "# print the evaluation metrics with optimized thresholds on validation set\n",
    "get_classification_report_val(cnn3)"
   ]
  },
  {
   "cell_type": "code",
   "execution_count": 52,
   "id": "200d2599-15d1-45b8-9131-d0881832cd38",
   "metadata": {
    "execution": {
     "iopub.execute_input": "2023-05-18T18:39:44.329947Z",
     "iopub.status.busy": "2023-05-18T18:39:44.329755Z",
     "iopub.status.idle": "2023-05-18T18:39:46.265803Z",
     "shell.execute_reply": "2023-05-18T18:39:46.264893Z",
     "shell.execute_reply.started": "2023-05-18T18:39:44.329929Z"
    },
    "tags": []
   },
   "outputs": [
    {
     "name": "stdout",
     "output_type": "stream",
     "text": [
      "45/45 [==============================] - 2s 41ms/step - loss: 0.3911 - auc: 0.6803\n"
     ]
    }
   ],
   "source": [
    "# compute performance on test set\n",
    "cnn3_evaluation_test = cnn3.evaluate(x = X_test, y= y_test)"
   ]
  },
  {
   "cell_type": "code",
   "execution_count": 53,
   "id": "db7f6f81-666d-4f0e-90e2-75ac45f446f5",
   "metadata": {
    "execution": {
     "iopub.execute_input": "2023-05-18T18:39:46.267397Z",
     "iopub.status.busy": "2023-05-18T18:39:46.267025Z",
     "iopub.status.idle": "2023-05-18T18:39:50.322482Z",
     "shell.execute_reply": "2023-05-18T18:39:50.321637Z",
     "shell.execute_reply.started": "2023-05-18T18:39:46.267354Z"
    },
    "tags": []
   },
   "outputs": [
    {
     "name": "stdout",
     "output_type": "stream",
     "text": [
      "45/45 [==============================] - 2s 40ms/step\n",
      "45/45 [==============================] - 2s 40ms/step\n",
      "              precision    recall  f1-score   support\n",
      "\n",
      "   inspiring       0.15      0.22      0.18        96\n",
      "   energetic       0.40      0.73      0.52       259\n",
      "       happy       0.43      0.55      0.48       334\n",
      "         sad       0.10      0.03      0.04        40\n",
      "motivational       0.31      0.23      0.27       179\n",
      "    relaxing       0.35      0.40      0.38       193\n",
      "   uplifting       0.30      0.22      0.25       132\n",
      "        calm       0.33      0.62      0.43       268\n",
      "        love       0.26      0.32      0.29       150\n",
      "     hopeful       0.17      0.09      0.12       132\n",
      "\n",
      "   micro avg       0.34      0.43      0.38      1783\n",
      "   macro avg       0.28      0.34      0.29      1783\n",
      "weighted avg       0.32      0.43      0.36      1783\n",
      " samples avg       0.38      0.46      0.39      1783\n",
      "\n",
      "\n",
      "Multi-label accuracy: 0.8225053078556264\n"
     ]
    }
   ],
   "source": [
    "get_classification_report_test(cnn3)"
   ]
  },
  {
   "cell_type": "markdown",
   "id": "5182e954-2d37-42a9-b3bc-91c7207ac6d3",
   "metadata": {
    "execution": {
     "iopub.execute_input": "2023-05-18T18:28:13.741421Z",
     "iopub.status.busy": "2023-05-18T18:28:13.740786Z",
     "iopub.status.idle": "2023-05-18T18:28:13.750066Z",
     "shell.execute_reply": "2023-05-18T18:28:13.748307Z",
     "shell.execute_reply.started": "2023-05-18T18:28:13.741367Z"
    },
    "tags": []
   },
   "source": [
    "**Performance with start MFCCs**"
   ]
  },
  {
   "cell_type": "code",
   "execution_count": 54,
   "id": "817a154f-df4b-4cae-8475-c785dab6c16b",
   "metadata": {
    "execution": {
     "iopub.execute_input": "2023-05-18T18:39:50.323957Z",
     "iopub.status.busy": "2023-05-18T18:39:50.323520Z",
     "iopub.status.idle": "2023-05-18T18:39:50.516760Z",
     "shell.execute_reply": "2023-05-18T18:39:50.515437Z",
     "shell.execute_reply.started": "2023-05-18T18:39:50.323932Z"
    },
    "tags": []
   },
   "outputs": [],
   "source": [
    "# load data\n",
    "X_test = np.load('mfcc30s20_start/X_test.npy')\n",
    "y_test = np.load('mfcc30s20_start/y_test.npy')\n",
    "\n",
    "X_val = np.load('mfcc30s20_start/X_val.npy')\n",
    "y_val = np.load('mfcc30s20_start/y_val.npy')"
   ]
  },
  {
   "cell_type": "code",
   "execution_count": 55,
   "id": "9a65e559-388f-416a-97b1-4d4c661bf916",
   "metadata": {
    "colab": {
     "base_uri": "https://localhost:8080/"
    },
    "execution": {
     "iopub.execute_input": "2023-05-18T18:39:50.517842Z",
     "iopub.status.busy": "2023-05-18T18:39:50.517628Z",
     "iopub.status.idle": "2023-05-18T18:39:52.478332Z",
     "shell.execute_reply": "2023-05-18T18:39:52.477508Z",
     "shell.execute_reply.started": "2023-05-18T18:39:50.517824Z"
    },
    "executionInfo": {
     "elapsed": 232,
     "status": "ok",
     "timestamp": 1684071370134,
     "user": {
      "displayName": "Yile Huang",
      "userId": "13131152773821944096"
     },
     "user_tz": -120
    },
    "id": "Vpn7suNAVwR0",
    "outputId": "7627b451-0de5-45bd-cc21-c8bf63249494",
    "tags": []
   },
   "outputs": [
    {
     "name": "stdout",
     "output_type": "stream",
     "text": [
      "45/45 [==============================] - 2s 41ms/step - loss: 0.5099 - auc: 0.6051\n"
     ]
    }
   ],
   "source": [
    "# compute final training evaluation metrics\n",
    "cnn3_evaluation_val = cnn3.evaluate(x = X_val, y= y_val)"
   ]
  },
  {
   "cell_type": "code",
   "execution_count": 56,
   "id": "ccf2f334-2386-441d-a272-1a4f5dee5c8f",
   "metadata": {
    "execution": {
     "iopub.execute_input": "2023-05-18T18:39:52.480408Z",
     "iopub.status.busy": "2023-05-18T18:39:52.479986Z",
     "iopub.status.idle": "2023-05-18T18:39:54.637922Z",
     "shell.execute_reply": "2023-05-18T18:39:54.637153Z",
     "shell.execute_reply.started": "2023-05-18T18:39:52.480375Z"
    },
    "tags": []
   },
   "outputs": [
    {
     "name": "stdout",
     "output_type": "stream",
     "text": [
      "45/45 [==============================] - 2s 40ms/step\n",
      "              precision    recall  f1-score   support\n",
      "\n",
      "   inspiring       0.10      0.13      0.11        97\n",
      "   energetic       0.53      0.06      0.10       276\n",
      "       happy       0.33      0.61      0.42       328\n",
      "         sad       0.03      1.00      0.06        42\n",
      "motivational       0.31      0.16      0.21       172\n",
      "    relaxing       0.23      0.38      0.29       178\n",
      "   uplifting       0.22      0.18      0.20       129\n",
      "        calm       0.29      0.45      0.35       273\n",
      "        love       0.21      0.41      0.27       144\n",
      "     hopeful       0.17      0.10      0.12       121\n",
      "\n",
      "   micro avg       0.17      0.33      0.22      1760\n",
      "   macro avg       0.24      0.35      0.21      1760\n",
      "weighted avg       0.29      0.33      0.25      1760\n",
      " samples avg       0.17      0.34      0.22      1760\n",
      "\n",
      "\n",
      "Multi-label accuracy: 0.713540197461213\n"
     ]
    }
   ],
   "source": [
    "# print the evaluation metrics with optimized thresholds on validation set\n",
    "get_classification_report_val(cnn3)"
   ]
  },
  {
   "cell_type": "code",
   "execution_count": 57,
   "id": "c1f3ca49-80cc-41c6-b334-9a3a3806c9c0",
   "metadata": {
    "execution": {
     "iopub.execute_input": "2023-05-18T18:39:54.639007Z",
     "iopub.status.busy": "2023-05-18T18:39:54.638819Z",
     "iopub.status.idle": "2023-05-18T18:39:56.583541Z",
     "shell.execute_reply": "2023-05-18T18:39:56.582506Z",
     "shell.execute_reply.started": "2023-05-18T18:39:54.638990Z"
    },
    "tags": []
   },
   "outputs": [
    {
     "name": "stdout",
     "output_type": "stream",
     "text": [
      "45/45 [==============================] - 2s 41ms/step - loss: 0.5370 - auc: 0.5778\n"
     ]
    }
   ],
   "source": [
    "# compute performance on test set\n",
    "cnn3_evaluation_test = cnn3.evaluate(x = X_test, y= y_test)"
   ]
  },
  {
   "cell_type": "code",
   "execution_count": 58,
   "id": "9d442465-c8fa-469f-9c82-5271f5489fff",
   "metadata": {
    "execution": {
     "iopub.execute_input": "2023-05-18T18:39:56.585290Z",
     "iopub.status.busy": "2023-05-18T18:39:56.584897Z",
     "iopub.status.idle": "2023-05-18T18:40:00.904813Z",
     "shell.execute_reply": "2023-05-18T18:40:00.903602Z",
     "shell.execute_reply.started": "2023-05-18T18:39:56.585264Z"
    },
    "tags": []
   },
   "outputs": [
    {
     "name": "stdout",
     "output_type": "stream",
     "text": [
      "45/45 [==============================] - 2s 44ms/step\n",
      "45/45 [==============================] - 2s 41ms/step\n",
      "              precision    recall  f1-score   support\n",
      "\n",
      "   inspiring       0.09      0.13      0.10        99\n",
      "   energetic       0.53      0.08      0.14       266\n",
      "       happy       0.32      0.61      0.42       334\n",
      "         sad       0.03      1.00      0.06        46\n",
      "motivational       0.19      0.07      0.10       193\n",
      "    relaxing       0.25      0.34      0.29       202\n",
      "   uplifting       0.12      0.10      0.11       114\n",
      "        calm       0.22      0.36      0.27       252\n",
      "        love       0.21      0.36      0.27       160\n",
      "     hopeful       0.12      0.06      0.08       152\n",
      "\n",
      "   micro avg       0.15      0.29      0.20      1818\n",
      "   macro avg       0.21      0.31      0.18      1818\n",
      "weighted avg       0.25      0.29      0.22      1818\n",
      " samples avg       0.15      0.30      0.20      1818\n",
      "\n",
      "\n",
      "Multi-label accuracy: 0.7031734837799718\n"
     ]
    }
   ],
   "source": [
    "get_classification_report_test(cnn3)"
   ]
  },
  {
   "cell_type": "markdown",
   "id": "cb9d8fef-2008-4af6-b3ad-498211a07fbe",
   "metadata": {},
   "source": [
    "\n",
    "\n"
   ]
  },
  {
   "cell_type": "markdown",
   "id": "53c5e130-406e-4e92-9ed1-86686fdb72ac",
   "metadata": {
    "execution": {
     "iopub.execute_input": "2023-05-18T18:28:13.741421Z",
     "iopub.status.busy": "2023-05-18T18:28:13.740786Z",
     "iopub.status.idle": "2023-05-18T18:28:13.750066Z",
     "shell.execute_reply": "2023-05-18T18:28:13.748307Z",
     "shell.execute_reply.started": "2023-05-18T18:28:13.741367Z"
    },
    "tags": []
   },
   "source": [
    "**Performance with end MFCCs**"
   ]
  },
  {
   "cell_type": "code",
   "execution_count": 59,
   "id": "c6c400a3-13af-4522-94a0-5cd838d2454d",
   "metadata": {
    "execution": {
     "iopub.execute_input": "2023-05-18T18:40:00.906843Z",
     "iopub.status.busy": "2023-05-18T18:40:00.906395Z",
     "iopub.status.idle": "2023-05-18T18:40:01.020960Z",
     "shell.execute_reply": "2023-05-18T18:40:01.020002Z",
     "shell.execute_reply.started": "2023-05-18T18:40:00.906814Z"
    },
    "tags": []
   },
   "outputs": [],
   "source": [
    "# load data\n",
    "X_test = np.load('mfcc30s20_end/X_test.npy')\n",
    "y_test = np.load('mfcc30s20_end/y_test.npy')\n",
    "\n",
    "X_val = np.load('mfcc30s20_end/X_val.npy')\n",
    "y_val = np.load('mfcc30s20_end/y_val.npy')"
   ]
  },
  {
   "cell_type": "code",
   "execution_count": 60,
   "id": "249a0ded-3965-4287-b48a-db2c7ae41fdd",
   "metadata": {
    "colab": {
     "base_uri": "https://localhost:8080/"
    },
    "execution": {
     "iopub.execute_input": "2023-05-18T18:40:01.022996Z",
     "iopub.status.busy": "2023-05-18T18:40:01.022477Z",
     "iopub.status.idle": "2023-05-18T18:40:02.994710Z",
     "shell.execute_reply": "2023-05-18T18:40:02.993704Z",
     "shell.execute_reply.started": "2023-05-18T18:40:01.022962Z"
    },
    "executionInfo": {
     "elapsed": 232,
     "status": "ok",
     "timestamp": 1684071370134,
     "user": {
      "displayName": "Yile Huang",
      "userId": "13131152773821944096"
     },
     "user_tz": -120
    },
    "id": "Vpn7suNAVwR0",
    "outputId": "7627b451-0de5-45bd-cc21-c8bf63249494",
    "tags": []
   },
   "outputs": [
    {
     "name": "stdout",
     "output_type": "stream",
     "text": [
      "45/45 [==============================] - 2s 41ms/step - loss: 0.4525 - auc: 0.6457\n"
     ]
    }
   ],
   "source": [
    "# compute final training evaluation metrics\n",
    "cnn3_evaluation_val = cnn3.evaluate(x = X_val, y= y_val)"
   ]
  },
  {
   "cell_type": "code",
   "execution_count": 61,
   "id": "619491bc-2973-41cd-b401-be2c2d400755",
   "metadata": {
    "execution": {
     "iopub.execute_input": "2023-05-18T18:40:03.007846Z",
     "iopub.status.busy": "2023-05-18T18:40:03.007447Z",
     "iopub.status.idle": "2023-05-18T18:40:05.147722Z",
     "shell.execute_reply": "2023-05-18T18:40:05.146932Z",
     "shell.execute_reply.started": "2023-05-18T18:40:03.007812Z"
    },
    "tags": []
   },
   "outputs": [
    {
     "name": "stdout",
     "output_type": "stream",
     "text": [
      "45/45 [==============================] - 2s 40ms/step\n",
      "              precision    recall  f1-score   support\n",
      "\n",
      "   inspiring       0.13      0.22      0.16        97\n",
      "   energetic       0.55      0.35      0.43       276\n",
      "       happy       0.37      0.51      0.43       328\n",
      "         sad       0.03      1.00      0.06        42\n",
      "motivational       0.19      0.12      0.15       172\n",
      "    relaxing       0.27      0.42      0.33       178\n",
      "   uplifting       0.28      0.36      0.32       129\n",
      "        calm       0.33      0.59      0.42       273\n",
      "        love       0.18      0.33      0.23       144\n",
      "     hopeful       1.00      0.01      0.02       121\n",
      "\n",
      "   micro avg       0.19      0.39      0.26      1760\n",
      "   macro avg       0.33      0.39      0.25      1760\n",
      "weighted avg       0.36      0.39      0.31      1760\n",
      " samples avg       0.19      0.40      0.25      1760\n",
      "\n",
      "\n",
      "Multi-label accuracy: 0.7225669957686883\n"
     ]
    }
   ],
   "source": [
    "# print the evaluation metrics with optimized thresholds on validation set\n",
    "get_classification_report_val(cnn3)"
   ]
  },
  {
   "cell_type": "code",
   "execution_count": 62,
   "id": "fa9ff8bb-6910-43ac-8f84-a1a228c820bc",
   "metadata": {
    "execution": {
     "iopub.execute_input": "2023-05-18T18:40:05.148842Z",
     "iopub.status.busy": "2023-05-18T18:40:05.148633Z",
     "iopub.status.idle": "2023-05-18T18:40:07.070835Z",
     "shell.execute_reply": "2023-05-18T18:40:07.070025Z",
     "shell.execute_reply.started": "2023-05-18T18:40:05.148823Z"
    },
    "tags": []
   },
   "outputs": [
    {
     "name": "stdout",
     "output_type": "stream",
     "text": [
      "45/45 [==============================] - 2s 40ms/step - loss: 0.4952 - auc: 0.6176\n"
     ]
    }
   ],
   "source": [
    "# compute performance on test set\n",
    "cnn3_evaluation_test = cnn3.evaluate(x = X_test, y= y_test)"
   ]
  },
  {
   "cell_type": "code",
   "execution_count": 63,
   "id": "e851d8eb-0ab2-489c-8c1d-af24c0368919",
   "metadata": {
    "execution": {
     "iopub.execute_input": "2023-05-18T18:40:07.072759Z",
     "iopub.status.busy": "2023-05-18T18:40:07.072411Z",
     "iopub.status.idle": "2023-05-18T18:40:11.202835Z",
     "shell.execute_reply": "2023-05-18T18:40:11.202104Z",
     "shell.execute_reply.started": "2023-05-18T18:40:07.072733Z"
    },
    "tags": []
   },
   "outputs": [
    {
     "name": "stdout",
     "output_type": "stream",
     "text": [
      "45/45 [==============================] - 2s 40ms/step\n",
      "45/45 [==============================] - 2s 41ms/step\n",
      "              precision    recall  f1-score   support\n",
      "\n",
      "   inspiring       0.12      0.21      0.15        99\n",
      "   energetic       0.53      0.31      0.39       266\n",
      "       happy       0.34      0.45      0.39       334\n",
      "         sad       0.03      1.00      0.06        46\n",
      "motivational       0.24      0.14      0.18       193\n",
      "    relaxing       0.26      0.35      0.30       202\n",
      "   uplifting       0.13      0.17      0.15       114\n",
      "        calm       0.25      0.48      0.33       252\n",
      "        love       0.21      0.42      0.28       160\n",
      "     hopeful       0.00      0.00      0.00       152\n",
      "\n",
      "   micro avg       0.17      0.33      0.23      1818\n",
      "   macro avg       0.21      0.35      0.22      1818\n",
      "weighted avg       0.26      0.33      0.27      1818\n",
      " samples avg       0.17      0.34      0.22      1818\n",
      "\n",
      "\n",
      "Multi-label accuracy: 0.7094499294781382\n"
     ]
    }
   ],
   "source": [
    "get_classification_report_test(cnn3)"
   ]
  }
 ],
 "metadata": {
  "kernelspec": {
   "display_name": "Python 3 ",
   "language": "python",
   "name": "python3"
  },
  "language_info": {
   "codemirror_mode": {
    "name": "ipython",
    "version": 3
   },
   "file_extension": ".py",
   "mimetype": "text/x-python",
   "name": "python",
   "nbconvert_exporter": "python",
   "pygments_lexer": "ipython3",
   "version": "3.10.10"
  }
 },
 "nbformat": 4,
 "nbformat_minor": 5
}

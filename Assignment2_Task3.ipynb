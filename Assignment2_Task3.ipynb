{
 "cells": [
  {
   "cell_type": "markdown",
   "id": "0e7c32f4",
   "metadata": {},
   "source": [
    "## Task 3"
   ]
  },
  {
   "cell_type": "markdown",
   "id": "3cc4a335",
   "metadata": {},
   "source": [
    "##### Relevant Inputs"
   ]
  },
  {
   "cell_type": "code",
   "execution_count": 1,
   "id": "4da65d6f",
   "metadata": {
    "execution": {
     "iopub.execute_input": "2023-03-20T12:56:38.971806Z",
     "iopub.status.busy": "2023-03-20T12:56:38.971265Z",
     "iopub.status.idle": "2023-03-20T12:56:40.025084Z",
     "shell.execute_reply": "2023-03-20T12:56:40.023937Z",
     "shell.execute_reply.started": "2023-03-20T12:56:38.971764Z"
    },
    "tags": []
   },
   "outputs": [],
   "source": [
    "# import relevant libraries\n",
    "\n",
    "import numpy as np\n",
    "import pandas as pd\n",
    "\n",
    "# for splitting into training and test set\n",
    "from sklearn.model_selection import train_test_split \n",
    "\n",
    "# for SVM\n",
    "from sklearn.preprocessing import StandardScaler\n",
    "from sklearn.svm import SVC\n",
    "\n",
    "# for random forest\n",
    "from sklearn.ensemble import RandomForestClassifier\n",
    "\n",
    "# for hyperparameter tuning\n",
    "from sklearn.model_selection import GridSearchCV\n",
    "\n",
    "# for evaluation\n",
    "from sklearn.model_selection import cross_val_score\n",
    "from sklearn.model_selection import cross_val_predict\n",
    "from sklearn.metrics import confusion_matrix\n",
    "from sklearn.metrics import classification_report\n",
    "\n",
    "# for visualization\n",
    "import matplotlib.pyplot as plt"
   ]
  },
  {
   "cell_type": "code",
   "execution_count": 2,
   "id": "c2e4e119",
   "metadata": {
    "execution": {
     "iopub.execute_input": "2023-03-20T12:56:40.026533Z",
     "iopub.status.busy": "2023-03-20T12:56:40.026177Z",
     "iopub.status.idle": "2023-03-20T12:56:40.344457Z",
     "shell.execute_reply": "2023-03-20T12:56:40.343550Z",
     "shell.execute_reply.started": "2023-03-20T12:56:40.026507Z"
    },
    "tags": []
   },
   "outputs": [],
   "source": [
    "# import the dataset\n",
    "df = pd.read_csv(\"data.csv\", index_col=0) # user should be index of each row"
   ]
  },
  {
   "cell_type": "markdown",
   "id": "e0e7c661",
   "metadata": {},
   "source": [
    "##### EDA and Preprocessing of the Data"
   ]
  },
  {
   "cell_type": "code",
   "execution_count": 3,
   "id": "004a2044",
   "metadata": {
    "execution": {
     "iopub.execute_input": "2023-03-20T12:56:40.345605Z",
     "iopub.status.busy": "2023-03-20T12:56:40.345379Z",
     "iopub.status.idle": "2023-03-20T12:56:40.363325Z",
     "shell.execute_reply": "2023-03-20T12:56:40.362657Z",
     "shell.execute_reply.started": "2023-03-20T12:56:40.345585Z"
    },
    "tags": []
   },
   "outputs": [
    {
     "data": {
      "text/html": [
       "<div>\n",
       "<style scoped>\n",
       "    .dataframe tbody tr th:only-of-type {\n",
       "        vertical-align: middle;\n",
       "    }\n",
       "\n",
       "    .dataframe tbody tr th {\n",
       "        vertical-align: top;\n",
       "    }\n",
       "\n",
       "    .dataframe thead th {\n",
       "        text-align: right;\n",
       "    }\n",
       "</style>\n",
       "<table border=\"1\" class=\"dataframe\">\n",
       "  <thead>\n",
       "    <tr style=\"text-align: right;\">\n",
       "      <th></th>\n",
       "      <th>Addthis</th>\n",
       "      <th>Bebo</th>\n",
       "      <th>Blogcatalog</th>\n",
       "      <th>Blogger</th>\n",
       "      <th>Buddymedia</th>\n",
       "      <th>Cnet</th>\n",
       "      <th>Conduit</th>\n",
       "      <th>Customerlobby</th>\n",
       "      <th>Delicious</th>\n",
       "      <th>Digg</th>\n",
       "      <th>...</th>\n",
       "      <th>Vimeo</th>\n",
       "      <th>Vocus</th>\n",
       "      <th>Wetpaint</th>\n",
       "      <th>Wordpress</th>\n",
       "      <th>Xanga</th>\n",
       "      <th>Yelp</th>\n",
       "      <th>Yfrog</th>\n",
       "      <th>Youtube</th>\n",
       "      <th>Yuku</th>\n",
       "      <th>Click</th>\n",
       "    </tr>\n",
       "  </thead>\n",
       "  <tbody>\n",
       "    <tr>\n",
       "      <th>dmp923122274</th>\n",
       "      <td>0</td>\n",
       "      <td>0</td>\n",
       "      <td>2</td>\n",
       "      <td>0</td>\n",
       "      <td>0</td>\n",
       "      <td>3</td>\n",
       "      <td>6</td>\n",
       "      <td>0</td>\n",
       "      <td>0</td>\n",
       "      <td>0</td>\n",
       "      <td>...</td>\n",
       "      <td>0</td>\n",
       "      <td>0</td>\n",
       "      <td>0</td>\n",
       "      <td>4</td>\n",
       "      <td>0</td>\n",
       "      <td>0</td>\n",
       "      <td>1</td>\n",
       "      <td>0</td>\n",
       "      <td>1</td>\n",
       "      <td>0</td>\n",
       "    </tr>\n",
       "    <tr>\n",
       "      <th>dmp458034174</th>\n",
       "      <td>0</td>\n",
       "      <td>3</td>\n",
       "      <td>0</td>\n",
       "      <td>0</td>\n",
       "      <td>0</td>\n",
       "      <td>0</td>\n",
       "      <td>1</td>\n",
       "      <td>0</td>\n",
       "      <td>0</td>\n",
       "      <td>0</td>\n",
       "      <td>...</td>\n",
       "      <td>0</td>\n",
       "      <td>0</td>\n",
       "      <td>0</td>\n",
       "      <td>12</td>\n",
       "      <td>0</td>\n",
       "      <td>2</td>\n",
       "      <td>2</td>\n",
       "      <td>12</td>\n",
       "      <td>0</td>\n",
       "      <td>0</td>\n",
       "    </tr>\n",
       "    <tr>\n",
       "      <th>dmp364043571</th>\n",
       "      <td>0</td>\n",
       "      <td>2</td>\n",
       "      <td>0</td>\n",
       "      <td>0</td>\n",
       "      <td>0</td>\n",
       "      <td>0</td>\n",
       "      <td>0</td>\n",
       "      <td>0</td>\n",
       "      <td>2</td>\n",
       "      <td>0</td>\n",
       "      <td>...</td>\n",
       "      <td>0</td>\n",
       "      <td>0</td>\n",
       "      <td>0</td>\n",
       "      <td>11</td>\n",
       "      <td>0</td>\n",
       "      <td>0</td>\n",
       "      <td>0</td>\n",
       "      <td>0</td>\n",
       "      <td>0</td>\n",
       "      <td>0</td>\n",
       "    </tr>\n",
       "    <tr>\n",
       "      <th>dmp461339655</th>\n",
       "      <td>0</td>\n",
       "      <td>0</td>\n",
       "      <td>0</td>\n",
       "      <td>0</td>\n",
       "      <td>0</td>\n",
       "      <td>0</td>\n",
       "      <td>0</td>\n",
       "      <td>0</td>\n",
       "      <td>0</td>\n",
       "      <td>0</td>\n",
       "      <td>...</td>\n",
       "      <td>0</td>\n",
       "      <td>0</td>\n",
       "      <td>0</td>\n",
       "      <td>6</td>\n",
       "      <td>0</td>\n",
       "      <td>0</td>\n",
       "      <td>0</td>\n",
       "      <td>22</td>\n",
       "      <td>0</td>\n",
       "      <td>0</td>\n",
       "    </tr>\n",
       "    <tr>\n",
       "      <th>dmp549691332</th>\n",
       "      <td>0</td>\n",
       "      <td>0</td>\n",
       "      <td>0</td>\n",
       "      <td>0</td>\n",
       "      <td>0</td>\n",
       "      <td>5</td>\n",
       "      <td>7</td>\n",
       "      <td>0</td>\n",
       "      <td>0</td>\n",
       "      <td>5</td>\n",
       "      <td>...</td>\n",
       "      <td>0</td>\n",
       "      <td>0</td>\n",
       "      <td>1</td>\n",
       "      <td>0</td>\n",
       "      <td>0</td>\n",
       "      <td>0</td>\n",
       "      <td>1</td>\n",
       "      <td>0</td>\n",
       "      <td>0</td>\n",
       "      <td>0</td>\n",
       "    </tr>\n",
       "  </tbody>\n",
       "</table>\n",
       "<p>5 rows × 82 columns</p>\n",
       "</div>"
      ],
      "text/plain": [
       "              Addthis  Bebo  Blogcatalog  Blogger  Buddymedia  Cnet  Conduit  \\\n",
       "dmp923122274        0     0            2        0           0     3        6   \n",
       "dmp458034174        0     3            0        0           0     0        1   \n",
       "dmp364043571        0     2            0        0           0     0        0   \n",
       "dmp461339655        0     0            0        0           0     0        0   \n",
       "dmp549691332        0     0            0        0           0     5        7   \n",
       "\n",
       "              Customerlobby  Delicious  Digg  ... Vimeo  Vocus  Wetpaint  \\\n",
       "dmp923122274              0          0     0  ...     0      0         0   \n",
       "dmp458034174              0          0     0  ...     0      0         0   \n",
       "dmp364043571              0          2     0  ...     0      0         0   \n",
       "dmp461339655              0          0     0  ...     0      0         0   \n",
       "dmp549691332              0          0     5  ...     0      0         1   \n",
       "\n",
       "              Wordpress  Xanga  Yelp  Yfrog  Youtube  Yuku  Click  \n",
       "dmp923122274          4      0     0      1        0     1      0  \n",
       "dmp458034174         12      0     2      2       12     0      0  \n",
       "dmp364043571         11      0     0      0        0     0      0  \n",
       "dmp461339655          6      0     0      0       22     0      0  \n",
       "dmp549691332          0      0     0      1        0     0      0  \n",
       "\n",
       "[5 rows x 82 columns]"
      ]
     },
     "execution_count": 3,
     "metadata": {},
     "output_type": "execute_result"
    }
   ],
   "source": [
    "# inspect the first rows of the dataset\n",
    "df.head()"
   ]
  },
  {
   "cell_type": "code",
   "execution_count": 4,
   "id": "75f5d9fb",
   "metadata": {
    "execution": {
     "iopub.execute_input": "2023-03-20T12:56:40.364452Z",
     "iopub.status.busy": "2023-03-20T12:56:40.364232Z",
     "iopub.status.idle": "2023-03-20T12:56:40.618230Z",
     "shell.execute_reply": "2023-03-20T12:56:40.617238Z",
     "shell.execute_reply.started": "2023-03-20T12:56:40.364430Z"
    },
    "tags": []
   },
   "outputs": [
    {
     "name": "stdout",
     "output_type": "stream",
     "text": [
      "<class 'pandas.core.frame.DataFrame'>\n",
      "Index: 10000 entries, dmp923122274 to dmp521609268\n",
      "Data columns (total 82 columns):\n",
      " #   Column         Non-Null Count  Dtype \n",
      "---  ------         --------------  ----- \n",
      " 0   Addthis        10000 non-null  int64 \n",
      " 1   Bebo           10000 non-null  int64 \n",
      " 2   Blogcatalog    10000 non-null  int64 \n",
      " 3   Blogger        10000 non-null  int64 \n",
      " 4   Buddymedia     10000 non-null  int64 \n",
      " 5   Cnet           10000 non-null  int64 \n",
      " 6   Conduit        10000 non-null  int64 \n",
      " 7   Customerlobby  10000 non-null  int64 \n",
      " 8   Delicious      10000 non-null  int64 \n",
      " 9   Digg           10000 non-null  int64 \n",
      " 10  Diigo          10000 non-null  object\n",
      " 11  Docs           10000 non-null  int64 \n",
      " 12  Docstoc        10000 non-null  int64 \n",
      " 13  Download       10000 non-null  int64 \n",
      " 14  Dropbox        10000 non-null  int64 \n",
      " 15  Drupal         10000 non-null  int64 \n",
      " 16  Epinions       10000 non-null  int64 \n",
      " 17  Evernote       10000 non-null  int64 \n",
      " 18  Facebook       10000 non-null  int64 \n",
      " 19  Faves          10000 non-null  int64 \n",
      " 20  Feedburner     10000 non-null  int64 \n",
      " 21  Flickr         10000 non-null  int64 \n",
      " 22  Foursquare     10000 non-null  int64 \n",
      " 23  Friendfeed     10000 non-null  int64 \n",
      " 24  Hootsuite      10000 non-null  int64 \n",
      " 25  Joomla         10000 non-null  int64 \n",
      " 26  Jumptags       10000 non-null  int64 \n",
      " 27  Kaboodle       10000 non-null  int64 \n",
      " 28  Kickapps       10000 non-null  int64 \n",
      " 29  Linkedin       10000 non-null  int64 \n",
      " 30  Lithium        10000 non-null  int64 \n",
      " 31  Livejournal    10000 non-null  int64 \n",
      " 32  Mashable       10000 non-null  int64 \n",
      " 33  Meetup         10000 non-null  int64 \n",
      " 34  Metacafe       10000 non-null  int64 \n",
      " 35  Mixx           10000 non-null  int64 \n",
      " 36  Mouthshut      10000 non-null  int64 \n",
      " 37  Multiply       10000 non-null  int64 \n",
      " 38  Mybloglog      10000 non-null  int64 \n",
      " 39  Myspace        10000 non-null  int64 \n",
      " 40  Netvibes       10000 non-null  int64 \n",
      " 41  Newsvine       10000 non-null  int64 \n",
      " 42  Ning           10000 non-null  int64 \n",
      " 43  Orkut          10000 non-null  int64 \n",
      " 44  Photobucket    10000 non-null  int64 \n",
      " 45  Ping           10000 non-null  int64 \n",
      " 46  Pinterest      10000 non-null  int64 \n",
      " 47  Plaxo          10000 non-null  int64 \n",
      " 48  Plurk          10000 non-null  int64 \n",
      " 49  Posterous      10000 non-null  int64 \n",
      " 50  Propeller      10000 non-null  int64 \n",
      " 51  Radian6        10000 non-null  int64 \n",
      " 52  Reddit         10000 non-null  int64 \n",
      " 53  Screencast     10000 non-null  int64 \n",
      " 54  Scribd         10000 non-null  int64 \n",
      " 55  Sharethis      10000 non-null  int64 \n",
      " 56  Slashdot       10000 non-null  int64 \n",
      " 57  Sliderocket    10000 non-null  int64 \n",
      " 58  Slideshare     10000 non-null  int64 \n",
      " 59  Squidoo        10000 non-null  int64 \n",
      " 60  Startaid       10000 non-null  int64 \n",
      " 61  Stumbleupon    10000 non-null  int64 \n",
      " 62  Sysomos        10000 non-null  int64 \n",
      " 63  Technorati     10000 non-null  int64 \n",
      " 64  Thisnext       10000 non-null  int64 \n",
      " 65  Tumblr         10000 non-null  int64 \n",
      " 66  Tweetdeck      10000 non-null  int64 \n",
      " 67  Twine          10000 non-null  int64 \n",
      " 68  Twitter        10000 non-null  int64 \n",
      " 69  Typepad        10000 non-null  int64 \n",
      " 70  Ubertwitter    10000 non-null  int64 \n",
      " 71  Viadeo         10000 non-null  int64 \n",
      " 72  Vimeo          10000 non-null  int64 \n",
      " 73  Vocus          10000 non-null  int64 \n",
      " 74  Wetpaint       10000 non-null  int64 \n",
      " 75  Wordpress      10000 non-null  int64 \n",
      " 76  Xanga          10000 non-null  int64 \n",
      " 77  Yelp           10000 non-null  int64 \n",
      " 78  Yfrog          10000 non-null  int64 \n",
      " 79  Youtube        10000 non-null  int64 \n",
      " 80  Yuku           10000 non-null  int64 \n",
      " 81  Click          10000 non-null  int64 \n",
      "dtypes: int64(81), object(1)\n",
      "memory usage: 6.3+ MB\n"
     ]
    }
   ],
   "source": [
    "# inspect other aspects as well\n",
    "df.info()"
   ]
  },
  {
   "cell_type": "markdown",
   "id": "7ccb3724",
   "metadata": {},
   "source": [
    "There are columns which are not numeric!"
   ]
  },
  {
   "cell_type": "code",
   "execution_count": 5,
   "id": "e13c14cf",
   "metadata": {
    "execution": {
     "iopub.execute_input": "2023-03-20T12:56:40.619177Z",
     "iopub.status.busy": "2023-03-20T12:56:40.618985Z",
     "iopub.status.idle": "2023-03-20T12:56:40.691642Z",
     "shell.execute_reply": "2023-03-20T12:56:40.690808Z",
     "shell.execute_reply.started": "2023-03-20T12:56:40.619159Z"
    },
    "tags": []
   },
   "outputs": [
    {
     "data": {
      "text/plain": [
       "Index(['Diigo'], dtype='object')"
      ]
     },
     "execution_count": 5,
     "metadata": {},
     "output_type": "execute_result"
    }
   ],
   "source": [
    "# identify these columns automatically\n",
    "df.select_dtypes([\"object\"]).columns"
   ]
  },
  {
   "cell_type": "code",
   "execution_count": 6,
   "id": "e38e215c",
   "metadata": {
    "execution": {
     "iopub.execute_input": "2023-03-20T12:56:40.696035Z",
     "iopub.status.busy": "2023-03-20T12:56:40.695558Z",
     "iopub.status.idle": "2023-03-20T12:56:40.786743Z",
     "shell.execute_reply": "2023-03-20T12:56:40.785556Z",
     "shell.execute_reply.started": "2023-03-20T12:56:40.696004Z"
    },
    "tags": []
   },
   "outputs": [
    {
     "data": {
      "text/plain": [
       "0                         8842\n",
       "Error: value not found     642\n",
       "1                          332\n",
       "2                          183\n",
       "3                            1\n",
       "Name: Diigo, dtype: int64"
      ]
     },
     "execution_count": 6,
     "metadata": {},
     "output_type": "execute_result"
    }
   ],
   "source": [
    "# check values of this column\n",
    "df[\"Diigo\"].value_counts()"
   ]
  },
  {
   "cell_type": "code",
   "execution_count": 7,
   "id": "468673d8",
   "metadata": {
    "execution": {
     "iopub.execute_input": "2023-03-20T12:56:40.789635Z",
     "iopub.status.busy": "2023-03-20T12:56:40.788982Z",
     "iopub.status.idle": "2023-03-20T12:56:40.823848Z",
     "shell.execute_reply": "2023-03-20T12:56:40.822472Z",
     "shell.execute_reply.started": "2023-03-20T12:56:40.789605Z"
    },
    "tags": []
   },
   "outputs": [],
   "source": [
    "# replace \"Error: value not found\" with NaN\n",
    "df.loc[df[\"Diigo\"]==\"Error: value not found\",\"Diigo\"] = np.nan"
   ]
  },
  {
   "cell_type": "code",
   "execution_count": 8,
   "id": "157d518f",
   "metadata": {
    "execution": {
     "iopub.execute_input": "2023-03-20T12:56:40.826898Z",
     "iopub.status.busy": "2023-03-20T12:56:40.825916Z",
     "iopub.status.idle": "2023-03-20T12:56:40.890999Z",
     "shell.execute_reply": "2023-03-20T12:56:40.889733Z",
     "shell.execute_reply.started": "2023-03-20T12:56:40.826834Z"
    },
    "tags": []
   },
   "outputs": [
    {
     "data": {
      "text/plain": [
       "0    8842\n",
       "1     332\n",
       "2     183\n",
       "3       1\n",
       "Name: Diigo, dtype: int64"
      ]
     },
     "execution_count": 8,
     "metadata": {},
     "output_type": "execute_result"
    }
   ],
   "source": [
    "# check values again\n",
    "df[\"Diigo\"].value_counts()"
   ]
  },
  {
   "cell_type": "code",
   "execution_count": 9,
   "id": "8ab07366",
   "metadata": {
    "execution": {
     "iopub.execute_input": "2023-03-20T12:56:40.893517Z",
     "iopub.status.busy": "2023-03-20T12:56:40.892969Z",
     "iopub.status.idle": "2023-03-20T12:56:40.982839Z",
     "shell.execute_reply": "2023-03-20T12:56:40.981634Z",
     "shell.execute_reply.started": "2023-03-20T12:56:40.893484Z"
    },
    "tags": []
   },
   "outputs": [],
   "source": [
    "# convert to a numeric column as well\n",
    "df[\"Diigo\"] = df[\"Diigo\"].astype(\"float64\")"
   ]
  },
  {
   "cell_type": "code",
   "execution_count": 10,
   "id": "eb9b1bf1",
   "metadata": {
    "execution": {
     "iopub.execute_input": "2023-03-20T12:56:40.985761Z",
     "iopub.status.busy": "2023-03-20T12:56:40.985076Z",
     "iopub.status.idle": "2023-03-20T12:56:41.301034Z",
     "shell.execute_reply": "2023-03-20T12:56:41.300378Z",
     "shell.execute_reply.started": "2023-03-20T12:56:40.985710Z"
    },
    "tags": []
   },
   "outputs": [
    {
     "data": {
      "text/html": [
       "<div>\n",
       "<style scoped>\n",
       "    .dataframe tbody tr th:only-of-type {\n",
       "        vertical-align: middle;\n",
       "    }\n",
       "\n",
       "    .dataframe tbody tr th {\n",
       "        vertical-align: top;\n",
       "    }\n",
       "\n",
       "    .dataframe thead th {\n",
       "        text-align: right;\n",
       "    }\n",
       "</style>\n",
       "<table border=\"1\" class=\"dataframe\">\n",
       "  <thead>\n",
       "    <tr style=\"text-align: right;\">\n",
       "      <th></th>\n",
       "      <th>Addthis</th>\n",
       "      <th>Bebo</th>\n",
       "      <th>Blogcatalog</th>\n",
       "      <th>Blogger</th>\n",
       "      <th>Buddymedia</th>\n",
       "      <th>Cnet</th>\n",
       "      <th>Conduit</th>\n",
       "      <th>Customerlobby</th>\n",
       "      <th>Delicious</th>\n",
       "      <th>Digg</th>\n",
       "      <th>...</th>\n",
       "      <th>Vimeo</th>\n",
       "      <th>Vocus</th>\n",
       "      <th>Wetpaint</th>\n",
       "      <th>Wordpress</th>\n",
       "      <th>Xanga</th>\n",
       "      <th>Yelp</th>\n",
       "      <th>Yfrog</th>\n",
       "      <th>Youtube</th>\n",
       "      <th>Yuku</th>\n",
       "      <th>Click</th>\n",
       "    </tr>\n",
       "  </thead>\n",
       "  <tbody>\n",
       "    <tr>\n",
       "      <th>count</th>\n",
       "      <td>10000.00000</td>\n",
       "      <td>10000.00000</td>\n",
       "      <td>10000.000000</td>\n",
       "      <td>10000.000000</td>\n",
       "      <td>10000.0</td>\n",
       "      <td>10000.000000</td>\n",
       "      <td>10000.000000</td>\n",
       "      <td>10000.000000</td>\n",
       "      <td>10000.000000</td>\n",
       "      <td>10000.000000</td>\n",
       "      <td>...</td>\n",
       "      <td>10000.00000</td>\n",
       "      <td>10000.000000</td>\n",
       "      <td>10000.000000</td>\n",
       "      <td>10000.000000</td>\n",
       "      <td>10000.000000</td>\n",
       "      <td>10000.000000</td>\n",
       "      <td>10000.000000</td>\n",
       "      <td>10000.000000</td>\n",
       "      <td>10000.000000</td>\n",
       "      <td>10000.000000</td>\n",
       "    </tr>\n",
       "    <tr>\n",
       "      <th>mean</th>\n",
       "      <td>0.42250</td>\n",
       "      <td>0.78130</td>\n",
       "      <td>0.568100</td>\n",
       "      <td>2.823700</td>\n",
       "      <td>0.0</td>\n",
       "      <td>1.950400</td>\n",
       "      <td>2.142100</td>\n",
       "      <td>0.000200</td>\n",
       "      <td>0.393100</td>\n",
       "      <td>1.012700</td>\n",
       "      <td>...</td>\n",
       "      <td>0.41190</td>\n",
       "      <td>0.040200</td>\n",
       "      <td>0.293600</td>\n",
       "      <td>2.176900</td>\n",
       "      <td>0.459500</td>\n",
       "      <td>0.602200</td>\n",
       "      <td>0.380800</td>\n",
       "      <td>6.040600</td>\n",
       "      <td>0.206600</td>\n",
       "      <td>0.123400</td>\n",
       "    </tr>\n",
       "    <tr>\n",
       "      <th>std</th>\n",
       "      <td>1.01405</td>\n",
       "      <td>1.48899</td>\n",
       "      <td>1.197709</td>\n",
       "      <td>5.571438</td>\n",
       "      <td>0.0</td>\n",
       "      <td>2.937619</td>\n",
       "      <td>3.293993</td>\n",
       "      <td>0.014141</td>\n",
       "      <td>0.811319</td>\n",
       "      <td>2.266021</td>\n",
       "      <td>...</td>\n",
       "      <td>1.00436</td>\n",
       "      <td>0.196438</td>\n",
       "      <td>0.612402</td>\n",
       "      <td>3.691879</td>\n",
       "      <td>0.982169</td>\n",
       "      <td>1.194696</td>\n",
       "      <td>0.755413</td>\n",
       "      <td>7.892679</td>\n",
       "      <td>0.588856</td>\n",
       "      <td>0.328912</td>\n",
       "    </tr>\n",
       "    <tr>\n",
       "      <th>min</th>\n",
       "      <td>0.00000</td>\n",
       "      <td>0.00000</td>\n",
       "      <td>0.000000</td>\n",
       "      <td>0.000000</td>\n",
       "      <td>0.0</td>\n",
       "      <td>0.000000</td>\n",
       "      <td>0.000000</td>\n",
       "      <td>0.000000</td>\n",
       "      <td>0.000000</td>\n",
       "      <td>0.000000</td>\n",
       "      <td>...</td>\n",
       "      <td>0.00000</td>\n",
       "      <td>0.000000</td>\n",
       "      <td>0.000000</td>\n",
       "      <td>0.000000</td>\n",
       "      <td>0.000000</td>\n",
       "      <td>0.000000</td>\n",
       "      <td>0.000000</td>\n",
       "      <td>0.000000</td>\n",
       "      <td>0.000000</td>\n",
       "      <td>0.000000</td>\n",
       "    </tr>\n",
       "    <tr>\n",
       "      <th>25%</th>\n",
       "      <td>0.00000</td>\n",
       "      <td>0.00000</td>\n",
       "      <td>0.000000</td>\n",
       "      <td>0.000000</td>\n",
       "      <td>0.0</td>\n",
       "      <td>0.000000</td>\n",
       "      <td>0.000000</td>\n",
       "      <td>0.000000</td>\n",
       "      <td>0.000000</td>\n",
       "      <td>0.000000</td>\n",
       "      <td>...</td>\n",
       "      <td>0.00000</td>\n",
       "      <td>0.000000</td>\n",
       "      <td>0.000000</td>\n",
       "      <td>0.000000</td>\n",
       "      <td>0.000000</td>\n",
       "      <td>0.000000</td>\n",
       "      <td>0.000000</td>\n",
       "      <td>0.000000</td>\n",
       "      <td>0.000000</td>\n",
       "      <td>0.000000</td>\n",
       "    </tr>\n",
       "    <tr>\n",
       "      <th>50%</th>\n",
       "      <td>0.00000</td>\n",
       "      <td>0.00000</td>\n",
       "      <td>0.000000</td>\n",
       "      <td>0.000000</td>\n",
       "      <td>0.0</td>\n",
       "      <td>0.000000</td>\n",
       "      <td>0.000000</td>\n",
       "      <td>0.000000</td>\n",
       "      <td>0.000000</td>\n",
       "      <td>0.000000</td>\n",
       "      <td>...</td>\n",
       "      <td>0.00000</td>\n",
       "      <td>0.000000</td>\n",
       "      <td>0.000000</td>\n",
       "      <td>0.000000</td>\n",
       "      <td>0.000000</td>\n",
       "      <td>0.000000</td>\n",
       "      <td>0.000000</td>\n",
       "      <td>0.000000</td>\n",
       "      <td>0.000000</td>\n",
       "      <td>0.000000</td>\n",
       "    </tr>\n",
       "    <tr>\n",
       "      <th>75%</th>\n",
       "      <td>0.00000</td>\n",
       "      <td>1.00000</td>\n",
       "      <td>0.000000</td>\n",
       "      <td>0.000000</td>\n",
       "      <td>0.0</td>\n",
       "      <td>4.000000</td>\n",
       "      <td>4.000000</td>\n",
       "      <td>0.000000</td>\n",
       "      <td>0.000000</td>\n",
       "      <td>0.000000</td>\n",
       "      <td>...</td>\n",
       "      <td>0.00000</td>\n",
       "      <td>0.000000</td>\n",
       "      <td>0.000000</td>\n",
       "      <td>4.000000</td>\n",
       "      <td>0.000000</td>\n",
       "      <td>0.000000</td>\n",
       "      <td>0.000000</td>\n",
       "      <td>12.000000</td>\n",
       "      <td>0.000000</td>\n",
       "      <td>0.000000</td>\n",
       "    </tr>\n",
       "    <tr>\n",
       "      <th>max</th>\n",
       "      <td>6.00000</td>\n",
       "      <td>8.00000</td>\n",
       "      <td>7.000000</td>\n",
       "      <td>28.000000</td>\n",
       "      <td>0.0</td>\n",
       "      <td>15.000000</td>\n",
       "      <td>16.000000</td>\n",
       "      <td>1.000000</td>\n",
       "      <td>4.000000</td>\n",
       "      <td>13.000000</td>\n",
       "      <td>...</td>\n",
       "      <td>7.00000</td>\n",
       "      <td>1.000000</td>\n",
       "      <td>3.000000</td>\n",
       "      <td>19.000000</td>\n",
       "      <td>5.000000</td>\n",
       "      <td>7.000000</td>\n",
       "      <td>4.000000</td>\n",
       "      <td>36.000000</td>\n",
       "      <td>4.000000</td>\n",
       "      <td>1.000000</td>\n",
       "    </tr>\n",
       "  </tbody>\n",
       "</table>\n",
       "<p>8 rows × 82 columns</p>\n",
       "</div>"
      ],
      "text/plain": [
       "           Addthis         Bebo   Blogcatalog       Blogger  Buddymedia  \\\n",
       "count  10000.00000  10000.00000  10000.000000  10000.000000     10000.0   \n",
       "mean       0.42250      0.78130      0.568100      2.823700         0.0   \n",
       "std        1.01405      1.48899      1.197709      5.571438         0.0   \n",
       "min        0.00000      0.00000      0.000000      0.000000         0.0   \n",
       "25%        0.00000      0.00000      0.000000      0.000000         0.0   \n",
       "50%        0.00000      0.00000      0.000000      0.000000         0.0   \n",
       "75%        0.00000      1.00000      0.000000      0.000000         0.0   \n",
       "max        6.00000      8.00000      7.000000     28.000000         0.0   \n",
       "\n",
       "               Cnet       Conduit  Customerlobby     Delicious          Digg  \\\n",
       "count  10000.000000  10000.000000   10000.000000  10000.000000  10000.000000   \n",
       "mean       1.950400      2.142100       0.000200      0.393100      1.012700   \n",
       "std        2.937619      3.293993       0.014141      0.811319      2.266021   \n",
       "min        0.000000      0.000000       0.000000      0.000000      0.000000   \n",
       "25%        0.000000      0.000000       0.000000      0.000000      0.000000   \n",
       "50%        0.000000      0.000000       0.000000      0.000000      0.000000   \n",
       "75%        4.000000      4.000000       0.000000      0.000000      0.000000   \n",
       "max       15.000000     16.000000       1.000000      4.000000     13.000000   \n",
       "\n",
       "       ...        Vimeo         Vocus      Wetpaint     Wordpress  \\\n",
       "count  ...  10000.00000  10000.000000  10000.000000  10000.000000   \n",
       "mean   ...      0.41190      0.040200      0.293600      2.176900   \n",
       "std    ...      1.00436      0.196438      0.612402      3.691879   \n",
       "min    ...      0.00000      0.000000      0.000000      0.000000   \n",
       "25%    ...      0.00000      0.000000      0.000000      0.000000   \n",
       "50%    ...      0.00000      0.000000      0.000000      0.000000   \n",
       "75%    ...      0.00000      0.000000      0.000000      4.000000   \n",
       "max    ...      7.00000      1.000000      3.000000     19.000000   \n",
       "\n",
       "              Xanga          Yelp         Yfrog       Youtube          Yuku  \\\n",
       "count  10000.000000  10000.000000  10000.000000  10000.000000  10000.000000   \n",
       "mean       0.459500      0.602200      0.380800      6.040600      0.206600   \n",
       "std        0.982169      1.194696      0.755413      7.892679      0.588856   \n",
       "min        0.000000      0.000000      0.000000      0.000000      0.000000   \n",
       "25%        0.000000      0.000000      0.000000      0.000000      0.000000   \n",
       "50%        0.000000      0.000000      0.000000      0.000000      0.000000   \n",
       "75%        0.000000      0.000000      0.000000     12.000000      0.000000   \n",
       "max        5.000000      7.000000      4.000000     36.000000      4.000000   \n",
       "\n",
       "              Click  \n",
       "count  10000.000000  \n",
       "mean       0.123400  \n",
       "std        0.328912  \n",
       "min        0.000000  \n",
       "25%        0.000000  \n",
       "50%        0.000000  \n",
       "75%        0.000000  \n",
       "max        1.000000  \n",
       "\n",
       "[8 rows x 82 columns]"
      ]
     },
     "execution_count": 10,
     "metadata": {},
     "output_type": "execute_result"
    }
   ],
   "source": [
    "# check distribution of each variable\n",
    "df.describe()"
   ]
  },
  {
   "cell_type": "code",
   "execution_count": 11,
   "id": "e9a2ff43",
   "metadata": {
    "execution": {
     "iopub.execute_input": "2023-03-20T12:56:41.302092Z",
     "iopub.status.busy": "2023-03-20T12:56:41.301859Z",
     "iopub.status.idle": "2023-03-20T12:56:41.315569Z",
     "shell.execute_reply": "2023-03-20T12:56:41.314860Z",
     "shell.execute_reply.started": "2023-03-20T12:56:41.302071Z"
    },
    "tags": []
   },
   "outputs": [
    {
     "data": {
      "text/plain": [
       "[]"
      ]
     },
     "execution_count": 11,
     "metadata": {},
     "output_type": "execute_result"
    }
   ],
   "source": [
    "# check if there are columns with less 0 impressions\n",
    "\n",
    "left_outliers = []\n",
    "\n",
    "for col in df.columns:\n",
    "    if df[col].min()<0:\n",
    "        left_outliers.append(col)\n",
    "\n",
    "left_outliers"
   ]
  },
  {
   "cell_type": "markdown",
   "id": "79f793ab",
   "metadata": {},
   "source": [
    "There are no left outliers!"
   ]
  },
  {
   "cell_type": "code",
   "execution_count": 12,
   "id": "5c1ecc7b",
   "metadata": {
    "execution": {
     "iopub.execute_input": "2023-03-20T12:56:41.316620Z",
     "iopub.status.busy": "2023-03-20T12:56:41.316389Z",
     "iopub.status.idle": "2023-03-20T12:56:41.471032Z",
     "shell.execute_reply": "2023-03-20T12:56:41.470222Z",
     "shell.execute_reply.started": "2023-03-20T12:56:41.316599Z"
    },
    "tags": []
   },
   "outputs": [
    {
     "data": {
      "text/plain": [
       "['Newsvine']"
      ]
     },
     "execution_count": 12,
     "metadata": {},
     "output_type": "execute_result"
    }
   ],
   "source": [
    "# check if there are columns with more than 1000 impressions\n",
    "\n",
    "right_outliers = []\n",
    "\n",
    "for col in df.columns:\n",
    "    if df[col].max()>=1000:\n",
    "        right_outliers.append(col)\n",
    "\n",
    "right_outliers"
   ]
  },
  {
   "cell_type": "code",
   "execution_count": 13,
   "id": "201965c0",
   "metadata": {
    "execution": {
     "iopub.execute_input": "2023-03-20T12:56:41.473063Z",
     "iopub.status.busy": "2023-03-20T12:56:41.472209Z",
     "iopub.status.idle": "2023-03-20T12:56:41.531415Z",
     "shell.execute_reply": "2023-03-20T12:56:41.530268Z",
     "shell.execute_reply.started": "2023-03-20T12:56:41.473034Z"
    },
    "tags": []
   },
   "outputs": [
    {
     "data": {
      "text/plain": [
       "96372367637"
      ]
     },
     "execution_count": 13,
     "metadata": {},
     "output_type": "execute_result"
    }
   ],
   "source": [
    "# inspect this column\n",
    "df[\"Newsvine\"].max()"
   ]
  },
  {
   "cell_type": "code",
   "execution_count": 14,
   "id": "c91fa8ca",
   "metadata": {
    "execution": {
     "iopub.execute_input": "2023-03-20T12:56:41.534446Z",
     "iopub.status.busy": "2023-03-20T12:56:41.533275Z",
     "iopub.status.idle": "2023-03-20T12:56:41.636911Z",
     "shell.execute_reply": "2023-03-20T12:56:41.635747Z",
     "shell.execute_reply.started": "2023-03-20T12:56:41.534394Z"
    },
    "tags": []
   },
   "outputs": [
    {
     "data": {
      "text/plain": [
       "0              8443\n",
       "1              1335\n",
       "2               218\n",
       "3                 3\n",
       "96372367637       1\n",
       "Name: Newsvine, dtype: int64"
      ]
     },
     "execution_count": 14,
     "metadata": {},
     "output_type": "execute_result"
    }
   ],
   "source": [
    "df[\"Newsvine\"].value_counts()"
   ]
  },
  {
   "cell_type": "markdown",
   "id": "ce7edf1f",
   "metadata": {},
   "source": [
    "There is only one off value!"
   ]
  },
  {
   "cell_type": "code",
   "execution_count": 15,
   "id": "c6131797",
   "metadata": {
    "execution": {
     "iopub.execute_input": "2023-03-20T12:56:41.639263Z",
     "iopub.status.busy": "2023-03-20T12:56:41.638724Z",
     "iopub.status.idle": "2023-03-20T12:56:41.729220Z",
     "shell.execute_reply": "2023-03-20T12:56:41.728053Z",
     "shell.execute_reply.started": "2023-03-20T12:56:41.639225Z"
    },
    "tags": []
   },
   "outputs": [],
   "source": [
    "# replace max value with NaN\n",
    "df.loc[df[\"Newsvine\"]==df[\"Newsvine\"].max(),\"Newsvine\"] = np.nan"
   ]
  },
  {
   "cell_type": "code",
   "execution_count": 16,
   "id": "6bea2320",
   "metadata": {
    "execution": {
     "iopub.execute_input": "2023-03-20T12:56:41.731969Z",
     "iopub.status.busy": "2023-03-20T12:56:41.731344Z",
     "iopub.status.idle": "2023-03-20T12:56:41.855529Z",
     "shell.execute_reply": "2023-03-20T12:56:41.854385Z",
     "shell.execute_reply.started": "2023-03-20T12:56:41.731925Z"
    },
    "tags": []
   },
   "outputs": [
    {
     "data": {
      "text/plain": [
       "0.0    8443\n",
       "1.0    1335\n",
       "2.0     218\n",
       "3.0       3\n",
       "Name: Newsvine, dtype: int64"
      ]
     },
     "execution_count": 16,
     "metadata": {},
     "output_type": "execute_result"
    }
   ],
   "source": [
    "df[\"Newsvine\"].value_counts()"
   ]
  },
  {
   "cell_type": "code",
   "execution_count": 17,
   "id": "016d58ec",
   "metadata": {
    "execution": {
     "iopub.execute_input": "2023-03-20T12:56:41.858418Z",
     "iopub.status.busy": "2023-03-20T12:56:41.857720Z",
     "iopub.status.idle": "2023-03-20T12:56:42.193865Z",
     "shell.execute_reply": "2023-03-20T12:56:42.193127Z",
     "shell.execute_reply.started": "2023-03-20T12:56:41.858366Z"
    },
    "tags": []
   },
   "outputs": [
    {
     "data": {
      "text/plain": [
       "{'Diigo': 642, 'Newsvine': 1}"
      ]
     },
     "execution_count": 17,
     "metadata": {},
     "output_type": "execute_result"
    }
   ],
   "source": [
    "# check out columns with NaN and their amount\n",
    "\n",
    "col_with_na = {}\n",
    "\n",
    "for col in df.columns:\n",
    "    if df[col].isna().sum()>0:\n",
    "        col_with_na[col]=df[col].isna().sum()\n",
    "\n",
    "col_with_na"
   ]
  },
  {
   "cell_type": "markdown",
   "id": "7ef5dc15",
   "metadata": {},
   "source": [
    "Because most values of Diigo are 0 (8842 of 10,000), the decision is to take out this variable because there are a lot of NaN values after preprocessing and SVM cannot deal with NaNs. Also, the one observation of Newsvine should be removed due to the NaN value after preprocessing."
   ]
  },
  {
   "cell_type": "code",
   "execution_count": 18,
   "id": "6c0bad34",
   "metadata": {
    "execution": {
     "iopub.execute_input": "2023-03-20T12:56:42.194823Z",
     "iopub.status.busy": "2023-03-20T12:56:42.194614Z",
     "iopub.status.idle": "2023-03-20T12:56:42.337246Z",
     "shell.execute_reply": "2023-03-20T12:56:42.336451Z",
     "shell.execute_reply.started": "2023-03-20T12:56:42.194804Z"
    },
    "tags": []
   },
   "outputs": [],
   "source": [
    "df = df.drop(\"Diigo\", axis=1)\n",
    "df = df.dropna()"
   ]
  },
  {
   "cell_type": "code",
   "execution_count": 19,
   "id": "3283ddd9",
   "metadata": {
    "execution": {
     "iopub.execute_input": "2023-03-20T12:56:42.338519Z",
     "iopub.status.busy": "2023-03-20T12:56:42.338185Z",
     "iopub.status.idle": "2023-03-20T12:56:42.391577Z",
     "shell.execute_reply": "2023-03-20T12:56:42.390439Z",
     "shell.execute_reply.started": "2023-03-20T12:56:42.338495Z"
    },
    "tags": []
   },
   "outputs": [
    {
     "data": {
      "text/plain": [
       "12.341234123412342"
      ]
     },
     "execution_count": 19,
     "metadata": {},
     "output_type": "execute_result"
    }
   ],
   "source": [
    "# check ratio of users who clicked vs. didn't click on the advertisement\n",
    "df[\"Click\"].sum()/df[\"Click\"].count() * 100"
   ]
  },
  {
   "cell_type": "markdown",
   "id": "ecc38283",
   "metadata": {},
   "source": [
    "Only 12.34% of the data represents users who clicked on the advertisement. There are too less observations where a user clicked on the advertisement! Therefore, both models need a balancing of the target variable while training (class_weight=\"balanced\")!"
   ]
  },
  {
   "cell_type": "markdown",
   "id": "0e1bc52d",
   "metadata": {},
   "source": [
    "### 1."
   ]
  },
  {
   "cell_type": "markdown",
   "id": "d49726ec",
   "metadata": {},
   "source": [
    "##### Splitting into training and test set"
   ]
  },
  {
   "cell_type": "code",
   "execution_count": 20,
   "id": "ca96622c",
   "metadata": {
    "execution": {
     "iopub.execute_input": "2023-03-20T12:56:42.394367Z",
     "iopub.status.busy": "2023-03-20T12:56:42.393755Z",
     "iopub.status.idle": "2023-03-20T12:56:42.505575Z",
     "shell.execute_reply": "2023-03-20T12:56:42.504357Z",
     "shell.execute_reply.started": "2023-03-20T12:56:42.394332Z"
    },
    "tags": []
   },
   "outputs": [],
   "source": [
    "# divide the data into features and target variable\n",
    "\n",
    "X = df.drop(\"Click\", axis=1)\n",
    "y = df[\"Click\"]"
   ]
  },
  {
   "cell_type": "code",
   "execution_count": 21,
   "id": "d69f3059",
   "metadata": {
    "execution": {
     "iopub.execute_input": "2023-03-20T12:56:42.517431Z",
     "iopub.status.busy": "2023-03-20T12:56:42.516938Z",
     "iopub.status.idle": "2023-03-20T12:56:42.598524Z",
     "shell.execute_reply": "2023-03-20T12:56:42.597789Z",
     "shell.execute_reply.started": "2023-03-20T12:56:42.517396Z"
    },
    "tags": []
   },
   "outputs": [],
   "source": [
    "# split the dataset into training and test set\n",
    "X_train, X_test, y_train, y_test = train_test_split(X, y, test_size=0.2, random_state=42)"
   ]
  },
  {
   "cell_type": "markdown",
   "id": "25ccbe15",
   "metadata": {},
   "source": [
    "##### Implement SVM "
   ]
  },
  {
   "cell_type": "code",
   "execution_count": 22,
   "id": "ccf7eaf8",
   "metadata": {
    "execution": {
     "iopub.execute_input": "2023-03-20T12:56:42.600067Z",
     "iopub.status.busy": "2023-03-20T12:56:42.599641Z",
     "iopub.status.idle": "2023-03-20T12:56:42.666857Z",
     "shell.execute_reply": "2023-03-20T12:56:42.666023Z",
     "shell.execute_reply.started": "2023-03-20T12:56:42.600044Z"
    },
    "tags": []
   },
   "outputs": [],
   "source": [
    "# scale the data for SVM\n",
    "\n",
    "scaler = StandardScaler()\n",
    "\n",
    "X_train_scaled = scaler.fit_transform(X_train)\n",
    "X_test_scaled = scaler.fit_transform(X_test)"
   ]
  },
  {
   "cell_type": "code",
   "execution_count": 23,
   "id": "75c50c2e",
   "metadata": {
    "execution": {
     "iopub.execute_input": "2023-03-20T12:56:42.667971Z",
     "iopub.status.busy": "2023-03-20T12:56:42.667752Z",
     "iopub.status.idle": "2023-03-20T12:56:42.706207Z",
     "shell.execute_reply": "2023-03-20T12:56:42.705111Z",
     "shell.execute_reply.started": "2023-03-20T12:56:42.667952Z"
    },
    "tags": []
   },
   "outputs": [],
   "source": [
    "# use hyperparameter tuning to identify optimal model of these possibilites\n",
    "\n",
    "param_grid = {\"C\": [0.1, 1, 10, 100, 1000],  \n",
    "              \"gamma\": [1, 0.1, 0.01, 0.001, 0.0001], \n",
    "              \"kernel\": [\"rbf\"]} "
   ]
  },
  {
   "cell_type": "code",
   "execution_count": 24,
   "id": "195ec9d1",
   "metadata": {
    "execution": {
     "iopub.execute_input": "2023-03-20T12:56:42.709185Z",
     "iopub.status.busy": "2023-03-20T12:56:42.708434Z",
     "iopub.status.idle": "2023-03-20T12:56:42.796144Z",
     "shell.execute_reply": "2023-03-20T12:56:42.794944Z",
     "shell.execute_reply.started": "2023-03-20T12:56:42.709128Z"
    },
    "tags": []
   },
   "outputs": [],
   "source": [
    "# initiate SVM\n",
    "# random_state for reproducibility\n",
    "# class_weight=\"balanced\" because the dataset is inbalanced\n",
    "svm = SVC(random_state=42, class_weight=\"balanced\")"
   ]
  },
  {
   "cell_type": "code",
   "execution_count": 25,
   "id": "0bc510b9",
   "metadata": {
    "execution": {
     "iopub.execute_input": "2023-03-20T12:56:42.799082Z",
     "iopub.status.busy": "2023-03-20T12:56:42.798380Z",
     "iopub.status.idle": "2023-03-20T12:56:42.917905Z",
     "shell.execute_reply": "2023-03-20T12:56:42.916704Z",
     "shell.execute_reply.started": "2023-03-20T12:56:42.799028Z"
    },
    "tags": []
   },
   "outputs": [],
   "source": [
    "# all different possibilities are trained using 5-fold cross validation over training set (no need for validation set therefore)\n",
    "# literature suggests 5- or 10-fold cross validation as best\n",
    "# after identifying the optimal SVM hyperparameters:\n",
    "# a model is trained over best set of hyperparameters over whole training set and used for our predictions later \n",
    "grid_svm = GridSearchCV(estimator=svm, \n",
    "                        param_grid=param_grid, \n",
    "                        refit=True, verbose=3, \n",
    "                        cv=5, \n",
    "                        return_train_score=True)"
   ]
  },
  {
   "cell_type": "code",
   "execution_count": 26,
   "id": "0f133852",
   "metadata": {
    "execution": {
     "iopub.execute_input": "2023-03-20T12:56:42.920981Z",
     "iopub.status.busy": "2023-03-20T12:56:42.920196Z",
     "iopub.status.idle": "2023-03-20T13:04:28.091291Z",
     "shell.execute_reply": "2023-03-20T13:04:28.090035Z",
     "shell.execute_reply.started": "2023-03-20T12:56:42.920926Z"
    },
    "tags": []
   },
   "outputs": [
    {
     "name": "stdout",
     "output_type": "stream",
     "text": [
      "Fitting 5 folds for each of 25 candidates, totalling 125 fits\n",
      "[CV 1/5] END C=0.1, gamma=1, kernel=rbf;, score=(train=0.125, test=0.126) total time=   3.1s\n",
      "[CV 2/5] END C=0.1, gamma=1, kernel=rbf;, score=(train=0.125, test=0.126) total time=   2.8s\n",
      "[CV 3/5] END C=0.1, gamma=1, kernel=rbf;, score=(train=0.125, test=0.126) total time=   2.8s\n",
      "[CV 4/5] END C=0.1, gamma=1, kernel=rbf;, score=(train=0.125, test=0.126) total time=   2.9s\n",
      "[CV 5/5] END C=0.1, gamma=1, kernel=rbf;, score=(train=0.874, test=0.875) total time=   2.9s\n",
      "[CV 1/5] END C=0.1, gamma=0.1, kernel=rbf;, score=(train=0.125, test=0.126) total time=   3.1s\n",
      "[CV 2/5] END C=0.1, gamma=0.1, kernel=rbf;, score=(train=0.125, test=0.126) total time=   3.0s\n",
      "[CV 3/5] END C=0.1, gamma=0.1, kernel=rbf;, score=(train=0.125, test=0.126) total time=   3.0s\n",
      "[CV 4/5] END C=0.1, gamma=0.1, kernel=rbf;, score=(train=0.125, test=0.126) total time=   3.1s\n",
      "[CV 5/5] END C=0.1, gamma=0.1, kernel=rbf;, score=(train=0.874, test=0.875) total time=   3.0s\n",
      "[CV 1/5] END C=0.1, gamma=0.01, kernel=rbf;, score=(train=0.866, test=0.854) total time=   1.8s\n",
      "[CV 2/5] END C=0.1, gamma=0.01, kernel=rbf;, score=(train=0.864, test=0.861) total time=   1.8s\n",
      "[CV 3/5] END C=0.1, gamma=0.01, kernel=rbf;, score=(train=0.865, test=0.849) total time=   1.8s\n",
      "[CV 4/5] END C=0.1, gamma=0.01, kernel=rbf;, score=(train=0.863, test=0.856) total time=   1.9s\n",
      "[CV 5/5] END C=0.1, gamma=0.01, kernel=rbf;, score=(train=0.862, test=0.840) total time=   1.8s\n",
      "[CV 1/5] END C=0.1, gamma=0.001, kernel=rbf;, score=(train=0.847, test=0.841) total time=   2.6s\n",
      "[CV 2/5] END C=0.1, gamma=0.001, kernel=rbf;, score=(train=0.845, test=0.843) total time=   2.7s\n",
      "[CV 3/5] END C=0.1, gamma=0.001, kernel=rbf;, score=(train=0.843, test=0.846) total time=   2.9s\n",
      "[CV 4/5] END C=0.1, gamma=0.001, kernel=rbf;, score=(train=0.843, test=0.846) total time=   2.7s\n",
      "[CV 5/5] END C=0.1, gamma=0.001, kernel=rbf;, score=(train=0.844, test=0.831) total time=   2.8s\n",
      "[CV 1/5] END C=0.1, gamma=0.0001, kernel=rbf;, score=(train=0.785, test=0.783) total time=   3.6s\n",
      "[CV 2/5] END C=0.1, gamma=0.0001, kernel=rbf;, score=(train=0.625, test=0.625) total time=   3.6s\n",
      "[CV 3/5] END C=0.1, gamma=0.0001, kernel=rbf;, score=(train=0.684, test=0.682) total time=   3.6s\n",
      "[CV 4/5] END C=0.1, gamma=0.0001, kernel=rbf;, score=(train=0.695, test=0.713) total time=   3.6s\n",
      "[CV 5/5] END C=0.1, gamma=0.0001, kernel=rbf;, score=(train=0.874, test=0.875) total time=   3.5s\n",
      "[CV 1/5] END C=1, gamma=1, kernel=rbf;, score=(train=1.000, test=0.874) total time=   3.1s\n",
      "[CV 2/5] END C=1, gamma=1, kernel=rbf;, score=(train=1.000, test=0.874) total time=   3.1s\n",
      "[CV 3/5] END C=1, gamma=1, kernel=rbf;, score=(train=1.000, test=0.874) total time=   3.1s\n",
      "[CV 4/5] END C=1, gamma=1, kernel=rbf;, score=(train=1.000, test=0.874) total time=   3.2s\n",
      "[CV 5/5] END C=1, gamma=1, kernel=rbf;, score=(train=1.000, test=0.875) total time=   3.1s\n",
      "[CV 1/5] END C=1, gamma=0.1, kernel=rbf;, score=(train=1.000, test=0.874) total time=   3.2s\n",
      "[CV 2/5] END C=1, gamma=0.1, kernel=rbf;, score=(train=1.000, test=0.874) total time=   3.1s\n",
      "[CV 3/5] END C=1, gamma=0.1, kernel=rbf;, score=(train=1.000, test=0.874) total time=   3.1s\n",
      "[CV 4/5] END C=1, gamma=0.1, kernel=rbf;, score=(train=1.000, test=0.874) total time=   3.2s\n",
      "[CV 5/5] END C=1, gamma=0.1, kernel=rbf;, score=(train=1.000, test=0.875) total time=   3.1s\n",
      "[CV 1/5] END C=1, gamma=0.01, kernel=rbf;, score=(train=0.989, test=0.956) total time=   0.9s\n",
      "[CV 2/5] END C=1, gamma=0.01, kernel=rbf;, score=(train=0.991, test=0.961) total time=   0.9s\n",
      "[CV 3/5] END C=1, gamma=0.01, kernel=rbf;, score=(train=0.993, test=0.953) total time=   1.0s\n",
      "[CV 4/5] END C=1, gamma=0.01, kernel=rbf;, score=(train=0.991, test=0.958) total time=   1.0s\n",
      "[CV 5/5] END C=1, gamma=0.01, kernel=rbf;, score=(train=0.992, test=0.958) total time=   1.0s\n",
      "[CV 1/5] END C=1, gamma=0.001, kernel=rbf;, score=(train=0.914, test=0.906) total time=   1.1s\n",
      "[CV 2/5] END C=1, gamma=0.001, kernel=rbf;, score=(train=0.910, test=0.924) total time=   1.1s\n",
      "[CV 3/5] END C=1, gamma=0.001, kernel=rbf;, score=(train=0.915, test=0.905) total time=   1.1s\n",
      "[CV 4/5] END C=1, gamma=0.001, kernel=rbf;, score=(train=0.920, test=0.910) total time=   1.1s\n",
      "[CV 5/5] END C=1, gamma=0.001, kernel=rbf;, score=(train=0.914, test=0.906) total time=   1.1s\n",
      "[CV 1/5] END C=1, gamma=0.0001, kernel=rbf;, score=(train=0.855, test=0.852) total time=   2.4s\n",
      "[CV 2/5] END C=1, gamma=0.0001, kernel=rbf;, score=(train=0.855, test=0.852) total time=   2.4s\n",
      "[CV 3/5] END C=1, gamma=0.0001, kernel=rbf;, score=(train=0.852, test=0.854) total time=   2.4s\n",
      "[CV 4/5] END C=1, gamma=0.0001, kernel=rbf;, score=(train=0.851, test=0.858) total time=   2.4s\n",
      "[CV 5/5] END C=1, gamma=0.0001, kernel=rbf;, score=(train=0.850, test=0.838) total time=   2.4s\n",
      "[CV 1/5] END C=10, gamma=1, kernel=rbf;, score=(train=1.000, test=0.874) total time=   2.8s\n",
      "[CV 2/5] END C=10, gamma=1, kernel=rbf;, score=(train=1.000, test=0.874) total time=   2.9s\n",
      "[CV 3/5] END C=10, gamma=1, kernel=rbf;, score=(train=1.000, test=0.874) total time=   2.9s\n",
      "[CV 4/5] END C=10, gamma=1, kernel=rbf;, score=(train=1.000, test=0.874) total time=   2.9s\n",
      "[CV 5/5] END C=10, gamma=1, kernel=rbf;, score=(train=1.000, test=0.875) total time=   2.9s\n",
      "[CV 1/5] END C=10, gamma=0.1, kernel=rbf;, score=(train=1.000, test=0.874) total time=   2.8s\n",
      "[CV 2/5] END C=10, gamma=0.1, kernel=rbf;, score=(train=1.000, test=0.874) total time=   2.9s\n",
      "[CV 3/5] END C=10, gamma=0.1, kernel=rbf;, score=(train=1.000, test=0.874) total time=   2.9s\n",
      "[CV 4/5] END C=10, gamma=0.1, kernel=rbf;, score=(train=1.000, test=0.874) total time=   2.9s\n",
      "[CV 5/5] END C=10, gamma=0.1, kernel=rbf;, score=(train=1.000, test=0.875) total time=   2.8s\n",
      "[CV 1/5] END C=10, gamma=0.01, kernel=rbf;, score=(train=1.000, test=0.963) total time=   0.7s\n",
      "[CV 2/5] END C=10, gamma=0.01, kernel=rbf;, score=(train=1.000, test=0.959) total time=   0.7s\n",
      "[CV 3/5] END C=10, gamma=0.01, kernel=rbf;, score=(train=1.000, test=0.958) total time=   0.7s\n",
      "[CV 4/5] END C=10, gamma=0.01, kernel=rbf;, score=(train=1.000, test=0.959) total time=   0.7s\n",
      "[CV 5/5] END C=10, gamma=0.01, kernel=rbf;, score=(train=1.000, test=0.966) total time=   0.7s\n",
      "[CV 1/5] END C=10, gamma=0.001, kernel=rbf;, score=(train=0.964, test=0.953) total time=   0.5s\n",
      "[CV 2/5] END C=10, gamma=0.001, kernel=rbf;, score=(train=0.964, test=0.960) total time=   0.5s\n",
      "[CV 3/5] END C=10, gamma=0.001, kernel=rbf;, score=(train=0.965, test=0.950) total time=   0.5s\n",
      "[CV 4/5] END C=10, gamma=0.001, kernel=rbf;, score=(train=0.962, test=0.956) total time=   0.5s\n",
      "[CV 5/5] END C=10, gamma=0.001, kernel=rbf;, score=(train=0.966, test=0.949) total time=   0.5s\n",
      "[CV 1/5] END C=10, gamma=0.0001, kernel=rbf;, score=(train=0.914, test=0.911) total time=   1.1s\n",
      "[CV 2/5] END C=10, gamma=0.0001, kernel=rbf;, score=(train=0.910, test=0.926) total time=   1.0s\n",
      "[CV 3/5] END C=10, gamma=0.0001, kernel=rbf;, score=(train=0.915, test=0.909) total time=   1.1s\n",
      "[CV 4/5] END C=10, gamma=0.0001, kernel=rbf;, score=(train=0.922, test=0.913) total time=   1.1s\n",
      "[CV 5/5] END C=10, gamma=0.0001, kernel=rbf;, score=(train=0.916, test=0.904) total time=   1.1s\n",
      "[CV 1/5] END C=100, gamma=1, kernel=rbf;, score=(train=1.000, test=0.874) total time=   2.9s\n",
      "[CV 2/5] END C=100, gamma=1, kernel=rbf;, score=(train=1.000, test=0.874) total time=   2.9s\n",
      "[CV 3/5] END C=100, gamma=1, kernel=rbf;, score=(train=1.000, test=0.874) total time=   2.9s\n",
      "[CV 4/5] END C=100, gamma=1, kernel=rbf;, score=(train=1.000, test=0.874) total time=   2.9s\n",
      "[CV 5/5] END C=100, gamma=1, kernel=rbf;, score=(train=1.000, test=0.875) total time=   2.9s\n",
      "[CV 1/5] END C=100, gamma=0.1, kernel=rbf;, score=(train=1.000, test=0.874) total time=   2.9s\n",
      "[CV 2/5] END C=100, gamma=0.1, kernel=rbf;, score=(train=1.000, test=0.874) total time=   3.0s\n",
      "[CV 3/5] END C=100, gamma=0.1, kernel=rbf;, score=(train=1.000, test=0.874) total time=   2.9s\n",
      "[CV 4/5] END C=100, gamma=0.1, kernel=rbf;, score=(train=1.000, test=0.874) total time=   3.0s\n",
      "[CV 5/5] END C=100, gamma=0.1, kernel=rbf;, score=(train=1.000, test=0.875) total time=   2.9s\n",
      "[CV 1/5] END C=100, gamma=0.01, kernel=rbf;, score=(train=1.000, test=0.963) total time=   0.7s\n",
      "[CV 2/5] END C=100, gamma=0.01, kernel=rbf;, score=(train=1.000, test=0.959) total time=   0.7s\n",
      "[CV 3/5] END C=100, gamma=0.01, kernel=rbf;, score=(train=1.000, test=0.958) total time=   0.7s\n",
      "[CV 4/5] END C=100, gamma=0.01, kernel=rbf;, score=(train=1.000, test=0.959) total time=   0.7s\n",
      "[CV 5/5] END C=100, gamma=0.01, kernel=rbf;, score=(train=1.000, test=0.966) total time=   0.7s\n",
      "[CV 1/5] END C=100, gamma=0.001, kernel=rbf;, score=(train=0.997, test=0.969) total time=   0.4s\n",
      "[CV 2/5] END C=100, gamma=0.001, kernel=rbf;, score=(train=0.997, test=0.973) total time=   0.4s\n",
      "[CV 3/5] END C=100, gamma=0.001, kernel=rbf;, score=(train=0.997, test=0.968) total time=   0.4s\n",
      "[CV 4/5] END C=100, gamma=0.001, kernel=rbf;, score=(train=0.997, test=0.971) total time=   0.4s\n",
      "[CV 5/5] END C=100, gamma=0.001, kernel=rbf;, score=(train=0.997, test=0.971) total time=   0.4s\n",
      "[CV 1/5] END C=100, gamma=0.0001, kernel=rbf;, score=(train=0.950, test=0.944) total time=   0.5s\n",
      "[CV 2/5] END C=100, gamma=0.0001, kernel=rbf;, score=(train=0.948, test=0.957) total time=   0.5s\n",
      "[CV 3/5] END C=100, gamma=0.0001, kernel=rbf;, score=(train=0.953, test=0.944) total time=   0.5s\n",
      "[CV 4/5] END C=100, gamma=0.0001, kernel=rbf;, score=(train=0.949, test=0.948) total time=   0.5s\n",
      "[CV 5/5] END C=100, gamma=0.0001, kernel=rbf;, score=(train=0.952, test=0.946) total time=   0.5s\n",
      "[CV 1/5] END C=1000, gamma=1, kernel=rbf;, score=(train=1.000, test=0.874) total time=   2.8s\n",
      "[CV 2/5] END C=1000, gamma=1, kernel=rbf;, score=(train=1.000, test=0.874) total time=   2.8s\n",
      "[CV 3/5] END C=1000, gamma=1, kernel=rbf;, score=(train=1.000, test=0.874) total time=   2.8s\n",
      "[CV 4/5] END C=1000, gamma=1, kernel=rbf;, score=(train=1.000, test=0.874) total time=   2.8s\n",
      "[CV 5/5] END C=1000, gamma=1, kernel=rbf;, score=(train=1.000, test=0.875) total time=   2.8s\n",
      "[CV 1/5] END C=1000, gamma=0.1, kernel=rbf;, score=(train=1.000, test=0.874) total time=   2.9s\n",
      "[CV 2/5] END C=1000, gamma=0.1, kernel=rbf;, score=(train=1.000, test=0.874) total time=   2.9s\n",
      "[CV 3/5] END C=1000, gamma=0.1, kernel=rbf;, score=(train=1.000, test=0.874) total time=   2.9s\n",
      "[CV 4/5] END C=1000, gamma=0.1, kernel=rbf;, score=(train=1.000, test=0.874) total time=   2.9s\n",
      "[CV 5/5] END C=1000, gamma=0.1, kernel=rbf;, score=(train=1.000, test=0.875) total time=   2.9s\n",
      "[CV 1/5] END C=1000, gamma=0.01, kernel=rbf;, score=(train=1.000, test=0.963) total time=   0.7s\n",
      "[CV 2/5] END C=1000, gamma=0.01, kernel=rbf;, score=(train=1.000, test=0.959) total time=   0.7s\n",
      "[CV 3/5] END C=1000, gamma=0.01, kernel=rbf;, score=(train=1.000, test=0.958) total time=   0.7s\n",
      "[CV 4/5] END C=1000, gamma=0.01, kernel=rbf;, score=(train=1.000, test=0.959) total time=   0.7s\n",
      "[CV 5/5] END C=1000, gamma=0.01, kernel=rbf;, score=(train=1.000, test=0.966) total time=   0.7s\n",
      "[CV 1/5] END C=1000, gamma=0.001, kernel=rbf;, score=(train=1.000, test=0.969) total time=   0.5s\n",
      "[CV 2/5] END C=1000, gamma=0.001, kernel=rbf;, score=(train=1.000, test=0.975) total time=   0.5s\n",
      "[CV 3/5] END C=1000, gamma=0.001, kernel=rbf;, score=(train=1.000, test=0.964) total time=   0.4s\n",
      "[CV 4/5] END C=1000, gamma=0.001, kernel=rbf;, score=(train=1.000, test=0.966) total time=   0.5s\n",
      "[CV 5/5] END C=1000, gamma=0.001, kernel=rbf;, score=(train=1.000, test=0.971) total time=   0.5s\n",
      "[CV 1/5] END C=1000, gamma=0.0001, kernel=rbf;, score=(train=0.972, test=0.961) total time=   0.4s\n",
      "[CV 2/5] END C=1000, gamma=0.0001, kernel=rbf;, score=(train=0.971, test=0.967) total time=   0.4s\n",
      "[CV 3/5] END C=1000, gamma=0.0001, kernel=rbf;, score=(train=0.975, test=0.957) total time=   0.4s\n",
      "[CV 4/5] END C=1000, gamma=0.0001, kernel=rbf;, score=(train=0.974, test=0.967) total time=   0.4s\n",
      "[CV 5/5] END C=1000, gamma=0.0001, kernel=rbf;, score=(train=0.974, test=0.961) total time=   0.4s\n"
     ]
    },
    {
     "data": {
      "text/html": [
       "<style>#sk-container-id-1 {color: black;background-color: white;}#sk-container-id-1 pre{padding: 0;}#sk-container-id-1 div.sk-toggleable {background-color: white;}#sk-container-id-1 label.sk-toggleable__label {cursor: pointer;display: block;width: 100%;margin-bottom: 0;padding: 0.3em;box-sizing: border-box;text-align: center;}#sk-container-id-1 label.sk-toggleable__label-arrow:before {content: \"▸\";float: left;margin-right: 0.25em;color: #696969;}#sk-container-id-1 label.sk-toggleable__label-arrow:hover:before {color: black;}#sk-container-id-1 div.sk-estimator:hover label.sk-toggleable__label-arrow:before {color: black;}#sk-container-id-1 div.sk-toggleable__content {max-height: 0;max-width: 0;overflow: hidden;text-align: left;background-color: #f0f8ff;}#sk-container-id-1 div.sk-toggleable__content pre {margin: 0.2em;color: black;border-radius: 0.25em;background-color: #f0f8ff;}#sk-container-id-1 input.sk-toggleable__control:checked~div.sk-toggleable__content {max-height: 200px;max-width: 100%;overflow: auto;}#sk-container-id-1 input.sk-toggleable__control:checked~label.sk-toggleable__label-arrow:before {content: \"▾\";}#sk-container-id-1 div.sk-estimator input.sk-toggleable__control:checked~label.sk-toggleable__label {background-color: #d4ebff;}#sk-container-id-1 div.sk-label input.sk-toggleable__control:checked~label.sk-toggleable__label {background-color: #d4ebff;}#sk-container-id-1 input.sk-hidden--visually {border: 0;clip: rect(1px 1px 1px 1px);clip: rect(1px, 1px, 1px, 1px);height: 1px;margin: -1px;overflow: hidden;padding: 0;position: absolute;width: 1px;}#sk-container-id-1 div.sk-estimator {font-family: monospace;background-color: #f0f8ff;border: 1px dotted black;border-radius: 0.25em;box-sizing: border-box;margin-bottom: 0.5em;}#sk-container-id-1 div.sk-estimator:hover {background-color: #d4ebff;}#sk-container-id-1 div.sk-parallel-item::after {content: \"\";width: 100%;border-bottom: 1px solid gray;flex-grow: 1;}#sk-container-id-1 div.sk-label:hover label.sk-toggleable__label {background-color: #d4ebff;}#sk-container-id-1 div.sk-serial::before {content: \"\";position: absolute;border-left: 1px solid gray;box-sizing: border-box;top: 0;bottom: 0;left: 50%;z-index: 0;}#sk-container-id-1 div.sk-serial {display: flex;flex-direction: column;align-items: center;background-color: white;padding-right: 0.2em;padding-left: 0.2em;position: relative;}#sk-container-id-1 div.sk-item {position: relative;z-index: 1;}#sk-container-id-1 div.sk-parallel {display: flex;align-items: stretch;justify-content: center;background-color: white;position: relative;}#sk-container-id-1 div.sk-item::before, #sk-container-id-1 div.sk-parallel-item::before {content: \"\";position: absolute;border-left: 1px solid gray;box-sizing: border-box;top: 0;bottom: 0;left: 50%;z-index: -1;}#sk-container-id-1 div.sk-parallel-item {display: flex;flex-direction: column;z-index: 1;position: relative;background-color: white;}#sk-container-id-1 div.sk-parallel-item:first-child::after {align-self: flex-end;width: 50%;}#sk-container-id-1 div.sk-parallel-item:last-child::after {align-self: flex-start;width: 50%;}#sk-container-id-1 div.sk-parallel-item:only-child::after {width: 0;}#sk-container-id-1 div.sk-dashed-wrapped {border: 1px dashed gray;margin: 0 0.4em 0.5em 0.4em;box-sizing: border-box;padding-bottom: 0.4em;background-color: white;}#sk-container-id-1 div.sk-label label {font-family: monospace;font-weight: bold;display: inline-block;line-height: 1.2em;}#sk-container-id-1 div.sk-label-container {text-align: center;}#sk-container-id-1 div.sk-container {/* jupyter's `normalize.less` sets `[hidden] { display: none; }` but bootstrap.min.css set `[hidden] { display: none !important; }` so we also need the `!important` here to be able to override the default hidden behavior on the sphinx rendered scikit-learn.org. See: https://github.com/scikit-learn/scikit-learn/issues/21755 */display: inline-block !important;position: relative;}#sk-container-id-1 div.sk-text-repr-fallback {display: none;}</style><div id=\"sk-container-id-1\" class=\"sk-top-container\"><div class=\"sk-text-repr-fallback\"><pre>GridSearchCV(cv=5, estimator=SVC(class_weight=&#x27;balanced&#x27;, random_state=42),\n",
       "             param_grid={&#x27;C&#x27;: [0.1, 1, 10, 100, 1000],\n",
       "                         &#x27;gamma&#x27;: [1, 0.1, 0.01, 0.001, 0.0001],\n",
       "                         &#x27;kernel&#x27;: [&#x27;rbf&#x27;]},\n",
       "             return_train_score=True, verbose=3)</pre><b>In a Jupyter environment, please rerun this cell to show the HTML representation or trust the notebook. <br />On GitHub, the HTML representation is unable to render, please try loading this page with nbviewer.org.</b></div><div class=\"sk-container\" hidden><div class=\"sk-item sk-dashed-wrapped\"><div class=\"sk-label-container\"><div class=\"sk-label sk-toggleable\"><input class=\"sk-toggleable__control sk-hidden--visually\" id=\"sk-estimator-id-1\" type=\"checkbox\" ><label for=\"sk-estimator-id-1\" class=\"sk-toggleable__label sk-toggleable__label-arrow\">GridSearchCV</label><div class=\"sk-toggleable__content\"><pre>GridSearchCV(cv=5, estimator=SVC(class_weight=&#x27;balanced&#x27;, random_state=42),\n",
       "             param_grid={&#x27;C&#x27;: [0.1, 1, 10, 100, 1000],\n",
       "                         &#x27;gamma&#x27;: [1, 0.1, 0.01, 0.001, 0.0001],\n",
       "                         &#x27;kernel&#x27;: [&#x27;rbf&#x27;]},\n",
       "             return_train_score=True, verbose=3)</pre></div></div></div><div class=\"sk-parallel\"><div class=\"sk-parallel-item\"><div class=\"sk-item\"><div class=\"sk-label-container\"><div class=\"sk-label sk-toggleable\"><input class=\"sk-toggleable__control sk-hidden--visually\" id=\"sk-estimator-id-2\" type=\"checkbox\" ><label for=\"sk-estimator-id-2\" class=\"sk-toggleable__label sk-toggleable__label-arrow\">estimator: SVC</label><div class=\"sk-toggleable__content\"><pre>SVC(class_weight=&#x27;balanced&#x27;, random_state=42)</pre></div></div></div><div class=\"sk-serial\"><div class=\"sk-item\"><div class=\"sk-estimator sk-toggleable\"><input class=\"sk-toggleable__control sk-hidden--visually\" id=\"sk-estimator-id-3\" type=\"checkbox\" ><label for=\"sk-estimator-id-3\" class=\"sk-toggleable__label sk-toggleable__label-arrow\">SVC</label><div class=\"sk-toggleable__content\"><pre>SVC(class_weight=&#x27;balanced&#x27;, random_state=42)</pre></div></div></div></div></div></div></div></div></div></div>"
      ],
      "text/plain": [
       "GridSearchCV(cv=5, estimator=SVC(class_weight='balanced', random_state=42),\n",
       "             param_grid={'C': [0.1, 1, 10, 100, 1000],\n",
       "                         'gamma': [1, 0.1, 0.01, 0.001, 0.0001],\n",
       "                         'kernel': ['rbf']},\n",
       "             return_train_score=True, verbose=3)"
      ]
     },
     "execution_count": 26,
     "metadata": {},
     "output_type": "execute_result"
    }
   ],
   "source": [
    "# fitting the model for grid search\n",
    "grid_svm.fit(X_train_scaled, y_train)"
   ]
  },
  {
   "cell_type": "code",
   "execution_count": 27,
   "id": "c9667d8c",
   "metadata": {
    "execution": {
     "iopub.execute_input": "2023-03-20T13:04:28.093540Z",
     "iopub.status.busy": "2023-03-20T13:04:28.093318Z",
     "iopub.status.idle": "2023-03-20T13:04:28.100599Z",
     "shell.execute_reply": "2023-03-20T13:04:28.100007Z",
     "shell.execute_reply.started": "2023-03-20T13:04:28.093520Z"
    },
    "tags": []
   },
   "outputs": [
    {
     "name": "stdout",
     "output_type": "stream",
     "text": [
      "{'C': 100, 'gamma': 0.001, 'kernel': 'rbf'}\n",
      "SVC(C=100, class_weight='balanced', gamma=0.001, random_state=42)\n"
     ]
    }
   ],
   "source": [
    "# print best parameter after tuning\n",
    "print(grid_svm.best_params_)\n",
    "  \n",
    "# print how our model looks after hyperparameter tuning\n",
    "print(grid_svm.best_estimator_)"
   ]
  },
  {
   "cell_type": "code",
   "execution_count": 28,
   "id": "6f410f7b",
   "metadata": {
    "execution": {
     "iopub.execute_input": "2023-03-20T13:04:28.101743Z",
     "iopub.status.busy": "2023-03-20T13:04:28.101577Z",
     "iopub.status.idle": "2023-03-20T13:04:28.716543Z",
     "shell.execute_reply": "2023-03-20T13:04:28.715331Z",
     "shell.execute_reply.started": "2023-03-20T13:04:28.101728Z"
    },
    "tags": []
   },
   "outputs": [
    {
     "name": "stdout",
     "output_type": "stream",
     "text": [
      "This is the confusion matrix \n",
      " [[6965   30]\n",
      " [   0 1004]] \n",
      "\n",
      "              precision    recall  f1-score   support\n",
      "\n",
      "           0       1.00      1.00      1.00      6995\n",
      "           1       0.97      1.00      0.99      1004\n",
      "\n",
      "    accuracy                           1.00      7999\n",
      "   macro avg       0.99      1.00      0.99      7999\n",
      "weighted avg       1.00      1.00      1.00      7999\n",
      "\n"
     ]
    }
   ],
   "source": [
    "# check scores on training set \n",
    "\n",
    "# get predictions on training set \n",
    "grid_predictions = grid_svm.predict(X_train_scaled)\n",
    "\n",
    "#print confusion matrix\n",
    "print(\"This is the confusion matrix \\n\",\n",
    "      confusion_matrix(y_train, grid_predictions), \"\\n\")\n",
    "\n",
    "# print classification report \n",
    "# includes precision recall f1-score and support \n",
    "print(classification_report(y_train, grid_predictions))"
   ]
  },
  {
   "cell_type": "code",
   "execution_count": 29,
   "id": "782be47b",
   "metadata": {
    "execution": {
     "iopub.execute_input": "2023-03-20T13:04:28.717435Z",
     "iopub.status.busy": "2023-03-20T13:04:28.717266Z",
     "iopub.status.idle": "2023-03-20T13:04:28.841633Z",
     "shell.execute_reply": "2023-03-20T13:04:28.840961Z",
     "shell.execute_reply.started": "2023-03-20T13:04:28.717419Z"
    },
    "tags": []
   },
   "outputs": [
    {
     "name": "stdout",
     "output_type": "stream",
     "text": [
      "This is the confusion matrix \n",
      " [[1730   40]\n",
      " [  19  211]] \n",
      "\n",
      "              precision    recall  f1-score   support\n",
      "\n",
      "           0       0.99      0.98      0.98      1770\n",
      "           1       0.84      0.92      0.88       230\n",
      "\n",
      "    accuracy                           0.97      2000\n",
      "   macro avg       0.91      0.95      0.93      2000\n",
      "weighted avg       0.97      0.97      0.97      2000\n",
      "\n"
     ]
    }
   ],
   "source": [
    "# check scores on test set \n",
    "\n",
    "# get predictions on test set \n",
    "grid_predictions = grid_svm.predict(X_test_scaled)\n",
    "\n",
    "#print confusion matrix\n",
    "print(\"This is the confusion matrix \\n\",\n",
    "      confusion_matrix(y_test, grid_predictions), \"\\n\")\n",
    "\n",
    "# print classification report \n",
    "# includes precision, recall, f1-score and support \n",
    "print(classification_report(y_test, grid_predictions))"
   ]
  },
  {
   "cell_type": "markdown",
   "id": "738e5168-b0d6-40c4-bf5b-c504c6a27ed8",
   "metadata": {},
   "source": [
    "The f1-score on the unseen test set of the SVM is 97%. However, the performance predicting class 1 is lower due to the imbalance of the target variable in the dataset."
   ]
  },
  {
   "cell_type": "markdown",
   "id": "cabb677b",
   "metadata": {},
   "source": [
    "##### Implement Random Forest"
   ]
  },
  {
   "cell_type": "code",
   "execution_count": 30,
   "id": "48db4ecd",
   "metadata": {
    "execution": {
     "iopub.execute_input": "2023-03-20T13:04:28.842784Z",
     "iopub.status.busy": "2023-03-20T13:04:28.842589Z",
     "iopub.status.idle": "2023-03-20T13:04:28.970446Z",
     "shell.execute_reply": "2023-03-20T13:04:28.969189Z",
     "shell.execute_reply.started": "2023-03-20T13:04:28.842769Z"
    },
    "tags": []
   },
   "outputs": [],
   "source": [
    "# initiate random forest classifier\n",
    "# random_state for reproducibility\n",
    "rf = RandomForestClassifier(random_state=42, class_weight=\"balanced\") "
   ]
  },
  {
   "cell_type": "code",
   "execution_count": 31,
   "id": "1ed3a54f",
   "metadata": {
    "execution": {
     "iopub.execute_input": "2023-03-20T13:04:28.974366Z",
     "iopub.status.busy": "2023-03-20T13:04:28.973044Z",
     "iopub.status.idle": "2023-03-20T13:04:29.072392Z",
     "shell.execute_reply": "2023-03-20T13:04:29.071184Z",
     "shell.execute_reply.started": "2023-03-20T13:04:28.974275Z"
    },
    "tags": []
   },
   "outputs": [],
   "source": [
    "# use hyperparameter tuning to identify optimal model of these possibilites\n",
    "\n",
    "param_grid = {\"n_estimators\": [300, 500, 1000],\n",
    "              \"max_depth\": [1, 3, 5, 10],\n",
    "              \"min_samples_split\": [2, 4, 6, 8]}"
   ]
  },
  {
   "cell_type": "code",
   "execution_count": 32,
   "id": "277cccd5",
   "metadata": {
    "execution": {
     "iopub.execute_input": "2023-03-20T13:04:29.075199Z",
     "iopub.status.busy": "2023-03-20T13:04:29.074653Z",
     "iopub.status.idle": "2023-03-20T13:04:29.233863Z",
     "shell.execute_reply": "2023-03-20T13:04:29.232670Z",
     "shell.execute_reply.started": "2023-03-20T13:04:29.075147Z"
    },
    "tags": []
   },
   "outputs": [],
   "source": [
    "# all different possibilities are trained using 5-fold cross validation over training set (no need for validation set therefore)\n",
    "# literature suggests 5- or 10-fold cross validation as best\n",
    "# after identifying the optimal random forest hyperparameters:\n",
    "# a model is trained over best set of hyperparameters over whole training set and used for our predictions later\n",
    "grid_rf = GridSearchCV(estimator=rf, \n",
    "                       param_grid=param_grid, \n",
    "                       refit=True, verbose=3, \n",
    "                       cv=5,\n",
    "                       return_train_score=True)"
   ]
  },
  {
   "cell_type": "code",
   "execution_count": 33,
   "id": "d66473b4",
   "metadata": {
    "execution": {
     "iopub.execute_input": "2023-03-20T13:04:29.236940Z",
     "iopub.status.busy": "2023-03-20T13:04:29.236223Z",
     "iopub.status.idle": "2023-03-20T13:12:32.526845Z",
     "shell.execute_reply": "2023-03-20T13:12:32.526180Z",
     "shell.execute_reply.started": "2023-03-20T13:04:29.236873Z"
    },
    "tags": []
   },
   "outputs": [
    {
     "name": "stdout",
     "output_type": "stream",
     "text": [
      "Fitting 5 folds for each of 48 candidates, totalling 240 fits\n",
      "[CV 1/5] END max_depth=1, min_samples_split=2, n_estimators=300;, score=(train=0.833, test=0.824) total time=   0.6s\n",
      "[CV 2/5] END max_depth=1, min_samples_split=2, n_estimators=300;, score=(train=0.836, test=0.818) total time=   0.5s\n",
      "[CV 3/5] END max_depth=1, min_samples_split=2, n_estimators=300;, score=(train=0.823, test=0.814) total time=   0.5s\n",
      "[CV 4/5] END max_depth=1, min_samples_split=2, n_estimators=300;, score=(train=0.825, test=0.821) total time=   0.5s\n",
      "[CV 5/5] END max_depth=1, min_samples_split=2, n_estimators=300;, score=(train=0.832, test=0.833) total time=   0.5s\n",
      "[CV 1/5] END max_depth=1, min_samples_split=2, n_estimators=500;, score=(train=0.833, test=0.817) total time=   0.9s\n",
      "[CV 2/5] END max_depth=1, min_samples_split=2, n_estimators=500;, score=(train=0.837, test=0.821) total time=   0.9s\n",
      "[CV 3/5] END max_depth=1, min_samples_split=2, n_estimators=500;, score=(train=0.830, test=0.821) total time=   0.9s\n",
      "[CV 4/5] END max_depth=1, min_samples_split=2, n_estimators=500;, score=(train=0.827, test=0.820) total time=   0.9s\n",
      "[CV 5/5] END max_depth=1, min_samples_split=2, n_estimators=500;, score=(train=0.836, test=0.834) total time=   0.9s\n",
      "[CV 1/5] END max_depth=1, min_samples_split=2, n_estimators=1000;, score=(train=0.834, test=0.827) total time=   1.8s\n",
      "[CV 2/5] END max_depth=1, min_samples_split=2, n_estimators=1000;, score=(train=0.836, test=0.819) total time=   1.8s\n",
      "[CV 3/5] END max_depth=1, min_samples_split=2, n_estimators=1000;, score=(train=0.831, test=0.828) total time=   1.8s\n",
      "[CV 4/5] END max_depth=1, min_samples_split=2, n_estimators=1000;, score=(train=0.830, test=0.823) total time=   1.8s\n",
      "[CV 5/5] END max_depth=1, min_samples_split=2, n_estimators=1000;, score=(train=0.836, test=0.831) total time=   1.8s\n",
      "[CV 1/5] END max_depth=1, min_samples_split=4, n_estimators=300;, score=(train=0.833, test=0.824) total time=   0.5s\n",
      "[CV 2/5] END max_depth=1, min_samples_split=4, n_estimators=300;, score=(train=0.836, test=0.818) total time=   0.5s\n",
      "[CV 3/5] END max_depth=1, min_samples_split=4, n_estimators=300;, score=(train=0.823, test=0.814) total time=   0.5s\n",
      "[CV 4/5] END max_depth=1, min_samples_split=4, n_estimators=300;, score=(train=0.825, test=0.821) total time=   0.5s\n",
      "[CV 5/5] END max_depth=1, min_samples_split=4, n_estimators=300;, score=(train=0.832, test=0.833) total time=   0.5s\n",
      "[CV 1/5] END max_depth=1, min_samples_split=4, n_estimators=500;, score=(train=0.833, test=0.817) total time=   0.9s\n",
      "[CV 2/5] END max_depth=1, min_samples_split=4, n_estimators=500;, score=(train=0.837, test=0.821) total time=   0.9s\n",
      "[CV 3/5] END max_depth=1, min_samples_split=4, n_estimators=500;, score=(train=0.830, test=0.821) total time=   0.9s\n",
      "[CV 4/5] END max_depth=1, min_samples_split=4, n_estimators=500;, score=(train=0.827, test=0.820) total time=   0.9s\n",
      "[CV 5/5] END max_depth=1, min_samples_split=4, n_estimators=500;, score=(train=0.836, test=0.834) total time=   0.9s\n",
      "[CV 1/5] END max_depth=1, min_samples_split=4, n_estimators=1000;, score=(train=0.834, test=0.827) total time=   1.8s\n",
      "[CV 2/5] END max_depth=1, min_samples_split=4, n_estimators=1000;, score=(train=0.836, test=0.819) total time=   1.8s\n",
      "[CV 3/5] END max_depth=1, min_samples_split=4, n_estimators=1000;, score=(train=0.831, test=0.828) total time=   1.8s\n",
      "[CV 4/5] END max_depth=1, min_samples_split=4, n_estimators=1000;, score=(train=0.830, test=0.823) total time=   1.8s\n",
      "[CV 5/5] END max_depth=1, min_samples_split=4, n_estimators=1000;, score=(train=0.836, test=0.831) total time=   1.8s\n",
      "[CV 1/5] END max_depth=1, min_samples_split=6, n_estimators=300;, score=(train=0.833, test=0.824) total time=   0.5s\n",
      "[CV 2/5] END max_depth=1, min_samples_split=6, n_estimators=300;, score=(train=0.836, test=0.818) total time=   0.5s\n",
      "[CV 3/5] END max_depth=1, min_samples_split=6, n_estimators=300;, score=(train=0.823, test=0.814) total time=   0.5s\n",
      "[CV 4/5] END max_depth=1, min_samples_split=6, n_estimators=300;, score=(train=0.825, test=0.821) total time=   0.5s\n",
      "[CV 5/5] END max_depth=1, min_samples_split=6, n_estimators=300;, score=(train=0.832, test=0.833) total time=   0.5s\n",
      "[CV 1/5] END max_depth=1, min_samples_split=6, n_estimators=500;, score=(train=0.833, test=0.817) total time=   0.9s\n",
      "[CV 2/5] END max_depth=1, min_samples_split=6, n_estimators=500;, score=(train=0.837, test=0.821) total time=   0.9s\n",
      "[CV 3/5] END max_depth=1, min_samples_split=6, n_estimators=500;, score=(train=0.830, test=0.821) total time=   0.9s\n",
      "[CV 4/5] END max_depth=1, min_samples_split=6, n_estimators=500;, score=(train=0.827, test=0.820) total time=   0.9s\n",
      "[CV 5/5] END max_depth=1, min_samples_split=6, n_estimators=500;, score=(train=0.836, test=0.834) total time=   0.9s\n",
      "[CV 1/5] END max_depth=1, min_samples_split=6, n_estimators=1000;, score=(train=0.834, test=0.827) total time=   1.8s\n",
      "[CV 2/5] END max_depth=1, min_samples_split=6, n_estimators=1000;, score=(train=0.836, test=0.819) total time=   1.8s\n",
      "[CV 3/5] END max_depth=1, min_samples_split=6, n_estimators=1000;, score=(train=0.831, test=0.828) total time=   1.9s\n",
      "[CV 4/5] END max_depth=1, min_samples_split=6, n_estimators=1000;, score=(train=0.830, test=0.823) total time=   1.8s\n",
      "[CV 5/5] END max_depth=1, min_samples_split=6, n_estimators=1000;, score=(train=0.836, test=0.831) total time=   1.8s\n",
      "[CV 1/5] END max_depth=1, min_samples_split=8, n_estimators=300;, score=(train=0.833, test=0.824) total time=   0.5s\n",
      "[CV 2/5] END max_depth=1, min_samples_split=8, n_estimators=300;, score=(train=0.836, test=0.818) total time=   0.5s\n",
      "[CV 3/5] END max_depth=1, min_samples_split=8, n_estimators=300;, score=(train=0.823, test=0.814) total time=   0.5s\n",
      "[CV 4/5] END max_depth=1, min_samples_split=8, n_estimators=300;, score=(train=0.825, test=0.821) total time=   0.6s\n",
      "[CV 5/5] END max_depth=1, min_samples_split=8, n_estimators=300;, score=(train=0.832, test=0.833) total time=   0.5s\n",
      "[CV 1/5] END max_depth=1, min_samples_split=8, n_estimators=500;, score=(train=0.833, test=0.817) total time=   0.9s\n",
      "[CV 2/5] END max_depth=1, min_samples_split=8, n_estimators=500;, score=(train=0.837, test=0.821) total time=   0.9s\n",
      "[CV 3/5] END max_depth=1, min_samples_split=8, n_estimators=500;, score=(train=0.830, test=0.821) total time=   0.9s\n",
      "[CV 4/5] END max_depth=1, min_samples_split=8, n_estimators=500;, score=(train=0.827, test=0.820) total time=   0.9s\n",
      "[CV 5/5] END max_depth=1, min_samples_split=8, n_estimators=500;, score=(train=0.836, test=0.834) total time=   0.9s\n",
      "[CV 1/5] END max_depth=1, min_samples_split=8, n_estimators=1000;, score=(train=0.834, test=0.827) total time=   1.8s\n",
      "[CV 2/5] END max_depth=1, min_samples_split=8, n_estimators=1000;, score=(train=0.836, test=0.819) total time=   1.8s\n",
      "[CV 3/5] END max_depth=1, min_samples_split=8, n_estimators=1000;, score=(train=0.831, test=0.828) total time=   1.8s\n",
      "[CV 4/5] END max_depth=1, min_samples_split=8, n_estimators=1000;, score=(train=0.830, test=0.823) total time=   1.8s\n",
      "[CV 5/5] END max_depth=1, min_samples_split=8, n_estimators=1000;, score=(train=0.836, test=0.831) total time=   1.7s\n",
      "[CV 1/5] END max_depth=3, min_samples_split=2, n_estimators=300;, score=(train=0.856, test=0.839) total time=   0.7s\n",
      "[CV 2/5] END max_depth=3, min_samples_split=2, n_estimators=300;, score=(train=0.857, test=0.836) total time=   0.7s\n",
      "[CV 3/5] END max_depth=3, min_samples_split=2, n_estimators=300;, score=(train=0.846, test=0.828) total time=   0.7s\n",
      "[CV 4/5] END max_depth=3, min_samples_split=2, n_estimators=300;, score=(train=0.854, test=0.841) total time=   0.7s\n",
      "[CV 5/5] END max_depth=3, min_samples_split=2, n_estimators=300;, score=(train=0.858, test=0.842) total time=   0.7s\n",
      "[CV 1/5] END max_depth=3, min_samples_split=2, n_estimators=500;, score=(train=0.854, test=0.840) total time=   1.2s\n",
      "[CV 2/5] END max_depth=3, min_samples_split=2, n_estimators=500;, score=(train=0.857, test=0.840) total time=   1.2s\n",
      "[CV 3/5] END max_depth=3, min_samples_split=2, n_estimators=500;, score=(train=0.849, test=0.833) total time=   1.2s\n",
      "[CV 4/5] END max_depth=3, min_samples_split=2, n_estimators=500;, score=(train=0.854, test=0.836) total time=   1.2s\n",
      "[CV 5/5] END max_depth=3, min_samples_split=2, n_estimators=500;, score=(train=0.859, test=0.849) total time=   1.2s\n",
      "[CV 1/5] END max_depth=3, min_samples_split=2, n_estimators=1000;, score=(train=0.856, test=0.842) total time=   2.4s\n",
      "[CV 2/5] END max_depth=3, min_samples_split=2, n_estimators=1000;, score=(train=0.855, test=0.836) total time=   2.4s\n",
      "[CV 3/5] END max_depth=3, min_samples_split=2, n_estimators=1000;, score=(train=0.851, test=0.832) total time=   2.4s\n",
      "[CV 4/5] END max_depth=3, min_samples_split=2, n_estimators=1000;, score=(train=0.853, test=0.838) total time=   2.4s\n",
      "[CV 5/5] END max_depth=3, min_samples_split=2, n_estimators=1000;, score=(train=0.859, test=0.847) total time=   2.4s\n",
      "[CV 1/5] END max_depth=3, min_samples_split=4, n_estimators=300;, score=(train=0.856, test=0.839) total time=   0.7s\n",
      "[CV 2/5] END max_depth=3, min_samples_split=4, n_estimators=300;, score=(train=0.857, test=0.836) total time=   0.7s\n",
      "[CV 3/5] END max_depth=3, min_samples_split=4, n_estimators=300;, score=(train=0.846, test=0.828) total time=   0.7s\n",
      "[CV 4/5] END max_depth=3, min_samples_split=4, n_estimators=300;, score=(train=0.854, test=0.841) total time=   0.7s\n",
      "[CV 5/5] END max_depth=3, min_samples_split=4, n_estimators=300;, score=(train=0.858, test=0.842) total time=   0.7s\n",
      "[CV 1/5] END max_depth=3, min_samples_split=4, n_estimators=500;, score=(train=0.854, test=0.840) total time=   1.2s\n",
      "[CV 2/5] END max_depth=3, min_samples_split=4, n_estimators=500;, score=(train=0.856, test=0.839) total time=   1.2s\n",
      "[CV 3/5] END max_depth=3, min_samples_split=4, n_estimators=500;, score=(train=0.849, test=0.833) total time=   1.2s\n",
      "[CV 4/5] END max_depth=3, min_samples_split=4, n_estimators=500;, score=(train=0.854, test=0.836) total time=   1.2s\n",
      "[CV 5/5] END max_depth=3, min_samples_split=4, n_estimators=500;, score=(train=0.859, test=0.849) total time=   1.2s\n",
      "[CV 1/5] END max_depth=3, min_samples_split=4, n_estimators=1000;, score=(train=0.856, test=0.842) total time=   2.4s\n",
      "[CV 2/5] END max_depth=3, min_samples_split=4, n_estimators=1000;, score=(train=0.855, test=0.836) total time=   2.4s\n",
      "[CV 3/5] END max_depth=3, min_samples_split=4, n_estimators=1000;, score=(train=0.851, test=0.832) total time=   2.4s\n",
      "[CV 4/5] END max_depth=3, min_samples_split=4, n_estimators=1000;, score=(train=0.853, test=0.838) total time=   2.4s\n",
      "[CV 5/5] END max_depth=3, min_samples_split=4, n_estimators=1000;, score=(train=0.859, test=0.847) total time=   2.4s\n",
      "[CV 1/5] END max_depth=3, min_samples_split=6, n_estimators=300;, score=(train=0.856, test=0.839) total time=   0.7s\n",
      "[CV 2/5] END max_depth=3, min_samples_split=6, n_estimators=300;, score=(train=0.857, test=0.836) total time=   0.7s\n",
      "[CV 3/5] END max_depth=3, min_samples_split=6, n_estimators=300;, score=(train=0.846, test=0.828) total time=   0.7s\n",
      "[CV 4/5] END max_depth=3, min_samples_split=6, n_estimators=300;, score=(train=0.854, test=0.841) total time=   0.7s\n",
      "[CV 5/5] END max_depth=3, min_samples_split=6, n_estimators=300;, score=(train=0.858, test=0.842) total time=   0.7s\n",
      "[CV 1/5] END max_depth=3, min_samples_split=6, n_estimators=500;, score=(train=0.854, test=0.840) total time=   1.2s\n",
      "[CV 2/5] END max_depth=3, min_samples_split=6, n_estimators=500;, score=(train=0.856, test=0.839) total time=   1.2s\n",
      "[CV 3/5] END max_depth=3, min_samples_split=6, n_estimators=500;, score=(train=0.849, test=0.833) total time=   1.2s\n",
      "[CV 4/5] END max_depth=3, min_samples_split=6, n_estimators=500;, score=(train=0.854, test=0.836) total time=   1.2s\n",
      "[CV 5/5] END max_depth=3, min_samples_split=6, n_estimators=500;, score=(train=0.859, test=0.849) total time=   1.2s\n",
      "[CV 1/5] END max_depth=3, min_samples_split=6, n_estimators=1000;, score=(train=0.856, test=0.842) total time=   2.4s\n",
      "[CV 2/5] END max_depth=3, min_samples_split=6, n_estimators=1000;, score=(train=0.855, test=0.836) total time=   2.4s\n",
      "[CV 3/5] END max_depth=3, min_samples_split=6, n_estimators=1000;, score=(train=0.851, test=0.832) total time=   2.4s\n",
      "[CV 4/5] END max_depth=3, min_samples_split=6, n_estimators=1000;, score=(train=0.853, test=0.838) total time=   2.4s\n",
      "[CV 5/5] END max_depth=3, min_samples_split=6, n_estimators=1000;, score=(train=0.859, test=0.847) total time=   2.4s\n",
      "[CV 1/5] END max_depth=3, min_samples_split=8, n_estimators=300;, score=(train=0.856, test=0.839) total time=   0.7s\n",
      "[CV 2/5] END max_depth=3, min_samples_split=8, n_estimators=300;, score=(train=0.857, test=0.836) total time=   0.7s\n",
      "[CV 3/5] END max_depth=3, min_samples_split=8, n_estimators=300;, score=(train=0.846, test=0.828) total time=   0.7s\n",
      "[CV 4/5] END max_depth=3, min_samples_split=8, n_estimators=300;, score=(train=0.854, test=0.841) total time=   0.7s\n",
      "[CV 5/5] END max_depth=3, min_samples_split=8, n_estimators=300;, score=(train=0.858, test=0.842) total time=   0.7s\n",
      "[CV 1/5] END max_depth=3, min_samples_split=8, n_estimators=500;, score=(train=0.854, test=0.840) total time=   1.2s\n",
      "[CV 2/5] END max_depth=3, min_samples_split=8, n_estimators=500;, score=(train=0.856, test=0.839) total time=   1.2s\n",
      "[CV 3/5] END max_depth=3, min_samples_split=8, n_estimators=500;, score=(train=0.849, test=0.833) total time=   1.2s\n",
      "[CV 4/5] END max_depth=3, min_samples_split=8, n_estimators=500;, score=(train=0.854, test=0.836) total time=   1.2s\n",
      "[CV 5/5] END max_depth=3, min_samples_split=8, n_estimators=500;, score=(train=0.859, test=0.849) total time=   1.2s\n",
      "[CV 1/5] END max_depth=3, min_samples_split=8, n_estimators=1000;, score=(train=0.856, test=0.842) total time=   2.5s\n",
      "[CV 2/5] END max_depth=3, min_samples_split=8, n_estimators=1000;, score=(train=0.855, test=0.836) total time=   2.4s\n",
      "[CV 3/5] END max_depth=3, min_samples_split=8, n_estimators=1000;, score=(train=0.851, test=0.832) total time=   2.4s\n",
      "[CV 4/5] END max_depth=3, min_samples_split=8, n_estimators=1000;, score=(train=0.853, test=0.838) total time=   2.4s\n",
      "[CV 5/5] END max_depth=3, min_samples_split=8, n_estimators=1000;, score=(train=0.859, test=0.847) total time=   2.4s\n",
      "[CV 1/5] END max_depth=5, min_samples_split=2, n_estimators=300;, score=(train=0.897, test=0.862) total time=   0.9s\n",
      "[CV 2/5] END max_depth=5, min_samples_split=2, n_estimators=300;, score=(train=0.899, test=0.863) total time=   0.9s\n",
      "[CV 3/5] END max_depth=5, min_samples_split=2, n_estimators=300;, score=(train=0.893, test=0.861) total time=   0.9s\n",
      "[CV 4/5] END max_depth=5, min_samples_split=2, n_estimators=300;, score=(train=0.899, test=0.869) total time=   0.9s\n",
      "[CV 5/5] END max_depth=5, min_samples_split=2, n_estimators=300;, score=(train=0.902, test=0.873) total time=   0.9s\n",
      "[CV 1/5] END max_depth=5, min_samples_split=2, n_estimators=500;, score=(train=0.896, test=0.863) total time=   1.5s\n",
      "[CV 2/5] END max_depth=5, min_samples_split=2, n_estimators=500;, score=(train=0.901, test=0.862) total time=   1.5s\n",
      "[CV 3/5] END max_depth=5, min_samples_split=2, n_estimators=500;, score=(train=0.899, test=0.868) total time=   1.6s\n",
      "[CV 4/5] END max_depth=5, min_samples_split=2, n_estimators=500;, score=(train=0.898, test=0.865) total time=   1.6s\n",
      "[CV 5/5] END max_depth=5, min_samples_split=2, n_estimators=500;, score=(train=0.906, test=0.876) total time=   1.5s\n",
      "[CV 1/5] END max_depth=5, min_samples_split=2, n_estimators=1000;, score=(train=0.899, test=0.866) total time=   3.0s\n",
      "[CV 2/5] END max_depth=5, min_samples_split=2, n_estimators=1000;, score=(train=0.900, test=0.864) total time=   3.1s\n",
      "[CV 3/5] END max_depth=5, min_samples_split=2, n_estimators=1000;, score=(train=0.898, test=0.869) total time=   3.0s\n",
      "[CV 4/5] END max_depth=5, min_samples_split=2, n_estimators=1000;, score=(train=0.901, test=0.865) total time=   3.1s\n",
      "[CV 5/5] END max_depth=5, min_samples_split=2, n_estimators=1000;, score=(train=0.907, test=0.881) total time=   3.0s\n",
      "[CV 1/5] END max_depth=5, min_samples_split=4, n_estimators=300;, score=(train=0.897, test=0.861) total time=   0.9s\n",
      "[CV 2/5] END max_depth=5, min_samples_split=4, n_estimators=300;, score=(train=0.900, test=0.864) total time=   0.9s\n",
      "[CV 3/5] END max_depth=5, min_samples_split=4, n_estimators=300;, score=(train=0.893, test=0.863) total time=   0.9s\n",
      "[CV 4/5] END max_depth=5, min_samples_split=4, n_estimators=300;, score=(train=0.899, test=0.869) total time=   0.9s\n",
      "[CV 5/5] END max_depth=5, min_samples_split=4, n_estimators=300;, score=(train=0.902, test=0.874) total time=   0.9s\n",
      "[CV 1/5] END max_depth=5, min_samples_split=4, n_estimators=500;, score=(train=0.896, test=0.864) total time=   1.5s\n",
      "[CV 2/5] END max_depth=5, min_samples_split=4, n_estimators=500;, score=(train=0.902, test=0.861) total time=   1.5s\n",
      "[CV 3/5] END max_depth=5, min_samples_split=4, n_estimators=500;, score=(train=0.899, test=0.868) total time=   1.6s\n",
      "[CV 4/5] END max_depth=5, min_samples_split=4, n_estimators=500;, score=(train=0.899, test=0.865) total time=   1.5s\n",
      "[CV 5/5] END max_depth=5, min_samples_split=4, n_estimators=500;, score=(train=0.908, test=0.877) total time=   1.5s\n",
      "[CV 1/5] END max_depth=5, min_samples_split=4, n_estimators=1000;, score=(train=0.899, test=0.864) total time=   2.9s\n",
      "[CV 2/5] END max_depth=5, min_samples_split=4, n_estimators=1000;, score=(train=0.899, test=0.866) total time=   3.0s\n",
      "[CV 3/5] END max_depth=5, min_samples_split=4, n_estimators=1000;, score=(train=0.898, test=0.868) total time=   2.9s\n",
      "[CV 4/5] END max_depth=5, min_samples_split=4, n_estimators=1000;, score=(train=0.901, test=0.866) total time=   3.0s\n",
      "[CV 5/5] END max_depth=5, min_samples_split=4, n_estimators=1000;, score=(train=0.907, test=0.879) total time=   2.9s\n",
      "[CV 1/5] END max_depth=5, min_samples_split=6, n_estimators=300;, score=(train=0.897, test=0.859) total time=   0.9s\n",
      "[CV 2/5] END max_depth=5, min_samples_split=6, n_estimators=300;, score=(train=0.898, test=0.862) total time=   0.9s\n",
      "[CV 3/5] END max_depth=5, min_samples_split=6, n_estimators=300;, score=(train=0.893, test=0.864) total time=   0.9s\n",
      "[CV 4/5] END max_depth=5, min_samples_split=6, n_estimators=300;, score=(train=0.898, test=0.870) total time=   0.9s\n",
      "[CV 5/5] END max_depth=5, min_samples_split=6, n_estimators=300;, score=(train=0.900, test=0.874) total time=   0.9s\n",
      "[CV 1/5] END max_depth=5, min_samples_split=6, n_estimators=500;, score=(train=0.895, test=0.861) total time=   1.5s\n",
      "[CV 2/5] END max_depth=5, min_samples_split=6, n_estimators=500;, score=(train=0.901, test=0.863) total time=   1.5s\n",
      "[CV 3/5] END max_depth=5, min_samples_split=6, n_estimators=500;, score=(train=0.900, test=0.868) total time=   1.5s\n",
      "[CV 4/5] END max_depth=5, min_samples_split=6, n_estimators=500;, score=(train=0.898, test=0.866) total time=   1.5s\n",
      "[CV 5/5] END max_depth=5, min_samples_split=6, n_estimators=500;, score=(train=0.907, test=0.878) total time=   1.5s\n",
      "[CV 1/5] END max_depth=5, min_samples_split=6, n_estimators=1000;, score=(train=0.898, test=0.865) total time=   3.0s\n",
      "[CV 2/5] END max_depth=5, min_samples_split=6, n_estimators=1000;, score=(train=0.899, test=0.866) total time=   3.0s\n",
      "[CV 3/5] END max_depth=5, min_samples_split=6, n_estimators=1000;, score=(train=0.897, test=0.867) total time=   3.0s\n",
      "[CV 4/5] END max_depth=5, min_samples_split=6, n_estimators=1000;, score=(train=0.902, test=0.864) total time=   3.0s\n",
      "[CV 5/5] END max_depth=5, min_samples_split=6, n_estimators=1000;, score=(train=0.907, test=0.876) total time=   2.9s\n",
      "[CV 1/5] END max_depth=5, min_samples_split=8, n_estimators=300;, score=(train=0.897, test=0.861) total time=   0.9s\n",
      "[CV 2/5] END max_depth=5, min_samples_split=8, n_estimators=300;, score=(train=0.898, test=0.861) total time=   0.9s\n",
      "[CV 3/5] END max_depth=5, min_samples_split=8, n_estimators=300;, score=(train=0.894, test=0.862) total time=   0.9s\n",
      "[CV 4/5] END max_depth=5, min_samples_split=8, n_estimators=300;, score=(train=0.898, test=0.869) total time=   0.9s\n",
      "[CV 5/5] END max_depth=5, min_samples_split=8, n_estimators=300;, score=(train=0.900, test=0.876) total time=   0.9s\n",
      "[CV 1/5] END max_depth=5, min_samples_split=8, n_estimators=500;, score=(train=0.895, test=0.861) total time=   1.5s\n",
      "[CV 2/5] END max_depth=5, min_samples_split=8, n_estimators=500;, score=(train=0.900, test=0.861) total time=   1.5s\n",
      "[CV 3/5] END max_depth=5, min_samples_split=8, n_estimators=500;, score=(train=0.900, test=0.869) total time=   1.5s\n",
      "[CV 4/5] END max_depth=5, min_samples_split=8, n_estimators=500;, score=(train=0.898, test=0.869) total time=   1.6s\n",
      "[CV 5/5] END max_depth=5, min_samples_split=8, n_estimators=500;, score=(train=0.907, test=0.878) total time=   1.5s\n",
      "[CV 1/5] END max_depth=5, min_samples_split=8, n_estimators=1000;, score=(train=0.898, test=0.864) total time=   2.9s\n",
      "[CV 2/5] END max_depth=5, min_samples_split=8, n_estimators=1000;, score=(train=0.899, test=0.866) total time=   3.0s\n",
      "[CV 3/5] END max_depth=5, min_samples_split=8, n_estimators=1000;, score=(train=0.897, test=0.868) total time=   2.9s\n",
      "[CV 4/5] END max_depth=5, min_samples_split=8, n_estimators=1000;, score=(train=0.902, test=0.866) total time=   3.0s\n",
      "[CV 5/5] END max_depth=5, min_samples_split=8, n_estimators=1000;, score=(train=0.907, test=0.878) total time=   2.9s\n",
      "[CV 1/5] END max_depth=10, min_samples_split=2, n_estimators=300;, score=(train=0.998, test=0.884) total time=   1.4s\n",
      "[CV 2/5] END max_depth=10, min_samples_split=2, n_estimators=300;, score=(train=0.998, test=0.885) total time=   1.4s\n",
      "[CV 3/5] END max_depth=10, min_samples_split=2, n_estimators=300;, score=(train=0.998, test=0.879) total time=   1.4s\n",
      "[CV 4/5] END max_depth=10, min_samples_split=2, n_estimators=300;, score=(train=0.998, test=0.879) total time=   1.4s\n",
      "[CV 5/5] END max_depth=10, min_samples_split=2, n_estimators=300;, score=(train=0.999, test=0.883) total time=   1.4s\n",
      "[CV 1/5] END max_depth=10, min_samples_split=2, n_estimators=500;, score=(train=0.998, test=0.883) total time=   2.4s\n",
      "[CV 2/5] END max_depth=10, min_samples_split=2, n_estimators=500;, score=(train=0.999, test=0.885) total time=   2.4s\n",
      "[CV 3/5] END max_depth=10, min_samples_split=2, n_estimators=500;, score=(train=0.999, test=0.879) total time=   2.4s\n",
      "[CV 4/5] END max_depth=10, min_samples_split=2, n_estimators=500;, score=(train=0.999, test=0.881) total time=   2.4s\n",
      "[CV 5/5] END max_depth=10, min_samples_split=2, n_estimators=500;, score=(train=0.999, test=0.882) total time=   2.4s\n",
      "[CV 1/5] END max_depth=10, min_samples_split=2, n_estimators=1000;, score=(train=0.998, test=0.885) total time=   4.8s\n",
      "[CV 2/5] END max_depth=10, min_samples_split=2, n_estimators=1000;, score=(train=0.999, test=0.884) total time=   4.8s\n",
      "[CV 3/5] END max_depth=10, min_samples_split=2, n_estimators=1000;, score=(train=0.999, test=0.878) total time=   4.8s\n",
      "[CV 4/5] END max_depth=10, min_samples_split=2, n_estimators=1000;, score=(train=0.999, test=0.881) total time=   4.8s\n",
      "[CV 5/5] END max_depth=10, min_samples_split=2, n_estimators=1000;, score=(train=0.999, test=0.882) total time=   4.8s\n",
      "[CV 1/5] END max_depth=10, min_samples_split=4, n_estimators=300;, score=(train=0.998, test=0.886) total time=   1.5s\n",
      "[CV 2/5] END max_depth=10, min_samples_split=4, n_estimators=300;, score=(train=0.999, test=0.884) total time=   1.4s\n",
      "[CV 3/5] END max_depth=10, min_samples_split=4, n_estimators=300;, score=(train=0.998, test=0.883) total time=   1.5s\n",
      "[CV 4/5] END max_depth=10, min_samples_split=4, n_estimators=300;, score=(train=0.998, test=0.881) total time=   1.4s\n",
      "[CV 5/5] END max_depth=10, min_samples_split=4, n_estimators=300;, score=(train=0.998, test=0.885) total time=   1.4s\n",
      "[CV 1/5] END max_depth=10, min_samples_split=4, n_estimators=500;, score=(train=0.998, test=0.885) total time=   2.4s\n",
      "[CV 2/5] END max_depth=10, min_samples_split=4, n_estimators=500;, score=(train=0.999, test=0.884) total time=   2.4s\n",
      "[CV 3/5] END max_depth=10, min_samples_split=4, n_estimators=500;, score=(train=0.998, test=0.881) total time=   2.5s\n",
      "[CV 4/5] END max_depth=10, min_samples_split=4, n_estimators=500;, score=(train=0.999, test=0.884) total time=   2.4s\n",
      "[CV 5/5] END max_depth=10, min_samples_split=4, n_estimators=500;, score=(train=0.998, test=0.887) total time=   2.4s\n",
      "[CV 1/5] END max_depth=10, min_samples_split=4, n_estimators=1000;, score=(train=0.998, test=0.885) total time=   4.8s\n",
      "[CV 2/5] END max_depth=10, min_samples_split=4, n_estimators=1000;, score=(train=0.999, test=0.884) total time=   4.8s\n",
      "[CV 3/5] END max_depth=10, min_samples_split=4, n_estimators=1000;, score=(train=0.999, test=0.882) total time=   4.7s\n",
      "[CV 4/5] END max_depth=10, min_samples_split=4, n_estimators=1000;, score=(train=0.998, test=0.884) total time=   4.8s\n",
      "[CV 5/5] END max_depth=10, min_samples_split=4, n_estimators=1000;, score=(train=0.999, test=0.886) total time=   4.8s\n",
      "[CV 1/5] END max_depth=10, min_samples_split=6, n_estimators=300;, score=(train=0.998, test=0.886) total time=   1.4s\n",
      "[CV 2/5] END max_depth=10, min_samples_split=6, n_estimators=300;, score=(train=0.999, test=0.887) total time=   1.4s\n",
      "[CV 3/5] END max_depth=10, min_samples_split=6, n_estimators=300;, score=(train=0.997, test=0.884) total time=   1.4s\n",
      "[CV 4/5] END max_depth=10, min_samples_split=6, n_estimators=300;, score=(train=0.999, test=0.885) total time=   1.4s\n",
      "[CV 5/5] END max_depth=10, min_samples_split=6, n_estimators=300;, score=(train=0.998, test=0.887) total time=   1.4s\n",
      "[CV 1/5] END max_depth=10, min_samples_split=6, n_estimators=500;, score=(train=0.998, test=0.886) total time=   2.4s\n",
      "[CV 2/5] END max_depth=10, min_samples_split=6, n_estimators=500;, score=(train=0.999, test=0.887) total time=   2.4s\n",
      "[CV 3/5] END max_depth=10, min_samples_split=6, n_estimators=500;, score=(train=0.998, test=0.883) total time=   2.4s\n",
      "[CV 4/5] END max_depth=10, min_samples_split=6, n_estimators=500;, score=(train=0.998, test=0.884) total time=   2.4s\n",
      "[CV 5/5] END max_depth=10, min_samples_split=6, n_estimators=500;, score=(train=0.998, test=0.887) total time=   2.4s\n",
      "[CV 1/5] END max_depth=10, min_samples_split=6, n_estimators=1000;, score=(train=0.998, test=0.887) total time=   4.7s\n",
      "[CV 2/5] END max_depth=10, min_samples_split=6, n_estimators=1000;, score=(train=0.999, test=0.887) total time=   4.7s\n",
      "[CV 3/5] END max_depth=10, min_samples_split=6, n_estimators=1000;, score=(train=0.998, test=0.883) total time=   4.8s\n",
      "[CV 4/5] END max_depth=10, min_samples_split=6, n_estimators=1000;, score=(train=0.998, test=0.887) total time=   4.7s\n",
      "[CV 5/5] END max_depth=10, min_samples_split=6, n_estimators=1000;, score=(train=0.998, test=0.888) total time=   4.7s\n",
      "[CV 1/5] END max_depth=10, min_samples_split=8, n_estimators=300;, score=(train=0.998, test=0.896) total time=   1.4s\n",
      "[CV 2/5] END max_depth=10, min_samples_split=8, n_estimators=300;, score=(train=0.998, test=0.887) total time=   1.4s\n",
      "[CV 3/5] END max_depth=10, min_samples_split=8, n_estimators=300;, score=(train=0.997, test=0.885) total time=   1.4s\n",
      "[CV 4/5] END max_depth=10, min_samples_split=8, n_estimators=300;, score=(train=0.999, test=0.891) total time=   1.4s\n",
      "[CV 5/5] END max_depth=10, min_samples_split=8, n_estimators=300;, score=(train=0.998, test=0.890) total time=   1.4s\n",
      "[CV 1/5] END max_depth=10, min_samples_split=8, n_estimators=500;, score=(train=0.998, test=0.893) total time=   2.4s\n",
      "[CV 2/5] END max_depth=10, min_samples_split=8, n_estimators=500;, score=(train=0.998, test=0.889) total time=   2.4s\n",
      "[CV 3/5] END max_depth=10, min_samples_split=8, n_estimators=500;, score=(train=0.998, test=0.886) total time=   2.4s\n",
      "[CV 4/5] END max_depth=10, min_samples_split=8, n_estimators=500;, score=(train=0.999, test=0.892) total time=   2.4s\n",
      "[CV 5/5] END max_depth=10, min_samples_split=8, n_estimators=500;, score=(train=0.999, test=0.889) total time=   2.3s\n",
      "[CV 1/5] END max_depth=10, min_samples_split=8, n_estimators=1000;, score=(train=0.998, test=0.892) total time=   4.7s\n",
      "[CV 2/5] END max_depth=10, min_samples_split=8, n_estimators=1000;, score=(train=0.998, test=0.891) total time=   4.7s\n",
      "[CV 3/5] END max_depth=10, min_samples_split=8, n_estimators=1000;, score=(train=0.998, test=0.886) total time=   4.7s\n",
      "[CV 4/5] END max_depth=10, min_samples_split=8, n_estimators=1000;, score=(train=0.998, test=0.887) total time=   4.7s\n",
      "[CV 5/5] END max_depth=10, min_samples_split=8, n_estimators=1000;, score=(train=0.999, test=0.890) total time=   4.7s\n"
     ]
    },
    {
     "data": {
      "text/html": [
       "<style>#sk-container-id-2 {color: black;background-color: white;}#sk-container-id-2 pre{padding: 0;}#sk-container-id-2 div.sk-toggleable {background-color: white;}#sk-container-id-2 label.sk-toggleable__label {cursor: pointer;display: block;width: 100%;margin-bottom: 0;padding: 0.3em;box-sizing: border-box;text-align: center;}#sk-container-id-2 label.sk-toggleable__label-arrow:before {content: \"▸\";float: left;margin-right: 0.25em;color: #696969;}#sk-container-id-2 label.sk-toggleable__label-arrow:hover:before {color: black;}#sk-container-id-2 div.sk-estimator:hover label.sk-toggleable__label-arrow:before {color: black;}#sk-container-id-2 div.sk-toggleable__content {max-height: 0;max-width: 0;overflow: hidden;text-align: left;background-color: #f0f8ff;}#sk-container-id-2 div.sk-toggleable__content pre {margin: 0.2em;color: black;border-radius: 0.25em;background-color: #f0f8ff;}#sk-container-id-2 input.sk-toggleable__control:checked~div.sk-toggleable__content {max-height: 200px;max-width: 100%;overflow: auto;}#sk-container-id-2 input.sk-toggleable__control:checked~label.sk-toggleable__label-arrow:before {content: \"▾\";}#sk-container-id-2 div.sk-estimator input.sk-toggleable__control:checked~label.sk-toggleable__label {background-color: #d4ebff;}#sk-container-id-2 div.sk-label input.sk-toggleable__control:checked~label.sk-toggleable__label {background-color: #d4ebff;}#sk-container-id-2 input.sk-hidden--visually {border: 0;clip: rect(1px 1px 1px 1px);clip: rect(1px, 1px, 1px, 1px);height: 1px;margin: -1px;overflow: hidden;padding: 0;position: absolute;width: 1px;}#sk-container-id-2 div.sk-estimator {font-family: monospace;background-color: #f0f8ff;border: 1px dotted black;border-radius: 0.25em;box-sizing: border-box;margin-bottom: 0.5em;}#sk-container-id-2 div.sk-estimator:hover {background-color: #d4ebff;}#sk-container-id-2 div.sk-parallel-item::after {content: \"\";width: 100%;border-bottom: 1px solid gray;flex-grow: 1;}#sk-container-id-2 div.sk-label:hover label.sk-toggleable__label {background-color: #d4ebff;}#sk-container-id-2 div.sk-serial::before {content: \"\";position: absolute;border-left: 1px solid gray;box-sizing: border-box;top: 0;bottom: 0;left: 50%;z-index: 0;}#sk-container-id-2 div.sk-serial {display: flex;flex-direction: column;align-items: center;background-color: white;padding-right: 0.2em;padding-left: 0.2em;position: relative;}#sk-container-id-2 div.sk-item {position: relative;z-index: 1;}#sk-container-id-2 div.sk-parallel {display: flex;align-items: stretch;justify-content: center;background-color: white;position: relative;}#sk-container-id-2 div.sk-item::before, #sk-container-id-2 div.sk-parallel-item::before {content: \"\";position: absolute;border-left: 1px solid gray;box-sizing: border-box;top: 0;bottom: 0;left: 50%;z-index: -1;}#sk-container-id-2 div.sk-parallel-item {display: flex;flex-direction: column;z-index: 1;position: relative;background-color: white;}#sk-container-id-2 div.sk-parallel-item:first-child::after {align-self: flex-end;width: 50%;}#sk-container-id-2 div.sk-parallel-item:last-child::after {align-self: flex-start;width: 50%;}#sk-container-id-2 div.sk-parallel-item:only-child::after {width: 0;}#sk-container-id-2 div.sk-dashed-wrapped {border: 1px dashed gray;margin: 0 0.4em 0.5em 0.4em;box-sizing: border-box;padding-bottom: 0.4em;background-color: white;}#sk-container-id-2 div.sk-label label {font-family: monospace;font-weight: bold;display: inline-block;line-height: 1.2em;}#sk-container-id-2 div.sk-label-container {text-align: center;}#sk-container-id-2 div.sk-container {/* jupyter's `normalize.less` sets `[hidden] { display: none; }` but bootstrap.min.css set `[hidden] { display: none !important; }` so we also need the `!important` here to be able to override the default hidden behavior on the sphinx rendered scikit-learn.org. See: https://github.com/scikit-learn/scikit-learn/issues/21755 */display: inline-block !important;position: relative;}#sk-container-id-2 div.sk-text-repr-fallback {display: none;}</style><div id=\"sk-container-id-2\" class=\"sk-top-container\"><div class=\"sk-text-repr-fallback\"><pre>GridSearchCV(cv=5,\n",
       "             estimator=RandomForestClassifier(class_weight=&#x27;balanced&#x27;,\n",
       "                                              random_state=42),\n",
       "             param_grid={&#x27;max_depth&#x27;: [1, 3, 5, 10],\n",
       "                         &#x27;min_samples_split&#x27;: [2, 4, 6, 8],\n",
       "                         &#x27;n_estimators&#x27;: [300, 500, 1000]},\n",
       "             return_train_score=True, verbose=3)</pre><b>In a Jupyter environment, please rerun this cell to show the HTML representation or trust the notebook. <br />On GitHub, the HTML representation is unable to render, please try loading this page with nbviewer.org.</b></div><div class=\"sk-container\" hidden><div class=\"sk-item sk-dashed-wrapped\"><div class=\"sk-label-container\"><div class=\"sk-label sk-toggleable\"><input class=\"sk-toggleable__control sk-hidden--visually\" id=\"sk-estimator-id-4\" type=\"checkbox\" ><label for=\"sk-estimator-id-4\" class=\"sk-toggleable__label sk-toggleable__label-arrow\">GridSearchCV</label><div class=\"sk-toggleable__content\"><pre>GridSearchCV(cv=5,\n",
       "             estimator=RandomForestClassifier(class_weight=&#x27;balanced&#x27;,\n",
       "                                              random_state=42),\n",
       "             param_grid={&#x27;max_depth&#x27;: [1, 3, 5, 10],\n",
       "                         &#x27;min_samples_split&#x27;: [2, 4, 6, 8],\n",
       "                         &#x27;n_estimators&#x27;: [300, 500, 1000]},\n",
       "             return_train_score=True, verbose=3)</pre></div></div></div><div class=\"sk-parallel\"><div class=\"sk-parallel-item\"><div class=\"sk-item\"><div class=\"sk-label-container\"><div class=\"sk-label sk-toggleable\"><input class=\"sk-toggleable__control sk-hidden--visually\" id=\"sk-estimator-id-5\" type=\"checkbox\" ><label for=\"sk-estimator-id-5\" class=\"sk-toggleable__label sk-toggleable__label-arrow\">estimator: RandomForestClassifier</label><div class=\"sk-toggleable__content\"><pre>RandomForestClassifier(class_weight=&#x27;balanced&#x27;, random_state=42)</pre></div></div></div><div class=\"sk-serial\"><div class=\"sk-item\"><div class=\"sk-estimator sk-toggleable\"><input class=\"sk-toggleable__control sk-hidden--visually\" id=\"sk-estimator-id-6\" type=\"checkbox\" ><label for=\"sk-estimator-id-6\" class=\"sk-toggleable__label sk-toggleable__label-arrow\">RandomForestClassifier</label><div class=\"sk-toggleable__content\"><pre>RandomForestClassifier(class_weight=&#x27;balanced&#x27;, random_state=42)</pre></div></div></div></div></div></div></div></div></div></div>"
      ],
      "text/plain": [
       "GridSearchCV(cv=5,\n",
       "             estimator=RandomForestClassifier(class_weight='balanced',\n",
       "                                              random_state=42),\n",
       "             param_grid={'max_depth': [1, 3, 5, 10],\n",
       "                         'min_samples_split': [2, 4, 6, 8],\n",
       "                         'n_estimators': [300, 500, 1000]},\n",
       "             return_train_score=True, verbose=3)"
      ]
     },
     "execution_count": 33,
     "metadata": {},
     "output_type": "execute_result"
    }
   ],
   "source": [
    "# fitting the model for grid search\n",
    "# not using scaled data because random forest has not this assumption\n",
    "grid_rf.fit(X_train, y_train)"
   ]
  },
  {
   "cell_type": "code",
   "execution_count": 34,
   "id": "48e1bcc6",
   "metadata": {
    "execution": {
     "iopub.execute_input": "2023-03-20T13:12:32.527951Z",
     "iopub.status.busy": "2023-03-20T13:12:32.527752Z",
     "iopub.status.idle": "2023-03-20T13:12:32.533336Z",
     "shell.execute_reply": "2023-03-20T13:12:32.532743Z",
     "shell.execute_reply.started": "2023-03-20T13:12:32.527934Z"
    },
    "tags": []
   },
   "outputs": [
    {
     "name": "stdout",
     "output_type": "stream",
     "text": [
      "{'max_depth': 10, 'min_samples_split': 8, 'n_estimators': 300}\n",
      "RandomForestClassifier(class_weight='balanced', max_depth=10,\n",
      "                       min_samples_split=8, n_estimators=300, random_state=42)\n"
     ]
    }
   ],
   "source": [
    "# print best parameter after tuning\n",
    "print(grid_rf.best_params_)\n",
    "  \n",
    "# print how our model looks after hyperparameter tuning\n",
    "print(grid_rf.best_estimator_)"
   ]
  },
  {
   "cell_type": "code",
   "execution_count": 35,
   "id": "9ca74ea9",
   "metadata": {
    "execution": {
     "iopub.execute_input": "2023-03-20T13:12:32.534467Z",
     "iopub.status.busy": "2023-03-20T13:12:32.534298Z",
     "iopub.status.idle": "2023-03-20T13:12:33.054863Z",
     "shell.execute_reply": "2023-03-20T13:12:33.054183Z",
     "shell.execute_reply.started": "2023-03-20T13:12:32.534451Z"
    },
    "tags": []
   },
   "outputs": [
    {
     "name": "stdout",
     "output_type": "stream",
     "text": [
      "This is the confusion matrix \n",
      " [[6987    8]\n",
      " [  20  984]] \n",
      "\n",
      "              precision    recall  f1-score   support\n",
      "\n",
      "           0       1.00      1.00      1.00      6995\n",
      "           1       0.99      0.98      0.99      1004\n",
      "\n",
      "    accuracy                           1.00      7999\n",
      "   macro avg       0.99      0.99      0.99      7999\n",
      "weighted avg       1.00      1.00      1.00      7999\n",
      "\n"
     ]
    }
   ],
   "source": [
    "# check scores on training set \n",
    "\n",
    "# get predictions on training set \n",
    "grid_predictions = grid_rf.predict(X_train)\n",
    "\n",
    "#print confusion matrix\n",
    "print(\"This is the confusion matrix \\n\",\n",
    "      confusion_matrix(y_train, grid_predictions), \"\\n\")\n",
    "\n",
    "# print classification report \n",
    "# includes precision recall f1-score and support \n",
    "print(classification_report(y_train, grid_predictions))"
   ]
  },
  {
   "cell_type": "code",
   "execution_count": 36,
   "id": "003c1b65",
   "metadata": {
    "execution": {
     "iopub.execute_input": "2023-03-20T13:12:33.055719Z",
     "iopub.status.busy": "2023-03-20T13:12:33.055554Z",
     "iopub.status.idle": "2023-03-20T13:12:33.142469Z",
     "shell.execute_reply": "2023-03-20T13:12:33.141544Z",
     "shell.execute_reply.started": "2023-03-20T13:12:33.055704Z"
    },
    "tags": []
   },
   "outputs": [
    {
     "name": "stdout",
     "output_type": "stream",
     "text": [
      "This is the confusion matrix \n",
      " [[1752   18]\n",
      " [ 172   58]] \n",
      "\n",
      "              precision    recall  f1-score   support\n",
      "\n",
      "           0       0.91      0.99      0.95      1770\n",
      "           1       0.76      0.25      0.38       230\n",
      "\n",
      "    accuracy                           0.91      2000\n",
      "   macro avg       0.84      0.62      0.66      2000\n",
      "weighted avg       0.89      0.91      0.88      2000\n",
      "\n"
     ]
    }
   ],
   "source": [
    "# check scores on test set \n",
    "\n",
    "# get predictions on test set \n",
    "grid_predictions = grid_rf.predict(X_test)\n",
    "\n",
    "#print confusion matrix\n",
    "print(\"This is the confusion matrix \\n\",\n",
    "      confusion_matrix(y_test, grid_predictions), \"\\n\")\n",
    "\n",
    "# print classification report \n",
    "# includes precision, recall, f1-score, and support \n",
    "print(classification_report(y_test, grid_predictions))"
   ]
  },
  {
   "cell_type": "markdown",
   "id": "44d21b24-2a9e-481d-9ba6-850da5b47adf",
   "metadata": {},
   "source": [
    "The f1-score on the unseen test set of the random forest is 88%. However, the random forest classifier is not very good at predicting class 1 due to the unbalance of the target variable in the dataset."
   ]
  },
  {
   "cell_type": "markdown",
   "id": "40475e96-bb1a-48e4-b987-fe9e8f2e986c",
   "metadata": {},
   "source": [
    "##### Summary "
   ]
  },
  {
   "cell_type": "markdown",
   "id": "00ee0c23-fdda-4e86-b62c-7ed1d3233327",
   "metadata": {},
   "source": [
    "Previously, a SVM classifier and a random forest classifier was trained. After splitting the dataset into training and test set, the training set was used to search for suitable hyperparameters for each model using 3-fold cross validation. Therefore, no hold-out dataset had to be created. After training, the models were used to compare performance by predicting on the test set.\n",
    "\n",
    "Comparing both algorithm, the SVM algorithm is better for this kind of supervised machine learning problem due to the unbalance of the dataset. The SVM is searching for a hyperplane to separate both classes, therefore, having ann unbalanced dataset can be kind of offset. The random forest suffers from this problem! \n",
    "\n",
    "SVM F1-score: 97% on test set!\n",
    "\n",
    "Random forest F1-score: 88% on test set!"
   ]
  },
  {
   "cell_type": "markdown",
   "id": "27267bb1",
   "metadata": {},
   "source": [
    "### 2."
   ]
  },
  {
   "cell_type": "code",
   "execution_count": 37,
   "id": "5a55e3d7",
   "metadata": {
    "execution": {
     "iopub.execute_input": "2023-03-20T13:12:33.143506Z",
     "iopub.status.busy": "2023-03-20T13:12:33.143335Z",
     "iopub.status.idle": "2023-03-20T13:12:33.165867Z",
     "shell.execute_reply": "2023-03-20T13:12:33.164707Z",
     "shell.execute_reply.started": "2023-03-20T13:12:33.143491Z"
    },
    "tags": []
   },
   "outputs": [],
   "source": [
    "def most_important_features(original_dataframe, rf_model):\n",
    "    '''\n",
    "    Input:\n",
    "    original_dataframe: original dataframe used to train rf (used to extract feature names)\n",
    "    rf_model: saved random forest model\n",
    "    \n",
    "    Output:\n",
    "    Function prints out 5 most important features and plots them as barchart\n",
    "    '''\n",
    "    temp1 = []\n",
    "    temp2 = []\n",
    "\n",
    "    for name, score in zip(original_dataframe.columns, rf_model.best_estimator_.feature_importances_):\n",
    "        temp1.append(name)\n",
    "        temp2.append(score)\n",
    "\n",
    "    dictionary = {\"feature\" : temp1, \"relative_importance\" : temp2}\n",
    "\n",
    "    feature_importance = pd.DataFrame(dictionary).set_index(\"feature\")\n",
    "\n",
    "    feature_importance.sort_values(by=\"relative_importance\", ascending=False, inplace=True)\n",
    "\n",
    "    print(\"These are the 5 most important features according to the random forest model: \\n\")\n",
    "    print(feature_importance[:5])\n",
    "\n",
    "    # plot the features and their relative_importance\n",
    "    plt.bar(list(feature_importance.index[:5]), feature_importance[\"relative_importance\"][:5])\n",
    "    plt.title(\"5 most important features according to random forest model\")\n",
    "    plt.xlabel(\"Marketing Channel\")\n",
    "    plt.ylabel(\"Relative Importance (in %)\")\n",
    "    plt.show()"
   ]
  },
  {
   "cell_type": "code",
   "execution_count": 38,
   "id": "9244275d",
   "metadata": {
    "execution": {
     "iopub.execute_input": "2023-03-20T13:12:33.166982Z",
     "iopub.status.busy": "2023-03-20T13:12:33.166751Z",
     "iopub.status.idle": "2023-03-20T13:12:33.538480Z",
     "shell.execute_reply": "2023-03-20T13:12:33.537720Z",
     "shell.execute_reply.started": "2023-03-20T13:12:33.166960Z"
    },
    "tags": []
   },
   "outputs": [
    {
     "name": "stdout",
     "output_type": "stream",
     "text": [
      "These are the 5 most important features according to the random forest model: \n",
      "\n",
      "             relative_importance\n",
      "feature                         \n",
      "Wordpress               0.060989\n",
      "Livejournal             0.058918\n",
      "Thisnext                0.055135\n",
      "Blogger                 0.050350\n",
      "Yelp                    0.046696\n"
     ]
    },
    {
     "data": {
      "image/png": "[encoded data removed]",
      "text/plain": [
       "<Figure size 640x480 with 1 Axes>"
      ]
     },
     "metadata": {},
     "output_type": "display_data"
    }
   ],
   "source": [
    "# use the function\n",
    "most_important_features(df, grid_rf)"
   ]
  },
  {
   "cell_type": "markdown",
   "id": "7fccf6ce",
   "metadata": {},
   "source": [
    "### 3."
   ]
  },
  {
   "cell_type": "markdown",
   "id": "ad2e76e5",
   "metadata": {},
   "source": [
    "If the company wants to use most effective channels, they should follow the most important features from the random forest model as these were the most crucial ones regarding efficiency:\n",
    "\n",
    "In this case, the best channel is \"Wordpress\" (6.10% relative importance) followed by \"Livejournal\" (5.89% relative importance)."
   ]
  },
  {
   "cell_type": "markdown",
   "id": "d320ea63",
   "metadata": {},
   "source": [
    "### 4."
   ]
  },
  {
   "cell_type": "markdown",
   "id": "51be9aab",
   "metadata": {},
   "source": [
    "If the cost of impressions are the same for all channels, the most efficient channels (fewer impressions per click) are best to choose.\n",
    "\n",
    "Therefore, the answer is the same as in task 3. "
   ]
  }
 ],
 "metadata": {
  "kernelspec": {
   "display_name": "Python 3 (ipykernel)",
   "language": "python",
   "name": "python3"
  },
  "language_info": {
   "codemirror_mode": {
    "name": "ipython",
    "version": 3
   },
   "file_extension": ".py",
   "mimetype": "text/x-python",
   "name": "python",
   "nbconvert_exporter": "python",
   "pygments_lexer": "ipython3",
   "version": "3.8.3"
  }
 },
 "nbformat": 4,
 "nbformat_minor": 5
}
